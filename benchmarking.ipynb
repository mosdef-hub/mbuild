{
 "cells": [
  {
   "cell_type": "code",
   "execution_count": 1,
   "id": "4e50560e-085c-49ab-ad35-61ddf1587680",
   "metadata": {},
   "outputs": [],
   "source": [
    "from oset import oset as OSet # original\n",
    "from orderedset import OrderedSet # Simon Percival (SP)\n",
    "from mbuild.utils.orderedset import OrderedSet as OrderedSetmb # Vyas' code"
   ]
  },
  {
   "cell_type": "markdown",
   "id": "b5060491-4296-4ca3-b4ad-f05270fabe17",
   "metadata": {},
   "source": [
    "# oset (currently used)"
   ]
  },
  {
   "cell_type": "code",
   "execution_count": 2,
   "id": "b4f292c3-b0f3-4fc1-ac97-8a8415fe36f0",
   "metadata": {},
   "outputs": [],
   "source": [
    "oset_timings = []"
   ]
  },
  {
   "cell_type": "code",
   "execution_count": 3,
   "id": "d86d2d8b-1793-4cea-81c0-14cdde08af62",
   "metadata": {},
   "outputs": [
    {
     "name": "stdout",
     "output_type": "stream",
     "text": [
      "1.55 µs ± 209 ns per loop (mean ± std. dev. of 7 runs, 1000000 loops each)\n"
     ]
    },
    {
     "data": {
      "text/plain": [
       "<TimeitResult : 1.55 µs ± 209 ns per loop (mean ± std. dev. of 7 runs, 1000000 loops each)>"
      ]
     },
     "execution_count": 3,
     "metadata": {},
     "output_type": "execute_result"
    }
   ],
   "source": [
    "%%timeit -o -o\n",
    "oset = OSet()"
   ]
  },
  {
   "cell_type": "code",
   "execution_count": 4,
   "id": "431e8cc6-cd1a-4a1c-8e8d-9dd6748a0709",
   "metadata": {},
   "outputs": [],
   "source": [
    "oset_timings.append(_.average)"
   ]
  },
  {
   "cell_type": "code",
   "execution_count": 5,
   "id": "18b8db00-e449-4dd5-838d-dc3a6a8b522d",
   "metadata": {},
   "outputs": [
    {
     "name": "stdout",
     "output_type": "stream",
     "text": [
      "163 µs ± 7.64 µs per loop (mean ± std. dev. of 7 runs, 10000 loops each)\n"
     ]
    },
    {
     "data": {
      "text/plain": [
       "<TimeitResult : 163 µs ± 7.64 µs per loop (mean ± std. dev. of 7 runs, 10000 loops each)>"
      ]
     },
     "execution_count": 5,
     "metadata": {},
     "output_type": "execute_result"
    }
   ],
   "source": [
    "%%timeit -o -o\n",
    "oset = OSet(list(range(100)))"
   ]
  },
  {
   "cell_type": "code",
   "execution_count": 6,
   "id": "c946f444-2609-4ab6-a90f-7c04d115eb2d",
   "metadata": {},
   "outputs": [],
   "source": [
    "oset_timings.append(_.average)"
   ]
  },
  {
   "cell_type": "code",
   "execution_count": 7,
   "id": "4039f1ce-208f-4dd5-a58a-6081335fa3bc",
   "metadata": {},
   "outputs": [
    {
     "name": "stdout",
     "output_type": "stream",
     "text": [
      "167 µs ± 9.76 µs per loop (mean ± std. dev. of 7 runs, 10000 loops each)\n"
     ]
    },
    {
     "data": {
      "text/plain": [
       "<TimeitResult : 167 µs ± 9.76 µs per loop (mean ± std. dev. of 7 runs, 10000 loops each)>"
      ]
     },
     "execution_count": 7,
     "metadata": {},
     "output_type": "execute_result"
    }
   ],
   "source": [
    "%%timeit -o\n",
    "oset = OSet()\n",
    "for i in range(100):\n",
    "    oset.add(i)"
   ]
  },
  {
   "cell_type": "code",
   "execution_count": 8,
   "id": "1eff8b85-6127-44a7-bfb8-288fb1ddcf10",
   "metadata": {},
   "outputs": [],
   "source": [
    "oset_timings.append(_.average)"
   ]
  },
  {
   "cell_type": "code",
   "execution_count": 9,
   "id": "cb0e68db-6503-4ad6-a657-1f0697b75d0a",
   "metadata": {},
   "outputs": [
    {
     "name": "stdout",
     "output_type": "stream",
     "text": [
      "10.4 µs ± 262 ns per loop (mean ± std. dev. of 7 runs, 100000 loops each)\n"
     ]
    },
    {
     "data": {
      "text/plain": [
       "<TimeitResult : 10.4 µs ± 262 ns per loop (mean ± std. dev. of 7 runs, 100000 loops each)>"
      ]
     },
     "execution_count": 9,
     "metadata": {},
     "output_type": "execute_result"
    }
   ],
   "source": [
    "%%timeit -o\n",
    "oset = OSet(list(range(10)))\n",
    "for i in range(10):\n",
    "    oset.discard(i)"
   ]
  },
  {
   "cell_type": "code",
   "execution_count": 10,
   "id": "bd01b90a-e01d-41ce-9df4-0e5cdeef2c35",
   "metadata": {},
   "outputs": [],
   "source": [
    "oset_timings.append(_.average)"
   ]
  },
  {
   "cell_type": "code",
   "execution_count": 11,
   "id": "1cb1ad77-24e1-46ac-9eb2-f126b9a76109",
   "metadata": {},
   "outputs": [
    {
     "name": "stdout",
     "output_type": "stream",
     "text": [
      "13 µs ± 260 ns per loop (mean ± std. dev. of 7 runs, 100000 loops each)\n"
     ]
    },
    {
     "data": {
      "text/plain": [
       "<TimeitResult : 13 µs ± 260 ns per loop (mean ± std. dev. of 7 runs, 100000 loops each)>"
      ]
     },
     "execution_count": 11,
     "metadata": {},
     "output_type": "execute_result"
    }
   ],
   "source": [
    "%%timeit -o\n",
    "oset = OSet(list(range(10)))\n",
    "for i in range(10):\n",
    "    oset.remove(i)"
   ]
  },
  {
   "cell_type": "code",
   "execution_count": 12,
   "id": "07d26c06-e467-43cb-a958-48164ae18c9e",
   "metadata": {},
   "outputs": [],
   "source": [
    "oset_timings.append(_.average)"
   ]
  },
  {
   "cell_type": "code",
   "execution_count": 13,
   "id": "46a0fc7a-fbc0-41ad-8283-39ba2910f70f",
   "metadata": {},
   "outputs": [],
   "source": [
    "#%%timeit -o # Not implemented\n",
    "#oset = OSet(list(range(10)))\n",
    "#oset.index(7)"
   ]
  },
  {
   "cell_type": "code",
   "execution_count": 14,
   "id": "11895912-13b4-43e7-8a0c-9115538ac465",
   "metadata": {},
   "outputs": [],
   "source": [
    "oset_timings.append(0)"
   ]
  },
  {
   "cell_type": "code",
   "execution_count": 15,
   "id": "83cef23f-a93f-42ae-bf76-961c77e54a26",
   "metadata": {},
   "outputs": [
    {
     "name": "stdout",
     "output_type": "stream",
     "text": [
      "174 µs ± 5.78 µs per loop (mean ± std. dev. of 7 runs, 10000 loops each)\n"
     ]
    },
    {
     "data": {
      "text/plain": [
       "<TimeitResult : 174 µs ± 5.78 µs per loop (mean ± std. dev. of 7 runs, 10000 loops each)>"
      ]
     },
     "execution_count": 15,
     "metadata": {},
     "output_type": "execute_result"
    }
   ],
   "source": [
    "%%timeit -o\n",
    "oset = OSet(list(range(100)))\n",
    "for i in oset:\n",
    "    pass"
   ]
  },
  {
   "cell_type": "code",
   "execution_count": 16,
   "id": "faf9bde0-4373-49a6-962c-a0a27bd6f7a7",
   "metadata": {},
   "outputs": [],
   "source": [
    "oset_timings.append(_.average)"
   ]
  },
  {
   "cell_type": "code",
   "execution_count": 17,
   "id": "7ddfeb6a-23b0-4f35-8bff-88c74134ceec",
   "metadata": {},
   "outputs": [
    {
     "name": "stdout",
     "output_type": "stream",
     "text": [
      "178 µs ± 21.8 µs per loop (mean ± std. dev. of 7 runs, 1000 loops each)\n"
     ]
    },
    {
     "data": {
      "text/plain": [
       "<TimeitResult : 178 µs ± 21.8 µs per loop (mean ± std. dev. of 7 runs, 1000 loops each)>"
      ]
     },
     "execution_count": 17,
     "metadata": {},
     "output_type": "execute_result"
    }
   ],
   "source": [
    "%%timeit -o\n",
    "oset = OSet(list(range(100)))\n",
    "oset[99]"
   ]
  },
  {
   "cell_type": "code",
   "execution_count": 18,
   "id": "ffd9931f-a72a-41b8-bfcb-0e1873861681",
   "metadata": {},
   "outputs": [],
   "source": [
    "oset_timings.append(_.average)"
   ]
  },
  {
   "cell_type": "code",
   "execution_count": 19,
   "id": "a90680ab-582d-414b-a406-a1516429fb9e",
   "metadata": {},
   "outputs": [
    {
     "name": "stdout",
     "output_type": "stream",
     "text": [
      "18.8 µs ± 2.09 µs per loop (mean ± std. dev. of 7 runs, 100000 loops each)\n"
     ]
    },
    {
     "data": {
      "text/plain": [
       "<TimeitResult : 18.8 µs ± 2.09 µs per loop (mean ± std. dev. of 7 runs, 100000 loops each)>"
      ]
     },
     "execution_count": 19,
     "metadata": {},
     "output_type": "execute_result"
    }
   ],
   "source": [
    "%%timeit -o\n",
    "oset = OSet(list(range(10)))\n",
    "len(oset)"
   ]
  },
  {
   "cell_type": "code",
   "execution_count": 20,
   "id": "380c3dbd-a0bf-441f-b355-d7b8263a576b",
   "metadata": {},
   "outputs": [],
   "source": [
    "oset_timings.append(_.average)"
   ]
  },
  {
   "cell_type": "code",
   "execution_count": 21,
   "id": "b60cca18-5fbc-4012-bf7c-ef79d7e59afc",
   "metadata": {},
   "outputs": [
    {
     "name": "stdout",
     "output_type": "stream",
     "text": [
      "17.7 µs ± 348 ns per loop (mean ± std. dev. of 7 runs, 100000 loops each)\n"
     ]
    },
    {
     "data": {
      "text/plain": [
       "<TimeitResult : 17.7 µs ± 348 ns per loop (mean ± std. dev. of 7 runs, 100000 loops each)>"
      ]
     },
     "execution_count": 21,
     "metadata": {},
     "output_type": "execute_result"
    }
   ],
   "source": [
    "%%timeit -o\n",
    "oset = OSet(list(range(10)))\n",
    "5 in oset"
   ]
  },
  {
   "cell_type": "code",
   "execution_count": 22,
   "id": "45dd52a5-d429-4dd7-85ed-bc4e45c2a3c4",
   "metadata": {},
   "outputs": [],
   "source": [
    "oset_timings.append(_.average)"
   ]
  },
  {
   "cell_type": "markdown",
   "id": "7033c393-74bd-4f9f-87cc-e4b48481ebd1",
   "metadata": {},
   "source": [
    "# Ordered Set (Simon Percival)"
   ]
  },
  {
   "cell_type": "code",
   "execution_count": 23,
   "id": "4f4b503a-0fe8-4901-b754-b4d00f9ccac5",
   "metadata": {},
   "outputs": [],
   "source": [
    "osetsp_timings = []"
   ]
  },
  {
   "cell_type": "code",
   "execution_count": 24,
   "id": "17705573-8e57-4f71-b4e2-27c753c87696",
   "metadata": {},
   "outputs": [
    {
     "name": "stdout",
     "output_type": "stream",
     "text": [
      "208 ns ± 10.4 ns per loop (mean ± std. dev. of 7 runs, 1000000 loops each)\n"
     ]
    },
    {
     "data": {
      "text/plain": [
       "<TimeitResult : 208 ns ± 10.4 ns per loop (mean ± std. dev. of 7 runs, 1000000 loops each)>"
      ]
     },
     "execution_count": 24,
     "metadata": {},
     "output_type": "execute_result"
    }
   ],
   "source": [
    "%%timeit -o\n",
    "oset_sp = OrderedSet()"
   ]
  },
  {
   "cell_type": "code",
   "execution_count": 25,
   "id": "27d8919e-6635-4818-8360-75ebf13aa49e",
   "metadata": {},
   "outputs": [],
   "source": [
    "osetsp_timings.append(_.average)"
   ]
  },
  {
   "cell_type": "code",
   "execution_count": 26,
   "id": "f1a78502-64e6-437e-bfeb-4d3758dd8bb7",
   "metadata": {},
   "outputs": [
    {
     "name": "stdout",
     "output_type": "stream",
     "text": [
      "16 µs ± 567 ns per loop (mean ± std. dev. of 7 runs, 100000 loops each)\n"
     ]
    },
    {
     "data": {
      "text/plain": [
       "<TimeitResult : 16 µs ± 567 ns per loop (mean ± std. dev. of 7 runs, 100000 loops each)>"
      ]
     },
     "execution_count": 26,
     "metadata": {},
     "output_type": "execute_result"
    }
   ],
   "source": [
    "%%timeit -o\n",
    "oset_sp = OrderedSet(list(range(100)))"
   ]
  },
  {
   "cell_type": "code",
   "execution_count": 27,
   "id": "26337756-b99b-4b6f-9211-c53e7e138cf9",
   "metadata": {},
   "outputs": [],
   "source": [
    "osetsp_timings.append(_.average)"
   ]
  },
  {
   "cell_type": "code",
   "execution_count": 28,
   "id": "1b64bddc-41bf-442d-9791-2088ef2730b1",
   "metadata": {},
   "outputs": [
    {
     "name": "stdout",
     "output_type": "stream",
     "text": [
      "20 µs ± 668 ns per loop (mean ± std. dev. of 7 runs, 10000 loops each)\n"
     ]
    },
    {
     "data": {
      "text/plain": [
       "<TimeitResult : 20 µs ± 668 ns per loop (mean ± std. dev. of 7 runs, 10000 loops each)>"
      ]
     },
     "execution_count": 28,
     "metadata": {},
     "output_type": "execute_result"
    }
   ],
   "source": [
    "%%timeit -o\n",
    "oset_sp = OrderedSet()\n",
    "for i in range(100):\n",
    "    oset_sp.add(i)"
   ]
  },
  {
   "cell_type": "code",
   "execution_count": 29,
   "id": "9df53e19-9dae-4477-a801-eb434f790d72",
   "metadata": {},
   "outputs": [],
   "source": [
    "osetsp_timings.append(_.average)"
   ]
  },
  {
   "cell_type": "code",
   "execution_count": 30,
   "id": "d375cdcf-eebc-4983-be70-129e558455f7",
   "metadata": {},
   "outputs": [
    {
     "name": "stdout",
     "output_type": "stream",
     "text": [
      "3.08 µs ± 82.8 ns per loop (mean ± std. dev. of 7 runs, 100000 loops each)\n"
     ]
    },
    {
     "data": {
      "text/plain": [
       "<TimeitResult : 3.08 µs ± 82.8 ns per loop (mean ± std. dev. of 7 runs, 100000 loops each)>"
      ]
     },
     "execution_count": 30,
     "metadata": {},
     "output_type": "execute_result"
    }
   ],
   "source": [
    "%%timeit -o\n",
    "oset_sp = OrderedSet(list(range(10)))\n",
    "for i in range(10):\n",
    "    oset_sp.discard(i)"
   ]
  },
  {
   "cell_type": "code",
   "execution_count": 31,
   "id": "8b3c336a-dfb7-411b-936c-1cfc79a91b1e",
   "metadata": {},
   "outputs": [],
   "source": [
    "osetsp_timings.append(_.average)"
   ]
  },
  {
   "cell_type": "code",
   "execution_count": 32,
   "id": "49096776-3522-4617-9915-a3e60e5917bd",
   "metadata": {},
   "outputs": [
    {
     "name": "stdout",
     "output_type": "stream",
     "text": [
      "3.34 µs ± 152 ns per loop (mean ± std. dev. of 7 runs, 100000 loops each)\n"
     ]
    },
    {
     "data": {
      "text/plain": [
       "<TimeitResult : 3.34 µs ± 152 ns per loop (mean ± std. dev. of 7 runs, 100000 loops each)>"
      ]
     },
     "execution_count": 32,
     "metadata": {},
     "output_type": "execute_result"
    }
   ],
   "source": [
    "%%timeit -o\n",
    "oset_sp = OrderedSet(list(range(10)))\n",
    "for i in range(10):\n",
    "    oset_sp.remove(i)"
   ]
  },
  {
   "cell_type": "code",
   "execution_count": 33,
   "id": "e806f8e0-691b-4e51-8228-8fca65e209d8",
   "metadata": {},
   "outputs": [],
   "source": [
    "osetsp_timings.append(_.average)"
   ]
  },
  {
   "cell_type": "code",
   "execution_count": 34,
   "id": "fc26b037-9d42-4b72-a48f-6f633a3aed9e",
   "metadata": {},
   "outputs": [
    {
     "name": "stdout",
     "output_type": "stream",
     "text": [
      "2.32 µs ± 140 ns per loop (mean ± std. dev. of 7 runs, 100000 loops each)\n"
     ]
    },
    {
     "data": {
      "text/plain": [
       "<TimeitResult : 2.32 µs ± 140 ns per loop (mean ± std. dev. of 7 runs, 100000 loops each)>"
      ]
     },
     "execution_count": 34,
     "metadata": {},
     "output_type": "execute_result"
    }
   ],
   "source": [
    "%%timeit -o\n",
    "oset_sp = OrderedSet(list(range(10)))\n",
    "oset_sp.index(7)"
   ]
  },
  {
   "cell_type": "code",
   "execution_count": 35,
   "id": "e930b0fe-fdc1-4fc4-9e3b-7c82950f3519",
   "metadata": {},
   "outputs": [],
   "source": [
    "osetsp_timings.append(_.average)"
   ]
  },
  {
   "cell_type": "code",
   "execution_count": 36,
   "id": "88ab02a8-7f6d-4ada-9503-48c0761dc3a2",
   "metadata": {},
   "outputs": [
    {
     "name": "stdout",
     "output_type": "stream",
     "text": [
      "20.2 µs ± 1.53 µs per loop (mean ± std. dev. of 7 runs, 10000 loops each)\n"
     ]
    },
    {
     "data": {
      "text/plain": [
       "<TimeitResult : 20.2 µs ± 1.53 µs per loop (mean ± std. dev. of 7 runs, 10000 loops each)>"
      ]
     },
     "execution_count": 36,
     "metadata": {},
     "output_type": "execute_result"
    }
   ],
   "source": [
    "%%timeit -o\n",
    "oset_sp = OrderedSet(list(range(100)))\n",
    "for i in oset_sp:\n",
    "    pass"
   ]
  },
  {
   "cell_type": "code",
   "execution_count": 37,
   "id": "99360add-5280-4f1f-ad68-1a30657e7a34",
   "metadata": {},
   "outputs": [],
   "source": [
    "osetsp_timings.append(_.average)"
   ]
  },
  {
   "cell_type": "code",
   "execution_count": 38,
   "id": "e6eb4b32-5bdb-4ec2-b6b9-1f874a0cbc55",
   "metadata": {},
   "outputs": [
    {
     "name": "stdout",
     "output_type": "stream",
     "text": [
      "17.5 µs ± 1.35 µs per loop (mean ± std. dev. of 7 runs, 100000 loops each)\n"
     ]
    },
    {
     "data": {
      "text/plain": [
       "<TimeitResult : 17.5 µs ± 1.35 µs per loop (mean ± std. dev. of 7 runs, 100000 loops each)>"
      ]
     },
     "execution_count": 38,
     "metadata": {},
     "output_type": "execute_result"
    }
   ],
   "source": [
    "%%timeit -o\n",
    "oset_sp = OrderedSet(list(range(100)))\n",
    "oset_sp[99]"
   ]
  },
  {
   "cell_type": "code",
   "execution_count": 39,
   "id": "4ca5a3e7-9605-4bab-b80b-a47c1155294d",
   "metadata": {},
   "outputs": [],
   "source": [
    "osetsp_timings.append(_.average)"
   ]
  },
  {
   "cell_type": "code",
   "execution_count": 40,
   "id": "6c6c7a9c-e940-41d7-80d1-9f9994a29acb",
   "metadata": {},
   "outputs": [
    {
     "name": "stdout",
     "output_type": "stream",
     "text": [
      "2.36 µs ± 369 ns per loop (mean ± std. dev. of 7 runs, 100000 loops each)\n"
     ]
    },
    {
     "data": {
      "text/plain": [
       "<TimeitResult : 2.36 µs ± 369 ns per loop (mean ± std. dev. of 7 runs, 100000 loops each)>"
      ]
     },
     "execution_count": 40,
     "metadata": {},
     "output_type": "execute_result"
    }
   ],
   "source": [
    "%%timeit -o\n",
    "oset_sp = OrderedSet(list(range(10)))\n",
    "len(oset_sp)"
   ]
  },
  {
   "cell_type": "code",
   "execution_count": 41,
   "id": "8eaa5a16-7fcb-419d-a673-798b1650d898",
   "metadata": {},
   "outputs": [],
   "source": [
    "osetsp_timings.append(_.average)"
   ]
  },
  {
   "cell_type": "code",
   "execution_count": 42,
   "id": "8107bcd9-c71b-4ae2-a482-d7a21ee3e292",
   "metadata": {},
   "outputs": [
    {
     "name": "stdout",
     "output_type": "stream",
     "text": [
      "2.13 µs ± 155 ns per loop (mean ± std. dev. of 7 runs, 100000 loops each)\n"
     ]
    },
    {
     "data": {
      "text/plain": [
       "<TimeitResult : 2.13 µs ± 155 ns per loop (mean ± std. dev. of 7 runs, 100000 loops each)>"
      ]
     },
     "execution_count": 42,
     "metadata": {},
     "output_type": "execute_result"
    }
   ],
   "source": [
    "%%timeit -o\n",
    "oset_sp = OrderedSet(list(range(10)))\n",
    "5 in oset_sp"
   ]
  },
  {
   "cell_type": "code",
   "execution_count": 43,
   "id": "ba407c3b-c4e5-43f9-828c-ea19edde08a3",
   "metadata": {},
   "outputs": [],
   "source": [
    "osetsp_timings.append(_.average)"
   ]
  },
  {
   "cell_type": "markdown",
   "id": "cc754aeb-a8d3-4b51-b074-faa638afd477",
   "metadata": {},
   "source": [
    "# Ordered Set (custom, courtesy of Vyas)"
   ]
  },
  {
   "cell_type": "code",
   "execution_count": 44,
   "id": "9b7a0772-ff54-400c-b228-520dd397ca7f",
   "metadata": {},
   "outputs": [],
   "source": [
    "osetmb_timings = []"
   ]
  },
  {
   "cell_type": "code",
   "execution_count": 45,
   "id": "cd7fddf5-0c9d-4eb6-aedc-24d7949a3d65",
   "metadata": {},
   "outputs": [
    {
     "name": "stdout",
     "output_type": "stream",
     "text": [
      "493 ns ± 16.7 ns per loop (mean ± std. dev. of 7 runs, 1000000 loops each)\n"
     ]
    },
    {
     "data": {
      "text/plain": [
       "<TimeitResult : 493 ns ± 16.7 ns per loop (mean ± std. dev. of 7 runs, 1000000 loops each)>"
      ]
     },
     "execution_count": 45,
     "metadata": {},
     "output_type": "execute_result"
    }
   ],
   "source": [
    "%%timeit -o\n",
    "oset_mb = OrderedSetmb()"
   ]
  },
  {
   "cell_type": "code",
   "execution_count": 46,
   "id": "ec3e7101-1ab4-444c-895e-e95d170f81d3",
   "metadata": {},
   "outputs": [],
   "source": [
    "osetmb_timings.append(_.average)"
   ]
  },
  {
   "cell_type": "code",
   "execution_count": 47,
   "id": "6c18f125-15e2-4248-a2ff-570f3684cd29",
   "metadata": {},
   "outputs": [
    {
     "name": "stdout",
     "output_type": "stream",
     "text": [
      "9.08 µs ± 487 ns per loop (mean ± std. dev. of 7 runs, 100000 loops each)\n"
     ]
    },
    {
     "data": {
      "text/plain": [
       "<TimeitResult : 9.08 µs ± 487 ns per loop (mean ± std. dev. of 7 runs, 100000 loops each)>"
      ]
     },
     "execution_count": 47,
     "metadata": {},
     "output_type": "execute_result"
    }
   ],
   "source": [
    "%%timeit -o\n",
    "oset_mb = OrderedSetmb(*list(range(100)))"
   ]
  },
  {
   "cell_type": "code",
   "execution_count": 48,
   "id": "2105c310-27ac-4298-b3da-6f091ae97525",
   "metadata": {},
   "outputs": [],
   "source": [
    "osetmb_timings.append(_.average)"
   ]
  },
  {
   "cell_type": "code",
   "execution_count": 49,
   "id": "6f66a988-238f-47da-a2ef-1254ffb5499a",
   "metadata": {},
   "outputs": [
    {
     "name": "stdout",
     "output_type": "stream",
     "text": [
      "23.8 µs ± 6.91 µs per loop (mean ± std. dev. of 7 runs, 10000 loops each)\n"
     ]
    },
    {
     "data": {
      "text/plain": [
       "<TimeitResult : 23.8 µs ± 6.91 µs per loop (mean ± std. dev. of 7 runs, 10000 loops each)>"
      ]
     },
     "execution_count": 49,
     "metadata": {},
     "output_type": "execute_result"
    }
   ],
   "source": [
    "%%timeit -o\n",
    "oset_mb = OrderedSetmb()\n",
    "for i in range(100):\n",
    "    oset_mb.add(i)"
   ]
  },
  {
   "cell_type": "code",
   "execution_count": 50,
   "id": "40fee48c-d81b-44fd-8e00-6d7c88591f59",
   "metadata": {},
   "outputs": [],
   "source": [
    "osetmb_timings.append(_.average)"
   ]
  },
  {
   "cell_type": "code",
   "execution_count": 51,
   "id": "2e943b49-0e2f-4731-8e12-4e86075706b7",
   "metadata": {},
   "outputs": [
    {
     "name": "stdout",
     "output_type": "stream",
     "text": [
      "3.92 µs ± 85.3 ns per loop (mean ± std. dev. of 7 runs, 100000 loops each)\n"
     ]
    },
    {
     "data": {
      "text/plain": [
       "<TimeitResult : 3.92 µs ± 85.3 ns per loop (mean ± std. dev. of 7 runs, 100000 loops each)>"
      ]
     },
     "execution_count": 51,
     "metadata": {},
     "output_type": "execute_result"
    }
   ],
   "source": [
    "%%timeit -o\n",
    "oset_mb = OrderedSetmb(*list(range(10)))\n",
    "for i in range(10):\n",
    "    oset_mb.discard(i)"
   ]
  },
  {
   "cell_type": "code",
   "execution_count": 52,
   "id": "611094ce-d412-4f6b-9064-60bf24fca8ab",
   "metadata": {},
   "outputs": [],
   "source": [
    "osetmb_timings.append(_.average)"
   ]
  },
  {
   "cell_type": "code",
   "execution_count": 53,
   "id": "f19e9289-52d3-4972-bc8e-fea155a26621",
   "metadata": {},
   "outputs": [
    {
     "name": "stdout",
     "output_type": "stream",
     "text": [
      "6.42 µs ± 111 ns per loop (mean ± std. dev. of 7 runs, 100000 loops each)\n"
     ]
    },
    {
     "data": {
      "text/plain": [
       "<TimeitResult : 6.42 µs ± 111 ns per loop (mean ± std. dev. of 7 runs, 100000 loops each)>"
      ]
     },
     "execution_count": 53,
     "metadata": {},
     "output_type": "execute_result"
    }
   ],
   "source": [
    "%%timeit -o\n",
    "oset_mb = OrderedSetmb(*list(range(10)))\n",
    "for i in range(10):\n",
    "    oset_mb.remove(i)"
   ]
  },
  {
   "cell_type": "code",
   "execution_count": 54,
   "id": "aac689e4-766c-4f64-a7d0-f91d61545466",
   "metadata": {},
   "outputs": [],
   "source": [
    "osetmb_timings.append(_.average)"
   ]
  },
  {
   "cell_type": "code",
   "execution_count": 55,
   "id": "229c8e9f-9e68-46f4-b7be-91f9e90c13d8",
   "metadata": {},
   "outputs": [
    {
     "name": "stdout",
     "output_type": "stream",
     "text": [
      "2.13 µs ± 47.7 ns per loop (mean ± std. dev. of 7 runs, 100000 loops each)\n"
     ]
    },
    {
     "data": {
      "text/plain": [
       "<TimeitResult : 2.13 µs ± 47.7 ns per loop (mean ± std. dev. of 7 runs, 100000 loops each)>"
      ]
     },
     "execution_count": 55,
     "metadata": {},
     "output_type": "execute_result"
    }
   ],
   "source": [
    "%%timeit -o\n",
    "oset_mb = OrderedSetmb(*list(range(10)))\n",
    "oset_mb.index(7)"
   ]
  },
  {
   "cell_type": "code",
   "execution_count": 56,
   "id": "2a870740-f69b-429e-98e3-4e7aed46d122",
   "metadata": {},
   "outputs": [],
   "source": [
    "osetmb_timings.append(_.average)"
   ]
  },
  {
   "cell_type": "code",
   "execution_count": 57,
   "id": "6bac53f6-447c-4211-a9ec-5cff8e3b1c91",
   "metadata": {},
   "outputs": [
    {
     "name": "stdout",
     "output_type": "stream",
     "text": [
      "9.75 µs ± 161 ns per loop (mean ± std. dev. of 7 runs, 100000 loops each)\n"
     ]
    },
    {
     "data": {
      "text/plain": [
       "<TimeitResult : 9.75 µs ± 161 ns per loop (mean ± std. dev. of 7 runs, 100000 loops each)>"
      ]
     },
     "execution_count": 57,
     "metadata": {},
     "output_type": "execute_result"
    }
   ],
   "source": [
    "%%timeit -o\n",
    "oset_mb = OrderedSetmb(*list(range(100)))\n",
    "for i in oset_mb:\n",
    "    pass"
   ]
  },
  {
   "cell_type": "code",
   "execution_count": 58,
   "id": "5b52eafe-65bb-4d1f-a42e-f85168b4a623",
   "metadata": {},
   "outputs": [],
   "source": [
    "osetmb_timings.append(_.average)"
   ]
  },
  {
   "cell_type": "code",
   "execution_count": 59,
   "id": "affbd60f-881d-4219-a0b1-6aa7137e7819",
   "metadata": {},
   "outputs": [
    {
     "name": "stdout",
     "output_type": "stream",
     "text": [
      "9.35 µs ± 182 ns per loop (mean ± std. dev. of 7 runs, 100000 loops each)\n"
     ]
    },
    {
     "data": {
      "text/plain": [
       "<TimeitResult : 9.35 µs ± 182 ns per loop (mean ± std. dev. of 7 runs, 100000 loops each)>"
      ]
     },
     "execution_count": 59,
     "metadata": {},
     "output_type": "execute_result"
    }
   ],
   "source": [
    "%%timeit -o\n",
    "oset_mb = OrderedSetmb(*list(range(100)))\n",
    "oset_mb[99]"
   ]
  },
  {
   "cell_type": "code",
   "execution_count": 60,
   "id": "4b1a03aa-0abc-403d-8d7e-c9855fcf4b33",
   "metadata": {},
   "outputs": [],
   "source": [
    "osetmb_timings.append(_.average)"
   ]
  },
  {
   "cell_type": "code",
   "execution_count": 61,
   "id": "b62e4bf4-173e-411a-81b1-b0b2fd899f40",
   "metadata": {},
   "outputs": [
    {
     "name": "stdout",
     "output_type": "stream",
     "text": [
      "1.77 µs ± 23.8 ns per loop (mean ± std. dev. of 7 runs, 1000000 loops each)\n"
     ]
    },
    {
     "data": {
      "text/plain": [
       "<TimeitResult : 1.77 µs ± 23.8 ns per loop (mean ± std. dev. of 7 runs, 1000000 loops each)>"
      ]
     },
     "execution_count": 61,
     "metadata": {},
     "output_type": "execute_result"
    }
   ],
   "source": [
    "%%timeit -o\n",
    "oset_mb = OrderedSetmb(*list(range(10)))\n",
    "len(oset_mb)"
   ]
  },
  {
   "cell_type": "code",
   "execution_count": 62,
   "id": "fcdb138e-dd32-4c53-bd1a-7c8c43b0bdcc",
   "metadata": {},
   "outputs": [],
   "source": [
    "osetmb_timings.append(_.average)"
   ]
  },
  {
   "cell_type": "code",
   "execution_count": 63,
   "id": "8f5bbf30-c32f-4195-a563-cf67a110d946",
   "metadata": {},
   "outputs": [
    {
     "name": "stdout",
     "output_type": "stream",
     "text": [
      "1.72 µs ± 14.1 ns per loop (mean ± std. dev. of 7 runs, 1000000 loops each)\n"
     ]
    },
    {
     "data": {
      "text/plain": [
       "<TimeitResult : 1.72 µs ± 14.1 ns per loop (mean ± std. dev. of 7 runs, 1000000 loops each)>"
      ]
     },
     "execution_count": 63,
     "metadata": {},
     "output_type": "execute_result"
    }
   ],
   "source": [
    "%%timeit -o\n",
    "oset_mb = OrderedSetmb(*list(range(10)))\n",
    "5 in oset_mb"
   ]
  },
  {
   "cell_type": "code",
   "execution_count": 64,
   "id": "6aaca3eb-8a23-4857-89af-5689f5dbb86b",
   "metadata": {},
   "outputs": [],
   "source": [
    "osetmb_timings.append(_.average)"
   ]
  },
  {
   "cell_type": "code",
   "execution_count": 65,
   "id": "80158625-7d75-419a-a75c-539c431aa808",
   "metadata": {},
   "outputs": [
    {
     "name": "stdout",
     "output_type": "stream",
     "text": [
      "10 10 10\n"
     ]
    }
   ],
   "source": [
    "print(len(oset_timings), len(osetmb_timings), len(osetsp_timings))"
   ]
  },
  {
   "cell_type": "markdown",
   "id": "60904a44-1bc5-4a8e-afff-dbc327f85b85",
   "metadata": {},
   "source": [
    "# Summary"
   ]
  },
  {
   "cell_type": "code",
   "execution_count": 66,
   "id": "0fbf9451-ca49-4893-8067-9bb5e853b8e5",
   "metadata": {},
   "outputs": [],
   "source": [
    "import matplotlib.pyplot as plt\n",
    "import numpy as np"
   ]
  },
  {
   "cell_type": "code",
   "execution_count": 82,
   "id": "e2f788e6-41ce-48ff-8aa1-4b621e50a113",
   "metadata": {},
   "outputs": [
    {
     "data": {
      "image/png": "[encoded data removed]",
      "text/plain": [
       "<Figure size 720x576 with 2 Axes>"
      ]
     },
     "metadata": {
      "needs_background": "light"
     },
     "output_type": "display_data"
    }
   ],
   "source": [
    "labels = [\n",
    "    \"init_empty\", \n",
    "    \"init_list\", \n",
    "    \"add\", \n",
    "    \"discard\", \n",
    "    \"remove\", \n",
    "    \"index\", \n",
    "    \"iter\", \n",
    "    \"getitem\", \n",
    "    \"len\", \n",
    "    \"contains\"\n",
    "]\n",
    "\n",
    "x = np.arange(len(labels))  # the label locations\n",
    "width = 0.25  # the width of the bars\n",
    "\n",
    "fig, (ax, ax2) = plt.subplots(2, 1, sharex=True)\n",
    "rects1 = ax.bar(x - width, oset_timings, width, label='oset')\n",
    "rects2 = ax.bar(x, osetsp_timings, width, label='oset (SP)')\n",
    "rects3 = ax.bar(x + width, osetmb_timings, width, label='oset (mb)')\n",
    "rects1 = ax2.bar(x - width, oset_timings, width, label='oset')\n",
    "rects2 = ax2.bar(x, osetsp_timings, width, label='oset (SP)')\n",
    "rects3 = ax2.bar(x + width, osetmb_timings, width, label='oset (mb)')\n",
    "\n",
    "# Add some text for labels, title and custom x-axis tick labels, etc.#ax1.set_ylim(0.002,0.02)\n",
    "ax.set_ylim(0.00003, 0.0002)\n",
    "ax2.set_ylim(0, 0.000026)\n",
    "ax2.set_xticks(x)\n",
    "ax2.set_xticklabels(labels)\n",
    "ax.legend()\n",
    "\n",
    "ax.spines['bottom'].set_visible(False)\n",
    "ax2.spines['top'].set_visible(False)\n",
    "ax.xaxis.tick_top()\n",
    "ax.tick_params(labeltop=False)  # don't put tick labels at the top\n",
    "ax2.xaxis.tick_bottom()\n",
    "d = .015  # how big to make the diagonal lines in axes coordinates\n",
    "# arguments to pass to plot, just so we don't keep repeating them\n",
    "kwargs = dict(transform=ax.transAxes, color='k', clip_on=False)\n",
    "ax.plot((-d, +d), (-d, +d), **kwargs)        # top-left diagonal\n",
    "ax.plot((1 - d, 1 + d), (-d, +d), **kwargs)  # top-right diagonal\n",
    "\n",
    "kwargs.update(transform=ax2.transAxes)  # switch to the bottom axes\n",
    "ax2.plot((-d, +d), (1 - d, 1 + d), **kwargs)  # bottom-left diagonal\n",
    "ax2.plot((1 - d, 1 + d), (1 - d, 1 + d), **kwargs)  # bottom-right diagonal\n",
    "\n",
    "\n",
    "fig.set_size_inches(10,8)\n",
    "\n",
    "plt.show()"
   ]
  },
  {
   "cell_type": "markdown",
   "id": "c7b94544-6910-4149-9c04-ded0bb92580a",
   "metadata": {},
   "source": [
    "# Most common uses\n",
    "`mbuild/conversion.py:` (iter)\n",
    "```\n",
    "1413:        residues = list(set([child.name for child in compound.children]))\n",
    "1558:    if not compound.children:\n",
    "1560:    for child in compound.children:\n",
    "```\n",
    "\n",
    "`mbuild/compound.py` (iter, add, remove)\n",
    "```\n",
    "236:        for part in self.children:\n",
    "266:        for part in self.children:\n",
    "537:        for child in self.children:\n",
    "645:            self.children.add(new_child)\n",
    "744:                obj.parent.children.remove(obj)\n",
    "778:                removed_part.parent.children.remove(removed_part)\n",
    "785:                port.parent.children.remove(port)\n",
    "2392:        # Add children to clone.\n",
    "2393:        if self.children:\n",
    "2394:            for child in self.children:\n",
    "2396:                newone.children.add(newchild)\n",
    "```"
   ]
  },
  {
   "cell_type": "markdown",
   "id": "42a6e1fa-d864-4c76-8004-3f9340885b8a",
   "metadata": {},
   "source": [
    "# Additional notes:\n",
    "1. oset (sp) has a union method\n",
    "    - oset and the oset (mb) would need this added\n",
    "2. both oset (sp) and oset (mb) will break the functionality of adding/removing children during iteration. I think this is worth breaking, personally."
   ]
  },
  {
   "cell_type": "code",
   "execution_count": 85,
   "id": "01624af1-20bf-44e0-8480-72b4c1f5211b",
   "metadata": {},
   "outputs": [
    {
     "data": {
      "text/plain": [
       "OrderedSet([0])"
      ]
     },
     "execution_count": 85,
     "metadata": {},
     "output_type": "execute_result"
    }
   ],
   "source": [
    "osetsp = OrderedSet()\n",
    "osetsp.union([0])"
   ]
  },
  {
   "cell_type": "code",
   "execution_count": 90,
   "id": "529516d4-0af1-45fc-a710-985b80f7dcb0",
   "metadata": {},
   "outputs": [
    {
     "ename": "RuntimeError",
     "evalue": "OrderedSet changed size during iteration",
     "output_type": "error",
     "traceback": [
      "\u001b[0;31m---------------------------------------------------------------------------\u001b[0m",
      "\u001b[0;31mRuntimeError\u001b[0m                              Traceback (most recent call last)",
      "\u001b[0;32m<ipython-input-90-1f47b1631236>\u001b[0m in \u001b[0;36m<module>\u001b[0;34m\u001b[0m\n\u001b[1;32m      1\u001b[0m \u001b[0mosetsp\u001b[0m \u001b[0;34m=\u001b[0m \u001b[0mOrderedSet\u001b[0m\u001b[0;34m(\u001b[0m\u001b[0mlist\u001b[0m\u001b[0;34m(\u001b[0m\u001b[0mrange\u001b[0m\u001b[0;34m(\u001b[0m\u001b[0;36m10\u001b[0m\u001b[0;34m)\u001b[0m\u001b[0;34m)\u001b[0m\u001b[0;34m)\u001b[0m\u001b[0;34m\u001b[0m\u001b[0;34m\u001b[0m\u001b[0m\n\u001b[0;32m----> 2\u001b[0;31m \u001b[0;32mfor\u001b[0m \u001b[0mi\u001b[0m \u001b[0;32min\u001b[0m \u001b[0mosetsp\u001b[0m\u001b[0;34m:\u001b[0m\u001b[0;34m\u001b[0m\u001b[0;34m\u001b[0m\u001b[0m\n\u001b[0m\u001b[1;32m      3\u001b[0m     \u001b[0mosetsp\u001b[0m\u001b[0;34m.\u001b[0m\u001b[0madd\u001b[0m\u001b[0;34m(\u001b[0m\u001b[0;34m\"heck\"\u001b[0m\u001b[0;34m)\u001b[0m\u001b[0;34m\u001b[0m\u001b[0;34m\u001b[0m\u001b[0m\n",
      "\u001b[0;32mlib/orderedset/_orderedset.pyx\u001b[0m in \u001b[0;36morderedset._orderedset.OrderedSetIterator.__next__\u001b[0;34m()\u001b[0m\n",
      "\u001b[0;31mRuntimeError\u001b[0m: OrderedSet changed size during iteration"
     ]
    }
   ],
   "source": [
    "# this breaks\n",
    "osetsp = OrderedSet(list(range(10)))\n",
    "for i in osetsp:\n",
    "    osetsp.add(\"heck\")"
   ]
  },
  {
   "cell_type": "code",
   "execution_count": 93,
   "id": "04649ac3-8ca0-4d4e-bf6e-3409ff0f06a9",
   "metadata": {},
   "outputs": [
    {
     "data": {
      "text/plain": [
       "OrderedSet([0, 1, 2, 3, 4, 5, 6, 7, 8, 9, 'heck'])"
      ]
     },
     "execution_count": 93,
     "metadata": {},
     "output_type": "execute_result"
    }
   ],
   "source": [
    "# do this instead\n",
    "osetsp = OrderedSet(list(range(10)))\n",
    "particles_to_add = []\n",
    "for i in osetsp:\n",
    "    particles_to_add.append(\"heck\")\n",
    "osetsp.union(particles_to_add)"
   ]
  },
  {
   "cell_type": "code",
   "execution_count": 98,
   "id": "aa90b97e-a405-4f16-a713-62b9301d70ab",
   "metadata": {},
   "outputs": [
    {
     "ename": "RuntimeError",
     "evalue": "dictionary changed size during iteration",
     "output_type": "error",
     "traceback": [
      "\u001b[0;31m---------------------------------------------------------------------------\u001b[0m",
      "\u001b[0;31mRuntimeError\u001b[0m                              Traceback (most recent call last)",
      "\u001b[0;32m<ipython-input-98-b7afdd78be5c>\u001b[0m in \u001b[0;36m<module>\u001b[0;34m\u001b[0m\n\u001b[1;32m      1\u001b[0m \u001b[0mosetmb\u001b[0m \u001b[0;34m=\u001b[0m \u001b[0mOrderedSetmb\u001b[0m\u001b[0;34m(\u001b[0m\u001b[0;34m*\u001b[0m\u001b[0mlist\u001b[0m\u001b[0;34m(\u001b[0m\u001b[0mrange\u001b[0m\u001b[0;34m(\u001b[0m\u001b[0;36m10\u001b[0m\u001b[0;34m)\u001b[0m\u001b[0;34m)\u001b[0m\u001b[0;34m)\u001b[0m\u001b[0;34m\u001b[0m\u001b[0;34m\u001b[0m\u001b[0m\n\u001b[0;32m----> 2\u001b[0;31m \u001b[0;32mfor\u001b[0m \u001b[0mi\u001b[0m \u001b[0;32min\u001b[0m \u001b[0mosetmb\u001b[0m\u001b[0;34m:\u001b[0m\u001b[0;34m\u001b[0m\u001b[0;34m\u001b[0m\u001b[0m\n\u001b[0m\u001b[1;32m      3\u001b[0m     \u001b[0mosetmb\u001b[0m\u001b[0;34m.\u001b[0m\u001b[0madd\u001b[0m\u001b[0;34m(\u001b[0m\u001b[0;34m\"heck\"\u001b[0m\u001b[0;34m)\u001b[0m\u001b[0;34m\u001b[0m\u001b[0;34m\u001b[0m\u001b[0m\n",
      "\u001b[0;31mRuntimeError\u001b[0m: dictionary changed size during iteration"
     ]
    }
   ],
   "source": [
    "# this breaks\n",
    "osetmb = OrderedSetmb(*list(range(10)))\n",
    "for i in osetmb:\n",
    "    osetmb.add(\"heck\")"
   ]
  },
  {
   "cell_type": "code",
   "execution_count": 96,
   "id": "e13f9043-a48a-4a79-939b-98357e0a9b3b",
   "metadata": {},
   "outputs": [],
   "source": [
    "# do this instead\n",
    "osetmb = OrderedSetmb(*list(range(10)))\n",
    "particles_to_add = []\n",
    "for i in osetmb:\n",
    "    particles_to_add.append(\"heck\")\n",
    "for i in particles_to_add:\n",
    "    osetmb.add(i)"
   ]
  },
  {
   "cell_type": "markdown",
   "id": "f8d70826-9801-4ef0-89ac-00937d11a5b4",
   "metadata": {},
   "source": [
    "Interesting, bulk add/remove methods are not faster than loops. (at least for small N)"
   ]
  },
  {
   "cell_type": "code",
   "execution_count": 112,
   "id": "1e820d77-1533-4d3e-9716-be07031308bc",
   "metadata": {},
   "outputs": [],
   "source": [
    "mylist = list(range(6))"
   ]
  },
  {
   "cell_type": "code",
   "execution_count": 113,
   "id": "23ed52f9-7dc0-41f9-a5cf-04ab6787c596",
   "metadata": {},
   "outputs": [
    {
     "name": "stdout",
     "output_type": "stream",
     "text": [
      "6.43 µs ± 322 ns per loop (mean ± std. dev. of 7 runs, 100000 loops each)\n"
     ]
    }
   ],
   "source": [
    "%%timeit \n",
    "osetsp = OrderedSet(list(range(10)))\n",
    "osetsp.difference(mylist)"
   ]
  },
  {
   "cell_type": "code",
   "execution_count": 114,
   "id": "15901aee-5787-4283-ab7a-23256fb549da",
   "metadata": {},
   "outputs": [
    {
     "name": "stdout",
     "output_type": "stream",
     "text": [
      "2.83 µs ± 29.6 ns per loop (mean ± std. dev. of 7 runs, 100000 loops each)\n"
     ]
    }
   ],
   "source": [
    "%%timeit\n",
    "osetsp = OrderedSet(list(range(10)))\n",
    "for i in range(6):\n",
    "    osetsp.remove(i)"
   ]
  },
  {
   "cell_type": "code",
   "execution_count": 115,
   "id": "a1ac1004-fc4d-4179-84dd-bcbe35d793c7",
   "metadata": {},
   "outputs": [
    {
     "name": "stdout",
     "output_type": "stream",
     "text": [
      "2.8 µs ± 125 ns per loop (mean ± std. dev. of 7 runs, 100000 loops each)\n"
     ]
    }
   ],
   "source": [
    "%%timeit\n",
    "osetsp = OrderedSet(list(range(10)))\n",
    "for i in range(6):\n",
    "    osetsp.discard(i)"
   ]
  },
  {
   "cell_type": "code",
   "execution_count": 116,
   "id": "27ac1149-0435-48a4-9e9c-307e41058ed0",
   "metadata": {},
   "outputs": [
    {
     "name": "stdout",
     "output_type": "stream",
     "text": [
      "2.76 µs ± 300 ns per loop (mean ± std. dev. of 7 runs, 100000 loops each)\n"
     ]
    }
   ],
   "source": [
    "%%timeit\n",
    "osetsp = OrderedSet()\n",
    "osetsp.union(mylist)"
   ]
  },
  {
   "cell_type": "code",
   "execution_count": 117,
   "id": "a24ac1e1-2831-4689-b13c-37cd6e6f5e40",
   "metadata": {},
   "outputs": [
    {
     "name": "stdout",
     "output_type": "stream",
     "text": [
      "1.59 µs ± 8.51 ns per loop (mean ± std. dev. of 7 runs, 1000000 loops each)\n"
     ]
    }
   ],
   "source": [
    "%%timeit\n",
    "osetsp = OrderedSet()\n",
    "for i in range(6):\n",
    "    osetsp.add(i)"
   ]
  },
  {
   "cell_type": "code",
   "execution_count": null,
   "id": "5859de12-8b41-4fb6-be54-f0cdcdace2d6",
   "metadata": {},
   "outputs": [],
   "source": []
  }
 ],
 "metadata": {
  "kernelspec": {
   "display_name": "Python 3",
   "language": "python",
   "name": "python3"
  },
  "language_info": {
   "codemirror_mode": {
    "name": "ipython",
    "version": 3
   },
   "file_extension": ".py",
   "mimetype": "text/x-python",
   "name": "python",
   "nbconvert_exporter": "python",
   "pygments_lexer": "ipython3",
   "version": "3.8.0"
  }
 },
 "nbformat": 4,
 "nbformat_minor": 5
}
