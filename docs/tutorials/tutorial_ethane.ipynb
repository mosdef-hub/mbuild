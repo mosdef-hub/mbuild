{
 "cells": [
  {
   "cell_type": "markdown",
   "metadata": {},
   "source": [
    "Ethane: Reading from files, Ports and coordinate transforms\n",
    "-----------------------------------------------------------\n",
    "\n",
    "In this example, we'll cover reading molecular components from files, introduce the concept of `Ports` and start using some coordinate transforms.\n",
    "\n",
    "As you probably noticed while creating your methane mocule in the last tutorial, manually adding `Particles` and `Bonds` to a `Compound` is a bit cumbersome. The easiest way to create small, reusable components, such as methyls, amines or monomers, is to hand draw them using software like [Avogadro](http://avogadro.cc/wiki/Main_Page) and export them as either a .pdb or .mol2 file (the file should contain connectivity information).\n",
    "\n",
    "Let's start by reading a methyl group from a `.pdb` file:"
   ]
  },
  {
   "cell_type": "code",
   "execution_count": 1,
   "metadata": {
    "collapsed": true
   },
   "outputs": [],
   "source": [
    "import mbuild as mb\n",
    "\n",
    "class CH3(mb.Compound):\n",
    "    def __init__(self):\n",
    "        super(CH3, self).__init__()\n",
    "\n",
    "        mb.load('ch3.pdb', compound=self)"
   ]
  },
  {
   "cell_type": "markdown",
   "metadata": {},
   "source": [
    "Now let's use our first coordinate transform to center the methyl at its carbon atom:"
   ]
  },
  {
   "cell_type": "code",
   "execution_count": 2,
   "metadata": {
    "collapsed": true
   },
   "outputs": [],
   "source": [
    "import mbuild as mb\n",
    "\n",
    "class CH3(mb.Compound):\n",
    "    def __init__(self):\n",
    "        super(CH3, self).__init__()\n",
    "\n",
    "        mb.load('ch3.pdb', compound=self)\n",
    "        mb.translate(self, -self[0].pos)  # Move carbon to origin."
   ]
  },
  {
   "cell_type": "markdown",
   "metadata": {},
   "source": [
    "Now we have a methyl group loaded up and centered. In order to connect `Compounds` in mBuild, we make use of a special type of `Compound`: the `Port`. A `Port` is a `Compound` with two sets of four \"ghost\" `Particles`. In addition ``Ports`` have an `anchor` attribute which typically points to a `Compound` that the `Port` should be associated with. In our methyl group, the `Port` should be anchored to the carbon atom so that we\n",
    "can now form bonds to this carbon:"
   ]
  },
  {
   "cell_type": "code",
   "execution_count": 3,
   "metadata": {
    "collapsed": true
   },
   "outputs": [],
   "source": [
    "import mbuild as mb\n",
    "\n",
    "class CH3(mb.Compound):\n",
    "    def __init__(self):\n",
    "        super(CH3, self).__init__()\n",
    "\n",
    "        mb.load('ch3.pdb', compound=self)\n",
    "        mb.translate(self, -self[0].pos)  # Move carbon to origin.\n",
    "\n",
    "        port = mb.Port(anchor=self[0])\n",
    "        self.add(port, label='up')\n",
    "        mb.translate(self['up'], [0, -0.07, 0])"
   ]
  },
  {
   "cell_type": "markdown",
   "metadata": {},
   "source": [
    "By default, `Ports` are never output from the mBuild structure. However, it can be useful to look at a molecule with the `Ports` to check your work as you go:"
   ]
  },
  {
   "cell_type": "code",
   "execution_count": 4,
   "metadata": {
    "collapsed": false
   },
   "outputs": [],
   "source": [
    "CH3().visualize(show_ports=True)"
   ]
  },
  {
   "cell_type": "markdown",
   "metadata": {},
   "source": [
    "When two `Ports` are connected, they are forced to overlap in space and their parent `Compounds` are rotated and translated by the same amount. \n",
    "\n",
    "__Note:__ If we tried to connect two of our methyls right now using only one set of four ghost particles, not only would the `Ports` overlap perfectly, but the carbons and hydrogens would also perfectly overlap. This is why every port contains a second set of 4 ghost atoms pointing in the opposite direction. When two `Compounds` are\n",
    "connected, the port that places the anchor atoms the farthest away from each other is chosen automatically to prevent this overlap scenario. By convention, we try to label `Ports` successively as 'up', 'down', 'left', 'right', 'front', 'back' which should roughly correspond to their relative orientations. This is a bit tricky to enforce because the system is so flexible so use your best judgement and try to be consistent! The more components we collect in our library with the same labeling conventions, the easier it becomes to build ever more complex structures.\n",
    "\n",
    "Now the fun part: stick 'em together to create an ethane:"
   ]
  },
  {
   "cell_type": "code",
   "execution_count": 5,
   "metadata": {
    "collapsed": true
   },
   "outputs": [],
   "source": [
    "import mbuild as mb\n",
    "\n",
    "class Ethane(mb.Compound):\n",
    "    def __init__(self):\n",
    "        super(Ethane, self).__init__()\n",
    "\n",
    "        self.add(CH3(), \"methyl1\")\n",
    "        self.add(CH3(), \"methyl2\")\n",
    "        mb.equivalence_transform(self['methyl1'], self['methyl1']['up'], self['methyl2']['up'])"
   ]
  },
  {
   "cell_type": "code",
   "execution_count": 7,
   "metadata": {
    "collapsed": false
   },
   "outputs": [],
   "source": [
    "Ethane().visualize()"
   ]
  },
  {
   "cell_type": "code",
   "execution_count": 8,
   "metadata": {
    "collapsed": true
   },
   "outputs": [],
   "source": [
    "Ethane().visualize(show_ports=True)"
   ]
  },
  {
   "cell_type": "markdown",
   "metadata": {},
   "source": [
    "Above, the `equivalence_transform()` function takes a `Compound` and then rotates and translates it such that two other `Compounds` overlap. Typically, as in\n",
    "this case, those two other `Compounds` are `Ports` - in our case, `methyl1['up']` and `methyl2['up']`."
   ]
  },
  {
   "cell_type": "code",
   "execution_count": null,
   "metadata": {
    "collapsed": true
   },
   "outputs": [],
   "source": []
  }
 ],
 "metadata": {
  "kernelspec": {
   "display_name": "Python 2",
   "language": "python",
   "name": "python2"
  },
  "language_info": {
   "codemirror_mode": {
    "name": "ipython",
    "version": 2
   },
   "file_extension": ".py",
   "mimetype": "text/x-python",
   "name": "python",
   "nbconvert_exporter": "python",
   "pygments_lexer": "ipython2",
   "version": "2.7.12"
  }
 },
 "nbformat": 4,
 "nbformat_minor": 0
}
