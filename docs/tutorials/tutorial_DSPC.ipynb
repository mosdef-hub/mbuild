{
 "cells": [
  {
   "cell_type": "markdown",
   "metadata": {},
   "source": [
    "DSPC: Creating complex molecules using mBuild's hierarchical design\n",
    "===================================\n",
    "\n",
    "__Note__: This tutorial assumes completion of the Methane, Ethane, and Polymer tutorials, and a mastery of the basics concepts of mBuild (`Compounds`, `Ports`, basic coordinate transforms)\n",
    "\n",
    "Let's begin by importing some useful molecular units to build our DSPC molecule, as well as the mBuild package of course:"
   ]
  },
  {
   "cell_type": "code",
   "execution_count": 56,
   "metadata": {},
   "outputs": [],
   "source": [
    "import mbuild as mb\n",
    "\n",
    "from mbuild.prototypes import AlkylMonomer, COOH\n",
    "from mbuild.lib.moieties import CH3"
   ]
  },
  {
   "cell_type": "markdown",
   "metadata": {},
   "source": [
    "Now, we could try to build a DSPC molecule directly from these small molecular components.\n",
    "\n",
    "However, this would be cumbersome and would fail to take advantage of mBuild's intelligent design (not to mention, it would fly in the face of Object-Oriented Programming as a whole. _Sad_!)\n",
    "\n",
    "Therefore, let's start with a smaller unit that can be reused later, like a *free fatty acid*. \n",
    "\n",
    "### Free Fatty Acid Construction\n",
    "Here, we initialize the `Compound` and add a `COOH` headgroup."
   ]
  },
  {
   "cell_type": "code",
   "execution_count": 57,
   "metadata": {},
   "outputs": [],
   "source": [
    "ffa = mb.Compound()\n",
    "\n",
    "ffa.add(COOH(ester=True), label='head')"
   ]
  },
  {
   "cell_type": "markdown",
   "metadata": {},
   "source": [
    "Notice the 'ester=True' keyword parameter. \n",
    "\n",
    "This is included because, in the future, we will likely want to connect this free fatty acid to another `Compound`, so we give the headgroup ester behavior to accomodate this future connection.\n",
    "\n",
    "Now, onto the tail (utilizing the `Polymer` class) and tailcap."
   ]
  },
  {
   "cell_type": "code",
   "execution_count": 58,
   "metadata": {},
   "outputs": [],
   "source": [
    "ffa.add(mb.Polymer(AlkylMonomer(), 18), label='tail')\n",
    "ffa.add(CH3(), label='tailcap')"
   ]
  },
  {
   "cell_type": "markdown",
   "metadata": {},
   "source": [
    "Finally, let's connect these pieces and see what happens."
   ]
  },
  {
   "cell_type": "code",
   "execution_count": 59,
   "metadata": {},
   "outputs": [
    {
     "name": "stderr",
     "output_type": "stream",
     "text": [
      "/home/loganguy/anaconda3/envs/mosdef/lib/python3.5/site-packages/ipywidgets/widgets/widget.py:464: DeprecationWarning: The 'warn' method is deprecated, use 'warning' instead\n",
      "  self.log.warn(message)\n",
      "The installed widget Javascript is the wrong version.\n"
     ]
    }
   ],
   "source": [
    "mb.force_overlap(move_this=ffa['tailcap'], from_positions=ffa['tailcap']['up'],\n",
    "                 to_positions=ffa['tail']['up'])\n",
    "mb.force_overlap(move_this=ffa['head'], from_positions=ffa['head']['up'],\n",
    "                 to_positions=ffa['tail']['down'])\n",
    "\n",
    "ffa.visualize()"
   ]
  },
  {
   "cell_type": "markdown",
   "metadata": {},
   "source": [
    "Well that's odd. Our `Ports` are all connected correctly, but the head group isn't displaying normal geometry.\n",
    "\n",
    "This happens a lot in mBuild when we create bonds with Ports. We can specify orientation and distance correctly, but because bonds are rotatable, there is no guarantee that the two Compounds will be rotated correctly with respect to each other.\n",
    "\n",
    "To fix this, we'll have to spin the `Port` connected to the headgroup in-place by 90 degrees. Insert this line of code into the cell below, right after the line where the headgroup is added. __Note__: mBuild's rotational units are in radians, so we'll need to make use of the NumPy package.\n",
    "\n",
    "```\n",
    "ffa['head']['up'].spin(np.pi/2, ffa['head']['C'].pos)\n",
    "```\n",
    "\n"
   ]
  },
  {
   "cell_type": "code",
   "execution_count": 60,
   "metadata": {},
   "outputs": [
    {
     "name": "stderr",
     "output_type": "stream",
     "text": [
      "/home/loganguy/anaconda3/envs/mosdef/lib/python3.5/site-packages/ipywidgets/widgets/widget.py:464: DeprecationWarning: The 'warn' method is deprecated, use 'warning' instead\n",
      "  self.log.warn(message)\n",
      "The installed widget Javascript is the wrong version.\n"
     ]
    }
   ],
   "source": [
    "import numpy as np\n",
    "import mbuild as mb\n",
    "\n",
    "from mbuild.prototypes import *\n",
    "from mbuild.lib.moieties import CH3\n",
    "\n",
    "ffa = mb.Compound()\n",
    "\n",
    "ffa.add(COOH(ester=True), label='head')\n",
    "\n",
    "ffa.add(mb.Polymer(AlkylMonomer(), 18), label='tail')\n",
    "ffa.add(CH3(), label='tailcap')\n",
    "mb.force_overlap(move_this=ffa['tailcap'], from_positions=ffa['tailcap']['up'],\n",
    "                 to_positions=ffa['tail']['up'])\n",
    "mb.force_overlap(move_this=ffa['head'], from_positions=ffa['head']['up'],\n",
    "                 to_positions=ffa['tail']['down'])\n",
    "\n",
    "ffa.visualize()"
   ]
  },
  {
   "cell_type": "markdown",
   "metadata": {},
   "source": [
    "For proper integration with GROMACS simulation file types, some of the names of the atoms have been changed, which is why one of the oxygen atoms is colored incorrectly. Rest assured, your free fatty acid has been constructed correctly if you've followed the steps above.\n",
    "\n",
    "Now, in order to make this component reusable, we need to wrap it in a Python class (if you want to see the way the molecule looks without the ester property, simply specify `ester=False`).\n",
    "\n",
    "___Tip___: Your programs will only be as useful as they are flexible. Notice that the class below incorporates a `chain_length` parameter, allowing for the creation of many lengths of free fatty acids."
   ]
  },
  {
   "cell_type": "code",
   "execution_count": 61,
   "metadata": {
    "collapsed": true
   },
   "outputs": [],
   "source": [
    "import mbuild as mb\n",
    "import numpy as np\n",
    "\n",
    "from mbuild.prototypes import *\n",
    "from mbuild.lib.moieties.ch3 import CH3\n",
    "\n",
    "class FFA(mb.Compound):\n",
    "    \"\"\"Creates a saturated free fatty acid of n carbons based on user\n",
    "    input for the united atom model\"\"\"\n",
    "    def __init__(self, chain_length, ester=True):\n",
    "        super(FFA, self).__init__()\n",
    "        \n",
    "        if ester:\n",
    "            self.add(COOH(ester=True), label='head')\n",
    "        \n",
    "        tail = mb.Polymer(AlkylMonomer(), (chain_length - 2))\n",
    "        if not ester:\n",
    "            self.add(CH3(), label='tailcap')\n",
    "        self.add(tail, label='tail')\n",
    "        if ester:\n",
    "            self.add(CH3(), label='tailcap')\n",
    "        mb.x_axis_transform(self['tail'], new_origin=self['tail'][0],\n",
    "                point_on_x_axis=self['tail'][2],\n",
    "                point_on_xy_plane=self['tail'][1])\n",
    "\n",
    "        if not ester:\n",
    "            self.add(COOH(), label='head')\n",
    "        if ester:\n",
    "            mb.force_overlap(move_this=self['tailcap'],\n",
    "                from_positions=self['tailcap']['up'],\n",
    "                to_positions=self['tail']['up'])\n",
    "        else:\n",
    "            mb.force_overlap(move_this=self['tailcap'],\n",
    "                from_positions=self['tailcap']['up'],\n",
    "                to_positions=self['tail']['down'])\n",
    "\n",
    "        self['head']['up'].spin(-np.pi/2, self['head']['up'].pos)\n",
    "        if ester: \n",
    "            mb.force_overlap(move_this=self['head'],\n",
    "                from_positions=self['head']['up'],\n",
    "                to_positions=self['tail']['down'])\n",
    "            self.spin(np.pi/2, [0,1,0])\n",
    "        else:\n",
    "            mb.force_overlap(move_this=self['head'],\n",
    "                from_positions=self['head']['up'],\n",
    "                to_positions=self['tail']['up'])\n",
    "            self.spin(-np.pi/2, [0,1,0])\n",
    "        self.name = 'FFA' + str(chain_length)"
   ]
  },
  {
   "cell_type": "code",
   "execution_count": 62,
   "metadata": {},
   "outputs": [
    {
     "name": "stderr",
     "output_type": "stream",
     "text": [
      "/home/loganguy/anaconda3/envs/mosdef/lib/python3.5/site-packages/ipywidgets/widgets/widget.py:464: DeprecationWarning: The 'warn' method is deprecated, use 'warning' instead\n",
      "  self.log.warn(message)\n",
      "The installed widget Javascript is the wrong version.\n"
     ]
    }
   ],
   "source": [
    "ffa = FFA(18, ester=False)\n",
    "ffa.visualize()\n"
   ]
  },
  {
   "cell_type": "markdown",
   "metadata": {},
   "source": [
    "Now that we've demonstrated how you can build a molecule like a free fatty acid from the ground up, we'll spend the rest of the tutorial connecting previously created molecular components to make larger molecules.\n",
    "\n",
    "### Phosphatidyl choline tail group construction\n",
    "\n",
    "The tails of a DSPC molecule are simply free fatty acids connected in a glycerol, which makes constructing them very easy, since we stuck to mBuild's hierarchical design! A visual of the tail group can be found [here](https://en.wikipedia.org/wiki/Diglyceride#/media/File:1,2-diacylglycerol.svg).\n",
    "\n",
    "Let's start by initializing and adding the 2-carbon chain:"
   ]
  },
  {
   "cell_type": "code",
   "execution_count": 63,
   "metadata": {},
   "outputs": [
    {
     "name": "stderr",
     "output_type": "stream",
     "text": [
      "/home/loganguy/anaconda3/envs/mosdef/lib/python3.5/site-packages/ipywidgets/widgets/widget.py:464: DeprecationWarning: The 'warn' method is deprecated, use 'warning' instead\n",
      "  self.log.warn(message)\n",
      "The installed widget Javascript is the wrong version.\n"
     ]
    }
   ],
   "source": [
    "pctails = mb.Compound()\n",
    "pctails.add(mb.Polymer(AlkylMonomer(), 2), label='base')\n",
    "\n",
    "pctails.visualize()"
   ]
  },
  {
   "cell_type": "markdown",
   "metadata": {},
   "source": [
    "If you looked closely at the picture of the tail group construction, you noticed that there was an _O-H_ branching off one of the carbons in the tail groups.\n",
    "\n",
    "This is where the head group is going to go, so we need to replace a hydrogen `Particle` on one of these carbons with a `Port`.\n",
    "\n",
    "To do this, we will place the `Port` where one of the hydrogens is currently located. After placing the `Port`, we remove the hydrogen `Particle`."
   ]
  },
  {
   "cell_type": "code",
   "execution_count": 66,
   "metadata": {},
   "outputs": [
    {
     "ename": "IndexError",
     "evalue": "list index out of range",
     "output_type": "error",
     "traceback": [
      "\u001b[0;31m---------------------------------------------------------------------------\u001b[0m",
      "\u001b[0;31mIndexError\u001b[0m                                Traceback (most recent call last)",
      "\u001b[0;32m<ipython-input-66-2255ceeae9e8>\u001b[0m in \u001b[0;36m<module>\u001b[0;34m()\u001b[0m\n\u001b[1;32m      1\u001b[0m \u001b[0mpctails\u001b[0m\u001b[0;34m.\u001b[0m\u001b[0mtranslate\u001b[0m\u001b[0;34m(\u001b[0m\u001b[0;34m-\u001b[0m\u001b[0mpctails\u001b[0m\u001b[0;34m[\u001b[0m\u001b[0;34m'base'\u001b[0m\u001b[0;34m]\u001b[0m\u001b[0;34m[\u001b[0m\u001b[0;36m3\u001b[0m\u001b[0;34m]\u001b[0m\u001b[0;34m.\u001b[0m\u001b[0mpos\u001b[0m\u001b[0;34m)\u001b[0m\u001b[0;34m\u001b[0m\u001b[0m\n\u001b[1;32m      2\u001b[0m pctails['base'].add(mb.Port(anchor=pctails['base'][3],\n\u001b[0;32m----> 3\u001b[0;31m                             \u001b[0morientation\u001b[0m\u001b[0;34m=\u001b[0m\u001b[0mpctails\u001b[0m\u001b[0;34m[\u001b[0m\u001b[0;34m'base'\u001b[0m\u001b[0;34m]\u001b[0m\u001b[0;34m[\u001b[0m\u001b[0;36m5\u001b[0m\u001b[0;34m]\u001b[0m\u001b[0;34m.\u001b[0m\u001b[0mpos\u001b[0m\u001b[0;34m,\u001b[0m\u001b[0;34m\u001b[0m\u001b[0m\n\u001b[0m\u001b[1;32m      4\u001b[0m                             separation=.143/2), label='side')\n\u001b[1;32m      5\u001b[0m \u001b[0mpctails\u001b[0m\u001b[0;34m.\u001b[0m\u001b[0mremove\u001b[0m\u001b[0;34m(\u001b[0m\u001b[0mpctails\u001b[0m\u001b[0;34m[\u001b[0m\u001b[0;34m'base'\u001b[0m\u001b[0;34m]\u001b[0m\u001b[0;34m[\u001b[0m\u001b[0;36m5\u001b[0m\u001b[0;34m]\u001b[0m\u001b[0;34m)\u001b[0m\u001b[0;34m\u001b[0m\u001b[0m\n",
      "\u001b[0;32m/home/loganguy/builds/mbuild/mbuild/compound.py\u001b[0m in \u001b[0;36m__getitem__\u001b[0;34m(self, selection)\u001b[0m\n\u001b[1;32m   1848\u001b[0m     \u001b[0;32mdef\u001b[0m \u001b[0m__getitem__\u001b[0m\u001b[0;34m(\u001b[0m\u001b[0mself\u001b[0m\u001b[0;34m,\u001b[0m \u001b[0mselection\u001b[0m\u001b[0;34m)\u001b[0m\u001b[0;34m:\u001b[0m\u001b[0;34m\u001b[0m\u001b[0m\n\u001b[1;32m   1849\u001b[0m         \u001b[0;32mif\u001b[0m \u001b[0misinstance\u001b[0m\u001b[0;34m(\u001b[0m\u001b[0mselection\u001b[0m\u001b[0;34m,\u001b[0m \u001b[0minteger_types\u001b[0m\u001b[0;34m)\u001b[0m\u001b[0;34m:\u001b[0m\u001b[0;34m\u001b[0m\u001b[0m\n\u001b[0;32m-> 1850\u001b[0;31m             \u001b[0;32mreturn\u001b[0m \u001b[0mlist\u001b[0m\u001b[0;34m(\u001b[0m\u001b[0mself\u001b[0m\u001b[0;34m.\u001b[0m\u001b[0mparticles\u001b[0m\u001b[0;34m(\u001b[0m\u001b[0;34m)\u001b[0m\u001b[0;34m)\u001b[0m\u001b[0;34m[\u001b[0m\u001b[0mselection\u001b[0m\u001b[0;34m]\u001b[0m\u001b[0;34m\u001b[0m\u001b[0m\n\u001b[0m\u001b[1;32m   1851\u001b[0m         \u001b[0;32mif\u001b[0m \u001b[0misinstance\u001b[0m\u001b[0;34m(\u001b[0m\u001b[0mselection\u001b[0m\u001b[0;34m,\u001b[0m \u001b[0mstring_types\u001b[0m\u001b[0;34m)\u001b[0m\u001b[0;34m:\u001b[0m\u001b[0;34m\u001b[0m\u001b[0m\n\u001b[1;32m   1852\u001b[0m             \u001b[0;32mreturn\u001b[0m \u001b[0mself\u001b[0m\u001b[0;34m.\u001b[0m\u001b[0mlabels\u001b[0m\u001b[0;34m.\u001b[0m\u001b[0mget\u001b[0m\u001b[0;34m(\u001b[0m\u001b[0mselection\u001b[0m\u001b[0;34m)\u001b[0m\u001b[0;34m\u001b[0m\u001b[0m\n",
      "\u001b[0;31mIndexError\u001b[0m: list index out of range"
     ]
    }
   ],
   "source": [
    "pctails.translate(-pctails['base'][3].pos)\n",
    "pctails['base'].add(mb.Port(anchor=pctails['base'][3],\n",
    "                            orientation=pctails['base'][5].pos, \n",
    "                            separation=.143/2), label='side')\n",
    "pctails.remove(pctails['base'][5])\n",
    "\n",
    "pctails.visualize(show_ports=True)"
   ]
  },
  {
   "cell_type": "markdown",
   "metadata": {},
   "source": [
    "Now, let's connect our free fatty acid tails to our base."
   ]
  },
  {
   "cell_type": "code",
   "execution_count": 65,
   "metadata": {},
   "outputs": [
    {
     "name": "stderr",
     "output_type": "stream",
     "text": [
      "/home/loganguy/anaconda3/envs/mosdef/lib/python3.5/site-packages/ipywidgets/widgets/widget.py:464: DeprecationWarning: The 'warn' method is deprecated, use 'warning' instead\n",
      "  self.log.warn(message)\n",
      "The installed widget Javascript is the wrong version.\n"
     ]
    }
   ],
   "source": [
    "pctails.add(FFA(18, ester=True), label='FFA[$]')\n",
    "mb.force_overlap(move_this=pctails['base'], \n",
    "                 from_positions=pctails['base']['down'],\n",
    "                 to_positions=pctails['FFA'][0]['head']['down'])\n",
    "pctails.add(FFA(18, ester=True), label='FFA[$]')\n",
    "mb.force_overlap(move_this=pctails['FFA'][1], \n",
    "                 from_positions=pctails['FFA'][1]['head']['down'],\n",
    "                 to_positions=pctails['base']['side'])\n",
    "\n",
    "pctails.visualize()\n",
    "        \n"
   ]
  },
  {
   "cell_type": "markdown",
   "metadata": {},
   "source": [
    "Unsurprisingly, there are some `Ports` on either the base or the tails that need to be rotated due to strange geometry. Rotating the `Ports` on the base is easier to visualize, so insert the following lines to the cell where we created the base, just after removing the hydrogen. ___Bug:___ _Due to how we imported some things, you may have to execute all cells again starting at tail group creation._\n",
    "\n",
    "```\n",
    "pctails['base']['side'].spin(np.pi, pctails['base']['side'].pos)\n",
    "pctails.translate(-pctails['base'][0].pos)\n",
    "pctails['base']['down'].spin(np.pi/2, pctails['base']['down'].pos)\n",
    "```\n",
    "\n",
    "Now that we've created the tails for the DSPC molecule, let's make sure to wrap them in a Python class to make them reusable.\n",
    "\n",
    "__Note__: Once again, our class has flexibility because of the `tail_i_length` arguments. We will use two lengths of 18 for a DSPC molecule."
   ]
  },
  {
   "cell_type": "code",
   "execution_count": 95,
   "metadata": {
    "collapsed": true
   },
   "outputs": [],
   "source": [
    "class PCTails(mb.Compound):\n",
    "    def __init__(self, tail_1_length, tail_2_length):\n",
    "        super(PCTails, self).__init__()\n",
    "        \n",
    "        self.add(mb.Polymer(AlkylMonomer(), 2), label='base')\n",
    "        self.translate(-self['base'][3].pos)\n",
    "        self['base'].add(mb.Port(anchor=self['base'][3],\n",
    "            orientation=self['base'][5].pos, \n",
    "            separation=.143/2), label='side')\n",
    "        self.remove(self['base'][5])\n",
    "        self['base']['side'].spin(np.pi, self['base']['side'].pos)\n",
    "        self.translate(-self['base'][0].pos)\n",
    "        self['base']['down'].spin(np.pi/2, self['base']['down'].pos)\n",
    "        \n",
    "        self.add(FFA(tail_1_length, ester=True), label='FFA[$]')\n",
    "        mb.force_overlap(move_this=self['base'], \n",
    "                from_positions=self['base']['down'],\n",
    "                to_positions=self['FFA'][0]['head']['down'])\n",
    "        self.add(FFA(tail_2_length, ester=True), label='FFA[$]')\n",
    "        mb.force_overlap(move_this=self['FFA'][1], \n",
    "                from_positions=self['FFA'][1]['head']['down'],\n",
    "                to_positions=self['base']['side'])"
   ]
  },
  {
   "cell_type": "code",
   "execution_count": 96,
   "metadata": {},
   "outputs": [
    {
     "name": "stderr",
     "output_type": "stream",
     "text": [
      "/home/loganguy/anaconda3/envs/mosdef/lib/python3.5/site-packages/ipywidgets/widgets/widget.py:464: DeprecationWarning: The 'warn' method is deprecated, use 'warning' instead\n",
      "  self.log.warn(message)\n",
      "The installed widget Javascript is the wrong version.\n"
     ]
    }
   ],
   "source": [
    "pctails = PCTails(18, 18)\n",
    "pctails.visualize()"
   ]
  },
  {
   "cell_type": "markdown",
   "metadata": {},
   "source": [
    "Now that the tail group has been constructed, you might guess what the final step is.\n",
    "\n",
    "### Connecting the head group\n",
    "\n",
    "Let's import the head group (which was created using the skills you've hopefully learned by doing the mBuild tutorials), and attach it to the tail group."
   ]
  },
  {
   "cell_type": "code",
   "execution_count": 97,
   "metadata": {},
   "outputs": [
    {
     "name": "stderr",
     "output_type": "stream",
     "text": [
      "/home/loganguy/builds/mbuild/mbuild/compound.py:1241: UserWarning: Performing energy minimization using the Open Babel package. Please refer to the documentation to find the appropriate citations for Open Babel and the UFF force field\n",
      "  \"Open Babel and the {} force field\".format(forcefield))\n",
      "/home/loganguy/anaconda3/envs/mosdef/lib/python3.5/site-packages/pandas/io/parsers.py:2108: FutureWarning: split() requires a non-empty pattern match.\n",
      "  yield pat.split(line.strip())\n",
      "/home/loganguy/anaconda3/envs/mosdef/lib/python3.5/site-packages/pandas/io/parsers.py:2110: FutureWarning: split() requires a non-empty pattern match.\n",
      "  yield pat.split(line.strip())\n",
      "/home/loganguy/anaconda3/envs/mosdef/lib/python3.5/site-packages/ipywidgets/widgets/widget.py:464: DeprecationWarning: The 'warn' method is deprecated, use 'warning' instead\n",
      "  self.log.warn(message)\n",
      "The installed widget Javascript is the wrong version.\n"
     ]
    }
   ],
   "source": [
    "from mbuild.prototypes import PCHead\n",
    "\n",
    "dspc = mb.Compound()\n",
    "dspc.add(PCHead(), label='headgroup')\n",
    "dspc.add(PCTails(18,18), label='ffatails')\n",
    "        \n",
    "mb.force_overlap(move_this=dspc['ffatails'],\n",
    "                 from_positions=dspc['ffatails']['base']['up'],\n",
    "                 to_positions=dspc['headgroup']['alkyl_split']['up'])\n",
    "\n",
    "dspc.visualize()"
   ]
  },
  {
   "cell_type": "markdown",
   "metadata": {},
   "source": [
    "Congratulations! You're looking at a DSPC molecule constructed 100% in mBuild. In addition, we've utilized OOP so well, that if one wanted to make another phosphatidylcholine molecule (such as DPPC), all one has to do is change the tail lengths!"
   ]
  },
  {
   "cell_type": "code",
   "execution_count": 98,
   "metadata": {},
   "outputs": [
    {
     "name": "stderr",
     "output_type": "stream",
     "text": [
      "/home/loganguy/builds/mbuild/mbuild/compound.py:1241: UserWarning: Performing energy minimization using the Open Babel package. Please refer to the documentation to find the appropriate citations for Open Babel and the UFF force field\n",
      "  \"Open Babel and the {} force field\".format(forcefield))\n",
      "/home/loganguy/anaconda3/envs/mosdef/lib/python3.5/site-packages/pandas/io/parsers.py:2108: FutureWarning: split() requires a non-empty pattern match.\n",
      "  yield pat.split(line.strip())\n",
      "/home/loganguy/anaconda3/envs/mosdef/lib/python3.5/site-packages/pandas/io/parsers.py:2110: FutureWarning: split() requires a non-empty pattern match.\n",
      "  yield pat.split(line.strip())\n",
      "/home/loganguy/anaconda3/envs/mosdef/lib/python3.5/site-packages/ipywidgets/widgets/widget.py:464: DeprecationWarning: The 'warn' method is deprecated, use 'warning' instead\n",
      "  self.log.warn(message)\n",
      "The installed widget Javascript is the wrong version.\n"
     ]
    }
   ],
   "source": [
    "dppc = mb.Compound()\n",
    "dppc.add(PCHead(), label='headgroup')\n",
    "dppc.add(PCTails(16,16), label='ffatails')\n",
    "        \n",
    "mb.force_overlap(move_this=dppc['ffatails'],\n",
    "                 from_positions=dppc['ffatails']['base']['up'],\n",
    "                 to_positions=dppc['headgroup']['alkyl_split']['up'])\n",
    "\n",
    "dppc.visualize()"
   ]
  },
  {
   "cell_type": "markdown",
   "metadata": {},
   "source": [
    "As always, we'll finish off by wrapping our DSPC molecule in a Python class. For a cool way to use this molecule, see the Bilayer Builder tutorial! Happy molecule construction!"
   ]
  },
  {
   "cell_type": "code",
   "execution_count": 99,
   "metadata": {
    "collapsed": true
   },
   "outputs": [],
   "source": [
    "import mbuild as mb\n",
    "import numpy as np\n",
    "\n",
    "\n",
    "from mbuild.prototypes import PCHead\n",
    "\n",
    "class DSPC(mb.Compound):\n",
    "    def __init__(self):\n",
    "        super(DSPC, self).__init__()\n",
    "        \n",
    "        self.add(PCHead(), label='headgroup')\n",
    "        self.add(PCTails(18,18), label='ffatails')\n",
    "        \n",
    "        mb.force_overlap(move_this=self['ffatails'],\n",
    "                        from_positions=self['ffatails']['base']['up'],\n",
    "                        to_positions=self['headgroup']['alkyl_split']['up'])\n",
    "    "
   ]
  },
  {
   "cell_type": "code",
   "execution_count": 100,
   "metadata": {},
   "outputs": [
    {
     "name": "stderr",
     "output_type": "stream",
     "text": [
      "/home/loganguy/builds/mbuild/mbuild/compound.py:1241: UserWarning: Performing energy minimization using the Open Babel package. Please refer to the documentation to find the appropriate citations for Open Babel and the UFF force field\n",
      "  \"Open Babel and the {} force field\".format(forcefield))\n",
      "/home/loganguy/anaconda3/envs/mosdef/lib/python3.5/site-packages/pandas/io/parsers.py:2108: FutureWarning: split() requires a non-empty pattern match.\n",
      "  yield pat.split(line.strip())\n",
      "/home/loganguy/anaconda3/envs/mosdef/lib/python3.5/site-packages/pandas/io/parsers.py:2110: FutureWarning: split() requires a non-empty pattern match.\n",
      "  yield pat.split(line.strip())\n",
      "/home/loganguy/anaconda3/envs/mosdef/lib/python3.5/site-packages/ipywidgets/widgets/widget.py:464: DeprecationWarning: The 'warn' method is deprecated, use 'warning' instead\n",
      "  self.log.warn(message)\n",
      "The installed widget Javascript is the wrong version.\n"
     ]
    }
   ],
   "source": [
    "dspc = DSPC()\n",
    "dspc.visualize()"
   ]
  },
  {
   "cell_type": "code",
   "execution_count": null,
   "metadata": {
    "collapsed": true
   },
   "outputs": [],
   "source": []
  }
 ],
 "metadata": {
  "kernelspec": {
   "display_name": "Python 3",
   "language": "python",
   "name": "python3"
  },
  "language_info": {
   "codemirror_mode": {
    "name": "ipython",
    "version": 3
   },
   "file_extension": ".py",
   "mimetype": "text/x-python",
   "name": "python",
   "nbconvert_exporter": "python",
   "pygments_lexer": "ipython3",
   "version": "3.5.3"
  }
 },
 "nbformat": 4,
 "nbformat_minor": 2
}
