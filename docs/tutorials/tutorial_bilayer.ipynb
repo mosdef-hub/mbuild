{
 "cells": [
  {
   "cell_type": "markdown",
   "metadata": {},
   "source": [
    "## The Bilayer Builder: Creating Customizable Initial Configurations of Lipid Bilayers using mBuild\n",
    "\n",
    "Welcome to the Bilayer Builder tutorial! In this lesson, you will learn how to use the aforementioned tool to create custom bilayer systems for molecular dynamics simulation.\n",
    "\n",
    "**Note**: This is a tutorial meant to explain how to use a computational tool. It is not a lesson on lipid bilayers as a whole, and it assumes basic knowledge of these types of systems (terms like area per lipid and headgroup offset will be used assuming the user knows what they mean).\n",
    "\n",
    "#### Lesson 1: Basic Syntax\n",
    "\n",
    "Let's start off with some import statements to bring in mBuild, the Bilayer class itself, as well as the lipids we'll put into our bilayer."
   ]
  },
  {
   "cell_type": "code",
   "execution_count": null,
   "metadata": {
    "collapsed": true
   },
   "outputs": [],
   "source": [
    "import mbuild as mb\n",
    "from mbuild.recipes.bilayer.bilayer import Bilayer\n",
    "#from mbuild.lib.prototypes import DSPC"
   ]
  },
  {
   "cell_type": "markdown",
   "metadata": {},
   "source": [
    "Great, now let's just create a simple bilayer, and then start digging into how this tool works."
   ]
  },
  {
   "cell_type": "code",
   "execution_count": null,
   "metadata": {
    "collapsed": true,
    "scrolled": true
   },
   "outputs": [],
   "source": [
    "bi = Bilayer(lipids=[(DSPC(), 1.0, 0, 0)])\n",
    "\n",
    "bi.visualize()"
   ]
  },
  {
   "cell_type": "markdown",
   "metadata": {
    "collapsed": true
   },
   "source": [
    "Okay, a couple of things to note immediately:\n",
    "\n",
    "* Time: the bilayer builder has to make a lot of calculations in order to do its job, so making these systems takes a while. However, this is merely a tutorial, so in the future we'll use molecules with alkyl hydrogens removed, and we'll simulate smaller systems\n",
    "* The `lipids` parameter: that is the single required parameter (for now), and will be the subject of our next discussion\n",
    "\n",
    "More importantly, let's briefly discuss how these bilayers are constructed:\n",
    "* Lipid placement\n",
    "    * The Bilayer Builder utilizes mBuild's `2DGridPattern` class, which creates a scaffold of positions that the lipids are placed onto. The size of this grid is controlled by the user.\n",
    "* Solvation\n",
    "    * Lipid bilayers do not exist in a vacuum; therefore, the Bilayer Builder has built-in capability to solvate the bilayer in water, which the user can control\n",
    "\n",
    "The Bilayer Builder's strength is the control it gives to the user in determining physical properties of their specific lipid bilayer system. Therefore, there are numerous parameters which the Bilayer Builder requires (most are set to intelligent default values, and you would do good to minimize altering those defaults; however, this tutorial will explain how to control those variables). Let's begin with how to specify your desired composition.\n",
    "\n",
    "#### Lesson 2: Controlling the Composition\n",
    "\n",
    "*Parameters*:\n",
    "1. `lipids`: This parameter specifies the composition of your bilayer, as well as a number of other lipid-specific parameters. This is the most involved parameter, and therefore merits more discussion\n",
    "    * Data Type: `list of tuples`, where each tuple represents a single lipid molecule\n",
    "    * Each tuple has four elements that must be given in this order:\n",
    "        * The lipid itself; an `mb.Compound`\n",
    "        * The fraction of the bilayer made up of that lipid; type `float`, must be between 0 and 1\n",
    "        * Headgroup Offset: some lipid head groups tend to sink deeper into the bilayer when simulated alongside a phospholipid, so the Bilayer Builder tries to accomodate this by adjusting their starting position with respect to the bilayer normal with this variable (distance in nanometers)\n",
    "            * Data Type: float; greater than zero moves the lipid \"up\" (into the solvent), less than zero move the lipid deeper into the bilayer\n",
    "        * Reference atom: Each lipid is an mBuild `Compound`, and therefore is made up of `Particles`, all of which have an integer index. The reference atom is the atom which the user considers to be the top of the \"head group\" of the lipid.\n",
    "            * This atom will form the bilayer-solvent interface; it is therefore necessary that the user know the components of any lipid they input into the Bilayer Builder\n",
    "            \n",
    "*Examples*:\n",
    "\n",
    "A `lipids` parameter for a pure DSPC bilayer:\n",
    "```\n",
    "lipids = [(DSPC, 1.0, 0, 0)]\n",
    "```\n",
    "\n",
    "Create a bilayer composed of 50% DSPC and 50% C-16 alcohol (remember, we want to use united-atom molecules from now on to save time, and want to keep our bilayers to a reasonable size, so 2x2 should be fine).\n",
    "**Help**: Use the list provided below for your `lipids` parameter. We've gotten you started with your imports and Bilayer instantiation, just add the lipids parameter.\n",
    "```\n",
    "lipids = [(DPSCUA(), 0.5, 0, 0), (ALCUA(16), 0.5, -0.4, 17)] \n",
    "```\n"
   ]
  },
  {
   "cell_type": "code",
   "execution_count": null,
   "metadata": {
    "collapsed": true
   },
   "outputs": [],
   "source": [
    "from mbuild.lib.UA_molecules import *\n",
    "\n",
    "bilayer = Bilayer(lipids = [(DSPCUA(), 0.5, 0, 0), (ALCUA(16), 0.5, -0.4, 17)], n_lipids_x=2, n_lipids_y=2, solvent_per_lipid=0)\n",
    "bilayer.visualize()"
   ]
  },
  {
   "cell_type": "markdown",
   "metadata": {},
   "source": [
    "Hopefully you observe a couple of things:\n",
    "* There is no solvent because that is what was specified by the `solvent_per_lipid` parameter\n",
    "* There are two of each kind of lipid in each leaflet, because we specified a 2x2 bilayer with the following new parameters\n",
    "    3. `n_lipids_x`: The number of lipids in the x-dimension. Must be an integer. Controls the number of grid points along with n_lipids_y\n",
    "    4. `n_lipids_y`: The number of lipids in the y-dimension. Must be an integer.\n",
    "    \n",
    "This worked out nicely because we specified fractions that made sense for the size we gave. As you use this tool, be sure to watch out for the following mistakes:"
   ]
  },
  {
   "cell_type": "code",
   "execution_count": null,
   "metadata": {
    "collapsed": true,
    "scrolled": true
   },
   "outputs": [],
   "source": [
    "lipids = [(DSPCUA(), 0.33, 0, 0), (ALCUA(16), 0.33, -0.4, 17), (FFAUA(16, ester=False), 0.33, -0.4, 17)]\n",
    "bilayer = Bilayer(lipids, n_lipids_x=2, n_lipids_y=2, solvent_per_lipid=0)\n",
    "bilayer.visualize()"
   ]
  },
  {
   "cell_type": "markdown",
   "metadata": {},
   "source": [
    "Whoops! If you are going to specify more than one component, make sure that all of the fractions add up to 1.0; otherwise, your composition is non-sensical.\n",
    "\n",
    "Let's fix that problem by changing one of the 0.33 to 0.34."
   ]
  },
  {
   "cell_type": "code",
   "execution_count": null,
   "metadata": {
    "collapsed": true
   },
   "outputs": [],
   "source": [
    "lipids = [(DSPCUA(), 0.33, 0, 0), (ALCUA(16), 0.33, -0.4, 17), (FFAUA(16, ester=False), 0.34, -0.4, 17)]\n",
    "bilayer = Bilayer(lipids, n_lipids_x=2, n_lipids_y=2, solvent_per_lipid=0)\n",
    "bilayer.visualize()"
   ]
  },
  {
   "cell_type": "markdown",
   "metadata": {},
   "source": [
    "The Bilayer Builder was able to create a system for you, but look closely. Each leaflet has one DSPC molecule, one alcohol molecule, and **two** free fatty acid molecules.\n",
    "\n",
    "Presumably, this is not what we would want when we specify fractions of 0.33, 0.33, and 0.34. However, we specified a size of 2x2, and the Bilayer Builder in its current state does not tell you when the actual fraction deviates from your expected fraction.\n",
    "\n",
    "**IMPORTANT**: Always take care that your combination of size and composition specifications make sense together.\n",
    "\n",
    "#### Lesson 3: Controlling the area per lipid\n",
    "\n",
    "With a single parameter, we can drastically alter the area of the bilayer.\n",
    "1. `area_per_lipid`: in units of square nanometers (for an APL of 53 square Angstroms, `area_per_lipid=0.53`)\n",
    "    * NOTE: changing the APL is for educational purposes ONLY in this tutorial. Normally, the Bilayer Builder intelligently sets the APL based on bilayer composition.\n",
    "    * It is not recommended that you change this APL default, as it could cause simulation problems down the road\n",
    "Let's use the same lipids as above, and make the bilayer much more spaced."
   ]
  },
  {
   "cell_type": "code",
   "execution_count": null,
   "metadata": {
    "collapsed": true
   },
   "outputs": [],
   "source": [
    "bilayer = Bilayer(lipids, n_lipids_x=3, n_lipids_y=3, area_per_lipid=1.0, solvent_per_lipid=0)\n",
    "bilayer.visualize()"
   ]
  },
  {
   "cell_type": "markdown",
   "metadata": {},
   "source": [
    "Now, change the `area_per_lipid` parameter in the cell above to 0.3, and see the bilayer condense."
   ]
  },
  {
   "cell_type": "markdown",
   "metadata": {},
   "source": [
    "#### Lesson 4: Changing the geometry of the lipids\n",
    "\n",
    "So far, we've only explored parameters that alter properties of the overall bilayer system (solvation, dimensions, composition, area per lipid). Let's explore the different parameters that we can use to change the geometric orientations of the lipids themselves.\n",
    "1. `tilt_angle`: float, default is a random angle between 25 and 35 degrees\n",
    "    * Here, the lipids are each tilted with respect to the y-axis by the angle produced by the random number generator. Each lipid will have the same tilt angle\n",
    "    \n",
    "Let's first make a bilayer with no tilt angle, using the same parameters as above."
   ]
  },
  {
   "cell_type": "code",
   "execution_count": null,
   "metadata": {
    "collapsed": true
   },
   "outputs": [],
   "source": [
    "bilayer = Bilayer(lipids, n_lipids_x=3, n_lipids_y=3, area_per_lipid=1.0, \n",
    "                  tilt_angle=0, solvent_per_lipid=0)\n",
    "bilayer.visualize()"
   ]
  },
  {
   "cell_type": "markdown",
   "metadata": {},
   "source": [
    "You can see that the lipids are parallel with the bilayer normal. Try rerunning the cell above after changing the `tilt_angle` parameter above (something around 30 is normal).\n",
    "\n",
    "Controlling this parameter is useful if you want to create an initial configuration that is closer to a specific final configuration.\n",
    "\n",
    "You may notice that when you add a tilt angle to the bilayer, the tail groups don't actually line up with each other like a simulated bilayer. That's because, in an effort to add some randomization to the initial configuration, the Bilayer Builder randomly rotates each lipid with respect to the z-axis when it is placed onto the `Pattern`, after the tilt angle is applied. The specific parameter used to accomplish this is given:\n",
    "2. `max_tail_randomization`: the maximum amount each lipid can be randomly rotated with respect to the z-axis in degrees (to minimize steric overlap resulting from the rotation)\n",
    "    * Data Type: float\n",
    "    * Default: 25\n",
    "\n",
    "Let's see what our bilayer looks like when we eliminate this random rotation (as usual, we will keep the same parameters from above):"
   ]
  },
  {
   "cell_type": "code",
   "execution_count": null,
   "metadata": {
    "collapsed": true
   },
   "outputs": [],
   "source": [
    "bilayer = Bilayer(lipids, n_lipids_x=3, n_lipids_y=3, area_per_lipid=1.0, \n",
    "                  tilt_angle=30, max_tail_randomization=0, solvent_per_lipid=0)\n",
    "bilayer.visualize()"
   ]
  },
  {
   "cell_type": "markdown",
   "metadata": {},
   "source": [
    "Changing the `max_tail_randomization` parameter above will add the randomization back into the bilayer. It is not recommended that you change this parameter; most simulations require somewhat randomized initial configurations in order to prove validity of the final configuration.\n",
    "\n",
    "Finally, if you look very closely at the bilayer visualized above, you'll notice that some of the head groups sit deeper in the bilayer than others. This is intended to make the initial configurations closer to reality. Changing this is a bit more involved:\n",
    "\n",
    "*Altering the head group offset distance*\n",
    "\n",
    "Distinct lipid molecules have distinct headgroup offsets; therefore, in order to change them, you'll have to alter the way you construct your `lipids` parameter. Go back to Lesson 2 and reread the individual elements contained in the `lipids` parameter...\n",
    "\n",
    "Changing the third element of a single lipid tuple will change the head group offset for that lipid. Observe for a DSPC/FFA16 system below:"
   ]
  },
  {
   "cell_type": "code",
   "execution_count": null,
   "metadata": {
    "collapsed": true
   },
   "outputs": [],
   "source": [
    "lipids = [(DSPCUA(), 0.5, 0, 0), (FFAUA(16, ester=False), 0.5, -0.4, 17)]\n",
    "bilayer = Bilayer(lipids, n_lipids_x=2, n_lipids_y=2, area_per_lipid=1.0, \n",
    "                  tilt_angle=30, max_tail_randomization=25, solvent_per_lipid=0)\n",
    "bilayer.visualize()"
   ]
  },
  {
   "cell_type": "markdown",
   "metadata": {},
   "source": [
    "See how the free fatty acid head groups sit lower than those of DSPC? Change the third element of the FFA16 tuple to 0, and observe the change.\n",
    "\n",
    "#### Lesson 5: Other Bilayer Properties\n",
    "\n",
    "There are a number of other features that the Bilayer Builder allows you to customize. Some of those features are explored below:\n",
    "\n",
    "1. `cross_tilt`: some bilayers display an interesting cross tilt property. Setting this parameter to `True` creates that phenomenon\n",
    "2. `solvent`: the `mb.Compound` that the bilayer will be solvated with, defaulted to water\n",
    "3. `solvent_per_lipid`: defaulted to 20, number of water molecules in the solvent phase per lipid molecule in the bilayers\n",
    "\n",
    "Run the cells below to see the difference between a normal bilayer and a cross-tilted bilayer."
   ]
  },
  {
   "cell_type": "code",
   "execution_count": null,
   "metadata": {
    "collapsed": true
   },
   "outputs": [],
   "source": [
    "import mbuild as mb\n",
    "from mbuild.recipes.bilayer.bilayer import Bilayer\n",
    "from mbuild.lib.UA_molecules import *\n",
    "\n",
    "lipids = [(DSPCUA(), 0.5, 0, 0), (FFAUA(16, ester=False), 0.5, -0.4, 17)]\n",
    "bilayer = Bilayer(lipids, n_lipids_x=4, n_lipids_y=4, area_per_lipid=1.0, \n",
    "                  tilt_angle=30, max_tail_randomization=25, solvent_per_lipid=0, \n",
    "                  cross_tilt=True)\n",
    "bilayer.visualize()"
   ]
  },
  {
   "cell_type": "code",
   "execution_count": null,
   "metadata": {
    "collapsed": true
   },
   "outputs": [],
   "source": [
    "bilayer = Bilayer(lipids, n_lipids_x=4, n_lipids_y=4, area_per_lipid=1.0, \n",
    "                  tilt_angle=30, max_tail_randomization=25, solvent_per_lipid=0, \n",
    "                  cross_tilt=True)\n",
    "bilayer.visualize()"
   ]
  },
  {
   "cell_type": "markdown",
   "metadata": {},
   "source": [
    "Change the value of the parameter `solvent_per_lipid` in either of the above cells to 20 to see a solvated bilayer.\n",
    "\n",
    "#### Conclusion and Using the Bilayer Builder via Command Line\n",
    "\n",
    "We've seen a lot of input parameters that you can change to fit your needs. In reality, most of the variables have intelligent defaults, and don't need to be changed; most of the time, you will created a bilayer by simply doing the following:\n"
   ]
  },
  {
   "cell_type": "code",
   "execution_count": null,
   "metadata": {
    "collapsed": true
   },
   "outputs": [],
   "source": [
    "bilayer = Bilayer(lipids)\n",
    "bilayer.visualize()"
   ]
  },
  {
   "cell_type": "markdown",
   "metadata": {},
   "source": [
    "Now that you've completed this tutorial, you have a very good working knowledge of the main features of the Bilayer Builder. You can customize your own bilayer to your specifications.\n",
    "\n",
    "**NOTE**: The Bilayer Builder does have restrictions on what types of molecules it will work with. For geometric requirements of input lipids, see the docstrings in the bilayer.py file.\n",
    "\n",
    "***Command line usage***: In order to enable file creation, and in order to use automatically generated lipid parameters, the Bilayer Builder should be run as a script via command line. Using your terminal, enter the bilayer directory under lib inside mbuild, and enter the following:\n",
    "\n",
    "```bash\n",
    "python bilayer.py -h\n",
    "```\n",
    "\n",
    "This will lead you to the help menu, and will give an explanation of command line usage. For tips and common errors encountered while simulating the systems created by the Bilayer Builder, see the file inside the bilayer directory. Happy simulating!"
   ]
  }
 ],
 "metadata": {
  "kernelspec": {
   "display_name": "Python 3",
   "language": "python",
   "name": "python3"
  },
  "language_info": {
   "codemirror_mode": {
    "name": "ipython",
    "version": 3
   },
   "file_extension": ".py",
   "mimetype": "text/x-python",
   "name": "python",
   "nbconvert_exporter": "python",
   "pygments_lexer": "ipython3",
   "version": "3.6.0"
  }
 },
 "nbformat": 4,
 "nbformat_minor": 2
}
