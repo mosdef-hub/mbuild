{
 "cells": [
  {
   "cell_type": "markdown",
   "metadata": {},
   "source": [
    "# Building a Simple Alkane"
   ]
  },
  {
   "cell_type": "markdown",
   "metadata": {},
   "source": [
    "The purpose of this tutorial is to demonstrate the construction of an alkane polymer and provide familiarity with many of the underlying functions in mBuild. Note that a robust polymer construction recipe already exists in mBuild, which will also be demonstrated at the end of the tutorial."
   ]
  },
  {
   "cell_type": "markdown",
   "metadata": {},
   "source": [
    "## Setting up the monomer"
   ]
  },
  {
   "cell_type": "markdown",
   "metadata": {},
   "source": [
    "The first step is to construct the basic repeat unit for the alkane, i.e., a $CH_2$ group, similar to the construction of the $CH_3$ monomer in the prior methane tutorial.  Rather than importing the coordinates from a pdb file, as in the previous example, we will instead explicitly define them in the class. Recall, that distance units are nm in mBuild."
   ]
  },
  {
   "cell_type": "code",
   "execution_count": 7,
   "metadata": {
    "collapsed": false
   },
   "outputs": [],
   "source": [
    "import mbuild as mb\n",
    "\n",
    "class CH2(mb.Compound):\n",
    "    def __init__(self):\n",
    "        super(CH2, self).__init__()\n",
    "\n",
    "        self.add(mb.Particle(name='C', pos=[0,0,0]), label='C[$]')\n",
    "\n",
    "        self.add(mb.Particle(name='H', pos=[-0.11, 0, 0.0]), label='HC[$]')    \n",
    "        self.add(mb.Particle(name='H', pos=[0.11, 0, 0.0]), label='HC[$]')\n",
    "        \n",
    "        port1 = mb.Port(anchor=self[0])\n",
    "        self.add(port1, label='up')\n",
    "        # Place the port at approximately half a C-C bond length.\n",
    "        mb.translate(self['up'], [0, -0.07, 0]) \n",
    "        \n",
    "        port2 = mb.Port(anchor=self[0])\n",
    "        self.add(port2, label='down')\n",
    "        # Place the port at approximately half a C-C bond length.\n",
    "        mb.translate(self['down'], [0, 0.07, 0]) \n",
    "\n",
    "monomer = CH2()\n",
    "monomer.visualize(show_ports=True)"
   ]
  },
  {
   "cell_type": "markdown",
   "metadata": {},
   "source": [
    "the configuration of the monomer is not a particularly realistic conformation. One could use this monomer to construct a polymer and then apply an energy minimization scheme, or, as we will demonstrate here, we can mBuild's rotation commands to provide a more realistic starting point. \n",
    "\n",
    "Below, we use the same basic script, but now apply a rotation to the hydrogen atoms.  Since the hydrogens start 180 degrees apart and we know they should be ~108 degrees, each should be rotated approximately 35 degrees closer to each other around the 'y' axis, i.e., ~0.63 radians. \n",
    "\n",
    "Similarly, the ports should be rotated around the 'x' axis by ~0.59 radians to produce a ~112 degree angle in the backbone. "
   ]
  },
  {
   "cell_type": "code",
   "execution_count": 8,
   "metadata": {
    "collapsed": true
   },
   "outputs": [],
   "source": [
    "import mbuild as mb\n",
    "\n",
    "class CH2(mb.Compound):\n",
    "    def __init__(self):\n",
    "        super(CH2, self).__init__()\n",
    "\n",
    "        self.add(mb.Particle(name='C', pos=[0,0,0]), label='C[$]')\n",
    "\n",
    "        self.add(mb.Particle(name='H', pos=[-0.11, 0, 0.0]), label='HC[$]')    \n",
    "        self.add(mb.Particle(name='H', pos=[0.11, 0, 0.0]), label='HC[$]')\n",
    "        mb.rotate_around_y(self['HC'][0], 0.63)\n",
    "        mb.rotate_around_y(self['HC'][1], -0.63)\n",
    "        \n",
    "        port1 = mb.Port(anchor=self[0])\n",
    "        self.add(port1, label='up')\n",
    "        # Place the port at approximately half a C-C bond length.\n",
    "        mb.translate(self['up'], [0, -0.07, 0]) \n",
    "        mb.rotate_around_x(self['up'], 0.59)\n",
    "\n",
    "\n",
    "        port2 = mb.Port(anchor=self[0])\n",
    "        self.add(port2, label='down')\n",
    "        # Place the port at approximately half a C-C bond length.\n",
    "        mb.translate(self['down'], [0, 0.07, 0]) \n",
    "        mb.rotate_around_x(self['down'], -0.59) \n",
    "\n",
    "\n",
    "monomer = CH2()\n",
    "monomer.visualize(show_ports=True)"
   ]
  },
  {
   "cell_type": "markdown",
   "metadata": {},
   "source": [
    "## Defining the polymerization class"
   ]
  },
  {
   "cell_type": "markdown",
   "metadata": {},
   "source": [
    "With a basic monomer construct, we can now construct a polymer by connecting the ports together. Note, here, we first instantiate one instance of the CH2 class (as last_monomer), then use the clone function to make a copy.   The force_overlap function is used to connect the 'up' port from the current_monomer to the 'down' port of the last_mononer."
   ]
  },
  {
   "cell_type": "code",
   "execution_count": 9,
   "metadata": {
    "collapsed": true
   },
   "outputs": [],
   "source": [
    "class AlkanePolymer(mb.Compound):\n",
    "    def __init__(self):\n",
    "        super(AlkanePolymer, self).__init__()\n",
    "\n",
    "        last_monomer = CH2()\n",
    "        self.add(last_monomer)\n",
    "\n",
    "        for i in range (3):\n",
    "            current_monomer = mb.clone(last_monomer)\n",
    "    \n",
    "            mb.force_overlap(move_this=current_monomer, \n",
    "                             from_positions=current_monomer['up'], \n",
    "                             to_positions=last_monomer['down'])\n",
    "            self.add(current_monomer)\n",
    "            last_monomer=current_monomer\n",
    "\n",
    "polymer = AlkanePolymer()\n",
    "polymer.visualize(show_ports=True)"
   ]
  },
  {
   "cell_type": "markdown",
   "metadata": {},
   "source": [
    "Visualization of this structure should demonstrate a problem; the polymer curls up on itself.  This is a result of the fact that ports not only define the location in space, but orientation.  This can be trivially  fixed, by first flipping the port over (i.e., rotate around 'y' by 180 degrees, ~3.14 radians).  \n",
    "\n",
    "We can also add a variable 'chain_length' both to the for loop and 'init',  that will allow the length of the polymer to be adjusted when the class is instantiated.  "
   ]
  },
  {
   "cell_type": "code",
   "execution_count": 10,
   "metadata": {
    "collapsed": true
   },
   "outputs": [],
   "source": [
    "import mbuild as mb\n",
    "\n",
    "class CH2(mb.Compound):\n",
    "    def __init__(self):\n",
    "        super(CH2, self).__init__()\n",
    "\n",
    "        self.add(mb.Particle(name='C', pos=[0,0,0]), label='C[$]')\n",
    "\n",
    "        self.add(mb.Particle(name='H', pos=[-0.11, 0, 0.0]), label='HC[$]')    \n",
    "        self.add(mb.Particle(name='H', pos=[0.11, 0, 0.0]), label='HC[$]')\n",
    "        mb.rotate_around_y(self['HC'][0], 0.63)\n",
    "        mb.rotate_around_y(self['HC'][1], -0.63)\n",
    "        \n",
    "        port1 = mb.Port(anchor=self[0])\n",
    "        self.add(port1, label='up')\n",
    "        # Place the port at approximately half a C-C bond length.\n",
    "        mb.translate(self['up'], [0, -0.07, 0]) \n",
    "        mb.rotate_around_x(self['up'], 0.59)\n",
    "\n",
    "\n",
    "        port2 = mb.Port(anchor=self[0])\n",
    "        self.add(port2, label='down')\n",
    "        # Place the port at approximately half a C-C bond length.\n",
    "        mb.translate(self['down'], [0, 0.07, 0]) \n",
    "        mb.rotate_around_y(self['down'], 3.14) \n",
    "        mb.rotate_around_x(self['down'], -0.59) \n",
    "\n",
    "\n",
    "\n",
    "class AlkanePolymer(mb.Compound):\n",
    "    def __init__(self, chain_length=1):\n",
    "        super(AlkanePolymer, self).__init__()\n",
    "\n",
    "        last_monomer = CH2()\n",
    "        self.add(last_monomer)\n",
    "\n",
    "        for i in range (chain_length-1):\n",
    "            current_monomer = mb.clone(last_monomer)\n",
    "    \n",
    "            mb.force_overlap(move_this=current_monomer, \n",
    "                             from_positions=current_monomer['up'], \n",
    "                             to_positions=last_monomer['down'])\n",
    "            self.add(current_monomer)\n",
    "            last_monomer=current_monomer"
   ]
  },
  {
   "cell_type": "code",
   "execution_count": 11,
   "metadata": {
    "collapsed": true
   },
   "outputs": [],
   "source": [
    "polymer = AlkanePolymer(chain_length = 10)\n",
    "polymer.visualize(show_ports=True)"
   ]
  },
  {
   "cell_type": "markdown",
   "metadata": {},
   "source": [
    "## Using mBuild's Polymer Class"
   ]
  },
  {
   "cell_type": "markdown",
   "metadata": {},
   "source": [
    "mbuild provides a prebuilt class to perform this basic functionality.  Since it is designed to be more general, it takes as an argument not just the chain length, but also the monomer and the port labels (i.e., 'up' and 'down', since these labels are user defined). "
   ]
  },
  {
   "cell_type": "code",
   "execution_count": 12,
   "metadata": {
    "collapsed": false
   },
   "outputs": [],
   "source": [
    "polymer = mb.Polymer(CH2(), 10, port_labels=('up', 'down'))\n",
    "polymer.visualize()"
   ]
  },
  {
   "cell_type": "markdown",
   "metadata": {},
   "source": [
    "## Building a System of Alkanes "
   ]
  },
  {
   "cell_type": "markdown",
   "metadata": {},
   "source": [
    "A system of alkanes can be constructed by simply cloning the polymer constructed above and translating the alkanes in space (and/or rotating them). mBuild provides many routines that can be used to create different patterns, to which the polymers can be shifted to. "
   ]
  },
  {
   "cell_type": "code",
   "execution_count": 13,
   "metadata": {
    "collapsed": true
   },
   "outputs": [],
   "source": [
    "#define a compound to hold all the polymers\n",
    "system = mb.Compound()\n",
    "\n",
    "\n",
    "#we will first rotate the chain such that the long dimension is oriented along the z-axis\n",
    "mb.rotate_around_x(polymer, 3.14/2.0)\n",
    "\n",
    "pattern_disk = mb.DiskPattern(50)\n",
    "\n",
    "#patterns are generated betwee 0 and 1, \n",
    "#and thus need to be scaled to provide appropriate spacing\n",
    "pattern_disk.scale(5) \n",
    "\n",
    "for pos in pattern_disk:\n",
    "    \n",
    "    current_polymer = mb.clone(polymer)\n",
    "    mb.translate(current_polymer, pos)\n",
    "    system.add(current_polymer)"
   ]
  },
  {
   "cell_type": "code",
   "execution_count": 14,
   "metadata": {
    "collapsed": false
   },
   "outputs": [],
   "source": [
    "system.visualize()"
   ]
  },
  {
   "cell_type": "markdown",
   "metadata": {},
   "source": [
    "Other patterns can be used, e.g., the Grid3DPattern.  We can also use the rotation commands to randomize the orientation. "
   ]
  },
  {
   "cell_type": "code",
   "execution_count": 15,
   "metadata": {
    "collapsed": false
   },
   "outputs": [],
   "source": [
    "#define a compound to hold all the polymers\n",
    "system = mb.Compound()\n",
    "import random\n",
    "\n",
    "#we will first rotate the chain such that the long dimension is oriented along the z-axis\n",
    "mb.rotate_around_x(polymer, 3.14/2.0)\n",
    "\n",
    "pattern_disk = mb.Grid3DPattern(5,5,5)\n",
    "\n",
    "\n",
    "for pos in pattern_disk:\n",
    "    \n",
    "    #scale the pattern \n",
    "    pos[0] = pos[0]*8.0\n",
    "    pos[1] = pos[1]*8.0\n",
    "    pos[2] = pos[2]*8.0\n",
    "\n",
    "    \n",
    "    current_polymer = mb.clone(polymer)\n",
    "    #give the polymers random perturbation from their initial orientation\n",
    "    mb.rotate_around_z(current_polymer, random.uniform(0,3.14))\n",
    "    mb.rotate_around_x(current_polymer, random.uniform(0,3.14))\n",
    "    mb.rotate_around_z(current_polymer, random.uniform(0,3.14))\n",
    "\n",
    "\n",
    "\n",
    "    mb.translate(current_polymer, pos)\n",
    "    system.add(current_polymer)"
   ]
  },
  {
   "cell_type": "code",
   "execution_count": 16,
   "metadata": {
    "collapsed": true
   },
   "outputs": [],
   "source": [
    "system.visualize()"
   ]
  },
  {
   "cell_type": "markdown",
   "metadata": {},
   "source": [
    "mBuild also provides an interface to Packmol, allowing the creation of a randomized configuration."
   ]
  },
  {
   "cell_type": "code",
   "execution_count": 22,
   "metadata": {
    "collapsed": true
   },
   "outputs": [],
   "source": [
    "polymer = mb.Polymer(CH2(), 5, port_labels=('up', 'down'))\n",
    "system = mb.fill_box(polymer, n_compounds=100, overlap=1.5, box=[10,10,10]) "
   ]
  },
  {
   "cell_type": "code",
   "execution_count": 23,
   "metadata": {
    "collapsed": true
   },
   "outputs": [],
   "source": [
    "system.visualize()"
   ]
  },
  {
   "cell_type": "markdown",
   "metadata": {},
   "source": [
    "## Variations"
   ]
  },
  {
   "cell_type": "markdown",
   "metadata": {},
   "source": [
    "Rather than a linear chain, the Polymer class we wrote can be easily changed such that small perturbations are given to each port.  To avoid accumulation of deviations from the equilibrium angle, we will clone an unperturbed monomer each time (i.e., monomer_proto) before applying a random variation.  \n",
    "\n",
    "We also define a variable 'delta' which will control the maximum amount of perturbation, where clearly a smaller value results in a more linear conformation. Note, large values may result in the chain overlapping itself, as mBuild does not currently include routines to exclude such overlaps."
   ]
  },
  {
   "cell_type": "code",
   "execution_count": 27,
   "metadata": {
    "collapsed": true
   },
   "outputs": [],
   "source": [
    "import mbuild as mb\n",
    "\n",
    "import random\n",
    "\n",
    "class AlkanePolymer(mb.Compound):\n",
    "    def __init__(self, chain_length=1, delta=0):\n",
    "        super(AlkanePolymer, self).__init__()\n",
    "\n",
    "        monomer_proto = CH2()\n",
    "\n",
    "        last_monomer = CH2()\n",
    "        mb.rotate_around_x(last_monomer['down'], random.uniform(-delta,delta))\n",
    "        mb.rotate_around_y(last_monomer['down'], random.uniform(-delta,delta))\n",
    "\n",
    "\n",
    "        self.add(last_monomer)\n",
    "\n",
    "        for i in range (chain_length-1):\n",
    "            current_monomer = mb.clone(monomer_proto)\n",
    "            mb.rotate_around_x(current_monomer['down'], random.uniform(-delta,delta))\n",
    "            mb.rotate_around_y(current_monomer['down'], random.uniform(-delta,delta))\n",
    "\n",
    "            mb.force_overlap(move_this=current_monomer, \n",
    "                             from_positions=current_monomer['up'], \n",
    "                             to_positions=last_monomer['down'])\n",
    "            self.add(current_monomer)\n",
    "            last_monomer=current_monomer"
   ]
  },
  {
   "cell_type": "code",
   "execution_count": 28,
   "metadata": {
    "collapsed": false
   },
   "outputs": [],
   "source": [
    "polymer = AlkanePolymer(chain_length = 200, delta=0.4)\n",
    "polymer.visualize()"
   ]
  },
  {
   "cell_type": "markdown",
   "metadata": {},
   "source": []
  }
 ],
 "metadata": {
  "kernelspec": {
   "display_name": "Python 3",
   "language": "python",
   "name": "python3"
  },
  "language_info": {
   "codemirror_mode": {
    "name": "ipython",
    "version": 3
   },
   "file_extension": ".py",
   "mimetype": "text/x-python",
   "name": "python",
   "nbconvert_exporter": "python",
   "pygments_lexer": "ipython3",
   "version": "3.5.2"
  },
  "widgets": {
   "state": {
    "0ae1ceb0a19841c4adbd186564e59659": {
     "views": [
      {
       "cell_index": 4
      }
     ]
    },
    "18462258bdcb4db294c5e9b1d5b1c521": {
     "views": [
      {
       "cell_index": 9
      }
     ]
    },
    "1bf70fdc86a745edbb3e71592a03ef49": {
     "views": [
      {
       "cell_index": 12
      }
     ]
    },
    "1f8e0f31ae9140ac9e1f3737c4fce5a6": {
     "views": [
      {
       "cell_index": 12
      }
     ]
    },
    "25c315d0d12d425f969ec502c7365f74": {
     "views": [
      {
       "cell_index": 15
      }
     ]
    },
    "2c21f860b2064e7f8ecf78dc417f0ac1": {
     "views": [
      {
       "cell_index": 12
      }
     ]
    },
    "3536ffc3ef104dc394a56cd93bc078db": {
     "views": [
      {
       "cell_index": 9
      }
     ]
    },
    "36bca1f4a3d44b43b58963d546b5c0a4": {
     "views": [
      {
       "cell_index": 29
      }
     ]
    },
    "3d37a738af474a74a10b8fd53402623d": {
     "views": [
      {
       "cell_index": 4
      }
     ]
    },
    "3e65fd5f1f8e41729c6e39afefa215be": {
     "views": [
      {
       "cell_index": 29
      }
     ]
    },
    "3f6ccb91fc91485ca391b94165172519": {
     "views": [
      {
       "cell_index": 28
      }
     ]
    },
    "404291462add40788692b9c9b291a80c": {
     "views": [
      {
       "cell_index": 19
      }
     ]
    },
    "41d8ab4619944572bf00ca3ec2815d9d": {
     "views": [
      {
       "cell_index": 22
      }
     ]
    },
    "4947144b285a4e4786f40069ab1a28ae": {
     "views": [
      {
       "cell_index": 11
      }
     ]
    },
    "58359546cd6c4fd5971e6dee0a265479": {
     "views": [
      {
       "cell_index": 12
      }
     ]
    },
    "59aa6d32347b44a4a601991a7c3448b8": {
     "views": [
      {
       "cell_index": 19
      }
     ]
    },
    "5cd3205b284c4cdb99af58cc4f209213": {
     "views": [
      {
       "cell_index": 15
      }
     ]
    },
    "5db3ba229c83410394bc3d20f1954f49": {
     "views": [
      {
       "cell_index": 25
      }
     ]
    },
    "62a9d83493ce403e8138439502348044": {
     "views": [
      {
       "cell_index": 4
      }
     ]
    },
    "66ac8559088040d88c3c73c9fa15d9cc": {
     "views": [
      {
       "cell_index": 9
      }
     ]
    },
    "6bad18fb819145ad82113e54f36aeee4": {
     "views": [
      {
       "cell_index": 25
      }
     ]
    },
    "6ea19f9bcc7d485b9f7168ca7bab2682": {
     "views": [
      {
       "cell_index": 6
      }
     ]
    },
    "812cd766abc14c2ead1fc12c8cf70c30": {
     "views": [
      {
       "cell_index": 12
      }
     ]
    },
    "8a2c1e80f16f4f93b51b5040453301dc": {
     "views": [
      {
       "cell_index": 4
      }
     ]
    },
    "8a7aa2de189d4147931fcf17dc56ea88": {
     "views": [
      {
       "cell_index": 29
      }
     ]
    },
    "8c0714b5dd874b5e9b65eb2bd00a0bad": {
     "views": [
      {
       "cell_index": 12
      }
     ]
    },
    "90dfd09e9f7e44b78308c6a1036eefaa": {
     "views": [
      {
       "cell_index": 25
      }
     ]
    },
    "93d5e74b7edf4da0bd54c38d3266827c": {
     "views": [
      {
       "cell_index": 22
      }
     ]
    },
    "94754424c37c4560ae4936c59e1ef54d": {
     "views": [
      {
       "cell_index": 19
      }
     ]
    },
    "9ec095b727564ac1b34183486e2bda64": {
     "views": [
      {
       "cell_index": 25
      }
     ]
    },
    "be6fe5dda54a4cd0bf9b7d125eda034d": {
     "views": [
      {
       "cell_index": 15
      }
     ]
    },
    "c7fe22d4a531426ab9c890b4b992d3de": {
     "views": [
      {
       "cell_index": 29
      }
     ]
    },
    "caa933ba49b54e78b4458000860212c2": {
     "views": [
      {
       "cell_index": 9
      }
     ]
    },
    "caca029f481f4677b705a97af946c64e": {
     "views": [
      {
       "cell_index": 12
      }
     ]
    },
    "cbd6579e98654a9b861455de2776c731": {
     "views": [
      {
       "cell_index": 6
      }
     ]
    },
    "cd28e175a3854207ad54d35dc6cdcddc": {
     "views": [
      {
       "cell_index": 6
      }
     ]
    },
    "dbc80d233b974a6f8548d7ca5d69c192": {
     "views": [
      {
       "cell_index": 12
      }
     ]
    },
    "ddcbea7781d948e29ea3c261f389fd16": {
     "views": [
      {
       "cell_index": 22
      }
     ]
    },
    "f0f93de7e74141f1a9df88759e701f40": {
     "views": [
      {
       "cell_index": 11
      }
     ]
    }
   },
   "version": "1.2.0"
  }
 },
 "nbformat": 4,
 "nbformat_minor": 2
}
