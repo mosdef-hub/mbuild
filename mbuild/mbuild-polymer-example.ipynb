{
 "cells": [
  {
   "cell_type": "code",
   "execution_count": 1,
   "metadata": {},
   "outputs": [],
   "source": [
    "import mbuild as mb\n",
    "from mbuild.lib.recipes.polymer import Polymer"
   ]
  },
  {
   "cell_type": "code",
   "execution_count": 2,
   "metadata": {},
   "outputs": [
    {
     "name": "stderr",
     "output_type": "stream",
     "text": [
      "/home/chris/miniconda3/envs/mosdev/lib/python3.7/site-packages/ipykernel/ipkernel.py:283: DeprecationWarning: `should_run_async` will not call `transform_cell` automatically in the future. Please pass the result to `transformed_cell` argument and any exception that happen during thetransform in `preprocessing_exc_tuple` in IPython 7.17 and above.\n",
      "  and should_run_async(code)\n"
     ]
    },
    {
     "data": {
      "application/3dmoljs_load.v0": "<div id=\"3dmolviewer_16177461864515731\"  style=\"position: relative; width: 640px; height: 480px\">\n        <p id=\"3dmolwarning_16177461864515731\" style=\"background-color:#ffcccc;color:black\">You appear to be running in JupyterLab (or JavaScript failed to load for some other reason).  You need to install the 3dmol extension: <br>\n        <tt>jupyter labextension install jupyterlab_3dmol</tt></p>\n        </div>\n<script>\n\nvar loadScriptAsync = function(uri){\n  return new Promise((resolve, reject) => {\n    var tag = document.createElement('script');\n    tag.src = uri;\n    tag.async = true;\n    tag.onload = () => {\n      resolve();\n    };\n  var firstScriptTag = document.getElementsByTagName('script')[0];\n  firstScriptTag.parentNode.insertBefore(tag, firstScriptTag);\n});\n};\n\nif(typeof $3Dmolpromise === 'undefined') {\n$3Dmolpromise = null;\n  $3Dmolpromise = loadScriptAsync('https://3dmol.csb.pitt.edu/build/3Dmol.js');\n}\n\nvar viewer_16177461864515731 = null;\nvar warn = document.getElementById(\"3dmolwarning_16177461864515731\");\nif(warn) {\n    warn.parentNode.removeChild(warn);\n}\n$3Dmolpromise.then(function() {\nviewer_16177461864515731 = $3Dmol.createViewer($(\"#3dmolviewer_16177461864515731\"),{backgroundColor:\"white\"});\n\tviewer_16177461864515731.addModel(\"@<TRIPOS>MOLECULE\\nRES\\n68 67 1 0 1\\nSMALL\\nNO_CHARGES\\n@<TRIPOS>CRYSIN\\n   27.3147    19.6275    16.5902    90.0000    90.0000    90.0000  1  1\\n@<TRIPOS>ATOM\\n       1 C            1.0517    -0.0444    -0.0758 C             1 RES     \\n       2 C            2.5638    -0.0444    -0.0758 C             1 RES     \\n       3 H            0.6674    -0.1769    -1.0916 H             1 RES     \\n       4 H            0.6674     0.9014     0.3174 H             1 RES     \\n       5 H            2.9481    -0.9903    -0.4690 H             1 RES     \\n       6 H            2.9481     0.0880     0.9400 H             1 RES     \\n       7 C            3.0907     1.0708    -0.9293 C             1 RES     \\n       8 C            4.6027     1.0708    -0.9293 C             1 RES     \\n       9 H            2.7064     0.9384    -1.9451 H             1 RES     \\n      10 H            2.7064     2.0167    -0.5361 H             1 RES     \\n      11 H            4.9870     0.1250    -1.3225 H             1 RES     \\n      12 H            4.9870     1.2033     0.0864 H             1 RES     \\n      13 C            5.1296     2.1861    -1.7828 C             1 RES     \\n      14 C            6.6417     2.1861    -1.7828 C             1 RES     \\n      15 H            4.7453     2.0537    -2.7986 H             1 RES     \\n      16 H            4.7453     3.1320    -1.3896 H             1 RES     \\n      17 H            7.0260     1.2403    -2.1761 H             1 RES     \\n      18 H            7.0260     2.3185    -0.7671 H             1 RES     \\n      19 C            7.1686     3.3014    -2.6364 C             1 RES     \\n      20 C            8.6806     3.3014    -2.6364 C             1 RES     \\n      21 H            6.7843     3.1690    -3.6521 H             1 RES     \\n      22 H            6.7843     4.2473    -2.2432 H             1 RES     \\n      23 H            9.0650     2.3555    -3.0296 H             1 RES     \\n      24 H            9.0650     3.4338    -1.6206 H             1 RES     \\n      25 C            9.2075     4.4167    -3.4899 C             1 RES     \\n      26 C           10.7196     4.4167    -3.4899 C             1 RES     \\n      27 H            8.8232     4.2843    -4.5057 H             1 RES     \\n      28 H            8.8232     5.3626    -3.0967 H             1 RES     \\n      29 H           11.1039     3.4708    -3.8831 H             1 RES     \\n      30 H           11.1039     4.5491    -2.4741 H             1 RES     \\n      31 C           11.2465     5.5320    -4.3434 C             1 RES     \\n      32 C           12.7586     5.5320    -4.3434 C             1 RES     \\n      33 H           10.8622     5.3996    -5.3592 H             1 RES     \\n      34 H           10.8622     6.4779    -3.9502 H             1 RES     \\n      35 H           13.1429     4.5861    -4.7366 H             1 RES     \\n      36 H           13.1429     5.6644    -3.3277 H             1 RES     \\n      37 C           13.2855     6.6473    -5.1970 C             1 RES     \\n      38 C           14.7975     6.6473    -5.1970 C             1 RES     \\n      39 H           12.9011     6.5149    -6.2127 H             1 RES     \\n      40 H           12.9011     7.5932    -4.8038 H             1 RES     \\n      41 H           15.1818     5.7014    -5.5902 H             1 RES     \\n      42 H           15.1818     6.7797    -4.1812 H             1 RES     \\n      43 C           15.3244     7.7626    -6.0505 C             1 RES     \\n      44 C           16.8365     7.7626    -6.0505 C             1 RES     \\n      45 H           14.9401     7.6302    -7.0663 H             1 RES     \\n      46 H           14.9401     8.7084    -5.6573 H             1 RES     \\n      47 H           17.2208     6.8167    -6.4437 H             1 RES     \\n      48 H           17.2208     7.8950    -5.0347 H             1 RES     \\n      49 C           17.3634     8.8778    -6.9040 C             1 RES     \\n      50 C           18.8754     8.8778    -6.9040 C             1 RES     \\n      51 H           16.9791     8.7454    -7.9198 H             1 RES     \\n      52 H           16.9791     9.8237    -6.5108 H             1 RES     \\n      53 H           19.2597     7.9320    -7.2972 H             1 RES     \\n      54 H           19.2597     9.0102    -5.8883 H             1 RES     \\n      55 C           19.4023     9.9931    -7.7576 C             1 RES     \\n      56 C           20.9144     9.9931    -7.7576 C             1 RES     \\n      57 H           19.0180     9.8607    -8.7733 H             1 RES     \\n      58 H           19.0180    10.9390    -7.3643 H             1 RES     \\n      59 H           21.2987     9.0472    -8.1508 H             1 RES     \\n      60 H           21.2987    10.1255    -6.7418 H             1 RES     \\n      61 C            0.5248    -1.1597     0.7777 C             1 RES     \\n      62 O            0.5787    -2.3394     0.4799 O             1 RES     \\n      63 O           -0.0169    -0.6920     1.9180 O             1 RES     \\n      64 H            0.0302     0.2808     1.9839 H             1 RES     \\n      65 C           21.4413    11.1084    -8.6111 C             1 RES     \\n      66 O           21.1992    12.2881    -8.4294 O             1 RES     \\n      67 O           22.2178    10.6407    -9.6063 O             1 RES     \\n      68 H           22.2979     9.6678    -9.5938 H             1 RES     \\n@<TRIPOS>BOND\\n       1       19       20 1\\n       2       31       32 1\\n       3        7       10 1\\n       4       26       30 1\\n       5       55       57 1\\n       6       37       39 1\\n       7       61       63 1\\n       8       20       24 1\\n       9       55       50 1\\n      10       14       17 1\\n      11       65       66 1\\n      12       13       16 1\\n      13        7        8 1\\n      14       43       38 1\\n      15       63       64 1\\n      16       56       65 1\\n      17       43       46 1\\n      18        8       13 1\\n      19       20       23 1\\n      20       14       18 1\\n      21       65       67 1\\n      22       13       15 1\\n      23       49       51 1\\n      24       31       26 1\\n      25       25       28 1\\n      26        7        9 1\\n      27       32       35 1\\n      28       38       42 1\\n      29       20       25 1\\n      30       43       44 1\\n      31       19       22 1\\n      32        2        6 1\\n      33        4        1 1\\n      34        7        2 1\\n      35        2        1 1\\n      36       26       29 1\\n      37       55       56 1\\n      38        8       11 1\\n      39       32       36 1\\n      40       38       41 1\\n      41       43       45 1\\n      42       19       21 1\\n      43       19       14 1\\n      44       32       37 1\\n      45       56       60 1\\n      46       44       49 1\\n      47       31       34 1\\n      48       49       52 1\\n      49       50       53 1\\n      50       25       26 1\\n      51        8       12 1\\n      52       13       14 1\\n      53       49       50 1\\n      54       37       38 1\\n      55       44       48 1\\n      56       56       59 1\\n      57       61        1 1\\n      58       31       33 1\\n      59        2        5 1\\n      60       50       54 1\\n      61       55       58 1\\n      62       37       40 1\\n      63       61       62 1\\n      64       67       68 1\\n      65       25       27 1\\n      66        3        1 1\\n      67       44       47 1\\n@<TRIPOS>SUBSTRUCTURE\\n       1 RES             1 RESIDUE    0 **** ROOT      0\\n\",\"mol2\");\n\tviewer_16177461864515731.setStyle({\"stick\": {\"radius\": 0.2, \"color\": \"grey\"}, \"sphere\": {\"scale\": 0.3, \"colorscheme\": {}}});\n\tviewer_16177461864515731.zoomTo();\nviewer_16177461864515731.render();\n});\n</script>",
      "text/html": [
       "<div id=\"3dmolviewer_16177461864515731\"  style=\"position: relative; width: 640px; height: 480px\">\n",
       "        <p id=\"3dmolwarning_16177461864515731\" style=\"background-color:#ffcccc;color:black\">You appear to be running in JupyterLab (or JavaScript failed to load for some other reason).  You need to install the 3dmol extension: <br>\n",
       "        <tt>jupyter labextension install jupyterlab_3dmol</tt></p>\n",
       "        </div>\n",
       "<script>\n",
       "\n",
       "var loadScriptAsync = function(uri){\n",
       "  return new Promise((resolve, reject) => {\n",
       "    var tag = document.createElement('script');\n",
       "    tag.src = uri;\n",
       "    tag.async = true;\n",
       "    tag.onload = () => {\n",
       "      resolve();\n",
       "    };\n",
       "  var firstScriptTag = document.getElementsByTagName('script')[0];\n",
       "  firstScriptTag.parentNode.insertBefore(tag, firstScriptTag);\n",
       "});\n",
       "};\n",
       "\n",
       "if(typeof $3Dmolpromise === 'undefined') {\n",
       "$3Dmolpromise = null;\n",
       "  $3Dmolpromise = loadScriptAsync('https://3dmol.csb.pitt.edu/build/3Dmol.js');\n",
       "}\n",
       "\n",
       "var viewer_16177461864515731 = null;\n",
       "var warn = document.getElementById(\"3dmolwarning_16177461864515731\");\n",
       "if(warn) {\n",
       "    warn.parentNode.removeChild(warn);\n",
       "}\n",
       "$3Dmolpromise.then(function() {\n",
       "viewer_16177461864515731 = $3Dmol.createViewer($(\"#3dmolviewer_16177461864515731\"),{backgroundColor:\"white\"});\n",
       "\tviewer_16177461864515731.addModel(\"@<TRIPOS>MOLECULE\\nRES\\n68 67 1 0 1\\nSMALL\\nNO_CHARGES\\n@<TRIPOS>CRYSIN\\n   27.3147    19.6275    16.5902    90.0000    90.0000    90.0000  1  1\\n@<TRIPOS>ATOM\\n       1 C            1.0517    -0.0444    -0.0758 C             1 RES     \\n       2 C            2.5638    -0.0444    -0.0758 C             1 RES     \\n       3 H            0.6674    -0.1769    -1.0916 H             1 RES     \\n       4 H            0.6674     0.9014     0.3174 H             1 RES     \\n       5 H            2.9481    -0.9903    -0.4690 H             1 RES     \\n       6 H            2.9481     0.0880     0.9400 H             1 RES     \\n       7 C            3.0907     1.0708    -0.9293 C             1 RES     \\n       8 C            4.6027     1.0708    -0.9293 C             1 RES     \\n       9 H            2.7064     0.9384    -1.9451 H             1 RES     \\n      10 H            2.7064     2.0167    -0.5361 H             1 RES     \\n      11 H            4.9870     0.1250    -1.3225 H             1 RES     \\n      12 H            4.9870     1.2033     0.0864 H             1 RES     \\n      13 C            5.1296     2.1861    -1.7828 C             1 RES     \\n      14 C            6.6417     2.1861    -1.7828 C             1 RES     \\n      15 H            4.7453     2.0537    -2.7986 H             1 RES     \\n      16 H            4.7453     3.1320    -1.3896 H             1 RES     \\n      17 H            7.0260     1.2403    -2.1761 H             1 RES     \\n      18 H            7.0260     2.3185    -0.7671 H             1 RES     \\n      19 C            7.1686     3.3014    -2.6364 C             1 RES     \\n      20 C            8.6806     3.3014    -2.6364 C             1 RES     \\n      21 H            6.7843     3.1690    -3.6521 H             1 RES     \\n      22 H            6.7843     4.2473    -2.2432 H             1 RES     \\n      23 H            9.0650     2.3555    -3.0296 H             1 RES     \\n      24 H            9.0650     3.4338    -1.6206 H             1 RES     \\n      25 C            9.2075     4.4167    -3.4899 C             1 RES     \\n      26 C           10.7196     4.4167    -3.4899 C             1 RES     \\n      27 H            8.8232     4.2843    -4.5057 H             1 RES     \\n      28 H            8.8232     5.3626    -3.0967 H             1 RES     \\n      29 H           11.1039     3.4708    -3.8831 H             1 RES     \\n      30 H           11.1039     4.5491    -2.4741 H             1 RES     \\n      31 C           11.2465     5.5320    -4.3434 C             1 RES     \\n      32 C           12.7586     5.5320    -4.3434 C             1 RES     \\n      33 H           10.8622     5.3996    -5.3592 H             1 RES     \\n      34 H           10.8622     6.4779    -3.9502 H             1 RES     \\n      35 H           13.1429     4.5861    -4.7366 H             1 RES     \\n      36 H           13.1429     5.6644    -3.3277 H             1 RES     \\n      37 C           13.2855     6.6473    -5.1970 C             1 RES     \\n      38 C           14.7975     6.6473    -5.1970 C             1 RES     \\n      39 H           12.9011     6.5149    -6.2127 H             1 RES     \\n      40 H           12.9011     7.5932    -4.8038 H             1 RES     \\n      41 H           15.1818     5.7014    -5.5902 H             1 RES     \\n      42 H           15.1818     6.7797    -4.1812 H             1 RES     \\n      43 C           15.3244     7.7626    -6.0505 C             1 RES     \\n      44 C           16.8365     7.7626    -6.0505 C             1 RES     \\n      45 H           14.9401     7.6302    -7.0663 H             1 RES     \\n      46 H           14.9401     8.7084    -5.6573 H             1 RES     \\n      47 H           17.2208     6.8167    -6.4437 H             1 RES     \\n      48 H           17.2208     7.8950    -5.0347 H             1 RES     \\n      49 C           17.3634     8.8778    -6.9040 C             1 RES     \\n      50 C           18.8754     8.8778    -6.9040 C             1 RES     \\n      51 H           16.9791     8.7454    -7.9198 H             1 RES     \\n      52 H           16.9791     9.8237    -6.5108 H             1 RES     \\n      53 H           19.2597     7.9320    -7.2972 H             1 RES     \\n      54 H           19.2597     9.0102    -5.8883 H             1 RES     \\n      55 C           19.4023     9.9931    -7.7576 C             1 RES     \\n      56 C           20.9144     9.9931    -7.7576 C             1 RES     \\n      57 H           19.0180     9.8607    -8.7733 H             1 RES     \\n      58 H           19.0180    10.9390    -7.3643 H             1 RES     \\n      59 H           21.2987     9.0472    -8.1508 H             1 RES     \\n      60 H           21.2987    10.1255    -6.7418 H             1 RES     \\n      61 C            0.5248    -1.1597     0.7777 C             1 RES     \\n      62 O            0.5787    -2.3394     0.4799 O             1 RES     \\n      63 O           -0.0169    -0.6920     1.9180 O             1 RES     \\n      64 H            0.0302     0.2808     1.9839 H             1 RES     \\n      65 C           21.4413    11.1084    -8.6111 C             1 RES     \\n      66 O           21.1992    12.2881    -8.4294 O             1 RES     \\n      67 O           22.2178    10.6407    -9.6063 O             1 RES     \\n      68 H           22.2979     9.6678    -9.5938 H             1 RES     \\n@<TRIPOS>BOND\\n       1       19       20 1\\n       2       31       32 1\\n       3        7       10 1\\n       4       26       30 1\\n       5       55       57 1\\n       6       37       39 1\\n       7       61       63 1\\n       8       20       24 1\\n       9       55       50 1\\n      10       14       17 1\\n      11       65       66 1\\n      12       13       16 1\\n      13        7        8 1\\n      14       43       38 1\\n      15       63       64 1\\n      16       56       65 1\\n      17       43       46 1\\n      18        8       13 1\\n      19       20       23 1\\n      20       14       18 1\\n      21       65       67 1\\n      22       13       15 1\\n      23       49       51 1\\n      24       31       26 1\\n      25       25       28 1\\n      26        7        9 1\\n      27       32       35 1\\n      28       38       42 1\\n      29       20       25 1\\n      30       43       44 1\\n      31       19       22 1\\n      32        2        6 1\\n      33        4        1 1\\n      34        7        2 1\\n      35        2        1 1\\n      36       26       29 1\\n      37       55       56 1\\n      38        8       11 1\\n      39       32       36 1\\n      40       38       41 1\\n      41       43       45 1\\n      42       19       21 1\\n      43       19       14 1\\n      44       32       37 1\\n      45       56       60 1\\n      46       44       49 1\\n      47       31       34 1\\n      48       49       52 1\\n      49       50       53 1\\n      50       25       26 1\\n      51        8       12 1\\n      52       13       14 1\\n      53       49       50 1\\n      54       37       38 1\\n      55       44       48 1\\n      56       56       59 1\\n      57       61        1 1\\n      58       31       33 1\\n      59        2        5 1\\n      60       50       54 1\\n      61       55       58 1\\n      62       37       40 1\\n      63       61       62 1\\n      64       67       68 1\\n      65       25       27 1\\n      66        3        1 1\\n      67       44       47 1\\n@<TRIPOS>SUBSTRUCTURE\\n       1 RES             1 RESIDUE    0 **** ROOT      0\\n\",\"mol2\");\n",
       "\tviewer_16177461864515731.setStyle({\"stick\": {\"radius\": 0.2, \"color\": \"grey\"}, \"sphere\": {\"scale\": 0.3, \"colorscheme\": {}}});\n",
       "\tviewer_16177461864515731.zoomTo();\n",
       "viewer_16177461864515731.render();\n",
       "});\n",
       "</script>"
      ]
     },
     "metadata": {},
     "output_type": "display_data"
    }
   ],
   "source": [
    "# Quick example of the API and workflow\n",
    "comp = mb.load('CC', smiles=True) # mBuild compound of the monomer unit\n",
    "chain = Polymer()\n",
    "\n",
    "chain.add_monomer(compound=comp,\n",
    "                  indices=[2, -1],\n",
    "                  separation=.15,\n",
    "                  replace=True)\n",
    "\n",
    "chain.add_end_groups(mb.load('C(=O)O',smiles=True), # Capping off this polymer with Carboxylic acid groups\n",
    "                     index=3,\n",
    "                     separation=0.15)\n",
    "\n",
    "chain.build(n=10, sequence='A')\n",
    "chain.visualize(show_ports=True).show()"
   ]
  },
  {
   "cell_type": "code",
   "execution_count": 3,
   "metadata": {},
   "outputs": [
    {
     "name": "stderr",
     "output_type": "stream",
     "text": [
      "/home/chris/miniconda3/envs/mosdev/lib/python3.7/site-packages/ipykernel/ipkernel.py:283: DeprecationWarning: `should_run_async` will not call `transform_cell` automatically in the future. Please pass the result to `transformed_cell` argument and any exception that happen during thetransform in `preprocessing_exc_tuple` in IPython 7.17 and above.\n",
      "  and should_run_async(code)\n"
     ]
    },
    {
     "data": {
      "application/3dmoljs_load.v0": "<div id=\"3dmolviewer_16177461916440077\"  style=\"position: relative; width: 640px; height: 480px\">\n        <p id=\"3dmolwarning_16177461916440077\" style=\"background-color:#ffcccc;color:black\">You appear to be running in JupyterLab (or JavaScript failed to load for some other reason).  You need to install the 3dmol extension: <br>\n        <tt>jupyter labextension install jupyterlab_3dmol</tt></p>\n        </div>\n<script>\n\nvar loadScriptAsync = function(uri){\n  return new Promise((resolve, reject) => {\n    var tag = document.createElement('script');\n    tag.src = uri;\n    tag.async = true;\n    tag.onload = () => {\n      resolve();\n    };\n  var firstScriptTag = document.getElementsByTagName('script')[0];\n  firstScriptTag.parentNode.insertBefore(tag, firstScriptTag);\n});\n};\n\nif(typeof $3Dmolpromise === 'undefined') {\n$3Dmolpromise = null;\n  $3Dmolpromise = loadScriptAsync('https://3dmol.csb.pitt.edu/build/3Dmol.js');\n}\n\nvar viewer_16177461916440077 = null;\nvar warn = document.getElementById(\"3dmolwarning_16177461916440077\");\nif(warn) {\n    warn.parentNode.removeChild(warn);\n}\n$3Dmolpromise.then(function() {\nviewer_16177461916440077 = $3Dmol.createViewer($(\"#3dmolviewer_16177461916440077\"),{backgroundColor:\"white\"});\n\tviewer_16177461916440077.addModel(\"@<TRIPOS>MOLECULE\\nRES\\n62 61 1 0 1\\nSMALL\\nNO_CHARGES\\n@<TRIPOS>CRYSIN\\n   25.6313    16.8204    14.8644    90.0000    90.0000    90.0000  1  1\\n@<TRIPOS>ATOM\\n       1 C            1.0511     0.0626    -0.0621 C             1 RES     \\n       2 C            2.5632     0.0626    -0.0621 C             1 RES     \\n       3 H            0.6668     0.2108     0.9514 H             1 RES     \\n       4 H            0.6668    -0.8893    -0.4406 H             1 RES     \\n       5 H            2.9475     1.0144     0.3163 H             1 RES     \\n       6 H            2.9475    -0.0857    -1.0757 H             1 RES     \\n       7 C            3.0901    -1.0393     0.8087 C             1 RES     \\n       8 C            4.6022    -1.0393     0.8087 C             1 RES     \\n       9 H            2.7058    -0.8911     1.8222 H             1 RES     \\n      10 H            2.7058    -1.9912     0.4302 H             1 RES     \\n      11 H            4.9865    -0.0874     1.1871 H             1 RES     \\n      12 H            4.9865    -1.1875    -0.2049 H             1 RES     \\n      13 C            5.1291    -2.1411     1.6795 C             1 RES     \\n      14 C            6.6411    -2.1411     1.6795 C             1 RES     \\n      15 H            4.7447    -1.9929     2.6930 H             1 RES     \\n      16 H            4.7447    -3.0930     1.3010 H             1 RES     \\n      17 H            7.0254    -1.1893     2.0579 H             1 RES     \\n      18 H            7.0254    -2.2894     0.6659 H             1 RES     \\n      19 C            7.1680    -3.2430     2.5503 C             1 RES     \\n      20 C            8.6801    -3.2430     2.5503 C             1 RES     \\n      21 H            6.7837    -3.0948     3.5638 H             1 RES     \\n      22 H            6.7837    -4.1949     2.1719 H             1 RES     \\n      23 H            9.0644    -2.2911     2.9287 H             1 RES     \\n      24 H            9.0644    -3.3912     1.5367 H             1 RES     \\n      25 C            9.2070    -4.3448     3.4211 C             1 RES     \\n      26 C           10.7190    -4.3448     3.4211 C             1 RES     \\n      27 H            8.8227    -4.1966     4.4347 H             1 RES     \\n      28 H            8.8227    -5.2967     3.0427 H             1 RES     \\n      29 H           11.1033    -3.3930     3.7995 H             1 RES     \\n      30 H           11.1033    -4.4931     2.4075 H             1 RES     \\n      31 C           11.2459    -5.4467     4.2919 C             1 RES     \\n      32 C           12.7580    -5.4467     4.2919 C             1 RES     \\n      33 H           10.8616    -5.2985     5.3055 H             1 RES     \\n      34 H           10.8616    -6.3986     3.9135 H             1 RES     \\n      35 H           13.1423    -4.4948     4.6703 H             1 RES     \\n      36 H           13.1423    -5.5949     3.2783 H             1 RES     \\n      37 C           13.2849    -6.5485     5.1627 C             1 RES     \\n      38 C           14.7969    -6.5485     5.1627 C             1 RES     \\n      39 H           12.9006    -6.4003     6.1763 H             1 RES     \\n      40 H           12.9006    -7.5004     4.7843 H             1 RES     \\n      41 H           15.1812    -5.5967     5.5411 H             1 RES     \\n      42 H           15.1812    -6.6968     4.1491 H             1 RES     \\n      43 C           15.3238    -7.6504     6.0335 C             1 RES     \\n      44 C           16.8359    -7.6504     6.0335 C             1 RES     \\n      45 H           14.9395    -7.5022     7.0471 H             1 RES     \\n      46 H           14.9395    -8.6023     5.6551 H             1 RES     \\n      47 H           17.2202    -6.6985     6.4119 H             1 RES     \\n      48 H           17.2202    -7.7986     5.0199 H             1 RES     \\n      49 C           17.3628    -8.7522     6.9043 C             1 RES     \\n      50 C           18.8748    -8.7522     6.9043 C             1 RES     \\n      51 H           16.9785    -8.6040     7.9179 H             1 RES     \\n      52 H           16.9785    -9.7041     6.5259 H             1 RES     \\n      53 H           19.2591    -7.8004     7.2827 H             1 RES     \\n      54 H           19.2591    -8.9005     5.8907 H             1 RES     \\n      55 C           19.4017    -9.8541     7.7751 C             1 RES     \\n      56 C           20.9138    -9.8541     7.7751 C             1 RES     \\n      57 H           19.0174    -9.7059     8.7887 H             1 RES     \\n      58 H           19.0174   -10.8060     7.3967 H             1 RES     \\n      59 H           21.2981    -8.9022     8.1535 H             1 RES     \\n      60 H           21.2981   -10.0023     6.7615 H             1 RES     \\n      61 H            0.6669     0.8662    -0.6973 H             1 RES     \\n      62 H           21.2981   -10.6577     8.4102 H             1 RES     \\n@<TRIPOS>BOND\\n       1       19       22 1\\n       2       31       32 1\\n       3       26       31 1\\n       4        8       12 1\\n       5       20       24 1\\n       6       55       57 1\\n       7       37       32 1\\n       8       14       17 1\\n       9       13       16 1\\n      10       61        1 1\\n      11        2        5 1\\n      12       49       52 1\\n      13       43       44 1\\n      14       26       30 1\\n      15       25       20 1\\n      16       14       19 1\\n      17       25       28 1\\n      18       37       39 1\\n      19       26       29 1\\n      20        6        2 1\\n      21       14       18 1\\n      22       13       15 1\\n      23       49       51 1\\n      24       43       45 1\\n      25       50       55 1\\n      26       62       56 1\\n      27        7       10 1\\n      28       32       35 1\\n      29       19       20 1\\n      30       37       38 1\\n      31        8       11 1\\n      32       20       23 1\\n      33       55       56 1\\n      34       43       46 1\\n      35       38       42 1\\n      36        3        1 1\\n      37       37       40 1\\n      38       32       36 1\\n      39       44       47 1\\n      40       19       21 1\\n      41       50       53 1\\n      42       56       60 1\\n      43       25       26 1\\n      44       31       34 1\\n      45       38       41 1\\n      46        4        1 1\\n      47       38       43 1\\n      48        7        8 1\\n      49       44       48 1\\n      50       13       14 1\\n      51       49       50 1\\n      52        2        7 1\\n      53       50       54 1\\n      54       56       59 1\\n      55        2        1 1\\n      56       25       27 1\\n      57       31       33 1\\n      58       55       58 1\\n      59       49       44 1\\n      60        7        9 1\\n      61       13        8 1\\n@<TRIPOS>SUBSTRUCTURE\\n       1 RES             1 RESIDUE    0 **** ROOT      0\\n\",\"mol2\");\n\tviewer_16177461916440077.setStyle({\"stick\": {\"radius\": 0.2, \"color\": \"grey\"}, \"sphere\": {\"scale\": 0.3, \"colorscheme\": {}}});\n\tviewer_16177461916440077.zoomTo();\nviewer_16177461916440077.render();\n});\n</script>",
      "text/html": [
       "<div id=\"3dmolviewer_16177461916440077\"  style=\"position: relative; width: 640px; height: 480px\">\n",
       "        <p id=\"3dmolwarning_16177461916440077\" style=\"background-color:#ffcccc;color:black\">You appear to be running in JupyterLab (or JavaScript failed to load for some other reason).  You need to install the 3dmol extension: <br>\n",
       "        <tt>jupyter labextension install jupyterlab_3dmol</tt></p>\n",
       "        </div>\n",
       "<script>\n",
       "\n",
       "var loadScriptAsync = function(uri){\n",
       "  return new Promise((resolve, reject) => {\n",
       "    var tag = document.createElement('script');\n",
       "    tag.src = uri;\n",
       "    tag.async = true;\n",
       "    tag.onload = () => {\n",
       "      resolve();\n",
       "    };\n",
       "  var firstScriptTag = document.getElementsByTagName('script')[0];\n",
       "  firstScriptTag.parentNode.insertBefore(tag, firstScriptTag);\n",
       "});\n",
       "};\n",
       "\n",
       "if(typeof $3Dmolpromise === 'undefined') {\n",
       "$3Dmolpromise = null;\n",
       "  $3Dmolpromise = loadScriptAsync('https://3dmol.csb.pitt.edu/build/3Dmol.js');\n",
       "}\n",
       "\n",
       "var viewer_16177461916440077 = null;\n",
       "var warn = document.getElementById(\"3dmolwarning_16177461916440077\");\n",
       "if(warn) {\n",
       "    warn.parentNode.removeChild(warn);\n",
       "}\n",
       "$3Dmolpromise.then(function() {\n",
       "viewer_16177461916440077 = $3Dmol.createViewer($(\"#3dmolviewer_16177461916440077\"),{backgroundColor:\"white\"});\n",
       "\tviewer_16177461916440077.addModel(\"@<TRIPOS>MOLECULE\\nRES\\n62 61 1 0 1\\nSMALL\\nNO_CHARGES\\n@<TRIPOS>CRYSIN\\n   25.6313    16.8204    14.8644    90.0000    90.0000    90.0000  1  1\\n@<TRIPOS>ATOM\\n       1 C            1.0511     0.0626    -0.0621 C             1 RES     \\n       2 C            2.5632     0.0626    -0.0621 C             1 RES     \\n       3 H            0.6668     0.2108     0.9514 H             1 RES     \\n       4 H            0.6668    -0.8893    -0.4406 H             1 RES     \\n       5 H            2.9475     1.0144     0.3163 H             1 RES     \\n       6 H            2.9475    -0.0857    -1.0757 H             1 RES     \\n       7 C            3.0901    -1.0393     0.8087 C             1 RES     \\n       8 C            4.6022    -1.0393     0.8087 C             1 RES     \\n       9 H            2.7058    -0.8911     1.8222 H             1 RES     \\n      10 H            2.7058    -1.9912     0.4302 H             1 RES     \\n      11 H            4.9865    -0.0874     1.1871 H             1 RES     \\n      12 H            4.9865    -1.1875    -0.2049 H             1 RES     \\n      13 C            5.1291    -2.1411     1.6795 C             1 RES     \\n      14 C            6.6411    -2.1411     1.6795 C             1 RES     \\n      15 H            4.7447    -1.9929     2.6930 H             1 RES     \\n      16 H            4.7447    -3.0930     1.3010 H             1 RES     \\n      17 H            7.0254    -1.1893     2.0579 H             1 RES     \\n      18 H            7.0254    -2.2894     0.6659 H             1 RES     \\n      19 C            7.1680    -3.2430     2.5503 C             1 RES     \\n      20 C            8.6801    -3.2430     2.5503 C             1 RES     \\n      21 H            6.7837    -3.0948     3.5638 H             1 RES     \\n      22 H            6.7837    -4.1949     2.1719 H             1 RES     \\n      23 H            9.0644    -2.2911     2.9287 H             1 RES     \\n      24 H            9.0644    -3.3912     1.5367 H             1 RES     \\n      25 C            9.2070    -4.3448     3.4211 C             1 RES     \\n      26 C           10.7190    -4.3448     3.4211 C             1 RES     \\n      27 H            8.8227    -4.1966     4.4347 H             1 RES     \\n      28 H            8.8227    -5.2967     3.0427 H             1 RES     \\n      29 H           11.1033    -3.3930     3.7995 H             1 RES     \\n      30 H           11.1033    -4.4931     2.4075 H             1 RES     \\n      31 C           11.2459    -5.4467     4.2919 C             1 RES     \\n      32 C           12.7580    -5.4467     4.2919 C             1 RES     \\n      33 H           10.8616    -5.2985     5.3055 H             1 RES     \\n      34 H           10.8616    -6.3986     3.9135 H             1 RES     \\n      35 H           13.1423    -4.4948     4.6703 H             1 RES     \\n      36 H           13.1423    -5.5949     3.2783 H             1 RES     \\n      37 C           13.2849    -6.5485     5.1627 C             1 RES     \\n      38 C           14.7969    -6.5485     5.1627 C             1 RES     \\n      39 H           12.9006    -6.4003     6.1763 H             1 RES     \\n      40 H           12.9006    -7.5004     4.7843 H             1 RES     \\n      41 H           15.1812    -5.5967     5.5411 H             1 RES     \\n      42 H           15.1812    -6.6968     4.1491 H             1 RES     \\n      43 C           15.3238    -7.6504     6.0335 C             1 RES     \\n      44 C           16.8359    -7.6504     6.0335 C             1 RES     \\n      45 H           14.9395    -7.5022     7.0471 H             1 RES     \\n      46 H           14.9395    -8.6023     5.6551 H             1 RES     \\n      47 H           17.2202    -6.6985     6.4119 H             1 RES     \\n      48 H           17.2202    -7.7986     5.0199 H             1 RES     \\n      49 C           17.3628    -8.7522     6.9043 C             1 RES     \\n      50 C           18.8748    -8.7522     6.9043 C             1 RES     \\n      51 H           16.9785    -8.6040     7.9179 H             1 RES     \\n      52 H           16.9785    -9.7041     6.5259 H             1 RES     \\n      53 H           19.2591    -7.8004     7.2827 H             1 RES     \\n      54 H           19.2591    -8.9005     5.8907 H             1 RES     \\n      55 C           19.4017    -9.8541     7.7751 C             1 RES     \\n      56 C           20.9138    -9.8541     7.7751 C             1 RES     \\n      57 H           19.0174    -9.7059     8.7887 H             1 RES     \\n      58 H           19.0174   -10.8060     7.3967 H             1 RES     \\n      59 H           21.2981    -8.9022     8.1535 H             1 RES     \\n      60 H           21.2981   -10.0023     6.7615 H             1 RES     \\n      61 H            0.6669     0.8662    -0.6973 H             1 RES     \\n      62 H           21.2981   -10.6577     8.4102 H             1 RES     \\n@<TRIPOS>BOND\\n       1       19       22 1\\n       2       31       32 1\\n       3       26       31 1\\n       4        8       12 1\\n       5       20       24 1\\n       6       55       57 1\\n       7       37       32 1\\n       8       14       17 1\\n       9       13       16 1\\n      10       61        1 1\\n      11        2        5 1\\n      12       49       52 1\\n      13       43       44 1\\n      14       26       30 1\\n      15       25       20 1\\n      16       14       19 1\\n      17       25       28 1\\n      18       37       39 1\\n      19       26       29 1\\n      20        6        2 1\\n      21       14       18 1\\n      22       13       15 1\\n      23       49       51 1\\n      24       43       45 1\\n      25       50       55 1\\n      26       62       56 1\\n      27        7       10 1\\n      28       32       35 1\\n      29       19       20 1\\n      30       37       38 1\\n      31        8       11 1\\n      32       20       23 1\\n      33       55       56 1\\n      34       43       46 1\\n      35       38       42 1\\n      36        3        1 1\\n      37       37       40 1\\n      38       32       36 1\\n      39       44       47 1\\n      40       19       21 1\\n      41       50       53 1\\n      42       56       60 1\\n      43       25       26 1\\n      44       31       34 1\\n      45       38       41 1\\n      46        4        1 1\\n      47       38       43 1\\n      48        7        8 1\\n      49       44       48 1\\n      50       13       14 1\\n      51       49       50 1\\n      52        2        7 1\\n      53       50       54 1\\n      54       56       59 1\\n      55        2        1 1\\n      56       25       27 1\\n      57       31       33 1\\n      58       55       58 1\\n      59       49       44 1\\n      60        7        9 1\\n      61       13        8 1\\n@<TRIPOS>SUBSTRUCTURE\\n       1 RES             1 RESIDUE    0 **** ROOT      0\\n\",\"mol2\");\n",
       "\tviewer_16177461916440077.setStyle({\"stick\": {\"radius\": 0.2, \"color\": \"grey\"}, \"sphere\": {\"scale\": 0.3, \"colorscheme\": {}}});\n",
       "\tviewer_16177461916440077.zoomTo();\n",
       "viewer_16177461916440077.render();\n",
       "});\n",
       "</script>"
      ]
     },
     "metadata": {},
     "output_type": "display_data"
    }
   ],
   "source": [
    "# Doing the same thing, but this time without adding an end group\n",
    "# Now, the chain is capped with hydrogens (default behavior)\n",
    "\n",
    "comp = mb.load('CC', smiles=True) # mBuild compound of the monomer unit\n",
    "chain = Polymer()\n",
    "\n",
    "chain.add_monomer(compound=comp,\n",
    "                  indices=[2, -1],\n",
    "                  separation=.15,\n",
    "                  replace=True)\n",
    "\n",
    "chain.build(n=10, sequence='A')\n",
    "chain.visualize(show_ports=True).show()"
   ]
  },
  {
   "cell_type": "markdown",
   "metadata": {},
   "source": [
    "# Flexibility with end groups\n",
    "- You can only add one end group, while the other is capped off with hydrogen.\n",
    "- You can add 2 different end groups, labeled by 'head' and 'tail'\n",
    "- Or you can leave the ends open with an available port"
   ]
  },
  {
   "cell_type": "code",
   "execution_count": 4,
   "metadata": {},
   "outputs": [
    {
     "name": "stderr",
     "output_type": "stream",
     "text": [
      "/home/chris/miniconda3/envs/mosdev/lib/python3.7/site-packages/ipykernel/ipkernel.py:283: DeprecationWarning: `should_run_async` will not call `transform_cell` automatically in the future. Please pass the result to `transformed_cell` argument and any exception that happen during thetransform in `preprocessing_exc_tuple` in IPython 7.17 and above.\n",
      "  and should_run_async(code)\n"
     ]
    },
    {
     "data": {
      "application/3dmoljs_load.v0": "<div id=\"3dmolviewer_1617746197466646\"  style=\"position: relative; width: 640px; height: 480px\">\n        <p id=\"3dmolwarning_1617746197466646\" style=\"background-color:#ffcccc;color:black\">You appear to be running in JupyterLab (or JavaScript failed to load for some other reason).  You need to install the 3dmol extension: <br>\n        <tt>jupyter labextension install jupyterlab_3dmol</tt></p>\n        </div>\n<script>\n\nvar loadScriptAsync = function(uri){\n  return new Promise((resolve, reject) => {\n    var tag = document.createElement('script');\n    tag.src = uri;\n    tag.async = true;\n    tag.onload = () => {\n      resolve();\n    };\n  var firstScriptTag = document.getElementsByTagName('script')[0];\n  firstScriptTag.parentNode.insertBefore(tag, firstScriptTag);\n});\n};\n\nif(typeof $3Dmolpromise === 'undefined') {\n$3Dmolpromise = null;\n  $3Dmolpromise = loadScriptAsync('https://3dmol.csb.pitt.edu/build/3Dmol.js');\n}\n\nvar viewer_1617746197466646 = null;\nvar warn = document.getElementById(\"3dmolwarning_1617746197466646\");\nif(warn) {\n    warn.parentNode.removeChild(warn);\n}\n$3Dmolpromise.then(function() {\nviewer_1617746197466646 = $3Dmol.createViewer($(\"#3dmolviewer_1617746197466646\"),{backgroundColor:\"white\"});\n\tviewer_1617746197466646.addModel(\"@<TRIPOS>MOLECULE\\nRES\\n67 66 1 0 1\\nSMALL\\nNO_CHARGES\\n@<TRIPOS>CRYSIN\\n   27.6028    17.0527    17.5974    90.0000    90.0000    90.0000  1  1\\n@<TRIPOS>ATOM\\n       1 C            1.0223     0.0554    -0.0812 C             1 RES     \\n       2 C            2.5344     0.0554    -0.0812 C             1 RES     \\n       3 H            0.6380    -0.9417     0.1535 H             1 RES     \\n       4 H            0.6380     0.3507    -1.0621 H             1 RES     \\n       5 H            2.9187    -0.2398     0.8997 H             1 RES     \\n       6 H            2.9187     1.0525    -0.3159 H             1 RES     \\n       7 C            3.0613    -0.9068    -1.1042 C             1 RES     \\n       8 C            4.5733    -0.9068    -1.1042 C             1 RES     \\n       9 H            2.6770    -1.9039    -0.8694 H             1 RES     \\n      10 H            2.6770    -0.6116    -2.0851 H             1 RES     \\n      11 H            4.9576    -1.2021    -0.1233 H             1 RES     \\n      12 H            4.9576     0.0903    -1.3389 H             1 RES     \\n      13 C            5.1002    -1.8691    -2.1271 C             1 RES     \\n      14 C            6.6123    -1.8691    -2.1271 C             1 RES     \\n      15 H            4.7159    -2.8662    -1.8924 H             1 RES     \\n      16 H            4.7159    -1.5738    -3.1080 H             1 RES     \\n      17 H            6.9966    -2.1643    -1.1463 H             1 RES     \\n      18 H            6.9966    -0.8720    -2.3619 H             1 RES     \\n      19 C            7.1392    -2.8313    -3.1501 C             1 RES     \\n      20 C            8.6512    -2.8313    -3.1501 C             1 RES     \\n      21 H            6.7549    -3.8284    -2.9154 H             1 RES     \\n      22 H            6.7549    -2.5361    -4.1310 H             1 RES     \\n      23 H            9.0356    -3.1266    -2.1692 H             1 RES     \\n      24 H            9.0356    -1.8342    -3.3848 H             1 RES     \\n      25 C            9.1781    -3.7936    -4.1731 C             1 RES     \\n      26 C           10.6902    -3.7936    -4.1731 C             1 RES     \\n      27 H            8.7938    -4.7907    -3.9383 H             1 RES     \\n      28 H            8.7938    -3.4983    -5.1540 H             1 RES     \\n      29 H           11.0745    -4.0888    -3.1922 H             1 RES     \\n      30 H           11.0745    -2.7965    -4.4078 H             1 RES     \\n      31 C           11.2171    -4.7558    -5.1960 C             1 RES     \\n      32 C           12.7292    -4.7558    -5.1960 C             1 RES     \\n      33 H           10.8328    -5.7529    -4.9613 H             1 RES     \\n      34 H           10.8328    -4.4606    -6.1769 H             1 RES     \\n      35 H           13.1135    -5.0511    -4.2152 H             1 RES     \\n      36 H           13.1135    -3.7587    -5.4308 H             1 RES     \\n      37 C           13.2561    -5.7181    -6.2190 C             1 RES     \\n      38 C           14.7681    -5.7181    -6.2190 C             1 RES     \\n      39 H           12.8717    -6.7151    -5.9843 H             1 RES     \\n      40 H           12.8717    -5.4228    -7.1999 H             1 RES     \\n      41 H           15.1524    -6.0133    -5.2381 H             1 RES     \\n      42 H           15.1524    -4.7210    -6.4537 H             1 RES     \\n      43 C           15.2950    -6.6803    -7.2420 C             1 RES     \\n      44 C           16.8071    -6.6803    -7.2420 C             1 RES     \\n      45 H           14.9107    -7.6774    -7.0072 H             1 RES     \\n      46 H           14.9107    -6.3850    -8.2229 H             1 RES     \\n      47 H           17.1914    -6.9756    -6.2611 H             1 RES     \\n      48 H           17.1914    -5.6832    -7.4767 H             1 RES     \\n      49 C           17.3340    -7.6425    -8.2649 C             1 RES     \\n      50 C           18.8460    -7.6425    -8.2649 C             1 RES     \\n      51 H           16.9497    -8.6396    -8.0302 H             1 RES     \\n      52 H           16.9497    -7.3473    -9.2458 H             1 RES     \\n      53 H           19.2303    -7.9378    -7.2840 H             1 RES     \\n      54 H           19.2303    -6.6455    -8.4997 H             1 RES     \\n      55 C           19.3729    -8.6048    -9.2879 C             1 RES     \\n      56 C           20.8850    -8.6048    -9.2879 C             1 RES     \\n      57 H           18.9886    -9.6019    -9.0532 H             1 RES     \\n      58 H           18.9886    -8.3095   -10.2688 H             1 RES     \\n      59 H           21.2693    -8.9000    -8.3070 H             1 RES     \\n      60 H           21.2693    -7.6077    -9.5226 H             1 RES     \\n      61 C            0.4954     1.0176     0.9418 C             1 RES     \\n      62 O           -0.4584     0.7984     1.6666 O             1 RES     \\n      63 O            1.2112     2.1577     0.9585 O             1 RES     \\n      64 H            1.9385     2.1534     0.3073 H             1 RES     \\n      65 N           21.3416    -9.4387   -10.1745 N             1 RES     \\n      66 H           22.1444    -9.8950    -9.7436 H             1 RES     \\n      67 H           21.7158    -8.8675   -10.9308 H             1 RES     \\n@<TRIPOS>BOND\\n       1       37       38 1\\n       2       43       46 1\\n       3       44       48 1\\n       4       25       27 1\\n       5       55       57 1\\n       6       14       19 1\\n       7       32       35 1\\n       8       38       42 1\\n       9       31       34 1\\n      10        9        7 1\\n      11        8       12 1\\n      12       25       28 1\\n      13        1        3 1\\n      14       26       30 1\\n      15       32       36 1\\n      16       38       41 1\\n      17       20       23 1\\n      18       49       44 1\\n      19       31       33 1\\n      20       11        8 1\\n      21       56       60 1\\n      22       14       17 1\\n      23       20       24 1\\n      24       37       40 1\\n      25       43       44 1\\n      26       50       53 1\\n      27        1        2 1\\n      28        2        7 1\\n      29       50       55 1\\n      30       19       22 1\\n      31       61       62 1\\n      32       61        1 1\\n      33       26       29 1\\n      34       44       47 1\\n      35       13       14 1\\n      36        7       10 1\\n      37        2        6 1\\n      38       49       52 1\\n      39       38       43 1\\n      40       56       59 1\\n      41        1        4 1\\n      42        8        7 1\\n      43       37       39 1\\n      44       43       45 1\\n      45       19       21 1\\n      46       37       32 1\\n      47       14       18 1\\n      48       61       63 1\\n      49       13       16 1\\n      50       26       31 1\\n      51       65       66 1\\n      52       25       20 1\\n      53       65       56 1\\n      54        2        5 1\\n      55       49       51 1\\n      56       63       64 1\\n      57       31       32 1\\n      58       55       56 1\\n      59       19       20 1\\n      60       13       15 1\\n      61       49       50 1\\n      62       65       67 1\\n      63       13        8 1\\n      64       25       26 1\\n      65       55       58 1\\n      66       50       54 1\\n@<TRIPOS>SUBSTRUCTURE\\n       1 RES             1 RESIDUE    0 **** ROOT      0\\n\",\"mol2\");\n\tviewer_1617746197466646.setStyle({\"stick\": {\"radius\": 0.2, \"color\": \"grey\"}, \"sphere\": {\"scale\": 0.3, \"colorscheme\": {}}});\n\tviewer_1617746197466646.zoomTo();\nviewer_1617746197466646.render();\n});\n</script>",
      "text/html": [
       "<div id=\"3dmolviewer_1617746197466646\"  style=\"position: relative; width: 640px; height: 480px\">\n",
       "        <p id=\"3dmolwarning_1617746197466646\" style=\"background-color:#ffcccc;color:black\">You appear to be running in JupyterLab (or JavaScript failed to load for some other reason).  You need to install the 3dmol extension: <br>\n",
       "        <tt>jupyter labextension install jupyterlab_3dmol</tt></p>\n",
       "        </div>\n",
       "<script>\n",
       "\n",
       "var loadScriptAsync = function(uri){\n",
       "  return new Promise((resolve, reject) => {\n",
       "    var tag = document.createElement('script');\n",
       "    tag.src = uri;\n",
       "    tag.async = true;\n",
       "    tag.onload = () => {\n",
       "      resolve();\n",
       "    };\n",
       "  var firstScriptTag = document.getElementsByTagName('script')[0];\n",
       "  firstScriptTag.parentNode.insertBefore(tag, firstScriptTag);\n",
       "});\n",
       "};\n",
       "\n",
       "if(typeof $3Dmolpromise === 'undefined') {\n",
       "$3Dmolpromise = null;\n",
       "  $3Dmolpromise = loadScriptAsync('https://3dmol.csb.pitt.edu/build/3Dmol.js');\n",
       "}\n",
       "\n",
       "var viewer_1617746197466646 = null;\n",
       "var warn = document.getElementById(\"3dmolwarning_1617746197466646\");\n",
       "if(warn) {\n",
       "    warn.parentNode.removeChild(warn);\n",
       "}\n",
       "$3Dmolpromise.then(function() {\n",
       "viewer_1617746197466646 = $3Dmol.createViewer($(\"#3dmolviewer_1617746197466646\"),{backgroundColor:\"white\"});\n",
       "\tviewer_1617746197466646.addModel(\"@<TRIPOS>MOLECULE\\nRES\\n67 66 1 0 1\\nSMALL\\nNO_CHARGES\\n@<TRIPOS>CRYSIN\\n   27.6028    17.0527    17.5974    90.0000    90.0000    90.0000  1  1\\n@<TRIPOS>ATOM\\n       1 C            1.0223     0.0554    -0.0812 C             1 RES     \\n       2 C            2.5344     0.0554    -0.0812 C             1 RES     \\n       3 H            0.6380    -0.9417     0.1535 H             1 RES     \\n       4 H            0.6380     0.3507    -1.0621 H             1 RES     \\n       5 H            2.9187    -0.2398     0.8997 H             1 RES     \\n       6 H            2.9187     1.0525    -0.3159 H             1 RES     \\n       7 C            3.0613    -0.9068    -1.1042 C             1 RES     \\n       8 C            4.5733    -0.9068    -1.1042 C             1 RES     \\n       9 H            2.6770    -1.9039    -0.8694 H             1 RES     \\n      10 H            2.6770    -0.6116    -2.0851 H             1 RES     \\n      11 H            4.9576    -1.2021    -0.1233 H             1 RES     \\n      12 H            4.9576     0.0903    -1.3389 H             1 RES     \\n      13 C            5.1002    -1.8691    -2.1271 C             1 RES     \\n      14 C            6.6123    -1.8691    -2.1271 C             1 RES     \\n      15 H            4.7159    -2.8662    -1.8924 H             1 RES     \\n      16 H            4.7159    -1.5738    -3.1080 H             1 RES     \\n      17 H            6.9966    -2.1643    -1.1463 H             1 RES     \\n      18 H            6.9966    -0.8720    -2.3619 H             1 RES     \\n      19 C            7.1392    -2.8313    -3.1501 C             1 RES     \\n      20 C            8.6512    -2.8313    -3.1501 C             1 RES     \\n      21 H            6.7549    -3.8284    -2.9154 H             1 RES     \\n      22 H            6.7549    -2.5361    -4.1310 H             1 RES     \\n      23 H            9.0356    -3.1266    -2.1692 H             1 RES     \\n      24 H            9.0356    -1.8342    -3.3848 H             1 RES     \\n      25 C            9.1781    -3.7936    -4.1731 C             1 RES     \\n      26 C           10.6902    -3.7936    -4.1731 C             1 RES     \\n      27 H            8.7938    -4.7907    -3.9383 H             1 RES     \\n      28 H            8.7938    -3.4983    -5.1540 H             1 RES     \\n      29 H           11.0745    -4.0888    -3.1922 H             1 RES     \\n      30 H           11.0745    -2.7965    -4.4078 H             1 RES     \\n      31 C           11.2171    -4.7558    -5.1960 C             1 RES     \\n      32 C           12.7292    -4.7558    -5.1960 C             1 RES     \\n      33 H           10.8328    -5.7529    -4.9613 H             1 RES     \\n      34 H           10.8328    -4.4606    -6.1769 H             1 RES     \\n      35 H           13.1135    -5.0511    -4.2152 H             1 RES     \\n      36 H           13.1135    -3.7587    -5.4308 H             1 RES     \\n      37 C           13.2561    -5.7181    -6.2190 C             1 RES     \\n      38 C           14.7681    -5.7181    -6.2190 C             1 RES     \\n      39 H           12.8717    -6.7151    -5.9843 H             1 RES     \\n      40 H           12.8717    -5.4228    -7.1999 H             1 RES     \\n      41 H           15.1524    -6.0133    -5.2381 H             1 RES     \\n      42 H           15.1524    -4.7210    -6.4537 H             1 RES     \\n      43 C           15.2950    -6.6803    -7.2420 C             1 RES     \\n      44 C           16.8071    -6.6803    -7.2420 C             1 RES     \\n      45 H           14.9107    -7.6774    -7.0072 H             1 RES     \\n      46 H           14.9107    -6.3850    -8.2229 H             1 RES     \\n      47 H           17.1914    -6.9756    -6.2611 H             1 RES     \\n      48 H           17.1914    -5.6832    -7.4767 H             1 RES     \\n      49 C           17.3340    -7.6425    -8.2649 C             1 RES     \\n      50 C           18.8460    -7.6425    -8.2649 C             1 RES     \\n      51 H           16.9497    -8.6396    -8.0302 H             1 RES     \\n      52 H           16.9497    -7.3473    -9.2458 H             1 RES     \\n      53 H           19.2303    -7.9378    -7.2840 H             1 RES     \\n      54 H           19.2303    -6.6455    -8.4997 H             1 RES     \\n      55 C           19.3729    -8.6048    -9.2879 C             1 RES     \\n      56 C           20.8850    -8.6048    -9.2879 C             1 RES     \\n      57 H           18.9886    -9.6019    -9.0532 H             1 RES     \\n      58 H           18.9886    -8.3095   -10.2688 H             1 RES     \\n      59 H           21.2693    -8.9000    -8.3070 H             1 RES     \\n      60 H           21.2693    -7.6077    -9.5226 H             1 RES     \\n      61 C            0.4954     1.0176     0.9418 C             1 RES     \\n      62 O           -0.4584     0.7984     1.6666 O             1 RES     \\n      63 O            1.2112     2.1577     0.9585 O             1 RES     \\n      64 H            1.9385     2.1534     0.3073 H             1 RES     \\n      65 N           21.3416    -9.4387   -10.1745 N             1 RES     \\n      66 H           22.1444    -9.8950    -9.7436 H             1 RES     \\n      67 H           21.7158    -8.8675   -10.9308 H             1 RES     \\n@<TRIPOS>BOND\\n       1       37       38 1\\n       2       43       46 1\\n       3       44       48 1\\n       4       25       27 1\\n       5       55       57 1\\n       6       14       19 1\\n       7       32       35 1\\n       8       38       42 1\\n       9       31       34 1\\n      10        9        7 1\\n      11        8       12 1\\n      12       25       28 1\\n      13        1        3 1\\n      14       26       30 1\\n      15       32       36 1\\n      16       38       41 1\\n      17       20       23 1\\n      18       49       44 1\\n      19       31       33 1\\n      20       11        8 1\\n      21       56       60 1\\n      22       14       17 1\\n      23       20       24 1\\n      24       37       40 1\\n      25       43       44 1\\n      26       50       53 1\\n      27        1        2 1\\n      28        2        7 1\\n      29       50       55 1\\n      30       19       22 1\\n      31       61       62 1\\n      32       61        1 1\\n      33       26       29 1\\n      34       44       47 1\\n      35       13       14 1\\n      36        7       10 1\\n      37        2        6 1\\n      38       49       52 1\\n      39       38       43 1\\n      40       56       59 1\\n      41        1        4 1\\n      42        8        7 1\\n      43       37       39 1\\n      44       43       45 1\\n      45       19       21 1\\n      46       37       32 1\\n      47       14       18 1\\n      48       61       63 1\\n      49       13       16 1\\n      50       26       31 1\\n      51       65       66 1\\n      52       25       20 1\\n      53       65       56 1\\n      54        2        5 1\\n      55       49       51 1\\n      56       63       64 1\\n      57       31       32 1\\n      58       55       56 1\\n      59       19       20 1\\n      60       13       15 1\\n      61       49       50 1\\n      62       65       67 1\\n      63       13        8 1\\n      64       25       26 1\\n      65       55       58 1\\n      66       50       54 1\\n@<TRIPOS>SUBSTRUCTURE\\n       1 RES             1 RESIDUE    0 **** ROOT      0\\n\",\"mol2\");\n",
       "\tviewer_1617746197466646.setStyle({\"stick\": {\"radius\": 0.2, \"color\": \"grey\"}, \"sphere\": {\"scale\": 0.3, \"colorscheme\": {}}});\n",
       "\tviewer_1617746197466646.zoomTo();\n",
       "viewer_1617746197466646.render();\n",
       "});\n",
       "</script>"
      ]
     },
     "metadata": {},
     "output_type": "display_data"
    }
   ],
   "source": [
    "# Creating and adding 2 different end groups.\n",
    "# The add_end_groups() function has a duplicate parameter (defaulted to True)\n",
    "# When this is true, calling add_end_group will create 2 of the same compound\n",
    "# and the polymer is capped off with each.\n",
    "# If you want different end groups, change Duplicate to False and call the add_end_groups() function twice\n",
    "\n",
    "comp = mb.load('CC', smiles=True) # mBuild compound of the monomer unit\n",
    "chain = Polymer()\n",
    "\n",
    "chain.add_monomer(compound=comp,\n",
    "                  indices=[2, -1],\n",
    "                  separation=.15,\n",
    "                  replace=True)\n",
    "\n",
    "chain.add_end_groups(mb.load('C(=O)O',smiles=True), # Capping off this polymer with Carboxylic acid groups\n",
    "                     index=3,\n",
    "                     separation=0.15,\n",
    "                     duplicate=False) # Change duplicate to false\n",
    "\n",
    "chain.add_end_groups(mb.load('N', smiles=True),\n",
    "                    index=-1, separation=0.13,\n",
    "                    duplicate=False, label=\"tail\") # label this one tail\n",
    "\n",
    "chain.build(n=10, sequence='A')\n",
    "chain.visualize(show_ports=True).show()"
   ]
  },
  {
   "cell_type": "code",
   "execution_count": 5,
   "metadata": {},
   "outputs": [
    {
     "name": "stderr",
     "output_type": "stream",
     "text": [
      "/home/chris/miniconda3/envs/mosdev/lib/python3.7/site-packages/ipykernel/ipkernel.py:283: DeprecationWarning: `should_run_async` will not call `transform_cell` automatically in the future. Please pass the result to `transformed_cell` argument and any exception that happen during thetransform in `preprocessing_exc_tuple` in IPython 7.17 and above.\n",
      "  and should_run_async(code)\n"
     ]
    },
    {
     "data": {
      "application/3dmoljs_load.v0": "<div id=\"3dmolviewer_16177462145194085\"  style=\"position: relative; width: 640px; height: 480px\">\n        <p id=\"3dmolwarning_16177462145194085\" style=\"background-color:#ffcccc;color:black\">You appear to be running in JupyterLab (or JavaScript failed to load for some other reason).  You need to install the 3dmol extension: <br>\n        <tt>jupyter labextension install jupyterlab_3dmol</tt></p>\n        </div>\n<script>\n\nvar loadScriptAsync = function(uri){\n  return new Promise((resolve, reject) => {\n    var tag = document.createElement('script');\n    tag.src = uri;\n    tag.async = true;\n    tag.onload = () => {\n      resolve();\n    };\n  var firstScriptTag = document.getElementsByTagName('script')[0];\n  firstScriptTag.parentNode.insertBefore(tag, firstScriptTag);\n});\n};\n\nif(typeof $3Dmolpromise === 'undefined') {\n$3Dmolpromise = null;\n  $3Dmolpromise = loadScriptAsync('https://3dmol.csb.pitt.edu/build/3Dmol.js');\n}\n\nvar viewer_16177462145194085 = null;\nvar warn = document.getElementById(\"3dmolwarning_16177462145194085\");\nif(warn) {\n    warn.parentNode.removeChild(warn);\n}\n$3Dmolpromise.then(function() {\nviewer_16177462145194085 = $3Dmol.createViewer($(\"#3dmolviewer_16177462145194085\"),{backgroundColor:\"white\"});\n\tviewer_16177462145194085.addModel(\"@<TRIPOS>MOLECULE\\nRES\\n65 64 1 0 1\\nSMALL\\nNO_CHARGES\\n@<TRIPOS>CRYSIN\\n   26.8008    16.2844    17.2653    90.0000    90.0000    90.0000  1  1\\n@<TRIPOS>ATOM\\n       1 C            0.9454     0.0809     0.0050 C             1 RES     \\n       2 C            2.4575     0.0809     0.0050 C             1 RES     \\n       3 H            0.5611    -0.9157     0.2420 H             1 RES     \\n       4 H            0.5611     0.3740    -0.9765 H             1 RES     \\n       5 H            2.8418    -0.2122     0.9866 H             1 RES     \\n       6 H            2.8418     1.0775    -0.2319 H             1 RES     \\n       7 C            2.9844    -0.8836    -1.0158 C             1 RES     \\n       8 C            4.4964    -0.8836    -1.0158 C             1 RES     \\n       9 H            2.6001    -1.8802    -0.7788 H             1 RES     \\n      10 H            2.6001    -0.5905    -1.9973 H             1 RES     \\n      11 H            4.8807    -1.1767    -0.0343 H             1 RES     \\n      12 H            4.8807     0.1130    -1.2528 H             1 RES     \\n      13 C            5.0233    -1.8481    -2.0366 C             1 RES     \\n      14 C            6.5354    -1.8481    -2.0366 C             1 RES     \\n      15 H            4.6390    -2.8447    -1.7997 H             1 RES     \\n      16 H            4.6390    -1.5551    -3.0182 H             1 RES     \\n      17 H            6.9197    -2.1412    -1.0551 H             1 RES     \\n      18 H            6.9197    -0.8516    -2.2736 H             1 RES     \\n      19 C            7.0623    -2.8126    -3.0575 C             1 RES     \\n      20 C            8.5743    -2.8126    -3.0575 C             1 RES     \\n      21 H            6.6780    -3.8092    -2.8205 H             1 RES     \\n      22 H            6.6780    -2.5196    -4.0390 H             1 RES     \\n      23 H            8.9586    -3.1057    -2.0759 H             1 RES     \\n      24 H            8.9586    -1.8161    -3.2944 H             1 RES     \\n      25 C            9.1012    -3.7772    -4.0783 C             1 RES     \\n      26 C           10.6133    -3.7772    -4.0783 C             1 RES     \\n      27 H            8.7169    -4.7737    -3.8413 H             1 RES     \\n      28 H            8.7169    -3.4841    -5.0598 H             1 RES     \\n      29 H           10.9976    -4.0702    -3.0967 H             1 RES     \\n      30 H           10.9976    -2.7806    -4.3152 H             1 RES     \\n      31 C           11.1402    -4.7417    -5.0991 C             1 RES     \\n      32 C           12.6522    -4.7417    -5.0991 C             1 RES     \\n      33 H           10.7559    -5.7382    -4.8621 H             1 RES     \\n      34 H           10.7559    -4.4486    -6.0806 H             1 RES     \\n      35 H           13.0365    -5.0347    -4.1176 H             1 RES     \\n      36 H           13.0366    -3.7451    -5.3361 H             1 RES     \\n      37 C           13.1791    -5.7062    -6.1199 C             1 RES     \\n      38 C           14.6912    -5.7062    -6.1199 C             1 RES     \\n      39 H           12.7948    -6.7028    -5.8830 H             1 RES     \\n      40 H           12.7948    -5.4131    -7.1015 H             1 RES     \\n      41 H           15.0755    -5.9993    -5.1384 H             1 RES     \\n      42 H           15.0755    -4.7096    -6.3569 H             1 RES     \\n      43 C           15.2181    -6.6707    -7.1407 C             1 RES     \\n      44 C           16.7302    -6.6707    -7.1407 C             1 RES     \\n      45 H           14.8338    -7.6673    -6.9038 H             1 RES     \\n      46 H           14.8338    -6.3776    -8.1223 H             1 RES     \\n      47 H           17.1145    -6.9638    -6.1592 H             1 RES     \\n      48 H           17.1145    -5.6741    -7.3777 H             1 RES     \\n      49 C           17.2571    -7.6352    -8.1616 C             1 RES     \\n      50 C           18.7691    -7.6352    -8.1616 C             1 RES     \\n      51 H           16.8727    -8.6318    -7.9246 H             1 RES     \\n      52 H           16.8727    -7.3422    -9.1431 H             1 RES     \\n      53 H           19.1534    -7.9283    -7.1800 H             1 RES     \\n      54 H           19.1534    -6.6387    -8.3985 H             1 RES     \\n      55 C           19.2960    -8.5998    -9.1824 C             1 RES     \\n      56 C           20.8081    -8.5998    -9.1824 C             1 RES     \\n      57 H           18.9117    -9.5963    -8.9454 H             1 RES     \\n      58 H           18.9117    -8.3067   -10.1639 H             1 RES     \\n      59 H           21.1924    -8.8928    -8.2008 H             1 RES     \\n      60 H           21.1924    -7.6032    -9.4193 H             1 RES     \\n      61 C            0.4185     1.0454     1.0259 C             1 RES     \\n      62 O           -0.6084     1.6881     0.9006 O             1 RES     \\n      63 O            1.2255     1.1120     2.1014 O             1 RES     \\n      64 H            2.0020     0.5255     2.0244 H             1 RES     \\n      65 H           21.1923    -9.3032    -9.9269 H             1 RES     \\n@<TRIPOS>BOND\\n       1       19       20 1\\n       2        7       10 1\\n       3       65       56 1\\n       4       14       19 1\\n       5       50       55 1\\n       6        8       12 1\\n       7       25       20 1\\n       8       43       45 1\\n       9        1        3 1\\n      10       31       32 1\\n      11       37       40 1\\n      12       50       54 1\\n      13       61        1 1\\n      14       63       64 1\\n      15       14       18 1\\n      16       13        8 1\\n      17       25       27 1\\n      18       49       52 1\\n      19       13       16 1\\n      20       14       17 1\\n      21       49       44 1\\n      22       31       33 1\\n      23       37       39 1\\n      24       20       23 1\\n      25       56       59 1\\n      26       38       43 1\\n      27       25       26 1\\n      28        7        8 1\\n      29        8       11 1\\n      30       43       44 1\\n      31        1        2 1\\n      32       55       56 1\\n      33       26       30 1\\n      34       25       28 1\\n      35       20       24 1\\n      36       56       60 1\\n      37       31       34 1\\n      38        7        9 1\\n      39       32       35 1\\n      40       61       63 1\\n      41       44       48 1\\n      42        2        6 1\\n      43       38       41 1\\n      44       49       50 1\\n      45       13       14 1\\n      46       19       22 1\\n      47       55       58 1\\n      48       26       29 1\\n      49       26       31 1\\n      50       32       36 1\\n      51       37       38 1\\n      52       61       62 1\\n      53       44       47 1\\n      54        2        7 1\\n      55        2        5 1\\n      56       38       42 1\\n      57       49       51 1\\n      58       19       21 1\\n      59       55       57 1\\n      60       13       15 1\\n      61       50       53 1\\n      62       43       46 1\\n      63        1        4 1\\n      64       37       32 1\\n@<TRIPOS>SUBSTRUCTURE\\n       1 RES             1 RESIDUE    0 **** ROOT      0\\n\",\"mol2\");\n\tviewer_16177462145194085.setStyle({\"stick\": {\"radius\": 0.2, \"color\": \"grey\"}, \"sphere\": {\"scale\": 0.3, \"colorscheme\": {}}});\n\tviewer_16177462145194085.zoomTo();\nviewer_16177462145194085.render();\n});\n</script>",
      "text/html": [
       "<div id=\"3dmolviewer_16177462145194085\"  style=\"position: relative; width: 640px; height: 480px\">\n",
       "        <p id=\"3dmolwarning_16177462145194085\" style=\"background-color:#ffcccc;color:black\">You appear to be running in JupyterLab (or JavaScript failed to load for some other reason).  You need to install the 3dmol extension: <br>\n",
       "        <tt>jupyter labextension install jupyterlab_3dmol</tt></p>\n",
       "        </div>\n",
       "<script>\n",
       "\n",
       "var loadScriptAsync = function(uri){\n",
       "  return new Promise((resolve, reject) => {\n",
       "    var tag = document.createElement('script');\n",
       "    tag.src = uri;\n",
       "    tag.async = true;\n",
       "    tag.onload = () => {\n",
       "      resolve();\n",
       "    };\n",
       "  var firstScriptTag = document.getElementsByTagName('script')[0];\n",
       "  firstScriptTag.parentNode.insertBefore(tag, firstScriptTag);\n",
       "});\n",
       "};\n",
       "\n",
       "if(typeof $3Dmolpromise === 'undefined') {\n",
       "$3Dmolpromise = null;\n",
       "  $3Dmolpromise = loadScriptAsync('https://3dmol.csb.pitt.edu/build/3Dmol.js');\n",
       "}\n",
       "\n",
       "var viewer_16177462145194085 = null;\n",
       "var warn = document.getElementById(\"3dmolwarning_16177462145194085\");\n",
       "if(warn) {\n",
       "    warn.parentNode.removeChild(warn);\n",
       "}\n",
       "$3Dmolpromise.then(function() {\n",
       "viewer_16177462145194085 = $3Dmol.createViewer($(\"#3dmolviewer_16177462145194085\"),{backgroundColor:\"white\"});\n",
       "\tviewer_16177462145194085.addModel(\"@<TRIPOS>MOLECULE\\nRES\\n65 64 1 0 1\\nSMALL\\nNO_CHARGES\\n@<TRIPOS>CRYSIN\\n   26.8008    16.2844    17.2653    90.0000    90.0000    90.0000  1  1\\n@<TRIPOS>ATOM\\n       1 C            0.9454     0.0809     0.0050 C             1 RES     \\n       2 C            2.4575     0.0809     0.0050 C             1 RES     \\n       3 H            0.5611    -0.9157     0.2420 H             1 RES     \\n       4 H            0.5611     0.3740    -0.9765 H             1 RES     \\n       5 H            2.8418    -0.2122     0.9866 H             1 RES     \\n       6 H            2.8418     1.0775    -0.2319 H             1 RES     \\n       7 C            2.9844    -0.8836    -1.0158 C             1 RES     \\n       8 C            4.4964    -0.8836    -1.0158 C             1 RES     \\n       9 H            2.6001    -1.8802    -0.7788 H             1 RES     \\n      10 H            2.6001    -0.5905    -1.9973 H             1 RES     \\n      11 H            4.8807    -1.1767    -0.0343 H             1 RES     \\n      12 H            4.8807     0.1130    -1.2528 H             1 RES     \\n      13 C            5.0233    -1.8481    -2.0366 C             1 RES     \\n      14 C            6.5354    -1.8481    -2.0366 C             1 RES     \\n      15 H            4.6390    -2.8447    -1.7997 H             1 RES     \\n      16 H            4.6390    -1.5551    -3.0182 H             1 RES     \\n      17 H            6.9197    -2.1412    -1.0551 H             1 RES     \\n      18 H            6.9197    -0.8516    -2.2736 H             1 RES     \\n      19 C            7.0623    -2.8126    -3.0575 C             1 RES     \\n      20 C            8.5743    -2.8126    -3.0575 C             1 RES     \\n      21 H            6.6780    -3.8092    -2.8205 H             1 RES     \\n      22 H            6.6780    -2.5196    -4.0390 H             1 RES     \\n      23 H            8.9586    -3.1057    -2.0759 H             1 RES     \\n      24 H            8.9586    -1.8161    -3.2944 H             1 RES     \\n      25 C            9.1012    -3.7772    -4.0783 C             1 RES     \\n      26 C           10.6133    -3.7772    -4.0783 C             1 RES     \\n      27 H            8.7169    -4.7737    -3.8413 H             1 RES     \\n      28 H            8.7169    -3.4841    -5.0598 H             1 RES     \\n      29 H           10.9976    -4.0702    -3.0967 H             1 RES     \\n      30 H           10.9976    -2.7806    -4.3152 H             1 RES     \\n      31 C           11.1402    -4.7417    -5.0991 C             1 RES     \\n      32 C           12.6522    -4.7417    -5.0991 C             1 RES     \\n      33 H           10.7559    -5.7382    -4.8621 H             1 RES     \\n      34 H           10.7559    -4.4486    -6.0806 H             1 RES     \\n      35 H           13.0365    -5.0347    -4.1176 H             1 RES     \\n      36 H           13.0366    -3.7451    -5.3361 H             1 RES     \\n      37 C           13.1791    -5.7062    -6.1199 C             1 RES     \\n      38 C           14.6912    -5.7062    -6.1199 C             1 RES     \\n      39 H           12.7948    -6.7028    -5.8830 H             1 RES     \\n      40 H           12.7948    -5.4131    -7.1015 H             1 RES     \\n      41 H           15.0755    -5.9993    -5.1384 H             1 RES     \\n      42 H           15.0755    -4.7096    -6.3569 H             1 RES     \\n      43 C           15.2181    -6.6707    -7.1407 C             1 RES     \\n      44 C           16.7302    -6.6707    -7.1407 C             1 RES     \\n      45 H           14.8338    -7.6673    -6.9038 H             1 RES     \\n      46 H           14.8338    -6.3776    -8.1223 H             1 RES     \\n      47 H           17.1145    -6.9638    -6.1592 H             1 RES     \\n      48 H           17.1145    -5.6741    -7.3777 H             1 RES     \\n      49 C           17.2571    -7.6352    -8.1616 C             1 RES     \\n      50 C           18.7691    -7.6352    -8.1616 C             1 RES     \\n      51 H           16.8727    -8.6318    -7.9246 H             1 RES     \\n      52 H           16.8727    -7.3422    -9.1431 H             1 RES     \\n      53 H           19.1534    -7.9283    -7.1800 H             1 RES     \\n      54 H           19.1534    -6.6387    -8.3985 H             1 RES     \\n      55 C           19.2960    -8.5998    -9.1824 C             1 RES     \\n      56 C           20.8081    -8.5998    -9.1824 C             1 RES     \\n      57 H           18.9117    -9.5963    -8.9454 H             1 RES     \\n      58 H           18.9117    -8.3067   -10.1639 H             1 RES     \\n      59 H           21.1924    -8.8928    -8.2008 H             1 RES     \\n      60 H           21.1924    -7.6032    -9.4193 H             1 RES     \\n      61 C            0.4185     1.0454     1.0259 C             1 RES     \\n      62 O           -0.6084     1.6881     0.9006 O             1 RES     \\n      63 O            1.2255     1.1120     2.1014 O             1 RES     \\n      64 H            2.0020     0.5255     2.0244 H             1 RES     \\n      65 H           21.1923    -9.3032    -9.9269 H             1 RES     \\n@<TRIPOS>BOND\\n       1       19       20 1\\n       2        7       10 1\\n       3       65       56 1\\n       4       14       19 1\\n       5       50       55 1\\n       6        8       12 1\\n       7       25       20 1\\n       8       43       45 1\\n       9        1        3 1\\n      10       31       32 1\\n      11       37       40 1\\n      12       50       54 1\\n      13       61        1 1\\n      14       63       64 1\\n      15       14       18 1\\n      16       13        8 1\\n      17       25       27 1\\n      18       49       52 1\\n      19       13       16 1\\n      20       14       17 1\\n      21       49       44 1\\n      22       31       33 1\\n      23       37       39 1\\n      24       20       23 1\\n      25       56       59 1\\n      26       38       43 1\\n      27       25       26 1\\n      28        7        8 1\\n      29        8       11 1\\n      30       43       44 1\\n      31        1        2 1\\n      32       55       56 1\\n      33       26       30 1\\n      34       25       28 1\\n      35       20       24 1\\n      36       56       60 1\\n      37       31       34 1\\n      38        7        9 1\\n      39       32       35 1\\n      40       61       63 1\\n      41       44       48 1\\n      42        2        6 1\\n      43       38       41 1\\n      44       49       50 1\\n      45       13       14 1\\n      46       19       22 1\\n      47       55       58 1\\n      48       26       29 1\\n      49       26       31 1\\n      50       32       36 1\\n      51       37       38 1\\n      52       61       62 1\\n      53       44       47 1\\n      54        2        7 1\\n      55        2        5 1\\n      56       38       42 1\\n      57       49       51 1\\n      58       19       21 1\\n      59       55       57 1\\n      60       13       15 1\\n      61       50       53 1\\n      62       43       46 1\\n      63        1        4 1\\n      64       37       32 1\\n@<TRIPOS>SUBSTRUCTURE\\n       1 RES             1 RESIDUE    0 **** ROOT      0\\n\",\"mol2\");\n",
       "\tviewer_16177462145194085.setStyle({\"stick\": {\"radius\": 0.2, \"color\": \"grey\"}, \"sphere\": {\"scale\": 0.3, \"colorscheme\": {}}});\n",
       "\tviewer_16177462145194085.zoomTo();\n",
       "viewer_16177462145194085.render();\n",
       "});\n",
       "</script>"
      ]
     },
     "metadata": {},
     "output_type": "display_data"
    }
   ],
   "source": [
    "# If you only add one end group, you can still have the other end capped off with hydrogen\n",
    "comp = mb.load('CC', smiles=True) # mBuild compound of the monomer unit\n",
    "chain = Polymer()\n",
    "\n",
    "chain.add_monomer(compound=comp,\n",
    "                  indices=[2, -1],\n",
    "                  separation=.15)\n",
    "\n",
    "chain.add_end_groups(mb.load('C(=O)O',smiles=True), # Capping off this polymer with Carboxylic acid groups\n",
    "                     index=3,\n",
    "                     separation=0.15,\n",
    "                     duplicate=False) # Change duplicate to false\n",
    "\n",
    "chain.build(n=10, sequence='A')\n",
    "chain.visualize(show_ports=True).show()"
   ]
  },
  {
   "cell_type": "code",
   "execution_count": 6,
   "metadata": {},
   "outputs": [
    {
     "name": "stderr",
     "output_type": "stream",
     "text": [
      "/home/chris/miniconda3/envs/mosdev/lib/python3.7/site-packages/ipykernel/ipkernel.py:283: DeprecationWarning: `should_run_async` will not call `transform_cell` automatically in the future. Please pass the result to `transformed_cell` argument and any exception that happen during thetransform in `preprocessing_exc_tuple` in IPython 7.17 and above.\n",
      "  and should_run_async(code)\n"
     ]
    },
    {
     "data": {
      "application/3dmoljs_load.v0": "<div id=\"3dmolviewer_16177462211884391\"  style=\"position: relative; width: 640px; height: 480px\">\n        <p id=\"3dmolwarning_16177462211884391\" style=\"background-color:#ffcccc;color:black\">You appear to be running in JupyterLab (or JavaScript failed to load for some other reason).  You need to install the 3dmol extension: <br>\n        <tt>jupyter labextension install jupyterlab_3dmol</tt></p>\n        </div>\n<script>\n\nvar loadScriptAsync = function(uri){\n  return new Promise((resolve, reject) => {\n    var tag = document.createElement('script');\n    tag.src = uri;\n    tag.async = true;\n    tag.onload = () => {\n      resolve();\n    };\n  var firstScriptTag = document.getElementsByTagName('script')[0];\n  firstScriptTag.parentNode.insertBefore(tag, firstScriptTag);\n});\n};\n\nif(typeof $3Dmolpromise === 'undefined') {\n$3Dmolpromise = null;\n  $3Dmolpromise = loadScriptAsync('https://3dmol.csb.pitt.edu/build/3Dmol.js');\n}\n\nvar viewer_16177462211884391 = null;\nvar warn = document.getElementById(\"3dmolwarning_16177462211884391\");\nif(warn) {\n    warn.parentNode.removeChild(warn);\n}\n$3Dmolpromise.then(function() {\nviewer_16177462211884391 = $3Dmol.createViewer($(\"#3dmolviewer_16177462211884391\"),{backgroundColor:\"white\"});\n\tviewer_16177462211884391.addModel(\"@<TRIPOS>MOLECULE\\nRES\\n76 59 4 0 1\\nBIOPOLYMER\\nNO_CHARGES\\n@<TRIPOS>CRYSIN\\n   25.6313     8.6685    18.7779    90.0000    90.0000    90.0000  1  1\\n@<TRIPOS>ATOM\\n       1 C            0.9436     0.0019     0.0797 C             1 RES     \\n       2 C            2.4556     0.0019     0.0797 C             1 RES     \\n       3 H            0.5593    -0.9482    -0.3033 H             1 RES     \\n       4 H            0.5593     0.8086    -0.5516 H             1 RES     \\n       5 H            2.8399    -0.8048     0.7109 H             1 RES     \\n       6 H            2.8399     0.9519     0.4627 H             1 RES     \\n       7 VS           0.7087     0.1442     0.8065 VS            2 PRT     \\n       8 VS           0.6384     0.1704     0.9920 VS            2 PRT     \\n       9 VS           0.5656     0.0608     0.6563 VS            2 PRT     \\n      10 VS           0.8077     0.0253     0.6451 VS            2 PRT     \\n      11 VS           0.7224     0.0561     0.7703 VS            2 PRT     \\n      12 VS           0.7927     0.0299     0.5848 VS            2 PRT     \\n      13 VS           0.5157     0.1395     0.7880 VS            2 PRT     \\n      14 VS           0.6897     0.1750     0.9568 VS            2 PRT     \\n      15 C            2.9825    -0.1946    -1.3109 C             3 RES     \\n      16 C            4.4946    -0.1946    -1.3109 C             3 RES     \\n      17 H            2.5982    -1.1446    -1.6939 H             3 RES     \\n      18 H            2.5982     0.6121    -1.9422 H             3 RES     \\n      19 H            4.8789    -1.0013    -0.6797 H             3 RES     \\n      20 H            4.8789     0.7555    -0.9279 H             3 RES     \\n      21 C            5.0215    -0.3911    -2.7015 C             3 RES     \\n      22 C            6.5335    -0.3911    -2.7015 C             3 RES     \\n      23 H            4.6372    -1.3411    -3.0845 H             3 RES     \\n      24 H            4.6372     0.4157    -3.3328 H             3 RES     \\n      25 H            6.9178    -1.1978    -2.0703 H             3 RES     \\n      26 H            6.9178     0.5590    -2.3185 H             3 RES     \\n      27 C            7.0604    -0.5876    -4.0921 C             3 RES     \\n      28 C            8.5725    -0.5876    -4.0921 C             3 RES     \\n      29 H            6.6761    -1.5376    -4.4751 H             3 RES     \\n      30 H            6.6761     0.2192    -4.7234 H             3 RES     \\n      31 H            8.9568    -1.3943    -3.4609 H             3 RES     \\n      32 H            8.9568     0.3625    -3.7091 H             3 RES     \\n      33 C            9.0994    -0.7841    -5.4827 C             3 RES     \\n      34 C           10.6114    -0.7841    -5.4827 C             3 RES     \\n      35 H            8.7151    -1.7341    -5.8657 H             3 RES     \\n      36 H            8.7151     0.0227    -6.1140 H             3 RES     \\n      37 H           10.9958    -1.5908    -4.8515 H             3 RES     \\n      38 H           10.9958     0.1660    -5.0997 H             3 RES     \\n      39 C           11.1383    -0.9806    -6.8733 C             3 RES     \\n      40 C           12.6504    -0.9806    -6.8733 C             3 RES     \\n      41 H           10.7540    -1.9306    -7.2563 H             3 RES     \\n      42 H           10.7540    -0.1738    -7.5046 H             3 RES     \\n      43 H           13.0347    -1.7873    -6.2421 H             3 RES     \\n      44 H           13.0347    -0.0305    -6.4903 H             3 RES     \\n      45 C           13.1773    -1.1770    -8.2639 C             3 RES     \\n      46 C           14.6894    -1.1770    -8.2639 C             3 RES     \\n      47 H           12.7930    -2.1271    -8.6469 H             3 RES     \\n      48 H           12.7930    -0.3703    -8.8952 H             3 RES     \\n      49 H           15.0737    -1.9838    -7.6327 H             3 RES     \\n      50 H           15.0737    -0.2270    -7.8809 H             3 RES     \\n      51 C           15.2163    -1.3735    -9.6545 C             3 RES     \\n      52 C           16.7283    -1.3735    -9.6545 C             3 RES     \\n      53 H           14.8319    -2.3236   -10.0375 H             3 RES     \\n      54 H           14.8319    -0.5668   -10.2858 H             3 RES     \\n      55 H           17.1126    -2.1803    -9.0233 H             3 RES     \\n      56 H           17.1126    -0.4235    -9.2715 H             3 RES     \\n      57 C           17.2552    -1.5700   -11.0451 C             3 RES     \\n      58 C           18.7673    -1.5700   -11.0451 C             3 RES     \\n      59 H           16.8709    -2.5201   -11.4281 H             3 RES     \\n      60 H           16.8709    -0.7633   -11.6764 H             3 RES     \\n      61 H           19.1516    -2.3768   -10.4139 H             3 RES     \\n      62 H           19.1516    -0.6200   -10.6621 H             3 RES     \\n      63 C           19.2942    -1.7665   -12.4357 C             3 RES     \\n      64 C           20.8062    -1.7665   -12.4357 C             3 RES     \\n      65 H           18.9099    -2.7166   -12.8187 H             3 RES     \\n      66 H           18.9099    -0.9598   -13.0670 H             3 RES     \\n      67 H           21.1905    -2.5733   -11.8045 H             3 RES     \\n      68 H           21.1905    -0.8165   -12.0527 H             3 RES     \\n      69 VS          21.1120    -1.9088   -13.1357 VS            4 PRT     \\n      70 VS          21.1822    -1.9350   -13.3211 VS            4 PRT     \\n      71 VS          20.9053    -1.8254   -13.1180 VS            4 PRT     \\n      72 VS          21.0792    -1.7899   -12.9492 VS            4 PRT     \\n      73 VS          21.0982    -1.8208   -13.0994 VS            4 PRT     \\n      74 VS          21.0280    -1.7946   -12.9140 VS            4 PRT     \\n      75 VS          20.9552    -1.9041   -13.2497 VS            4 PRT     \\n      76 VS          21.1973    -1.9397   -13.2608 VS            4 PRT     \\n@<TRIPOS>BOND\\n       1       49       46 1\\n       2       43       40 1\\n       3       64       68 1\\n       4       63       65 1\\n       5       33       35 1\\n       6       48       45 1\\n       7       46       51 1\\n       8       40       39 1\\n       9       51       54 1\\n      10       16       21 1\\n      11       30       27 1\\n      12       39       41 1\\n      13       52       55 1\\n      14       27       28 1\\n      15       34       38 1\\n      16       28       33 1\\n      17        1        4 1\\n      18        2        5 1\\n      19       39       42 1\\n      20       25       22 1\\n      21       34       37 1\\n      22       24       21 1\\n      23       57       60 1\\n      24       16       15 1\\n      25       61       58 1\\n      26       34       39 1\\n      27       45       47 1\\n      28       19       16 1\\n      29        1        2 1\\n      30       26       22 1\\n      31       32       28 1\\n      32       52       51 1\\n      33       18       15 1\\n      34       17       15 1\\n      35       63       66 1\\n      36       57       59 1\\n      37       15        2 1\\n      38       52       57 1\\n      39       31       28 1\\n      40       34       33 1\\n      41        1        3 1\\n      42       40       45 1\\n      43       45       46 1\\n      44       20       16 1\\n      45       63       58 1\\n      46       22       27 1\\n      47       44       40 1\\n      48       58       57 1\\n      49       50       46 1\\n      50       21       22 1\\n      51       29       27 1\\n      52        2        6 1\\n      53       52       56 1\\n      54       63       64 1\\n      55       62       58 1\\n      56       33       36 1\\n      57       23       21 1\\n      58       51       53 1\\n      59       64       67 1\\n@<TRIPOS>SUBSTRUCTURE\\n       1 RES             1 RESIDUE    0 **** ROOT      1\\n       2 PRT             7 RESIDUE    0 **** ROOT      0\\n       3 RES            15 RESIDUE    0 **** ROOT      1\\n       4 PRT            69 RESIDUE    0 **** ROOT      0\\n\",\"mol2\");\n\tviewer_16177462211884391.setStyle({\"stick\": {\"radius\": 0.2, \"color\": \"grey\"}, \"sphere\": {\"scale\": 0.3, \"colorscheme\": {}}});\n\tviewer_16177462211884391.zoomTo();\nviewer_16177462211884391.render();\n});\n</script>",
      "text/html": [
       "<div id=\"3dmolviewer_16177462211884391\"  style=\"position: relative; width: 640px; height: 480px\">\n",
       "        <p id=\"3dmolwarning_16177462211884391\" style=\"background-color:#ffcccc;color:black\">You appear to be running in JupyterLab (or JavaScript failed to load for some other reason).  You need to install the 3dmol extension: <br>\n",
       "        <tt>jupyter labextension install jupyterlab_3dmol</tt></p>\n",
       "        </div>\n",
       "<script>\n",
       "\n",
       "var loadScriptAsync = function(uri){\n",
       "  return new Promise((resolve, reject) => {\n",
       "    var tag = document.createElement('script');\n",
       "    tag.src = uri;\n",
       "    tag.async = true;\n",
       "    tag.onload = () => {\n",
       "      resolve();\n",
       "    };\n",
       "  var firstScriptTag = document.getElementsByTagName('script')[0];\n",
       "  firstScriptTag.parentNode.insertBefore(tag, firstScriptTag);\n",
       "});\n",
       "};\n",
       "\n",
       "if(typeof $3Dmolpromise === 'undefined') {\n",
       "$3Dmolpromise = null;\n",
       "  $3Dmolpromise = loadScriptAsync('https://3dmol.csb.pitt.edu/build/3Dmol.js');\n",
       "}\n",
       "\n",
       "var viewer_16177462211884391 = null;\n",
       "var warn = document.getElementById(\"3dmolwarning_16177462211884391\");\n",
       "if(warn) {\n",
       "    warn.parentNode.removeChild(warn);\n",
       "}\n",
       "$3Dmolpromise.then(function() {\n",
       "viewer_16177462211884391 = $3Dmol.createViewer($(\"#3dmolviewer_16177462211884391\"),{backgroundColor:\"white\"});\n",
       "\tviewer_16177462211884391.addModel(\"@<TRIPOS>MOLECULE\\nRES\\n76 59 4 0 1\\nBIOPOLYMER\\nNO_CHARGES\\n@<TRIPOS>CRYSIN\\n   25.6313     8.6685    18.7779    90.0000    90.0000    90.0000  1  1\\n@<TRIPOS>ATOM\\n       1 C            0.9436     0.0019     0.0797 C             1 RES     \\n       2 C            2.4556     0.0019     0.0797 C             1 RES     \\n       3 H            0.5593    -0.9482    -0.3033 H             1 RES     \\n       4 H            0.5593     0.8086    -0.5516 H             1 RES     \\n       5 H            2.8399    -0.8048     0.7109 H             1 RES     \\n       6 H            2.8399     0.9519     0.4627 H             1 RES     \\n       7 VS           0.7087     0.1442     0.8065 VS            2 PRT     \\n       8 VS           0.6384     0.1704     0.9920 VS            2 PRT     \\n       9 VS           0.5656     0.0608     0.6563 VS            2 PRT     \\n      10 VS           0.8077     0.0253     0.6451 VS            2 PRT     \\n      11 VS           0.7224     0.0561     0.7703 VS            2 PRT     \\n      12 VS           0.7927     0.0299     0.5848 VS            2 PRT     \\n      13 VS           0.5157     0.1395     0.7880 VS            2 PRT     \\n      14 VS           0.6897     0.1750     0.9568 VS            2 PRT     \\n      15 C            2.9825    -0.1946    -1.3109 C             3 RES     \\n      16 C            4.4946    -0.1946    -1.3109 C             3 RES     \\n      17 H            2.5982    -1.1446    -1.6939 H             3 RES     \\n      18 H            2.5982     0.6121    -1.9422 H             3 RES     \\n      19 H            4.8789    -1.0013    -0.6797 H             3 RES     \\n      20 H            4.8789     0.7555    -0.9279 H             3 RES     \\n      21 C            5.0215    -0.3911    -2.7015 C             3 RES     \\n      22 C            6.5335    -0.3911    -2.7015 C             3 RES     \\n      23 H            4.6372    -1.3411    -3.0845 H             3 RES     \\n      24 H            4.6372     0.4157    -3.3328 H             3 RES     \\n      25 H            6.9178    -1.1978    -2.0703 H             3 RES     \\n      26 H            6.9178     0.5590    -2.3185 H             3 RES     \\n      27 C            7.0604    -0.5876    -4.0921 C             3 RES     \\n      28 C            8.5725    -0.5876    -4.0921 C             3 RES     \\n      29 H            6.6761    -1.5376    -4.4751 H             3 RES     \\n      30 H            6.6761     0.2192    -4.7234 H             3 RES     \\n      31 H            8.9568    -1.3943    -3.4609 H             3 RES     \\n      32 H            8.9568     0.3625    -3.7091 H             3 RES     \\n      33 C            9.0994    -0.7841    -5.4827 C             3 RES     \\n      34 C           10.6114    -0.7841    -5.4827 C             3 RES     \\n      35 H            8.7151    -1.7341    -5.8657 H             3 RES     \\n      36 H            8.7151     0.0227    -6.1140 H             3 RES     \\n      37 H           10.9958    -1.5908    -4.8515 H             3 RES     \\n      38 H           10.9958     0.1660    -5.0997 H             3 RES     \\n      39 C           11.1383    -0.9806    -6.8733 C             3 RES     \\n      40 C           12.6504    -0.9806    -6.8733 C             3 RES     \\n      41 H           10.7540    -1.9306    -7.2563 H             3 RES     \\n      42 H           10.7540    -0.1738    -7.5046 H             3 RES     \\n      43 H           13.0347    -1.7873    -6.2421 H             3 RES     \\n      44 H           13.0347    -0.0305    -6.4903 H             3 RES     \\n      45 C           13.1773    -1.1770    -8.2639 C             3 RES     \\n      46 C           14.6894    -1.1770    -8.2639 C             3 RES     \\n      47 H           12.7930    -2.1271    -8.6469 H             3 RES     \\n      48 H           12.7930    -0.3703    -8.8952 H             3 RES     \\n      49 H           15.0737    -1.9838    -7.6327 H             3 RES     \\n      50 H           15.0737    -0.2270    -7.8809 H             3 RES     \\n      51 C           15.2163    -1.3735    -9.6545 C             3 RES     \\n      52 C           16.7283    -1.3735    -9.6545 C             3 RES     \\n      53 H           14.8319    -2.3236   -10.0375 H             3 RES     \\n      54 H           14.8319    -0.5668   -10.2858 H             3 RES     \\n      55 H           17.1126    -2.1803    -9.0233 H             3 RES     \\n      56 H           17.1126    -0.4235    -9.2715 H             3 RES     \\n      57 C           17.2552    -1.5700   -11.0451 C             3 RES     \\n      58 C           18.7673    -1.5700   -11.0451 C             3 RES     \\n      59 H           16.8709    -2.5201   -11.4281 H             3 RES     \\n      60 H           16.8709    -0.7633   -11.6764 H             3 RES     \\n      61 H           19.1516    -2.3768   -10.4139 H             3 RES     \\n      62 H           19.1516    -0.6200   -10.6621 H             3 RES     \\n      63 C           19.2942    -1.7665   -12.4357 C             3 RES     \\n      64 C           20.8062    -1.7665   -12.4357 C             3 RES     \\n      65 H           18.9099    -2.7166   -12.8187 H             3 RES     \\n      66 H           18.9099    -0.9598   -13.0670 H             3 RES     \\n      67 H           21.1905    -2.5733   -11.8045 H             3 RES     \\n      68 H           21.1905    -0.8165   -12.0527 H             3 RES     \\n      69 VS          21.1120    -1.9088   -13.1357 VS            4 PRT     \\n      70 VS          21.1822    -1.9350   -13.3211 VS            4 PRT     \\n      71 VS          20.9053    -1.8254   -13.1180 VS            4 PRT     \\n      72 VS          21.0792    -1.7899   -12.9492 VS            4 PRT     \\n      73 VS          21.0982    -1.8208   -13.0994 VS            4 PRT     \\n      74 VS          21.0280    -1.7946   -12.9140 VS            4 PRT     \\n      75 VS          20.9552    -1.9041   -13.2497 VS            4 PRT     \\n      76 VS          21.1973    -1.9397   -13.2608 VS            4 PRT     \\n@<TRIPOS>BOND\\n       1       49       46 1\\n       2       43       40 1\\n       3       64       68 1\\n       4       63       65 1\\n       5       33       35 1\\n       6       48       45 1\\n       7       46       51 1\\n       8       40       39 1\\n       9       51       54 1\\n      10       16       21 1\\n      11       30       27 1\\n      12       39       41 1\\n      13       52       55 1\\n      14       27       28 1\\n      15       34       38 1\\n      16       28       33 1\\n      17        1        4 1\\n      18        2        5 1\\n      19       39       42 1\\n      20       25       22 1\\n      21       34       37 1\\n      22       24       21 1\\n      23       57       60 1\\n      24       16       15 1\\n      25       61       58 1\\n      26       34       39 1\\n      27       45       47 1\\n      28       19       16 1\\n      29        1        2 1\\n      30       26       22 1\\n      31       32       28 1\\n      32       52       51 1\\n      33       18       15 1\\n      34       17       15 1\\n      35       63       66 1\\n      36       57       59 1\\n      37       15        2 1\\n      38       52       57 1\\n      39       31       28 1\\n      40       34       33 1\\n      41        1        3 1\\n      42       40       45 1\\n      43       45       46 1\\n      44       20       16 1\\n      45       63       58 1\\n      46       22       27 1\\n      47       44       40 1\\n      48       58       57 1\\n      49       50       46 1\\n      50       21       22 1\\n      51       29       27 1\\n      52        2        6 1\\n      53       52       56 1\\n      54       63       64 1\\n      55       62       58 1\\n      56       33       36 1\\n      57       23       21 1\\n      58       51       53 1\\n      59       64       67 1\\n@<TRIPOS>SUBSTRUCTURE\\n       1 RES             1 RESIDUE    0 **** ROOT      1\\n       2 PRT             7 RESIDUE    0 **** ROOT      0\\n       3 RES            15 RESIDUE    0 **** ROOT      1\\n       4 PRT            69 RESIDUE    0 **** ROOT      0\\n\",\"mol2\");\n",
       "\tviewer_16177462211884391.setStyle({\"stick\": {\"radius\": 0.2, \"color\": \"grey\"}, \"sphere\": {\"scale\": 0.3, \"colorscheme\": {}}});\n",
       "\tviewer_16177462211884391.zoomTo();\n",
       "viewer_16177462211884391.render();\n",
       "});\n",
       "</script>"
      ]
     },
     "metadata": {},
     "output_type": "display_data"
    }
   ],
   "source": [
    "#Or to leave the ends of the polymer open with ports, change the add_hydrogens parameter in build() to False\n",
    "# This would still work when adding only one end group, then leaving the other end open.\n",
    "\n",
    "comp = mb.load('CC', smiles=True) # mBuild compound of the monomer unit\n",
    "chain = Polymer()\n",
    "chain.add_monomer(compound=comp,\n",
    "                  indices=[2, -1],\n",
    "                  separation=.15,\n",
    "                  replace=True)\n",
    "\n",
    "chain.build(n=10, sequence='A', add_hydrogens=False)\n",
    "chain.visualize(show_ports=True).show()"
   ]
  },
  {
   "cell_type": "markdown",
   "metadata": {},
   "source": [
    "##  Here's an example with a more complicated monomer and a little more detail into what's going on  \n",
    "\n",
    "SMILES strings for Poly-ether-ether-ketone (PEEK)  \n",
    "\n",
    "One has para linkages, the other has meta  \n",
    "\n",
    "Goal is to build up a polymer with alternating PARA-META monomers  \n",
    "\n",
    "Also, just for fun, adding carboxylic acid end groups (ca)"
   ]
  },
  {
   "cell_type": "code",
   "execution_count": 8,
   "metadata": {},
   "outputs": [
    {
     "name": "stdout",
     "output_type": "stream",
     "text": [
      "<Polymer pos=( 0.0000, 0.0000, 0.0000), 0 bonds, id: 140467724708816>\n",
      "[]\n",
      "[None, None]\n"
     ]
    },
    {
     "name": "stderr",
     "output_type": "stream",
     "text": [
      "/home/chris/miniconda3/envs/mosdev/lib/python3.7/site-packages/ipykernel/ipkernel.py:283: DeprecationWarning: `should_run_async` will not call `transform_cell` automatically in the future. Please pass the result to `transformed_cell` argument and any exception that happen during thetransform in `preprocessing_exc_tuple` in IPython 7.17 and above.\n",
      "  and should_run_async(code)\n"
     ]
    }
   ],
   "source": [
    "peek_para = mb.load(\"Oc1ccc(Oc2ccc(C(=O)c3ccccc3)cc2)cc1\",smiles=True)\n",
    "peek_meta = mb.load(\"Oc1cc(Oc2ccc(C(=O)c3ccccc3)cc2)ccc1\", smiles=True)\n",
    "ca = mb.load('C(=O)O', smiles=True)\n",
    "peek_polymer = Polymer() # Create polymer instance\n",
    "\n",
    "# For now, peek_polymer is an empty mBuild compound\n",
    "print(peek_polymer)\n",
    "\n",
    "# monomers and end_groups attributes:\n",
    "print(peek_polymer.monomers)\n",
    "print(peek_polymer.end_groups)"
   ]
  },
  {
   "cell_type": "code",
   "execution_count": 9,
   "metadata": {},
   "outputs": [
    {
     "name": "stdout",
     "output_type": "stream",
     "text": [
      "<Polymer pos=( 0.0000, 0.0000, 0.0000), 0 bonds, id: 140467724708816>\n",
      "Monomers:\n",
      "[< 34 particles, non-periodic, 36 bonds, id: 140467724729872>, < 34 particles, non-periodic, 36 bonds, id: 140467724730064>]\n",
      "End groups:\n",
      "[< 4 particles, non-periodic, 3 bonds, id: 140467732140944>, < 4 particles, non-periodic, 3 bonds, id: 140467733947920>]\n"
     ]
    },
    {
     "name": "stderr",
     "output_type": "stream",
     "text": [
      "/home/chris/miniconda3/envs/mosdev/lib/python3.7/site-packages/ipykernel/ipkernel.py:283: DeprecationWarning: `should_run_async` will not call `transform_cell` automatically in the future. Please pass the result to `transformed_cell` argument and any exception that happen during thetransform in `preprocessing_exc_tuple` in IPython 7.17 and above.\n",
      "  and should_run_async(code)\n"
     ]
    }
   ],
   "source": [
    "# Use the add_monomer and add_end_group methods\n",
    "# Pass in the compounds we want to use as monomers and end_groups\n",
    "# The add_monomer function is called for each unique monomer type\n",
    "# The add_end_groups funciton is called for the end group compound\n",
    "\n",
    "peek_polymer.add_monomer(compound=peek_para,\n",
    "                         indices = [22, 29],\n",
    "                         separation = 0.1376,\n",
    "                         replace=True\n",
    "                        )\n",
    "\n",
    "peek_polymer.add_monomer(compound=peek_meta,\n",
    "                         indices = [22, 29],\n",
    "                         separation = 0.1376,\n",
    "                         replace=True\n",
    "                        )\n",
    "\n",
    "peek_polymer.add_end_groups(ca,\n",
    "                            index=3,\n",
    "                            separation=0.13,\n",
    "                            replace=True)\n",
    "\n",
    "#At this point, peek_polymer is still an empty mBuild compound\n",
    "#The monomers and end_groups attributes are no longer empty lists\n",
    "print(peek_polymer)\n",
    "print(\"Monomers:\")\n",
    "print(peek_polymer.monomers)\n",
    "print(\"End groups:\")\n",
    "print(peek_polymer.end_groups)"
   ]
  },
  {
   "cell_type": "code",
   "execution_count": 10,
   "metadata": {},
   "outputs": [
    {
     "name": "stdout",
     "output_type": "stream",
     "text": [
      "<Polymer 212 particles, non-periodic, 229 bonds, id: 140467724708816>\n"
     ]
    },
    {
     "name": "stderr",
     "output_type": "stream",
     "text": [
      "/home/chris/miniconda3/envs/mosdev/lib/python3.7/site-packages/ipykernel/ipkernel.py:283: DeprecationWarning: `should_run_async` will not call `transform_cell` automatically in the future. Please pass the result to `transformed_cell` argument and any exception that happen during thetransform in `preprocessing_exc_tuple` in IPython 7.17 and above.\n",
      "  and should_run_async(code)\n"
     ]
    }
   ],
   "source": [
    "# Now to actually make the polymer compound\n",
    "# Essentially all of the currently exisitng Polymer() code was moved into a function called build\n",
    "peek_polymer.build(n=3, sequence='AB')\n",
    "\n",
    "# peek_polymer is no longer an empty compound\n",
    "print(peek_polymer)"
   ]
  },
  {
   "cell_type": "code",
   "execution_count": 11,
   "metadata": {},
   "outputs": [
    {
     "name": "stderr",
     "output_type": "stream",
     "text": [
      "/home/chris/miniconda3/envs/mosdev/lib/python3.7/site-packages/ipykernel/ipkernel.py:283: DeprecationWarning: `should_run_async` will not call `transform_cell` automatically in the future. Please pass the result to `transformed_cell` argument and any exception that happen during thetransform in `preprocessing_exc_tuple` in IPython 7.17 and above.\n",
      "  and should_run_async(code)\n"
     ]
    },
    {
     "data": {
      "application/3dmoljs_load.v0": "<div id=\"3dmolviewer_16177462679845974\"  style=\"position: relative; width: 640px; height: 480px\">\n        <p id=\"3dmolwarning_16177462679845974\" style=\"background-color:#ffcccc;color:black\">You appear to be running in JupyterLab (or JavaScript failed to load for some other reason).  You need to install the 3dmol extension: <br>\n        <tt>jupyter labextension install jupyterlab_3dmol</tt></p>\n        </div>\n<script>\n\nvar loadScriptAsync = function(uri){\n  return new Promise((resolve, reject) => {\n    var tag = document.createElement('script');\n    tag.src = uri;\n    tag.async = true;\n    tag.onload = () => {\n      resolve();\n    };\n  var firstScriptTag = document.getElementsByTagName('script')[0];\n  firstScriptTag.parentNode.insertBefore(tag, firstScriptTag);\n});\n};\n\nif(typeof $3Dmolpromise === 'undefined') {\n$3Dmolpromise = null;\n  $3Dmolpromise = loadScriptAsync('https://3dmol.csb.pitt.edu/build/3Dmol.js');\n}\n\nvar viewer_16177462679845974 = null;\nvar warn = document.getElementById(\"3dmolwarning_16177462679845974\");\nif(warn) {\n    warn.parentNode.removeChild(warn);\n}\n$3Dmolpromise.then(function() {\nviewer_16177462679845974 = $3Dmol.createViewer($(\"#3dmolviewer_16177462679845974\"),{backgroundColor:\"white\"});\n\tviewer_16177462679845974.addModel(\"@<TRIPOS>MOLECULE\\nRES\\n212 229 1 0 1\\nSMALL\\nNO_CHARGES\\n@<TRIPOS>CRYSIN\\n   32.1146    41.7425    21.8928    90.0000    90.0000    90.0000  1  1\\n@<TRIPOS>ATOM\\n       1 O            2.2555    -0.0890     0.0234 O             1 RES     \\n       2 C            0.8942    -0.0179     0.0028 C             1 RES     \\n       3 C            0.2331     1.2082     0.0031 C             1 RES     \\n       4 C           -1.1627     1.2359    -0.0186 C             1 RES     \\n       5 C           -1.8811     0.0403    -0.0381 C             1 RES     \\n       6 O           -3.2546     0.1282    -0.0519 O             1 RES     \\n       7 C           -3.9636    -0.4638     0.9729 C             1 RES     \\n       8 C           -5.3573    -0.4116     0.8735 C             1 RES     \\n       9 C           -6.1574    -0.9981     1.8627 C             1 RES     \\n      10 C           -5.5659    -1.6572     2.9501 C             1 RES     \\n      11 C           -6.4269    -2.3064     3.9716 C             1 RES     \\n      12 O           -7.6523    -2.3186     3.8307 O             1 RES     \\n      13 C           -5.8624    -2.9528     5.1768 C             1 RES     \\n      14 C           -6.2625    -4.2547     5.4903 C             1 RES     \\n      15 C           -5.8848    -4.8165     6.7097 C             1 RES     \\n      16 C           -5.0500    -4.1099     7.5775 C             1 RES     \\n      17 C           -4.6084    -2.8305     7.2412 C             1 RES     \\n      18 C           -5.0313    -2.2408     6.0511 C             1 RES     \\n      19 C           -4.1747    -1.7084     3.0384 C             1 RES     \\n      20 C           -3.3847    -1.0837     2.0806 C             1 RES     \\n      21 C           -1.2081    -1.1863    -0.0784 C             1 RES     \\n      22 C            0.1852    -1.2139    -0.0266 C             1 RES     \\n      23 H            0.7818     2.1440     0.0253 H             1 RES     \\n      24 H           -1.6907     2.1854    -0.0089 H             1 RES     \\n      25 H           -5.8271     0.0869     0.0283 H             1 RES     \\n      26 H           -7.2422    -0.9477     1.7757 H             1 RES     \\n      27 H           -6.8864    -4.8186     4.8001 H             1 RES     \\n      28 H           -6.2645    -5.7939     6.9967 H             1 RES     \\n      29 H           -3.9659    -2.2782     7.9224 H             1 RES     \\n      30 H           -4.7225    -1.2241     5.8231 H             1 RES     \\n      31 H           -3.6624    -2.2273     3.8406 H             1 RES     \\n      32 H           -2.3106    -1.1169     2.2280 H             1 RES     \\n      33 H           -1.7632    -2.1202    -0.1048 H             1 RES     \\n      34 H            0.7141    -2.1626    -0.0094 H             1 RES     \\n      35 O           -4.6769    -4.6698     8.7778 O             1 RES     \\n      36 C           -3.3340    -4.9060     8.7492 C             1 RES     \\n      37 C           -2.5782    -4.6433     7.6114 C             1 RES     \\n      38 C           -1.2081    -4.8995     7.6368 C             1 RES     \\n      39 O           -0.4971    -4.6498     6.4847 O             1 RES     \\n      40 C            0.1959    -5.6907     5.9012 C             1 RES     \\n      41 C            0.9647    -5.3683     4.7793 C             1 RES     \\n      42 C            1.7112    -6.3584     4.1278 C             1 RES     \\n      43 C            1.7080    -7.6760     4.6080 C             1 RES     \\n      44 C            2.5318    -8.7073     3.9264 C             1 RES     \\n      45 O            3.2668    -8.3907     2.9875 O             1 RES     \\n      46 C            2.4997   -10.1299     4.3313 C             1 RES     \\n      47 C            3.7079   -10.7952     4.5576 C             1 RES     \\n      48 C            3.7061   -12.1756     4.7587 C             1 RES     \\n      49 C            2.4985   -12.8748     4.8081 C             1 RES     \\n      50 C            1.2895   -12.2017     4.6352 C             1 RES     \\n      51 C            1.2891   -10.8328     4.3745 C             1 RES     \\n      52 C            0.9428    -7.9874     5.7321 C             1 RES     \\n      53 C            0.1644    -7.0132     6.3458 C             1 RES     \\n      54 C           -0.5936    -5.3630     8.8067 C             1 RES     \\n      55 C           -1.3691    -5.6587     9.9270 C             1 RES     \\n      56 C           -2.7437    -5.4259     9.8980 C             1 RES     \\n      57 H           -3.0331    -4.2601     6.7045 H             1 RES     \\n      58 H            0.9845    -4.3468     4.4056 H             1 RES     \\n      59 H            2.3017    -6.0952     3.2510 H             1 RES     \\n      60 H            4.6475   -10.2468     4.5505 H             1 RES     \\n      61 H            4.6478   -12.7118     4.8473 H             1 RES     \\n      62 H            2.5007   -13.9505     4.9659 H             1 RES     \\n      63 H            0.3446   -10.3282     4.1889 H             1 RES     \\n      64 H            0.9233    -8.9818     6.1639 H             1 RES     \\n      65 H           -0.4465    -7.3268     7.1856 H             1 RES     \\n      66 H            0.4782    -5.5429     8.8314 H             1 RES     \\n      67 H           -0.9043    -6.0719    10.8181 H             1 RES     \\n      68 H           -3.3526    -5.6422    10.7715 H             1 RES     \\n      69 O            0.1008   -12.8938     4.6724 O             1 RES     \\n      70 C           -0.6785   -12.3683     5.6598 C             1 RES     \\n      71 C           -0.2097   -11.3513     6.4882 C             1 RES     \\n      72 C           -1.0409   -10.8411     7.4873 C             1 RES     \\n      73 C           -2.3283   -11.3536     7.6487 C             1 RES     \\n      74 O           -3.1006   -10.8176     8.6541 O             1 RES     \\n      75 C           -3.5726   -11.6572     9.6419 C             1 RES     \\n      76 C           -4.4137   -11.0789    10.5974 C             1 RES     \\n      77 C           -4.9498   -11.8595    11.6299 C             1 RES     \\n      78 C           -4.6609   -13.2300    11.7016 C             1 RES     \\n      79 C           -5.2664   -14.0523    12.7804 C             1 RES     \\n      80 O           -6.0667   -13.5447    13.5701 O             1 RES     \\n      81 C           -4.9416   -15.4857    12.9497 C             1 RES     \\n      82 C           -5.9902   -16.4030    13.0617 C             1 RES     \\n      83 C           -5.7131   -17.7278    13.3988 C             1 RES     \\n      84 C           -4.3909   -18.1502    13.5491 C             1 RES     \\n      85 C           -3.3417   -17.2460    13.3863 C             1 RES     \\n      86 C           -3.6156   -15.9078    13.1083 C             1 RES     \\n      87 C           -3.8246   -13.7991    10.7412 C             1 RES     \\n      88 C           -3.2561   -13.0119     9.7468 C             1 RES     \\n      89 C           -2.8050   -12.3476     6.7863 C             1 RES     \\n      90 C           -1.9641   -12.8774     5.8080 C             1 RES     \\n      91 H            0.7923   -10.9503     6.3760 H             1 RES     \\n      92 H           -0.6841   -10.0546     8.1463 H             1 RES     \\n      93 H           -4.6541   -10.0192    10.5449 H             1 RES     \\n      94 H           -5.6011   -11.3965    12.3705 H             1 RES     \\n      95 H           -7.0188   -16.0820    12.9128 H             1 RES     \\n      96 H           -6.5293   -18.4246    13.5726 H             1 RES     \\n      97 H           -2.3133   -17.5747    13.5128 H             1 RES     \\n      98 H           -2.7928   -15.2017    13.0341 H             1 RES     \\n      99 H           -3.5888   -14.8572    10.7301 H             1 RES     \\n     100 H           -2.5770   -13.5014     9.0571 H             1 RES     \\n     101 H           -3.8110   -12.7423     6.9009 H             1 RES     \\n     102 H           -2.3100   -13.6821     5.1655 H             1 RES     \\n     103 O           -4.1224   -19.4591    13.8780 O             1 RES     \\n     104 C           -3.4891   -20.0513    12.8252 C             1 RES     \\n     105 C           -3.2634   -19.3629    11.6377 C             1 RES     \\n     106 C           -2.6080   -20.0142    10.5937 C             1 RES     \\n     107 O           -2.4238   -19.3092     9.4258 O             1 RES     \\n     108 C           -2.9558   -19.8192     8.2591 C             1 RES     \\n     109 C           -2.6742   -19.1077     7.0895 C             1 RES     \\n     110 C           -3.1629   -19.5567     5.8560 C             1 RES     \\n     111 C           -3.9217   -20.7338     5.7831 C             1 RES     \\n     112 C           -4.4039   -21.2153     4.4631 C             1 RES     \\n     113 O           -4.0798   -20.6210     3.4318 O             1 RES     \\n     114 C           -5.2821   -22.3989     4.3333 C             1 RES     \\n     115 C           -4.9406   -23.3960     3.4152 C             1 RES     \\n     116 C           -5.8452   -24.4234     3.1470 C             1 RES     \\n     117 C           -7.0514   -24.4952     3.8467 C             1 RES     \\n     118 C           -7.3684   -23.5293     4.8012 C             1 RES     \\n     119 C           -6.4951   -22.4678     5.0302 C             1 RES     \\n     120 C           -4.1927   -21.4410     6.9547 C             1 RES     \\n     121 C           -3.7483   -20.9654     8.1828 C             1 RES     \\n     122 C           -2.1366   -21.3227    10.7573 C             1 RES     \\n     123 C           -2.4040   -22.0136    11.9385 C             1 RES     \\n     124 C           -3.0799   -21.3734    12.9767 C             1 RES     \\n     125 H           -3.5990   -18.3405    11.5023 H             1 RES     \\n     126 H           -2.0760   -18.2001     7.1327 H             1 RES     \\n     127 H           -2.9411   -18.9899     4.9525 H             1 RES     \\n     128 H           -3.9875   -23.3586     2.8919 H             1 RES     \\n     129 H           -5.6237   -25.1520     2.3710 H             1 RES     \\n     130 H           -7.7538   -25.2978     3.6357 H             1 RES     \\n     131 H           -6.7762   -21.6925     5.7378 H             1 RES     \\n     132 H           -4.7502   -22.3709     6.9558 H             1 RES     \\n     133 H           -4.0317   -21.5325     9.0630 H             1 RES     \\n     134 H           -1.6076   -21.8222     9.9496 H             1 RES     \\n     135 H           -2.0894   -23.0480    12.0481 H             1 RES     \\n     136 H           -3.2809   -21.9014    13.9047 H             1 RES     \\n     137 O           -8.5626   -23.5947     5.4817 O             1 RES     \\n     138 C           -8.2996   -23.6636     6.8176 C             1 RES     \\n     139 C           -6.9931   -23.7337     7.2956 C             1 RES     \\n     140 C           -6.7680   -23.8029     8.6719 C             1 RES     \\n     141 C           -7.8492   -23.8034     9.5534 C             1 RES     \\n     142 O           -7.5679   -23.8803    10.8985 O             1 RES     \\n     143 C           -8.0856   -24.9355    11.6212 C             1 RES     \\n     144 C           -7.8342   -24.9274    12.9966 C             1 RES     \\n     145 C           -8.3324   -25.9531    13.8106 C             1 RES     \\n     146 C           -9.1018   -26.9851    13.2542 C             1 RES     \\n     147 C           -9.6545   -28.0456    14.1353 C             1 RES     \\n     148 O           -9.4893   -27.9838    15.3562 O             1 RES     \\n     149 C          -10.4112   -29.1972    13.5967 C             1 RES     \\n     150 C          -11.6528   -29.5069    14.1588 C             1 RES     \\n     151 C          -12.2998   -30.6867    13.7916 C             1 RES     \\n     152 C          -11.7453   -31.5142    12.8133 C             1 RES     \\n     153 C          -10.5312   -31.1784    12.2149 C             1 RES     \\n     154 C           -9.8511   -30.0314    12.6209 C             1 RES     \\n     155 C           -9.3514   -26.9822    11.8818 C             1 RES     \\n     156 C           -8.8150   -25.9895    11.0704 C             1 RES     \\n     157 C           -9.1566   -23.6926     9.0662 C             1 RES     \\n     158 C           -9.3820   -23.6537     7.6905 C             1 RES     \\n     159 H           -6.1451   -23.7411     6.6186 H             1 RES     \\n     160 H           -5.7543   -23.8676     9.0573 H             1 RES     \\n     161 H           -7.2484   -24.1256    13.4410 H             1 RES     \\n     162 H           -8.1267   -25.9375    14.8804 H             1 RES     \\n     163 H          -12.1012   -28.8462    14.8975 H             1 RES     \\n     164 H          -13.2223   -30.9759    14.2889 H             1 RES     \\n     165 H          -10.0965   -31.8287    11.4600 H             1 RES     \\n     166 H           -8.8815   -29.8065    12.1846 H             1 RES     \\n     167 H           -9.9621   -27.7380    11.4010 H             1 RES     \\n     168 H           -9.0040   -26.0664    10.0051 H             1 RES     \\n     169 H          -10.0015   -23.6815     9.7494 H             1 RES     \\n     170 H          -10.3960   -23.6156     7.3024 H             1 RES     \\n     171 O          -12.3893   -32.6752    12.4517 O             1 RES     \\n     172 C          -12.8116   -32.5547    11.1606 C             1 RES     \\n     173 C          -12.6229   -31.3765    10.4456 C             1 RES     \\n     174 C          -13.0705   -31.3077     9.1271 C             1 RES     \\n     175 O          -12.8879   -30.1179     8.4591 O             1 RES     \\n     176 C          -13.9976   -29.4680     7.9585 C             1 RES     \\n     177 C          -13.7521   -28.3061     7.2212 C             1 RES     \\n     178 C          -14.8169   -27.5860     6.6648 C             1 RES     \\n     179 C          -16.1352   -28.0362     6.8268 C             1 RES     \\n     180 C          -17.2507   -27.2801     6.2017 C             1 RES     \\n     181 O          -17.0119   -26.3029     5.4875 O             1 RES     \\n     182 C          -18.6665   -27.6547     6.4119 C             1 RES     \\n     183 C          -19.5023   -27.7877     5.2995 C             1 RES     \\n     184 C          -20.8742   -27.9579     5.4861 C             1 RES     \\n     185 C          -21.3972   -28.0697     6.7760 C             1 RES     \\n     186 C          -20.5552   -27.9902     7.8847 C             1 RES     \\n     187 C          -19.1926   -27.7604     7.7056 C             1 RES     \\n     188 C          -16.3703   -29.2001     7.5589 C             1 RES     \\n     189 C          -15.3155   -29.8843     8.1515 C             1 RES     \\n     190 C          -13.6522   -32.4248     8.5151 C             1 RES     \\n     191 C          -13.8702   -33.5861     9.2553 C             1 RES     \\n     192 C          -13.4450   -33.6512    10.5818 C             1 RES     \\n     193 H          -12.1514   -30.5095    10.8954 H             1 RES     \\n     194 H          -12.7326   -27.9546     7.0787 H             1 RES     \\n     195 H          -14.6126   -26.6789     6.0972 H             1 RES     \\n     196 H          -19.0919   -27.7320     4.2935 H             1 RES     \\n     197 H          -21.5404   -27.9736     4.6271 H             1 RES     \\n     198 H          -22.4668   -28.2032     6.9177 H             1 RES     \\n     199 H          -18.5542   -27.6475     8.5778 H             1 RES     \\n     200 H          -17.3650   -29.6102     7.6939 H             1 RES     \\n     201 H          -15.5657   -30.7546     8.7487 H             1 RES     \\n     202 H          -13.9822   -32.3763     7.4804 H             1 RES     \\n     203 H          -14.3724   -34.4360     8.8009 H             1 RES     \\n     204 H          -13.6003   -34.5571    11.1610 H             1 RES     \\n     205 C            2.7353     1.1178    -0.0342 C             1 RES     \\n     206 O            2.4225     2.0202     0.7215 O             1 RES     \\n     207 O            3.6244     1.2457    -1.0370 O             1 RES     \\n     208 H            3.7479     0.4162    -1.5366 H             1 RES     \\n     209 C          -21.0449   -28.0833     9.0853 C             1 RES     \\n     210 O          -22.2099   -27.8744     9.3721 O             1 RES     \\n     211 O          -20.0998   -28.4408     9.9750 O             1 RES     \\n     212 H          -19.2240   -28.5649     9.5621 H             1 RES     \\n@<TRIPOS>BOND\\n       1       72       92 1\\n       2        4       24 1\\n       3      104      103 1\\n       4       76       93 1\\n       5       78       79 1\\n       6      186      187 1\\n       7       90      102 1\\n       8       47       48 1\\n       9      176      189 1\\n      10       87       88 1\\n      11       89       90 1\\n      12      131      119 1\\n      13       75       76 1\\n      14       52       53 1\\n      15      129      116 1\\n      16      183      184 1\\n      17      149      147 1\\n      18       87       99 1\\n      19      175      176 1\\n      20      184      197 1\\n      21      108      107 1\\n      22      112      113 1\\n      23       71       91 1\\n      24      110      109 1\\n      25       15       16 1\\n      26       44       46 1\\n      27       85       97 1\\n      28        5        6 1\\n      29      134      122 1\\n      30      118      137 1\\n      31      173      193 1\\n      32      208      207 1\\n      33      120      121 1\\n      34      169      157 1\\n      35       51       63 1\\n      36       81       86 1\\n      37      116      115 1\\n      38      178      195 1\\n      39      135      123 1\\n      40      160      140 1\\n      41       10       11 1\\n      42      180      182 1\\n      43      118      119 1\\n      44      139      140 1\\n      45       69       50 1\\n      46       15       28 1\\n      47      124      123 1\\n      48       42       43 1\\n      49       46       47 1\\n      50      128      115 1\\n      51      137      138 1\\n      52       70       90 1\\n      53      133      121 1\\n      54        5        4 1\\n      55       77       94 1\\n      56       49       50 1\\n      57      172      173 1\\n      58      188      189 1\\n      59      158      138 1\\n      60      157      141 1\\n      61        9       10 1\\n      62       34       22 1\\n      63      136      124 1\\n      64       40       53 1\\n      65      205        1 1\\n      66      205      207 1\\n      67       43       52 1\\n      68      147      146 1\\n      69       84       85 1\\n      70      127      110 1\\n      71      209      210 1\\n      72       54       38 1\\n      73       79       80 1\\n      74       48       49 1\\n      75      109      108 1\\n      76        7        6 1\\n      77      172      192 1\\n      78        5       21 1\\n      79       69       70 1\\n      80       11       12 1\\n      81      132      120 1\\n      82      140      141 1\\n      83      123      122 1\\n      84      153      152 1\\n      85       75       88 1\\n      86        3        2 1\\n      87      206      205 1\\n      88      158      157 1\\n      89       74       75 1\\n      90      182      183 1\\n      91       49       62 1\\n      92      170      158 1\\n      93        1        2 1\\n      94       37       38 1\\n      95        8        9 1\\n      96      145      146 1\\n      97       56       36 1\\n      98       57       37 1\\n      99       42       59 1\\n     100      106      107 1\\n     101      179      188 1\\n     102      177      194 1\\n     103       21       33 1\\n     104       41       58 1\\n     105      171      172 1\\n     106        9       26 1\\n     107       48       61 1\\n     108      152      171 1\\n     109      117      116 1\\n     110       55       56 1\\n     111       39       40 1\\n     112      163      150 1\\n     113       70       71 1\\n     114      148      147 1\\n     115      178      179 1\\n     116       10       19 1\\n     117      153      154 1\\n     118      111      110 1\\n     119       83       84 1\\n     120      154      149 1\\n     121      191      192 1\\n     122       20       32 1\\n     123        3        4 1\\n     124       44       45 1\\n     125      124      104 1\\n     126       84      103 1\\n     127       53       65 1\\n     128       52       64 1\\n     129      162      145 1\\n     130      120      111 1\\n     131       47       60 1\\n     132        3       23 1\\n     133      159      139 1\\n     134       36       37 1\\n     135      144      145 1\\n     136      164      151 1\\n     137      130      117 1\\n     138      188      200 1\\n     139       86       98 1\\n     140       82       83 1\\n     141      190      191 1\\n     142       19       31 1\\n     143       73       89 1\\n     144      174      175 1\\n     145        8       25 1\\n     146      155      146 1\\n     147       73       74 1\\n     148        7        8 1\\n     149      185      186 1\\n     150       77       78 1\\n     151      167      155 1\\n     152       56       68 1\\n     153      180      181 1\\n     154       17       29 1\\n     155       41       42 1\\n     156       72       73 1\\n     157      187      199 1\\n     158      189      201 1\\n     159       21       22 1\\n     160      112      111 1\\n     161       14       27 1\\n     162      138      139 1\\n     163        2       22 1\\n     164        7       20 1\\n     165       85       86 1\\n     166      166      154 1\\n     167      192      204 1\\n     168       54       66 1\\n     169       35       16 1\\n     170      121      108 1\\n     171       78       87 1\\n     172      168      156 1\\n     173      143      144 1\\n     174      150      149 1\\n     175       14       15 1\\n     176      141      142 1\\n     177      106      105 1\\n     178      152      151 1\\n     179       11       13 1\\n     180      179      180 1\\n     181       40       41 1\\n     182      114      119 1\\n     183      190      202 1\\n     184       71       72 1\\n     185      125      105 1\\n     186      114      112 1\\n     187      191      203 1\\n     188      165      153 1\\n     189       19       20 1\\n     190       79       81 1\\n     191      186      209 1\\n     192      211      212 1\\n     193      126      109 1\\n     194       35       36 1\\n     195       55       67 1\\n     196       83       96 1\\n     197      183      196 1\\n     198      185      198 1\\n     199       43       44 1\\n     200       39       38 1\\n     201       13       18 1\\n     202       16       17 1\\n     203       18       30 1\\n     204      115      114 1\\n     205       89      101 1\\n     206       81       82 1\\n     207      177      178 1\\n     208       54       55 1\\n     209       50       51 1\\n     210      173      174 1\\n     211      174      190 1\\n     212      122      106 1\\n     213      156      143 1\\n     214       82       95 1\\n     215       88      100 1\\n     216      156      155 1\\n     217      182      187 1\\n     218      176      177 1\\n     219      184      185 1\\n     220      117      118 1\\n     221      209      211 1\\n     222       76       77 1\\n     223       17       18 1\\n     224       13       14 1\\n     225      161      144 1\\n     226      142      143 1\\n     227      151      150 1\\n     228      105      104 1\\n     229       46       51 1\\n@<TRIPOS>SUBSTRUCTURE\\n       1 RES             1 RESIDUE    0 **** ROOT      0\\n\",\"mol2\");\n\tviewer_16177462679845974.setStyle({\"stick\": {\"radius\": 0.2, \"color\": \"grey\"}, \"sphere\": {\"scale\": 0.3, \"colorscheme\": {}}});\n\tviewer_16177462679845974.zoomTo();\nviewer_16177462679845974.render();\n});\n</script>",
      "text/html": [
       "<div id=\"3dmolviewer_16177462679845974\"  style=\"position: relative; width: 640px; height: 480px\">\n",
       "        <p id=\"3dmolwarning_16177462679845974\" style=\"background-color:#ffcccc;color:black\">You appear to be running in JupyterLab (or JavaScript failed to load for some other reason).  You need to install the 3dmol extension: <br>\n",
       "        <tt>jupyter labextension install jupyterlab_3dmol</tt></p>\n",
       "        </div>\n",
       "<script>\n",
       "\n",
       "var loadScriptAsync = function(uri){\n",
       "  return new Promise((resolve, reject) => {\n",
       "    var tag = document.createElement('script');\n",
       "    tag.src = uri;\n",
       "    tag.async = true;\n",
       "    tag.onload = () => {\n",
       "      resolve();\n",
       "    };\n",
       "  var firstScriptTag = document.getElementsByTagName('script')[0];\n",
       "  firstScriptTag.parentNode.insertBefore(tag, firstScriptTag);\n",
       "});\n",
       "};\n",
       "\n",
       "if(typeof $3Dmolpromise === 'undefined') {\n",
       "$3Dmolpromise = null;\n",
       "  $3Dmolpromise = loadScriptAsync('https://3dmol.csb.pitt.edu/build/3Dmol.js');\n",
       "}\n",
       "\n",
       "var viewer_16177462679845974 = null;\n",
       "var warn = document.getElementById(\"3dmolwarning_16177462679845974\");\n",
       "if(warn) {\n",
       "    warn.parentNode.removeChild(warn);\n",
       "}\n",
       "$3Dmolpromise.then(function() {\n",
       "viewer_16177462679845974 = $3Dmol.createViewer($(\"#3dmolviewer_16177462679845974\"),{backgroundColor:\"white\"});\n",
       "\tviewer_16177462679845974.addModel(\"@<TRIPOS>MOLECULE\\nRES\\n212 229 1 0 1\\nSMALL\\nNO_CHARGES\\n@<TRIPOS>CRYSIN\\n   32.1146    41.7425    21.8928    90.0000    90.0000    90.0000  1  1\\n@<TRIPOS>ATOM\\n       1 O            2.2555    -0.0890     0.0234 O             1 RES     \\n       2 C            0.8942    -0.0179     0.0028 C             1 RES     \\n       3 C            0.2331     1.2082     0.0031 C             1 RES     \\n       4 C           -1.1627     1.2359    -0.0186 C             1 RES     \\n       5 C           -1.8811     0.0403    -0.0381 C             1 RES     \\n       6 O           -3.2546     0.1282    -0.0519 O             1 RES     \\n       7 C           -3.9636    -0.4638     0.9729 C             1 RES     \\n       8 C           -5.3573    -0.4116     0.8735 C             1 RES     \\n       9 C           -6.1574    -0.9981     1.8627 C             1 RES     \\n      10 C           -5.5659    -1.6572     2.9501 C             1 RES     \\n      11 C           -6.4269    -2.3064     3.9716 C             1 RES     \\n      12 O           -7.6523    -2.3186     3.8307 O             1 RES     \\n      13 C           -5.8624    -2.9528     5.1768 C             1 RES     \\n      14 C           -6.2625    -4.2547     5.4903 C             1 RES     \\n      15 C           -5.8848    -4.8165     6.7097 C             1 RES     \\n      16 C           -5.0500    -4.1099     7.5775 C             1 RES     \\n      17 C           -4.6084    -2.8305     7.2412 C             1 RES     \\n      18 C           -5.0313    -2.2408     6.0511 C             1 RES     \\n      19 C           -4.1747    -1.7084     3.0384 C             1 RES     \\n      20 C           -3.3847    -1.0837     2.0806 C             1 RES     \\n      21 C           -1.2081    -1.1863    -0.0784 C             1 RES     \\n      22 C            0.1852    -1.2139    -0.0266 C             1 RES     \\n      23 H            0.7818     2.1440     0.0253 H             1 RES     \\n      24 H           -1.6907     2.1854    -0.0089 H             1 RES     \\n      25 H           -5.8271     0.0869     0.0283 H             1 RES     \\n      26 H           -7.2422    -0.9477     1.7757 H             1 RES     \\n      27 H           -6.8864    -4.8186     4.8001 H             1 RES     \\n      28 H           -6.2645    -5.7939     6.9967 H             1 RES     \\n      29 H           -3.9659    -2.2782     7.9224 H             1 RES     \\n      30 H           -4.7225    -1.2241     5.8231 H             1 RES     \\n      31 H           -3.6624    -2.2273     3.8406 H             1 RES     \\n      32 H           -2.3106    -1.1169     2.2280 H             1 RES     \\n      33 H           -1.7632    -2.1202    -0.1048 H             1 RES     \\n      34 H            0.7141    -2.1626    -0.0094 H             1 RES     \\n      35 O           -4.6769    -4.6698     8.7778 O             1 RES     \\n      36 C           -3.3340    -4.9060     8.7492 C             1 RES     \\n      37 C           -2.5782    -4.6433     7.6114 C             1 RES     \\n      38 C           -1.2081    -4.8995     7.6368 C             1 RES     \\n      39 O           -0.4971    -4.6498     6.4847 O             1 RES     \\n      40 C            0.1959    -5.6907     5.9012 C             1 RES     \\n      41 C            0.9647    -5.3683     4.7793 C             1 RES     \\n      42 C            1.7112    -6.3584     4.1278 C             1 RES     \\n      43 C            1.7080    -7.6760     4.6080 C             1 RES     \\n      44 C            2.5318    -8.7073     3.9264 C             1 RES     \\n      45 O            3.2668    -8.3907     2.9875 O             1 RES     \\n      46 C            2.4997   -10.1299     4.3313 C             1 RES     \\n      47 C            3.7079   -10.7952     4.5576 C             1 RES     \\n      48 C            3.7061   -12.1756     4.7587 C             1 RES     \\n      49 C            2.4985   -12.8748     4.8081 C             1 RES     \\n      50 C            1.2895   -12.2017     4.6352 C             1 RES     \\n      51 C            1.2891   -10.8328     4.3745 C             1 RES     \\n      52 C            0.9428    -7.9874     5.7321 C             1 RES     \\n      53 C            0.1644    -7.0132     6.3458 C             1 RES     \\n      54 C           -0.5936    -5.3630     8.8067 C             1 RES     \\n      55 C           -1.3691    -5.6587     9.9270 C             1 RES     \\n      56 C           -2.7437    -5.4259     9.8980 C             1 RES     \\n      57 H           -3.0331    -4.2601     6.7045 H             1 RES     \\n      58 H            0.9845    -4.3468     4.4056 H             1 RES     \\n      59 H            2.3017    -6.0952     3.2510 H             1 RES     \\n      60 H            4.6475   -10.2468     4.5505 H             1 RES     \\n      61 H            4.6478   -12.7118     4.8473 H             1 RES     \\n      62 H            2.5007   -13.9505     4.9659 H             1 RES     \\n      63 H            0.3446   -10.3282     4.1889 H             1 RES     \\n      64 H            0.9233    -8.9818     6.1639 H             1 RES     \\n      65 H           -0.4465    -7.3268     7.1856 H             1 RES     \\n      66 H            0.4782    -5.5429     8.8314 H             1 RES     \\n      67 H           -0.9043    -6.0719    10.8181 H             1 RES     \\n      68 H           -3.3526    -5.6422    10.7715 H             1 RES     \\n      69 O            0.1008   -12.8938     4.6724 O             1 RES     \\n      70 C           -0.6785   -12.3683     5.6598 C             1 RES     \\n      71 C           -0.2097   -11.3513     6.4882 C             1 RES     \\n      72 C           -1.0409   -10.8411     7.4873 C             1 RES     \\n      73 C           -2.3283   -11.3536     7.6487 C             1 RES     \\n      74 O           -3.1006   -10.8176     8.6541 O             1 RES     \\n      75 C           -3.5726   -11.6572     9.6419 C             1 RES     \\n      76 C           -4.4137   -11.0789    10.5974 C             1 RES     \\n      77 C           -4.9498   -11.8595    11.6299 C             1 RES     \\n      78 C           -4.6609   -13.2300    11.7016 C             1 RES     \\n      79 C           -5.2664   -14.0523    12.7804 C             1 RES     \\n      80 O           -6.0667   -13.5447    13.5701 O             1 RES     \\n      81 C           -4.9416   -15.4857    12.9497 C             1 RES     \\n      82 C           -5.9902   -16.4030    13.0617 C             1 RES     \\n      83 C           -5.7131   -17.7278    13.3988 C             1 RES     \\n      84 C           -4.3909   -18.1502    13.5491 C             1 RES     \\n      85 C           -3.3417   -17.2460    13.3863 C             1 RES     \\n      86 C           -3.6156   -15.9078    13.1083 C             1 RES     \\n      87 C           -3.8246   -13.7991    10.7412 C             1 RES     \\n      88 C           -3.2561   -13.0119     9.7468 C             1 RES     \\n      89 C           -2.8050   -12.3476     6.7863 C             1 RES     \\n      90 C           -1.9641   -12.8774     5.8080 C             1 RES     \\n      91 H            0.7923   -10.9503     6.3760 H             1 RES     \\n      92 H           -0.6841   -10.0546     8.1463 H             1 RES     \\n      93 H           -4.6541   -10.0192    10.5449 H             1 RES     \\n      94 H           -5.6011   -11.3965    12.3705 H             1 RES     \\n      95 H           -7.0188   -16.0820    12.9128 H             1 RES     \\n      96 H           -6.5293   -18.4246    13.5726 H             1 RES     \\n      97 H           -2.3133   -17.5747    13.5128 H             1 RES     \\n      98 H           -2.7928   -15.2017    13.0341 H             1 RES     \\n      99 H           -3.5888   -14.8572    10.7301 H             1 RES     \\n     100 H           -2.5770   -13.5014     9.0571 H             1 RES     \\n     101 H           -3.8110   -12.7423     6.9009 H             1 RES     \\n     102 H           -2.3100   -13.6821     5.1655 H             1 RES     \\n     103 O           -4.1224   -19.4591    13.8780 O             1 RES     \\n     104 C           -3.4891   -20.0513    12.8252 C             1 RES     \\n     105 C           -3.2634   -19.3629    11.6377 C             1 RES     \\n     106 C           -2.6080   -20.0142    10.5937 C             1 RES     \\n     107 O           -2.4238   -19.3092     9.4258 O             1 RES     \\n     108 C           -2.9558   -19.8192     8.2591 C             1 RES     \\n     109 C           -2.6742   -19.1077     7.0895 C             1 RES     \\n     110 C           -3.1629   -19.5567     5.8560 C             1 RES     \\n     111 C           -3.9217   -20.7338     5.7831 C             1 RES     \\n     112 C           -4.4039   -21.2153     4.4631 C             1 RES     \\n     113 O           -4.0798   -20.6210     3.4318 O             1 RES     \\n     114 C           -5.2821   -22.3989     4.3333 C             1 RES     \\n     115 C           -4.9406   -23.3960     3.4152 C             1 RES     \\n     116 C           -5.8452   -24.4234     3.1470 C             1 RES     \\n     117 C           -7.0514   -24.4952     3.8467 C             1 RES     \\n     118 C           -7.3684   -23.5293     4.8012 C             1 RES     \\n     119 C           -6.4951   -22.4678     5.0302 C             1 RES     \\n     120 C           -4.1927   -21.4410     6.9547 C             1 RES     \\n     121 C           -3.7483   -20.9654     8.1828 C             1 RES     \\n     122 C           -2.1366   -21.3227    10.7573 C             1 RES     \\n     123 C           -2.4040   -22.0136    11.9385 C             1 RES     \\n     124 C           -3.0799   -21.3734    12.9767 C             1 RES     \\n     125 H           -3.5990   -18.3405    11.5023 H             1 RES     \\n     126 H           -2.0760   -18.2001     7.1327 H             1 RES     \\n     127 H           -2.9411   -18.9899     4.9525 H             1 RES     \\n     128 H           -3.9875   -23.3586     2.8919 H             1 RES     \\n     129 H           -5.6237   -25.1520     2.3710 H             1 RES     \\n     130 H           -7.7538   -25.2978     3.6357 H             1 RES     \\n     131 H           -6.7762   -21.6925     5.7378 H             1 RES     \\n     132 H           -4.7502   -22.3709     6.9558 H             1 RES     \\n     133 H           -4.0317   -21.5325     9.0630 H             1 RES     \\n     134 H           -1.6076   -21.8222     9.9496 H             1 RES     \\n     135 H           -2.0894   -23.0480    12.0481 H             1 RES     \\n     136 H           -3.2809   -21.9014    13.9047 H             1 RES     \\n     137 O           -8.5626   -23.5947     5.4817 O             1 RES     \\n     138 C           -8.2996   -23.6636     6.8176 C             1 RES     \\n     139 C           -6.9931   -23.7337     7.2956 C             1 RES     \\n     140 C           -6.7680   -23.8029     8.6719 C             1 RES     \\n     141 C           -7.8492   -23.8034     9.5534 C             1 RES     \\n     142 O           -7.5679   -23.8803    10.8985 O             1 RES     \\n     143 C           -8.0856   -24.9355    11.6212 C             1 RES     \\n     144 C           -7.8342   -24.9274    12.9966 C             1 RES     \\n     145 C           -8.3324   -25.9531    13.8106 C             1 RES     \\n     146 C           -9.1018   -26.9851    13.2542 C             1 RES     \\n     147 C           -9.6545   -28.0456    14.1353 C             1 RES     \\n     148 O           -9.4893   -27.9838    15.3562 O             1 RES     \\n     149 C          -10.4112   -29.1972    13.5967 C             1 RES     \\n     150 C          -11.6528   -29.5069    14.1588 C             1 RES     \\n     151 C          -12.2998   -30.6867    13.7916 C             1 RES     \\n     152 C          -11.7453   -31.5142    12.8133 C             1 RES     \\n     153 C          -10.5312   -31.1784    12.2149 C             1 RES     \\n     154 C           -9.8511   -30.0314    12.6209 C             1 RES     \\n     155 C           -9.3514   -26.9822    11.8818 C             1 RES     \\n     156 C           -8.8150   -25.9895    11.0704 C             1 RES     \\n     157 C           -9.1566   -23.6926     9.0662 C             1 RES     \\n     158 C           -9.3820   -23.6537     7.6905 C             1 RES     \\n     159 H           -6.1451   -23.7411     6.6186 H             1 RES     \\n     160 H           -5.7543   -23.8676     9.0573 H             1 RES     \\n     161 H           -7.2484   -24.1256    13.4410 H             1 RES     \\n     162 H           -8.1267   -25.9375    14.8804 H             1 RES     \\n     163 H          -12.1012   -28.8462    14.8975 H             1 RES     \\n     164 H          -13.2223   -30.9759    14.2889 H             1 RES     \\n     165 H          -10.0965   -31.8287    11.4600 H             1 RES     \\n     166 H           -8.8815   -29.8065    12.1846 H             1 RES     \\n     167 H           -9.9621   -27.7380    11.4010 H             1 RES     \\n     168 H           -9.0040   -26.0664    10.0051 H             1 RES     \\n     169 H          -10.0015   -23.6815     9.7494 H             1 RES     \\n     170 H          -10.3960   -23.6156     7.3024 H             1 RES     \\n     171 O          -12.3893   -32.6752    12.4517 O             1 RES     \\n     172 C          -12.8116   -32.5547    11.1606 C             1 RES     \\n     173 C          -12.6229   -31.3765    10.4456 C             1 RES     \\n     174 C          -13.0705   -31.3077     9.1271 C             1 RES     \\n     175 O          -12.8879   -30.1179     8.4591 O             1 RES     \\n     176 C          -13.9976   -29.4680     7.9585 C             1 RES     \\n     177 C          -13.7521   -28.3061     7.2212 C             1 RES     \\n     178 C          -14.8169   -27.5860     6.6648 C             1 RES     \\n     179 C          -16.1352   -28.0362     6.8268 C             1 RES     \\n     180 C          -17.2507   -27.2801     6.2017 C             1 RES     \\n     181 O          -17.0119   -26.3029     5.4875 O             1 RES     \\n     182 C          -18.6665   -27.6547     6.4119 C             1 RES     \\n     183 C          -19.5023   -27.7877     5.2995 C             1 RES     \\n     184 C          -20.8742   -27.9579     5.4861 C             1 RES     \\n     185 C          -21.3972   -28.0697     6.7760 C             1 RES     \\n     186 C          -20.5552   -27.9902     7.8847 C             1 RES     \\n     187 C          -19.1926   -27.7604     7.7056 C             1 RES     \\n     188 C          -16.3703   -29.2001     7.5589 C             1 RES     \\n     189 C          -15.3155   -29.8843     8.1515 C             1 RES     \\n     190 C          -13.6522   -32.4248     8.5151 C             1 RES     \\n     191 C          -13.8702   -33.5861     9.2553 C             1 RES     \\n     192 C          -13.4450   -33.6512    10.5818 C             1 RES     \\n     193 H          -12.1514   -30.5095    10.8954 H             1 RES     \\n     194 H          -12.7326   -27.9546     7.0787 H             1 RES     \\n     195 H          -14.6126   -26.6789     6.0972 H             1 RES     \\n     196 H          -19.0919   -27.7320     4.2935 H             1 RES     \\n     197 H          -21.5404   -27.9736     4.6271 H             1 RES     \\n     198 H          -22.4668   -28.2032     6.9177 H             1 RES     \\n     199 H          -18.5542   -27.6475     8.5778 H             1 RES     \\n     200 H          -17.3650   -29.6102     7.6939 H             1 RES     \\n     201 H          -15.5657   -30.7546     8.7487 H             1 RES     \\n     202 H          -13.9822   -32.3763     7.4804 H             1 RES     \\n     203 H          -14.3724   -34.4360     8.8009 H             1 RES     \\n     204 H          -13.6003   -34.5571    11.1610 H             1 RES     \\n     205 C            2.7353     1.1178    -0.0342 C             1 RES     \\n     206 O            2.4225     2.0202     0.7215 O             1 RES     \\n     207 O            3.6244     1.2457    -1.0370 O             1 RES     \\n     208 H            3.7479     0.4162    -1.5366 H             1 RES     \\n     209 C          -21.0449   -28.0833     9.0853 C             1 RES     \\n     210 O          -22.2099   -27.8744     9.3721 O             1 RES     \\n     211 O          -20.0998   -28.4408     9.9750 O             1 RES     \\n     212 H          -19.2240   -28.5649     9.5621 H             1 RES     \\n@<TRIPOS>BOND\\n       1       72       92 1\\n       2        4       24 1\\n       3      104      103 1\\n       4       76       93 1\\n       5       78       79 1\\n       6      186      187 1\\n       7       90      102 1\\n       8       47       48 1\\n       9      176      189 1\\n      10       87       88 1\\n      11       89       90 1\\n      12      131      119 1\\n      13       75       76 1\\n      14       52       53 1\\n      15      129      116 1\\n      16      183      184 1\\n      17      149      147 1\\n      18       87       99 1\\n      19      175      176 1\\n      20      184      197 1\\n      21      108      107 1\\n      22      112      113 1\\n      23       71       91 1\\n      24      110      109 1\\n      25       15       16 1\\n      26       44       46 1\\n      27       85       97 1\\n      28        5        6 1\\n      29      134      122 1\\n      30      118      137 1\\n      31      173      193 1\\n      32      208      207 1\\n      33      120      121 1\\n      34      169      157 1\\n      35       51       63 1\\n      36       81       86 1\\n      37      116      115 1\\n      38      178      195 1\\n      39      135      123 1\\n      40      160      140 1\\n      41       10       11 1\\n      42      180      182 1\\n      43      118      119 1\\n      44      139      140 1\\n      45       69       50 1\\n      46       15       28 1\\n      47      124      123 1\\n      48       42       43 1\\n      49       46       47 1\\n      50      128      115 1\\n      51      137      138 1\\n      52       70       90 1\\n      53      133      121 1\\n      54        5        4 1\\n      55       77       94 1\\n      56       49       50 1\\n      57      172      173 1\\n      58      188      189 1\\n      59      158      138 1\\n      60      157      141 1\\n      61        9       10 1\\n      62       34       22 1\\n      63      136      124 1\\n      64       40       53 1\\n      65      205        1 1\\n      66      205      207 1\\n      67       43       52 1\\n      68      147      146 1\\n      69       84       85 1\\n      70      127      110 1\\n      71      209      210 1\\n      72       54       38 1\\n      73       79       80 1\\n      74       48       49 1\\n      75      109      108 1\\n      76        7        6 1\\n      77      172      192 1\\n      78        5       21 1\\n      79       69       70 1\\n      80       11       12 1\\n      81      132      120 1\\n      82      140      141 1\\n      83      123      122 1\\n      84      153      152 1\\n      85       75       88 1\\n      86        3        2 1\\n      87      206      205 1\\n      88      158      157 1\\n      89       74       75 1\\n      90      182      183 1\\n      91       49       62 1\\n      92      170      158 1\\n      93        1        2 1\\n      94       37       38 1\\n      95        8        9 1\\n      96      145      146 1\\n      97       56       36 1\\n      98       57       37 1\\n      99       42       59 1\\n     100      106      107 1\\n     101      179      188 1\\n     102      177      194 1\\n     103       21       33 1\\n     104       41       58 1\\n     105      171      172 1\\n     106        9       26 1\\n     107       48       61 1\\n     108      152      171 1\\n     109      117      116 1\\n     110       55       56 1\\n     111       39       40 1\\n     112      163      150 1\\n     113       70       71 1\\n     114      148      147 1\\n     115      178      179 1\\n     116       10       19 1\\n     117      153      154 1\\n     118      111      110 1\\n     119       83       84 1\\n     120      154      149 1\\n     121      191      192 1\\n     122       20       32 1\\n     123        3        4 1\\n     124       44       45 1\\n     125      124      104 1\\n     126       84      103 1\\n     127       53       65 1\\n     128       52       64 1\\n     129      162      145 1\\n     130      120      111 1\\n     131       47       60 1\\n     132        3       23 1\\n     133      159      139 1\\n     134       36       37 1\\n     135      144      145 1\\n     136      164      151 1\\n     137      130      117 1\\n     138      188      200 1\\n     139       86       98 1\\n     140       82       83 1\\n     141      190      191 1\\n     142       19       31 1\\n     143       73       89 1\\n     144      174      175 1\\n     145        8       25 1\\n     146      155      146 1\\n     147       73       74 1\\n     148        7        8 1\\n     149      185      186 1\\n     150       77       78 1\\n     151      167      155 1\\n     152       56       68 1\\n     153      180      181 1\\n     154       17       29 1\\n     155       41       42 1\\n     156       72       73 1\\n     157      187      199 1\\n     158      189      201 1\\n     159       21       22 1\\n     160      112      111 1\\n     161       14       27 1\\n     162      138      139 1\\n     163        2       22 1\\n     164        7       20 1\\n     165       85       86 1\\n     166      166      154 1\\n     167      192      204 1\\n     168       54       66 1\\n     169       35       16 1\\n     170      121      108 1\\n     171       78       87 1\\n     172      168      156 1\\n     173      143      144 1\\n     174      150      149 1\\n     175       14       15 1\\n     176      141      142 1\\n     177      106      105 1\\n     178      152      151 1\\n     179       11       13 1\\n     180      179      180 1\\n     181       40       41 1\\n     182      114      119 1\\n     183      190      202 1\\n     184       71       72 1\\n     185      125      105 1\\n     186      114      112 1\\n     187      191      203 1\\n     188      165      153 1\\n     189       19       20 1\\n     190       79       81 1\\n     191      186      209 1\\n     192      211      212 1\\n     193      126      109 1\\n     194       35       36 1\\n     195       55       67 1\\n     196       83       96 1\\n     197      183      196 1\\n     198      185      198 1\\n     199       43       44 1\\n     200       39       38 1\\n     201       13       18 1\\n     202       16       17 1\\n     203       18       30 1\\n     204      115      114 1\\n     205       89      101 1\\n     206       81       82 1\\n     207      177      178 1\\n     208       54       55 1\\n     209       50       51 1\\n     210      173      174 1\\n     211      174      190 1\\n     212      122      106 1\\n     213      156      143 1\\n     214       82       95 1\\n     215       88      100 1\\n     216      156      155 1\\n     217      182      187 1\\n     218      176      177 1\\n     219      184      185 1\\n     220      117      118 1\\n     221      209      211 1\\n     222       76       77 1\\n     223       17       18 1\\n     224       13       14 1\\n     225      161      144 1\\n     226      142      143 1\\n     227      151      150 1\\n     228      105      104 1\\n     229       46       51 1\\n@<TRIPOS>SUBSTRUCTURE\\n       1 RES             1 RESIDUE    0 **** ROOT      0\\n\",\"mol2\");\n",
       "\tviewer_16177462679845974.setStyle({\"stick\": {\"radius\": 0.2, \"color\": \"grey\"}, \"sphere\": {\"scale\": 0.3, \"colorscheme\": {}}});\n",
       "\tviewer_16177462679845974.zoomTo();\n",
       "viewer_16177462679845974.render();\n",
       "});\n",
       "</script>"
      ]
     },
     "metadata": {},
     "output_type": "display_data"
    }
   ],
   "source": [
    "peek_polymer.visualize().show()"
   ]
  },
  {
   "cell_type": "markdown",
   "metadata": {},
   "source": [
    "## A look at what is actually happening with each of the class methods  \n",
    "\n",
    "The `add_monomer` and `add_end_group` functions are handling the creation of ports.  \n",
    "\n",
    "The key is in the `bond_indices` and `replace` parameters.\n",
    "`bond_indices` points to the hydrogen atoms that are occupying the polymer bonding site and \n",
    "`replace` says to remove those atoms, and replace them with a port\n",
    "\n",
    "When the port is created, it defaults to using the orientation that already existed between the hydrogen atom and the atom it was bonded to. "
   ]
  },
  {
   "cell_type": "code",
   "execution_count": 12,
   "metadata": {},
   "outputs": [
    {
     "name": "stdout",
     "output_type": "stream",
     "text": [
      "Before passing the compound into add_monomer()\n"
     ]
    },
    {
     "name": "stderr",
     "output_type": "stream",
     "text": [
      "/home/chris/miniconda3/envs/mosdev/lib/python3.7/site-packages/ipykernel/ipkernel.py:283: DeprecationWarning: `should_run_async` will not call `transform_cell` automatically in the future. Please pass the result to `transformed_cell` argument and any exception that happen during thetransform in `preprocessing_exc_tuple` in IPython 7.17 and above.\n",
      "  and should_run_async(code)\n"
     ]
    },
    {
     "data": {
      "application/3dmoljs_load.v0": "<div id=\"3dmolviewer_1617746277778898\"  style=\"position: relative; width: 640px; height: 480px\">\n        <p id=\"3dmolwarning_1617746277778898\" style=\"background-color:#ffcccc;color:black\">You appear to be running in JupyterLab (or JavaScript failed to load for some other reason).  You need to install the 3dmol extension: <br>\n        <tt>jupyter labextension install jupyterlab_3dmol</tt></p>\n        </div>\n<script>\n\nvar loadScriptAsync = function(uri){\n  return new Promise((resolve, reject) => {\n    var tag = document.createElement('script');\n    tag.src = uri;\n    tag.async = true;\n    tag.onload = () => {\n      resolve();\n    };\n  var firstScriptTag = document.getElementsByTagName('script')[0];\n  firstScriptTag.parentNode.insertBefore(tag, firstScriptTag);\n});\n};\n\nif(typeof $3Dmolpromise === 'undefined') {\n$3Dmolpromise = null;\n  $3Dmolpromise = loadScriptAsync('https://3dmol.csb.pitt.edu/build/3Dmol.js');\n}\n\nvar viewer_1617746277778898 = null;\nvar warn = document.getElementById(\"3dmolwarning_1617746277778898\");\nif(warn) {\n    warn.parentNode.removeChild(warn);\n}\n$3Dmolpromise.then(function() {\nviewer_1617746277778898 = $3Dmol.createViewer($(\"#3dmolviewer_1617746277778898\"),{backgroundColor:\"white\"});\n\tviewer_1617746277778898.addModel(\"@<TRIPOS>MOLECULE\\nRES\\n36 38 1 0 1\\nSMALL\\nNO_CHARGES\\n@<TRIPOS>CRYSIN\\n   15.2663    12.9793    13.6307    90.0000    90.0000    90.0000  1  1\\n@<TRIPOS>ATOM\\n       1 O            2.2555    -0.0890     0.0234 O             1 RES     \\n       2 C            0.8942    -0.0179     0.0028 C             1 RES     \\n       3 C            0.2331     1.2082     0.0031 C             1 RES     \\n       4 C           -1.1627     1.2359    -0.0186 C             1 RES     \\n       5 C           -1.8811     0.0403    -0.0381 C             1 RES     \\n       6 O           -3.2546     0.1282    -0.0519 O             1 RES     \\n       7 C           -3.9636    -0.4638     0.9729 C             1 RES     \\n       8 C           -5.3573    -0.4116     0.8735 C             1 RES     \\n       9 C           -6.1574    -0.9981     1.8627 C             1 RES     \\n      10 C           -5.5659    -1.6572     2.9501 C             1 RES     \\n      11 C           -6.4269    -2.3064     3.9716 C             1 RES     \\n      12 O           -7.6523    -2.3186     3.8307 O             1 RES     \\n      13 C           -5.8624    -2.9528     5.1768 C             1 RES     \\n      14 C           -6.2625    -4.2547     5.4903 C             1 RES     \\n      15 C           -5.8848    -4.8165     6.7097 C             1 RES     \\n      16 C           -5.0500    -4.1099     7.5775 C             1 RES     \\n      17 C           -4.6084    -2.8305     7.2412 C             1 RES     \\n      18 C           -5.0313    -2.2408     6.0511 C             1 RES     \\n      19 C           -4.1747    -1.7084     3.0384 C             1 RES     \\n      20 C           -3.3847    -1.0837     2.0806 C             1 RES     \\n      21 C           -1.2081    -1.1863    -0.0784 C             1 RES     \\n      22 C            0.1852    -1.2139    -0.0266 C             1 RES     \\n      23 H            2.6140     0.8127    -0.0196 H             1 RES     \\n      24 H            0.7818     2.1440     0.0253 H             1 RES     \\n      25 H           -1.6907     2.1854    -0.0089 H             1 RES     \\n      26 H           -5.8271     0.0869     0.0283 H             1 RES     \\n      27 H           -7.2422    -0.9477     1.7757 H             1 RES     \\n      28 H           -6.8864    -4.8186     4.8001 H             1 RES     \\n      29 H           -6.2645    -5.7939     6.9967 H             1 RES     \\n      30 H           -4.7552    -4.5523     8.5259 H             1 RES     \\n      31 H           -3.9659    -2.2782     7.9224 H             1 RES     \\n      32 H           -4.7225    -1.2241     5.8231 H             1 RES     \\n      33 H           -3.6624    -2.2273     3.8406 H             1 RES     \\n      34 H           -2.3106    -1.1169     2.2280 H             1 RES     \\n      35 H           -1.7632    -2.1202    -0.1048 H             1 RES     \\n      36 H            0.7141    -2.1626    -0.0094 H             1 RES     \\n@<TRIPOS>BOND\\n       1       28       14 1\\n       2       27        9 1\\n       3        1       23 1\\n       4        4        5 1\\n       5       10       19 1\\n       6        8        9 1\\n       7       16       17 1\\n       8       18       32 1\\n       9       26        8 1\\n      10       16       15 1\\n      11       11       12 1\\n      12       10        9 1\\n      13        3        4 1\\n      14       16       30 1\\n      15       34       20 1\\n      16       22       36 1\\n      17       21        5 1\\n      18        3       24 1\\n      19       25        4 1\\n      20       29       15 1\\n      21        2        1 1\\n      22       22       21 1\\n      23        7       20 1\\n      24       18       13 1\\n      25       11       13 1\\n      26       18       17 1\\n      27       14       13 1\\n      28        2        3 1\\n      29       11       10 1\\n      30       22        2 1\\n      31        7        8 1\\n      32       17       31 1\\n      33       21       35 1\\n      34       33       19 1\\n      35        5        6 1\\n      36       14       15 1\\n      37       19       20 1\\n      38        7        6 1\\n@<TRIPOS>SUBSTRUCTURE\\n       1 RES             1 RESIDUE    0 **** ROOT      0\\n\",\"mol2\");\n\tviewer_1617746277778898.setStyle({\"stick\": {\"radius\": 0.2, \"color\": \"grey\"}, \"sphere\": {\"scale\": 0.3, \"colorscheme\": {}}});\n\tviewer_1617746277778898.zoomTo();\nviewer_1617746277778898.render();\n});\n</script>",
      "text/html": [
       "<div id=\"3dmolviewer_1617746277778898\"  style=\"position: relative; width: 640px; height: 480px\">\n",
       "        <p id=\"3dmolwarning_1617746277778898\" style=\"background-color:#ffcccc;color:black\">You appear to be running in JupyterLab (or JavaScript failed to load for some other reason).  You need to install the 3dmol extension: <br>\n",
       "        <tt>jupyter labextension install jupyterlab_3dmol</tt></p>\n",
       "        </div>\n",
       "<script>\n",
       "\n",
       "var loadScriptAsync = function(uri){\n",
       "  return new Promise((resolve, reject) => {\n",
       "    var tag = document.createElement('script');\n",
       "    tag.src = uri;\n",
       "    tag.async = true;\n",
       "    tag.onload = () => {\n",
       "      resolve();\n",
       "    };\n",
       "  var firstScriptTag = document.getElementsByTagName('script')[0];\n",
       "  firstScriptTag.parentNode.insertBefore(tag, firstScriptTag);\n",
       "});\n",
       "};\n",
       "\n",
       "if(typeof $3Dmolpromise === 'undefined') {\n",
       "$3Dmolpromise = null;\n",
       "  $3Dmolpromise = loadScriptAsync('https://3dmol.csb.pitt.edu/build/3Dmol.js');\n",
       "}\n",
       "\n",
       "var viewer_1617746277778898 = null;\n",
       "var warn = document.getElementById(\"3dmolwarning_1617746277778898\");\n",
       "if(warn) {\n",
       "    warn.parentNode.removeChild(warn);\n",
       "}\n",
       "$3Dmolpromise.then(function() {\n",
       "viewer_1617746277778898 = $3Dmol.createViewer($(\"#3dmolviewer_1617746277778898\"),{backgroundColor:\"white\"});\n",
       "\tviewer_1617746277778898.addModel(\"@<TRIPOS>MOLECULE\\nRES\\n36 38 1 0 1\\nSMALL\\nNO_CHARGES\\n@<TRIPOS>CRYSIN\\n   15.2663    12.9793    13.6307    90.0000    90.0000    90.0000  1  1\\n@<TRIPOS>ATOM\\n       1 O            2.2555    -0.0890     0.0234 O             1 RES     \\n       2 C            0.8942    -0.0179     0.0028 C             1 RES     \\n       3 C            0.2331     1.2082     0.0031 C             1 RES     \\n       4 C           -1.1627     1.2359    -0.0186 C             1 RES     \\n       5 C           -1.8811     0.0403    -0.0381 C             1 RES     \\n       6 O           -3.2546     0.1282    -0.0519 O             1 RES     \\n       7 C           -3.9636    -0.4638     0.9729 C             1 RES     \\n       8 C           -5.3573    -0.4116     0.8735 C             1 RES     \\n       9 C           -6.1574    -0.9981     1.8627 C             1 RES     \\n      10 C           -5.5659    -1.6572     2.9501 C             1 RES     \\n      11 C           -6.4269    -2.3064     3.9716 C             1 RES     \\n      12 O           -7.6523    -2.3186     3.8307 O             1 RES     \\n      13 C           -5.8624    -2.9528     5.1768 C             1 RES     \\n      14 C           -6.2625    -4.2547     5.4903 C             1 RES     \\n      15 C           -5.8848    -4.8165     6.7097 C             1 RES     \\n      16 C           -5.0500    -4.1099     7.5775 C             1 RES     \\n      17 C           -4.6084    -2.8305     7.2412 C             1 RES     \\n      18 C           -5.0313    -2.2408     6.0511 C             1 RES     \\n      19 C           -4.1747    -1.7084     3.0384 C             1 RES     \\n      20 C           -3.3847    -1.0837     2.0806 C             1 RES     \\n      21 C           -1.2081    -1.1863    -0.0784 C             1 RES     \\n      22 C            0.1852    -1.2139    -0.0266 C             1 RES     \\n      23 H            2.6140     0.8127    -0.0196 H             1 RES     \\n      24 H            0.7818     2.1440     0.0253 H             1 RES     \\n      25 H           -1.6907     2.1854    -0.0089 H             1 RES     \\n      26 H           -5.8271     0.0869     0.0283 H             1 RES     \\n      27 H           -7.2422    -0.9477     1.7757 H             1 RES     \\n      28 H           -6.8864    -4.8186     4.8001 H             1 RES     \\n      29 H           -6.2645    -5.7939     6.9967 H             1 RES     \\n      30 H           -4.7552    -4.5523     8.5259 H             1 RES     \\n      31 H           -3.9659    -2.2782     7.9224 H             1 RES     \\n      32 H           -4.7225    -1.2241     5.8231 H             1 RES     \\n      33 H           -3.6624    -2.2273     3.8406 H             1 RES     \\n      34 H           -2.3106    -1.1169     2.2280 H             1 RES     \\n      35 H           -1.7632    -2.1202    -0.1048 H             1 RES     \\n      36 H            0.7141    -2.1626    -0.0094 H             1 RES     \\n@<TRIPOS>BOND\\n       1       28       14 1\\n       2       27        9 1\\n       3        1       23 1\\n       4        4        5 1\\n       5       10       19 1\\n       6        8        9 1\\n       7       16       17 1\\n       8       18       32 1\\n       9       26        8 1\\n      10       16       15 1\\n      11       11       12 1\\n      12       10        9 1\\n      13        3        4 1\\n      14       16       30 1\\n      15       34       20 1\\n      16       22       36 1\\n      17       21        5 1\\n      18        3       24 1\\n      19       25        4 1\\n      20       29       15 1\\n      21        2        1 1\\n      22       22       21 1\\n      23        7       20 1\\n      24       18       13 1\\n      25       11       13 1\\n      26       18       17 1\\n      27       14       13 1\\n      28        2        3 1\\n      29       11       10 1\\n      30       22        2 1\\n      31        7        8 1\\n      32       17       31 1\\n      33       21       35 1\\n      34       33       19 1\\n      35        5        6 1\\n      36       14       15 1\\n      37       19       20 1\\n      38        7        6 1\\n@<TRIPOS>SUBSTRUCTURE\\n       1 RES             1 RESIDUE    0 **** ROOT      0\\n\",\"mol2\");\n",
       "\tviewer_1617746277778898.setStyle({\"stick\": {\"radius\": 0.2, \"color\": \"grey\"}, \"sphere\": {\"scale\": 0.3, \"colorscheme\": {}}});\n",
       "\tviewer_1617746277778898.zoomTo();\n",
       "viewer_1617746277778898.render();\n",
       "});\n",
       "</script>"
      ]
     },
     "metadata": {},
     "output_type": "display_data"
    },
    {
     "name": "stdout",
     "output_type": "stream",
     "text": [
      "After passing the compound into add_monomer()\n"
     ]
    },
    {
     "data": {
      "application/3dmoljs_load.v0": "<div id=\"3dmolviewer_16177462777972996\"  style=\"position: relative; width: 640px; height: 480px\">\n        <p id=\"3dmolwarning_16177462777972996\" style=\"background-color:#ffcccc;color:black\">You appear to be running in JupyterLab (or JavaScript failed to load for some other reason).  You need to install the 3dmol extension: <br>\n        <tt>jupyter labextension install jupyterlab_3dmol</tt></p>\n        </div>\n<script>\n\nvar loadScriptAsync = function(uri){\n  return new Promise((resolve, reject) => {\n    var tag = document.createElement('script');\n    tag.src = uri;\n    tag.async = true;\n    tag.onload = () => {\n      resolve();\n    };\n  var firstScriptTag = document.getElementsByTagName('script')[0];\n  firstScriptTag.parentNode.insertBefore(tag, firstScriptTag);\n});\n};\n\nif(typeof $3Dmolpromise === 'undefined') {\n$3Dmolpromise = null;\n  $3Dmolpromise = loadScriptAsync('https://3dmol.csb.pitt.edu/build/3Dmol.js');\n}\n\nvar viewer_16177462777972996 = null;\nvar warn = document.getElementById(\"3dmolwarning_16177462777972996\");\nif(warn) {\n    warn.parentNode.removeChild(warn);\n}\n$3Dmolpromise.then(function() {\nviewer_16177462777972996 = $3Dmol.createViewer($(\"#3dmolviewer_16177462777972996\"),{backgroundColor:\"white\"});\n\tviewer_16177462777972996.addModel(\"@<TRIPOS>MOLECULE\\nRES\\n66 36 2 0 1\\nBIOPOLYMER\\nNO_CHARGES\\n@<TRIPOS>CRYSIN\\n   14.9078    12.9793    13.0271    90.0000    90.0000    90.0000  1  1\\n@<TRIPOS>ATOM\\n       1 O            2.2555    -0.0890     0.0234 O             1 RES     \\n       2 C            0.8942    -0.0179     0.0028 C             1 RES     \\n       3 C            0.2331     1.2082     0.0031 C             1 RES     \\n       4 C           -1.1627     1.2359    -0.0186 C             1 RES     \\n       5 C           -1.8811     0.0403    -0.0381 C             1 RES     \\n       6 O           -3.2546     0.1282    -0.0519 O             1 RES     \\n       7 C           -3.9636    -0.4638     0.9729 C             1 RES     \\n       8 C           -5.3573    -0.4116     0.8735 C             1 RES     \\n       9 C           -6.1574    -0.9981     1.8627 C             1 RES     \\n      10 C           -5.5659    -1.6572     2.9501 C             1 RES     \\n      11 C           -6.4269    -2.3064     3.9716 C             1 RES     \\n      12 O           -7.6523    -2.3186     3.8307 O             1 RES     \\n      13 C           -5.8624    -2.9528     5.1768 C             1 RES     \\n      14 C           -6.2625    -4.2547     5.4903 C             1 RES     \\n      15 C           -5.8848    -4.8165     6.7097 C             1 RES     \\n      16 C           -5.0500    -4.1099     7.5775 C             1 RES     \\n      17 C           -4.6084    -2.8305     7.2412 C             1 RES     \\n      18 C           -5.0313    -2.2408     6.0511 C             1 RES     \\n      19 C           -4.1747    -1.7084     3.0384 C             1 RES     \\n      20 C           -3.3847    -1.0837     2.0806 C             1 RES     \\n      21 C           -1.2081    -1.1863    -0.0784 C             1 RES     \\n      22 C            0.1852    -1.2139    -0.0266 C             1 RES     \\n      23 H            0.7818     2.1440     0.0253 H             1 RES     \\n      24 H           -1.6907     2.1854    -0.0089 H             1 RES     \\n      25 H           -5.8271     0.0869     0.0283 H             1 RES     \\n      26 H           -7.2422    -0.9477     1.7757 H             1 RES     \\n      27 H           -6.8864    -4.8186     4.8001 H             1 RES     \\n      28 H           -6.2645    -5.7939     6.9967 H             1 RES     \\n      29 H           -3.9659    -2.2782     7.9224 H             1 RES     \\n      30 H           -4.7225    -1.2241     5.8231 H             1 RES     \\n      31 H           -3.6624    -2.2273     3.8406 H             1 RES     \\n      32 H           -2.3106    -1.1169     2.2280 H             1 RES     \\n      33 H           -1.7632    -2.1202    -0.1048 H             1 RES     \\n      34 H            0.7141    -2.1626    -0.0094 H             1 RES     \\n      35 VS           2.4902     0.3655    -0.0238 VS            2 PRT     \\n      36 VS           2.5641     0.5512    -0.0326 VS            2 PRT     \\n      37 VS           2.2674     0.3465    -0.0210 VS            2 PRT     \\n      38 VS           2.4172     0.1843     0.0850 VS            2 PRT     \\n      39 VS           2.3748     0.3582    -0.0099 VS            2 PRT     \\n      40 VS           2.3009     0.1726    -0.0011 VS            2 PRT     \\n      41 VS           2.5919     0.3772    -0.0600 VS            2 PRT     \\n      42 VS           2.4714     0.5395     0.0785 VS            2 PRT     \\n      43 VS          -4.8420    -4.3330     8.0607 VS            2 PRT     \\n      44 VS          -4.7878    -4.4144     8.2351 VS            2 PRT     \\n      45 VS          -5.0444    -4.2381     8.0532 VS            2 PRT     \\n      46 VS          -4.9361    -4.3389     7.8579 VS            2 PRT     \\n      47 VS          -4.8578    -4.3292     8.0100 VS            2 PRT     \\n      48 VS          -4.9120    -4.2478     7.8356 VS            2 PRT     \\n      49 VS          -5.0202    -4.4241     8.1309 VS            2 PRT     \\n      50 VS          -4.8204    -4.3233     8.2304 VS            2 PRT     \\n      51 VS           2.5649     0.5533    -0.0327 VS            2 PRT     \\n      52 VS           2.6387     0.7390    -0.0416 VS            2 PRT     \\n      53 VS           2.3421     0.5343    -0.0300 VS            2 PRT     \\n      54 VS           2.4919     0.3721     0.0760 VS            2 PRT     \\n      55 VS           2.4495     0.5461    -0.0189 VS            2 PRT     \\n      56 VS           2.3756     0.3604    -0.0100 VS            2 PRT     \\n      57 VS           2.6666     0.5651    -0.0689 VS            2 PRT     \\n      58 VS           2.5461     0.7273     0.0695 VS            2 PRT     \\n      59 VS          -4.8029    -4.3918     8.1866 VS            2 PRT     \\n      60 VS          -4.7487    -4.4732     8.3611 VS            2 PRT     \\n      61 VS          -5.0052    -4.2969     8.1791 VS            2 PRT     \\n      62 VS          -4.8970    -4.3976     7.9839 VS            2 PRT     \\n      63 VS          -4.8186    -4.3879     8.1360 VS            2 PRT     \\n      64 VS          -4.8729    -4.3065     7.9615 VS            2 PRT     \\n      65 VS          -4.9811    -4.4828     8.2568 VS            2 PRT     \\n      66 VS          -4.7812    -4.3821     8.3564 VS            2 PRT     \\n@<TRIPOS>BOND\\n       1        5        4 1\\n       2        4        3 1\\n       3       26        9 1\\n       4        6        7 1\\n       5       10       19 1\\n       6       16       17 1\\n       7        8        9 1\\n       8       29       17 1\\n       9       14       15 1\\n      10       30       18 1\\n      11       21       22 1\\n      12       22        2 1\\n      13       24        4 1\\n      14       27       14 1\\n      15       20        7 1\\n      16       28       15 1\\n      17        9       10 1\\n      18       13       14 1\\n      19       17       18 1\\n      20       31       19 1\\n      21       20       32 1\\n      22        5        6 1\\n      23        1        2 1\\n      24       20       19 1\\n      25       10       11 1\\n      26       13       18 1\\n      27       11       13 1\\n      28       25        8 1\\n      29       22       34 1\\n      30       21       33 1\\n      31       23        3 1\\n      32       21        5 1\\n      33        7        8 1\\n      34       11       12 1\\n      35       15       16 1\\n      36        2        3 1\\n@<TRIPOS>SUBSTRUCTURE\\n       1 RES             1 RESIDUE    0 **** ROOT      0\\n       2 PRT            35 RESIDUE    0 **** ROOT      0\\n\",\"mol2\");\n\tviewer_16177462777972996.setStyle({\"stick\": {\"radius\": 0.2, \"color\": \"grey\"}, \"sphere\": {\"scale\": 0.3, \"colorscheme\": {}}});\n\tviewer_16177462777972996.zoomTo();\nviewer_16177462777972996.render();\n});\n</script>",
      "text/html": [
       "<div id=\"3dmolviewer_16177462777972996\"  style=\"position: relative; width: 640px; height: 480px\">\n",
       "        <p id=\"3dmolwarning_16177462777972996\" style=\"background-color:#ffcccc;color:black\">You appear to be running in JupyterLab (or JavaScript failed to load for some other reason).  You need to install the 3dmol extension: <br>\n",
       "        <tt>jupyter labextension install jupyterlab_3dmol</tt></p>\n",
       "        </div>\n",
       "<script>\n",
       "\n",
       "var loadScriptAsync = function(uri){\n",
       "  return new Promise((resolve, reject) => {\n",
       "    var tag = document.createElement('script');\n",
       "    tag.src = uri;\n",
       "    tag.async = true;\n",
       "    tag.onload = () => {\n",
       "      resolve();\n",
       "    };\n",
       "  var firstScriptTag = document.getElementsByTagName('script')[0];\n",
       "  firstScriptTag.parentNode.insertBefore(tag, firstScriptTag);\n",
       "});\n",
       "};\n",
       "\n",
       "if(typeof $3Dmolpromise === 'undefined') {\n",
       "$3Dmolpromise = null;\n",
       "  $3Dmolpromise = loadScriptAsync('https://3dmol.csb.pitt.edu/build/3Dmol.js');\n",
       "}\n",
       "\n",
       "var viewer_16177462777972996 = null;\n",
       "var warn = document.getElementById(\"3dmolwarning_16177462777972996\");\n",
       "if(warn) {\n",
       "    warn.parentNode.removeChild(warn);\n",
       "}\n",
       "$3Dmolpromise.then(function() {\n",
       "viewer_16177462777972996 = $3Dmol.createViewer($(\"#3dmolviewer_16177462777972996\"),{backgroundColor:\"white\"});\n",
       "\tviewer_16177462777972996.addModel(\"@<TRIPOS>MOLECULE\\nRES\\n66 36 2 0 1\\nBIOPOLYMER\\nNO_CHARGES\\n@<TRIPOS>CRYSIN\\n   14.9078    12.9793    13.0271    90.0000    90.0000    90.0000  1  1\\n@<TRIPOS>ATOM\\n       1 O            2.2555    -0.0890     0.0234 O             1 RES     \\n       2 C            0.8942    -0.0179     0.0028 C             1 RES     \\n       3 C            0.2331     1.2082     0.0031 C             1 RES     \\n       4 C           -1.1627     1.2359    -0.0186 C             1 RES     \\n       5 C           -1.8811     0.0403    -0.0381 C             1 RES     \\n       6 O           -3.2546     0.1282    -0.0519 O             1 RES     \\n       7 C           -3.9636    -0.4638     0.9729 C             1 RES     \\n       8 C           -5.3573    -0.4116     0.8735 C             1 RES     \\n       9 C           -6.1574    -0.9981     1.8627 C             1 RES     \\n      10 C           -5.5659    -1.6572     2.9501 C             1 RES     \\n      11 C           -6.4269    -2.3064     3.9716 C             1 RES     \\n      12 O           -7.6523    -2.3186     3.8307 O             1 RES     \\n      13 C           -5.8624    -2.9528     5.1768 C             1 RES     \\n      14 C           -6.2625    -4.2547     5.4903 C             1 RES     \\n      15 C           -5.8848    -4.8165     6.7097 C             1 RES     \\n      16 C           -5.0500    -4.1099     7.5775 C             1 RES     \\n      17 C           -4.6084    -2.8305     7.2412 C             1 RES     \\n      18 C           -5.0313    -2.2408     6.0511 C             1 RES     \\n      19 C           -4.1747    -1.7084     3.0384 C             1 RES     \\n      20 C           -3.3847    -1.0837     2.0806 C             1 RES     \\n      21 C           -1.2081    -1.1863    -0.0784 C             1 RES     \\n      22 C            0.1852    -1.2139    -0.0266 C             1 RES     \\n      23 H            0.7818     2.1440     0.0253 H             1 RES     \\n      24 H           -1.6907     2.1854    -0.0089 H             1 RES     \\n      25 H           -5.8271     0.0869     0.0283 H             1 RES     \\n      26 H           -7.2422    -0.9477     1.7757 H             1 RES     \\n      27 H           -6.8864    -4.8186     4.8001 H             1 RES     \\n      28 H           -6.2645    -5.7939     6.9967 H             1 RES     \\n      29 H           -3.9659    -2.2782     7.9224 H             1 RES     \\n      30 H           -4.7225    -1.2241     5.8231 H             1 RES     \\n      31 H           -3.6624    -2.2273     3.8406 H             1 RES     \\n      32 H           -2.3106    -1.1169     2.2280 H             1 RES     \\n      33 H           -1.7632    -2.1202    -0.1048 H             1 RES     \\n      34 H            0.7141    -2.1626    -0.0094 H             1 RES     \\n      35 VS           2.4902     0.3655    -0.0238 VS            2 PRT     \\n      36 VS           2.5641     0.5512    -0.0326 VS            2 PRT     \\n      37 VS           2.2674     0.3465    -0.0210 VS            2 PRT     \\n      38 VS           2.4172     0.1843     0.0850 VS            2 PRT     \\n      39 VS           2.3748     0.3582    -0.0099 VS            2 PRT     \\n      40 VS           2.3009     0.1726    -0.0011 VS            2 PRT     \\n      41 VS           2.5919     0.3772    -0.0600 VS            2 PRT     \\n      42 VS           2.4714     0.5395     0.0785 VS            2 PRT     \\n      43 VS          -4.8420    -4.3330     8.0607 VS            2 PRT     \\n      44 VS          -4.7878    -4.4144     8.2351 VS            2 PRT     \\n      45 VS          -5.0444    -4.2381     8.0532 VS            2 PRT     \\n      46 VS          -4.9361    -4.3389     7.8579 VS            2 PRT     \\n      47 VS          -4.8578    -4.3292     8.0100 VS            2 PRT     \\n      48 VS          -4.9120    -4.2478     7.8356 VS            2 PRT     \\n      49 VS          -5.0202    -4.4241     8.1309 VS            2 PRT     \\n      50 VS          -4.8204    -4.3233     8.2304 VS            2 PRT     \\n      51 VS           2.5649     0.5533    -0.0327 VS            2 PRT     \\n      52 VS           2.6387     0.7390    -0.0416 VS            2 PRT     \\n      53 VS           2.3421     0.5343    -0.0300 VS            2 PRT     \\n      54 VS           2.4919     0.3721     0.0760 VS            2 PRT     \\n      55 VS           2.4495     0.5461    -0.0189 VS            2 PRT     \\n      56 VS           2.3756     0.3604    -0.0100 VS            2 PRT     \\n      57 VS           2.6666     0.5651    -0.0689 VS            2 PRT     \\n      58 VS           2.5461     0.7273     0.0695 VS            2 PRT     \\n      59 VS          -4.8029    -4.3918     8.1866 VS            2 PRT     \\n      60 VS          -4.7487    -4.4732     8.3611 VS            2 PRT     \\n      61 VS          -5.0052    -4.2969     8.1791 VS            2 PRT     \\n      62 VS          -4.8970    -4.3976     7.9839 VS            2 PRT     \\n      63 VS          -4.8186    -4.3879     8.1360 VS            2 PRT     \\n      64 VS          -4.8729    -4.3065     7.9615 VS            2 PRT     \\n      65 VS          -4.9811    -4.4828     8.2568 VS            2 PRT     \\n      66 VS          -4.7812    -4.3821     8.3564 VS            2 PRT     \\n@<TRIPOS>BOND\\n       1        5        4 1\\n       2        4        3 1\\n       3       26        9 1\\n       4        6        7 1\\n       5       10       19 1\\n       6       16       17 1\\n       7        8        9 1\\n       8       29       17 1\\n       9       14       15 1\\n      10       30       18 1\\n      11       21       22 1\\n      12       22        2 1\\n      13       24        4 1\\n      14       27       14 1\\n      15       20        7 1\\n      16       28       15 1\\n      17        9       10 1\\n      18       13       14 1\\n      19       17       18 1\\n      20       31       19 1\\n      21       20       32 1\\n      22        5        6 1\\n      23        1        2 1\\n      24       20       19 1\\n      25       10       11 1\\n      26       13       18 1\\n      27       11       13 1\\n      28       25        8 1\\n      29       22       34 1\\n      30       21       33 1\\n      31       23        3 1\\n      32       21        5 1\\n      33        7        8 1\\n      34       11       12 1\\n      35       15       16 1\\n      36        2        3 1\\n@<TRIPOS>SUBSTRUCTURE\\n       1 RES             1 RESIDUE    0 **** ROOT      0\\n       2 PRT            35 RESIDUE    0 **** ROOT      0\\n\",\"mol2\");\n",
       "\tviewer_16177462777972996.setStyle({\"stick\": {\"radius\": 0.2, \"color\": \"grey\"}, \"sphere\": {\"scale\": 0.3, \"colorscheme\": {}}});\n",
       "\tviewer_16177462777972996.zoomTo();\n",
       "viewer_16177462777972996.render();\n",
       "});\n",
       "</script>"
      ]
     },
     "metadata": {},
     "output_type": "display_data"
    }
   ],
   "source": [
    "peek_para = mb.load(\"Oc1ccc(Oc2ccc(C(=O)c3ccccc3)cc2)cc1\",smiles=True)\n",
    "print('Before passing the compound into add_monomer()')\n",
    "peek_para.visualize(show_ports=True).show()\n",
    "\n",
    "peek_polymer = Polymer()\n",
    "\n",
    "peek_polymer.add_monomer(compound=peek_para,\n",
    "                         indices = [22, 29],\n",
    "                         separation = 0.1376,\n",
    "                         replace=True\n",
    "                        )\n",
    "print('After passing the compound into add_monomer()')\n",
    "peek_polymer.monomers[0].visualize(show_ports=True).show()"
   ]
  },
  {
   "cell_type": "code",
   "execution_count": 13,
   "metadata": {},
   "outputs": [
    {
     "name": "stdout",
     "output_type": "stream",
     "text": [
      "Before passing the compound into add_end_groups()\n"
     ]
    },
    {
     "name": "stderr",
     "output_type": "stream",
     "text": [
      "/home/chris/miniconda3/envs/mosdev/lib/python3.7/site-packages/ipykernel/ipkernel.py:283: DeprecationWarning: `should_run_async` will not call `transform_cell` automatically in the future. Please pass the result to `transformed_cell` argument and any exception that happen during thetransform in `preprocessing_exc_tuple` in IPython 7.17 and above.\n",
      "  and should_run_async(code)\n"
     ]
    },
    {
     "data": {
      "application/3dmoljs_load.v0": "<div id=\"3dmolviewer_1617746285080978\"  style=\"position: relative; width: 640px; height: 480px\">\n        <p id=\"3dmolwarning_1617746285080978\" style=\"background-color:#ffcccc;color:black\">You appear to be running in JupyterLab (or JavaScript failed to load for some other reason).  You need to install the 3dmol extension: <br>\n        <tt>jupyter labextension install jupyterlab_3dmol</tt></p>\n        </div>\n<script>\n\nvar loadScriptAsync = function(uri){\n  return new Promise((resolve, reject) => {\n    var tag = document.createElement('script');\n    tag.src = uri;\n    tag.async = true;\n    tag.onload = () => {\n      resolve();\n    };\n  var firstScriptTag = document.getElementsByTagName('script')[0];\n  firstScriptTag.parentNode.insertBefore(tag, firstScriptTag);\n});\n};\n\nif(typeof $3Dmolpromise === 'undefined') {\n$3Dmolpromise = null;\n  $3Dmolpromise = loadScriptAsync('https://3dmol.csb.pitt.edu/build/3Dmol.js');\n}\n\nvar viewer_1617746285080978 = null;\nvar warn = document.getElementById(\"3dmolwarning_1617746285080978\");\nif(warn) {\n    warn.parentNode.removeChild(warn);\n}\n$3Dmolpromise.then(function() {\nviewer_1617746285080978 = $3Dmol.createViewer($(\"#3dmolviewer_1617746285080978\"),{backgroundColor:\"white\"});\n\tviewer_1617746285080978.addModel(\"@<TRIPOS>MOLECULE\\nRES\\n5 4 1 0 1\\nSMALL\\nNO_CHARGES\\n@<TRIPOS>CRYSIN\\n    7.3711     6.1667     6.6705    90.0000    90.0000    90.0000  1  1\\n@<TRIPOS>ATOM\\n       1 C            0.9651     0.0708    -0.1179 C             1 RES     \\n       2 O            0.2991     0.6546    -0.9539 O             1 RES     \\n       3 O            2.3112     0.0573    -0.0985 O             1 RES     \\n       4 H            0.5453    -0.5121     0.7167 H             1 RES     \\n       5 H            2.6702    -0.4625     0.6457 H             1 RES     \\n@<TRIPOS>BOND\\n       1        4        1 1\\n       2        3        1 1\\n       3        3        5 1\\n       4        2        1 1\\n@<TRIPOS>SUBSTRUCTURE\\n       1 RES             1 RESIDUE    0 **** ROOT      0\\n\",\"mol2\");\n\tviewer_1617746285080978.setStyle({\"stick\": {\"radius\": 0.2, \"color\": \"grey\"}, \"sphere\": {\"scale\": 0.3, \"colorscheme\": {}}});\n\tviewer_1617746285080978.zoomTo();\nviewer_1617746285080978.render();\n});\n</script>",
      "text/html": [
       "<div id=\"3dmolviewer_1617746285080978\"  style=\"position: relative; width: 640px; height: 480px\">\n",
       "        <p id=\"3dmolwarning_1617746285080978\" style=\"background-color:#ffcccc;color:black\">You appear to be running in JupyterLab (or JavaScript failed to load for some other reason).  You need to install the 3dmol extension: <br>\n",
       "        <tt>jupyter labextension install jupyterlab_3dmol</tt></p>\n",
       "        </div>\n",
       "<script>\n",
       "\n",
       "var loadScriptAsync = function(uri){\n",
       "  return new Promise((resolve, reject) => {\n",
       "    var tag = document.createElement('script');\n",
       "    tag.src = uri;\n",
       "    tag.async = true;\n",
       "    tag.onload = () => {\n",
       "      resolve();\n",
       "    };\n",
       "  var firstScriptTag = document.getElementsByTagName('script')[0];\n",
       "  firstScriptTag.parentNode.insertBefore(tag, firstScriptTag);\n",
       "});\n",
       "};\n",
       "\n",
       "if(typeof $3Dmolpromise === 'undefined') {\n",
       "$3Dmolpromise = null;\n",
       "  $3Dmolpromise = loadScriptAsync('https://3dmol.csb.pitt.edu/build/3Dmol.js');\n",
       "}\n",
       "\n",
       "var viewer_1617746285080978 = null;\n",
       "var warn = document.getElementById(\"3dmolwarning_1617746285080978\");\n",
       "if(warn) {\n",
       "    warn.parentNode.removeChild(warn);\n",
       "}\n",
       "$3Dmolpromise.then(function() {\n",
       "viewer_1617746285080978 = $3Dmol.createViewer($(\"#3dmolviewer_1617746285080978\"),{backgroundColor:\"white\"});\n",
       "\tviewer_1617746285080978.addModel(\"@<TRIPOS>MOLECULE\\nRES\\n5 4 1 0 1\\nSMALL\\nNO_CHARGES\\n@<TRIPOS>CRYSIN\\n    7.3711     6.1667     6.6705    90.0000    90.0000    90.0000  1  1\\n@<TRIPOS>ATOM\\n       1 C            0.9651     0.0708    -0.1179 C             1 RES     \\n       2 O            0.2991     0.6546    -0.9539 O             1 RES     \\n       3 O            2.3112     0.0573    -0.0985 O             1 RES     \\n       4 H            0.5453    -0.5121     0.7167 H             1 RES     \\n       5 H            2.6702    -0.4625     0.6457 H             1 RES     \\n@<TRIPOS>BOND\\n       1        4        1 1\\n       2        3        1 1\\n       3        3        5 1\\n       4        2        1 1\\n@<TRIPOS>SUBSTRUCTURE\\n       1 RES             1 RESIDUE    0 **** ROOT      0\\n\",\"mol2\");\n",
       "\tviewer_1617746285080978.setStyle({\"stick\": {\"radius\": 0.2, \"color\": \"grey\"}, \"sphere\": {\"scale\": 0.3, \"colorscheme\": {}}});\n",
       "\tviewer_1617746285080978.zoomTo();\n",
       "viewer_1617746285080978.render();\n",
       "});\n",
       "</script>"
      ]
     },
     "metadata": {},
     "output_type": "display_data"
    },
    {
     "name": "stdout",
     "output_type": "stream",
     "text": [
      "After passing the compound into add_end_groups()\n"
     ]
    },
    {
     "data": {
      "application/3dmoljs_load.v0": "<div id=\"3dmolviewer_16177462850874517\"  style=\"position: relative; width: 640px; height: 480px\">\n        <p id=\"3dmolwarning_16177462850874517\" style=\"background-color:#ffcccc;color:black\">You appear to be running in JupyterLab (or JavaScript failed to load for some other reason).  You need to install the 3dmol extension: <br>\n        <tt>jupyter labextension install jupyterlab_3dmol</tt></p>\n        </div>\n<script>\n\nvar loadScriptAsync = function(uri){\n  return new Promise((resolve, reject) => {\n    var tag = document.createElement('script');\n    tag.src = uri;\n    tag.async = true;\n    tag.onload = () => {\n      resolve();\n    };\n  var firstScriptTag = document.getElementsByTagName('script')[0];\n  firstScriptTag.parentNode.insertBefore(tag, firstScriptTag);\n});\n};\n\nif(typeof $3Dmolpromise === 'undefined') {\n$3Dmolpromise = null;\n  $3Dmolpromise = loadScriptAsync('https://3dmol.csb.pitt.edu/build/3Dmol.js');\n}\n\nvar viewer_16177462850874517 = null;\nvar warn = document.getElementById(\"3dmolwarning_16177462850874517\");\nif(warn) {\n    warn.parentNode.removeChild(warn);\n}\n$3Dmolpromise.then(function() {\nviewer_16177462850874517 = $3Dmol.createViewer($(\"#3dmolviewer_16177462850874517\"),{backgroundColor:\"white\"});\n\tviewer_16177462850874517.addModel(\"@<TRIPOS>MOLECULE\\nRES\\n20 3 2 0 1\\nBIOPOLYMER\\nNO_CHARGES\\n@<TRIPOS>CRYSIN\\n    7.3711     6.1171     6.5996    90.0000    90.0000    90.0000  1  1\\n@<TRIPOS>ATOM\\n       1 C            0.9651     0.0708    -0.1179 C             1 RES     \\n       2 O            0.2991     0.6546    -0.9539 O             1 RES     \\n       3 O            2.3112     0.0573    -0.0985 O             1 RES     \\n       4 H            2.6702    -0.4625     0.6457 H             1 RES     \\n       5 VS           0.7649    -0.1959     0.3545 VS            2 PRT     \\n       6 VS           0.6887    -0.3017     0.5061 VS            2 PRT     \\n       7 VS           0.6648    -0.2192     0.1560 VS            2 PRT     \\n       8 VS           0.9026    -0.1658     0.1809 VS            2 PRT     \\n       9 VS           0.8053    -0.2454     0.2743 VS            2 PRT     \\n      10 VS           0.8815    -0.1395     0.1227 VS            2 PRT     \\n      11 VS           0.5862    -0.2221     0.3123 VS            2 PRT     \\n      12 VS           0.7479    -0.2755     0.4883 VS            2 PRT     \\n      13 VS           0.7270    -0.2485     0.4299 VS            2 PRT     \\n      14 VS           0.6508    -0.3544     0.5815 VS            2 PRT     \\n      15 VS           0.6269    -0.2718     0.2313 VS            2 PRT     \\n      16 VS           0.8646    -0.2184     0.2563 VS            2 PRT     \\n      17 VS           0.7674    -0.2980     0.3497 VS            2 PRT     \\n      18 VS           0.8436    -0.1922     0.1981 VS            2 PRT     \\n      19 VS           0.5483    -0.2747     0.3877 VS            2 PRT     \\n      20 VS           0.7100    -0.3281     0.5637 VS            2 PRT     \\n@<TRIPOS>BOND\\n       1        1        2 1\\n       2        1        3 1\\n       3        3        4 1\\n@<TRIPOS>SUBSTRUCTURE\\n       1 RES             1 RESIDUE    0 **** ROOT      0\\n       2 PRT             5 RESIDUE    0 **** ROOT      0\\n\",\"mol2\");\n\tviewer_16177462850874517.setStyle({\"stick\": {\"radius\": 0.2, \"color\": \"grey\"}, \"sphere\": {\"scale\": 0.3, \"colorscheme\": {}}});\n\tviewer_16177462850874517.zoomTo();\nviewer_16177462850874517.render();\n});\n</script>",
      "text/html": [
       "<div id=\"3dmolviewer_16177462850874517\"  style=\"position: relative; width: 640px; height: 480px\">\n",
       "        <p id=\"3dmolwarning_16177462850874517\" style=\"background-color:#ffcccc;color:black\">You appear to be running in JupyterLab (or JavaScript failed to load for some other reason).  You need to install the 3dmol extension: <br>\n",
       "        <tt>jupyter labextension install jupyterlab_3dmol</tt></p>\n",
       "        </div>\n",
       "<script>\n",
       "\n",
       "var loadScriptAsync = function(uri){\n",
       "  return new Promise((resolve, reject) => {\n",
       "    var tag = document.createElement('script');\n",
       "    tag.src = uri;\n",
       "    tag.async = true;\n",
       "    tag.onload = () => {\n",
       "      resolve();\n",
       "    };\n",
       "  var firstScriptTag = document.getElementsByTagName('script')[0];\n",
       "  firstScriptTag.parentNode.insertBefore(tag, firstScriptTag);\n",
       "});\n",
       "};\n",
       "\n",
       "if(typeof $3Dmolpromise === 'undefined') {\n",
       "$3Dmolpromise = null;\n",
       "  $3Dmolpromise = loadScriptAsync('https://3dmol.csb.pitt.edu/build/3Dmol.js');\n",
       "}\n",
       "\n",
       "var viewer_16177462850874517 = null;\n",
       "var warn = document.getElementById(\"3dmolwarning_16177462850874517\");\n",
       "if(warn) {\n",
       "    warn.parentNode.removeChild(warn);\n",
       "}\n",
       "$3Dmolpromise.then(function() {\n",
       "viewer_16177462850874517 = $3Dmol.createViewer($(\"#3dmolviewer_16177462850874517\"),{backgroundColor:\"white\"});\n",
       "\tviewer_16177462850874517.addModel(\"@<TRIPOS>MOLECULE\\nRES\\n20 3 2 0 1\\nBIOPOLYMER\\nNO_CHARGES\\n@<TRIPOS>CRYSIN\\n    7.3711     6.1171     6.5996    90.0000    90.0000    90.0000  1  1\\n@<TRIPOS>ATOM\\n       1 C            0.9651     0.0708    -0.1179 C             1 RES     \\n       2 O            0.2991     0.6546    -0.9539 O             1 RES     \\n       3 O            2.3112     0.0573    -0.0985 O             1 RES     \\n       4 H            2.6702    -0.4625     0.6457 H             1 RES     \\n       5 VS           0.7649    -0.1959     0.3545 VS            2 PRT     \\n       6 VS           0.6887    -0.3017     0.5061 VS            2 PRT     \\n       7 VS           0.6648    -0.2192     0.1560 VS            2 PRT     \\n       8 VS           0.9026    -0.1658     0.1809 VS            2 PRT     \\n       9 VS           0.8053    -0.2454     0.2743 VS            2 PRT     \\n      10 VS           0.8815    -0.1395     0.1227 VS            2 PRT     \\n      11 VS           0.5862    -0.2221     0.3123 VS            2 PRT     \\n      12 VS           0.7479    -0.2755     0.4883 VS            2 PRT     \\n      13 VS           0.7270    -0.2485     0.4299 VS            2 PRT     \\n      14 VS           0.6508    -0.3544     0.5815 VS            2 PRT     \\n      15 VS           0.6269    -0.2718     0.2313 VS            2 PRT     \\n      16 VS           0.8646    -0.2184     0.2563 VS            2 PRT     \\n      17 VS           0.7674    -0.2980     0.3497 VS            2 PRT     \\n      18 VS           0.8436    -0.1922     0.1981 VS            2 PRT     \\n      19 VS           0.5483    -0.2747     0.3877 VS            2 PRT     \\n      20 VS           0.7100    -0.3281     0.5637 VS            2 PRT     \\n@<TRIPOS>BOND\\n       1        1        2 1\\n       2        1        3 1\\n       3        3        4 1\\n@<TRIPOS>SUBSTRUCTURE\\n       1 RES             1 RESIDUE    0 **** ROOT      0\\n       2 PRT             5 RESIDUE    0 **** ROOT      0\\n\",\"mol2\");\n",
       "\tviewer_16177462850874517.setStyle({\"stick\": {\"radius\": 0.2, \"color\": \"grey\"}, \"sphere\": {\"scale\": 0.3, \"colorscheme\": {}}});\n",
       "\tviewer_16177462850874517.zoomTo();\n",
       "viewer_16177462850874517.render();\n",
       "});\n",
       "</script>"
      ]
     },
     "metadata": {},
     "output_type": "display_data"
    }
   ],
   "source": [
    "# Same thing with the end group\n",
    "ca = mb.load('C(=O)O', smiles=True)\n",
    "print('Before passing the compound into add_end_groups()')\n",
    "ca.visualize(show_ports=True).show()\n",
    "\n",
    "peek_polymer.add_end_groups(ca,\n",
    "                            index=3,\n",
    "                            separation=0.13,\n",
    "                            replace=True)\n",
    "\n",
    "# ca[3] is the hydrogen bonded to the carbon atom\n",
    "\n",
    "print('After passing the compound into add_end_groups()')\n",
    "peek_polymer.end_groups[0].visualize(show_ports=True).show()"
   ]
  },
  {
   "cell_type": "markdown",
   "metadata": {},
   "source": [
    "# Not using the add_monomer and add_end_group functions\n",
    "- So far, the examples call these functions everytime to create a polymer, but they are optional\n",
    "- These functions basically handle the creation of ports.\n",
    "- If you have a compound where the ports already exist, or you want to add them yourself you can pass them into the polymer class instance, and go straight to the build() function.\n",
    "- However, you can use both approaches for the same polymer. Passing in compounds when initializing a polymer, and then adding to self.monomers or self.end_groups with the add functions."
   ]
  },
  {
   "cell_type": "code",
   "execution_count": 14,
   "metadata": {},
   "outputs": [
    {
     "name": "stderr",
     "output_type": "stream",
     "text": [
      "/home/chris/miniconda3/envs/mosdev/lib/python3.7/site-packages/ipykernel/ipkernel.py:283: DeprecationWarning: `should_run_async` will not call `transform_cell` automatically in the future. Please pass the result to `transformed_cell` argument and any exception that happen during thetransform in `preprocessing_exc_tuple` in IPython 7.17 and above.\n",
      "  and should_run_async(code)\n"
     ]
    },
    {
     "data": {
      "application/3dmoljs_load.v0": "<div id=\"3dmolviewer_16177462991080956\"  style=\"position: relative; width: 640px; height: 480px\">\n        <p id=\"3dmolwarning_16177462991080956\" style=\"background-color:#ffcccc;color:black\">You appear to be running in JupyterLab (or JavaScript failed to load for some other reason).  You need to install the 3dmol extension: <br>\n        <tt>jupyter labextension install jupyterlab_3dmol</tt></p>\n        </div>\n<script>\n\nvar loadScriptAsync = function(uri){\n  return new Promise((resolve, reject) => {\n    var tag = document.createElement('script');\n    tag.src = uri;\n    tag.async = true;\n    tag.onload = () => {\n      resolve();\n    };\n  var firstScriptTag = document.getElementsByTagName('script')[0];\n  firstScriptTag.parentNode.insertBefore(tag, firstScriptTag);\n});\n};\n\nif(typeof $3Dmolpromise === 'undefined') {\n$3Dmolpromise = null;\n  $3Dmolpromise = loadScriptAsync('https://3dmol.csb.pitt.edu/build/3Dmol.js');\n}\n\nvar viewer_16177462991080956 = null;\nvar warn = document.getElementById(\"3dmolwarning_16177462991080956\");\nif(warn) {\n    warn.parentNode.removeChild(warn);\n}\n$3Dmolpromise.then(function() {\nviewer_16177462991080956 = $3Dmol.createViewer($(\"#3dmolviewer_16177462991080956\"),{backgroundColor:\"white\"});\n\tviewer_16177462991080956.addModel(\"@<TRIPOS>MOLECULE\\nRES\\n32 31 1 0 1\\nSMALL\\nNO_CHARGES\\n@<TRIPOS>CRYSIN\\n    7.2000    19.7880     5.0000    90.0000    90.0000    90.0000  1  1\\n@<TRIPOS>ATOM\\n       1 C            0.0000     0.0000     0.0000 C             1 RES     \\n       2 H           -1.1000     0.0000     0.0000 H             1 RES     \\n       3 H            1.1000     0.0000     0.0000 H             1 RES     \\n       4 C            0.0000    -1.4000     0.0000 C             1 RES     \\n       5 H           -1.1000    -1.4000    -0.0000 H             1 RES     \\n       6 H            1.1000    -1.4000     0.0000 H             1 RES     \\n       7 C            0.0000    -2.8000     0.0000 C             1 RES     \\n       8 H           -1.1000    -2.8000     0.0000 H             1 RES     \\n       9 H            1.1000    -2.8000     0.0000 H             1 RES     \\n      10 C            0.0000    -4.2000     0.0000 C             1 RES     \\n      11 H           -1.1000    -4.2000     0.0000 H             1 RES     \\n      12 H            1.1000    -4.2000     0.0000 H             1 RES     \\n      13 C           -0.0000    -5.6000     0.0000 C             1 RES     \\n      14 H           -1.1000    -5.6000     0.0000 H             1 RES     \\n      15 H            1.1000    -5.6000     0.0000 H             1 RES     \\n      16 C           -0.0000    -7.0000     0.0000 C             1 RES     \\n      17 H           -1.1000    -7.0000     0.0000 H             1 RES     \\n      18 H            1.1000    -7.0000     0.0000 H             1 RES     \\n      19 C           -0.0000    -8.4000    -0.0000 C             1 RES     \\n      20 H           -1.1000    -8.4000    -0.0000 H             1 RES     \\n      21 H            1.1000    -8.4000     0.0000 H             1 RES     \\n      22 C           -0.0000    -9.8000    -0.0000 C             1 RES     \\n      23 H           -1.1000    -9.8000    -0.0000 H             1 RES     \\n      24 H            1.1000    -9.8000    -0.0000 H             1 RES     \\n      25 C           -0.0000   -11.2000    -0.0000 C             1 RES     \\n      26 H           -1.1000   -11.2000    -0.0000 H             1 RES     \\n      27 H            1.1000   -11.2000     0.0000 H             1 RES     \\n      28 C           -0.0000   -12.6000    -0.0000 C             1 RES     \\n      29 H           -1.1000   -12.6000    -0.0000 H             1 RES     \\n      30 H            1.1000   -12.6000     0.0000 H             1 RES     \\n      31 H           -0.0000     1.0940     0.0000 H             1 RES     \\n      32 H           -0.0000   -13.6940     0.0000 H             1 RES     \\n@<TRIPOS>BOND\\n       1       16       19 1\\n       2       13       14 1\\n       3        8        7 1\\n       4        3        1 1\\n       5       10       13 1\\n       6       24       22 1\\n       7       19       22 1\\n       8       18       16 1\\n       9       21       19 1\\n      10       17       16 1\\n      11        1       31 1\\n      12       28       32 1\\n      13       26       25 1\\n      14       10        7 1\\n      15        7        4 1\\n      16        2        1 1\\n      17       19       20 1\\n      18       27       25 1\\n      19       15       13 1\\n      20       30       28 1\\n      21       28       29 1\\n      22       22       25 1\\n      23        9        7 1\\n      24        4        5 1\\n      25        4        1 1\\n      26       10       12 1\\n      27       13       16 1\\n      28        6        4 1\\n      29       11       10 1\\n      30       22       23 1\\n      31       28       25 1\\n@<TRIPOS>SUBSTRUCTURE\\n       1 RES             1 RESIDUE    0 **** ROOT      0\\n\",\"mol2\");\n\tviewer_16177462991080956.setStyle({\"stick\": {\"radius\": 0.2, \"color\": \"grey\"}, \"sphere\": {\"scale\": 0.3, \"colorscheme\": {}}});\n\tviewer_16177462991080956.zoomTo();\nviewer_16177462991080956.render();\n});\n</script>",
      "text/html": [
       "<div id=\"3dmolviewer_16177462991080956\"  style=\"position: relative; width: 640px; height: 480px\">\n",
       "        <p id=\"3dmolwarning_16177462991080956\" style=\"background-color:#ffcccc;color:black\">You appear to be running in JupyterLab (or JavaScript failed to load for some other reason).  You need to install the 3dmol extension: <br>\n",
       "        <tt>jupyter labextension install jupyterlab_3dmol</tt></p>\n",
       "        </div>\n",
       "<script>\n",
       "\n",
       "var loadScriptAsync = function(uri){\n",
       "  return new Promise((resolve, reject) => {\n",
       "    var tag = document.createElement('script');\n",
       "    tag.src = uri;\n",
       "    tag.async = true;\n",
       "    tag.onload = () => {\n",
       "      resolve();\n",
       "    };\n",
       "  var firstScriptTag = document.getElementsByTagName('script')[0];\n",
       "  firstScriptTag.parentNode.insertBefore(tag, firstScriptTag);\n",
       "});\n",
       "};\n",
       "\n",
       "if(typeof $3Dmolpromise === 'undefined') {\n",
       "$3Dmolpromise = null;\n",
       "  $3Dmolpromise = loadScriptAsync('https://3dmol.csb.pitt.edu/build/3Dmol.js');\n",
       "}\n",
       "\n",
       "var viewer_16177462991080956 = null;\n",
       "var warn = document.getElementById(\"3dmolwarning_16177462991080956\");\n",
       "if(warn) {\n",
       "    warn.parentNode.removeChild(warn);\n",
       "}\n",
       "$3Dmolpromise.then(function() {\n",
       "viewer_16177462991080956 = $3Dmol.createViewer($(\"#3dmolviewer_16177462991080956\"),{backgroundColor:\"white\"});\n",
       "\tviewer_16177462991080956.addModel(\"@<TRIPOS>MOLECULE\\nRES\\n32 31 1 0 1\\nSMALL\\nNO_CHARGES\\n@<TRIPOS>CRYSIN\\n    7.2000    19.7880     5.0000    90.0000    90.0000    90.0000  1  1\\n@<TRIPOS>ATOM\\n       1 C            0.0000     0.0000     0.0000 C             1 RES     \\n       2 H           -1.1000     0.0000     0.0000 H             1 RES     \\n       3 H            1.1000     0.0000     0.0000 H             1 RES     \\n       4 C            0.0000    -1.4000     0.0000 C             1 RES     \\n       5 H           -1.1000    -1.4000    -0.0000 H             1 RES     \\n       6 H            1.1000    -1.4000     0.0000 H             1 RES     \\n       7 C            0.0000    -2.8000     0.0000 C             1 RES     \\n       8 H           -1.1000    -2.8000     0.0000 H             1 RES     \\n       9 H            1.1000    -2.8000     0.0000 H             1 RES     \\n      10 C            0.0000    -4.2000     0.0000 C             1 RES     \\n      11 H           -1.1000    -4.2000     0.0000 H             1 RES     \\n      12 H            1.1000    -4.2000     0.0000 H             1 RES     \\n      13 C           -0.0000    -5.6000     0.0000 C             1 RES     \\n      14 H           -1.1000    -5.6000     0.0000 H             1 RES     \\n      15 H            1.1000    -5.6000     0.0000 H             1 RES     \\n      16 C           -0.0000    -7.0000     0.0000 C             1 RES     \\n      17 H           -1.1000    -7.0000     0.0000 H             1 RES     \\n      18 H            1.1000    -7.0000     0.0000 H             1 RES     \\n      19 C           -0.0000    -8.4000    -0.0000 C             1 RES     \\n      20 H           -1.1000    -8.4000    -0.0000 H             1 RES     \\n      21 H            1.1000    -8.4000     0.0000 H             1 RES     \\n      22 C           -0.0000    -9.8000    -0.0000 C             1 RES     \\n      23 H           -1.1000    -9.8000    -0.0000 H             1 RES     \\n      24 H            1.1000    -9.8000    -0.0000 H             1 RES     \\n      25 C           -0.0000   -11.2000    -0.0000 C             1 RES     \\n      26 H           -1.1000   -11.2000    -0.0000 H             1 RES     \\n      27 H            1.1000   -11.2000     0.0000 H             1 RES     \\n      28 C           -0.0000   -12.6000    -0.0000 C             1 RES     \\n      29 H           -1.1000   -12.6000    -0.0000 H             1 RES     \\n      30 H            1.1000   -12.6000     0.0000 H             1 RES     \\n      31 H           -0.0000     1.0940     0.0000 H             1 RES     \\n      32 H           -0.0000   -13.6940     0.0000 H             1 RES     \\n@<TRIPOS>BOND\\n       1       16       19 1\\n       2       13       14 1\\n       3        8        7 1\\n       4        3        1 1\\n       5       10       13 1\\n       6       24       22 1\\n       7       19       22 1\\n       8       18       16 1\\n       9       21       19 1\\n      10       17       16 1\\n      11        1       31 1\\n      12       28       32 1\\n      13       26       25 1\\n      14       10        7 1\\n      15        7        4 1\\n      16        2        1 1\\n      17       19       20 1\\n      18       27       25 1\\n      19       15       13 1\\n      20       30       28 1\\n      21       28       29 1\\n      22       22       25 1\\n      23        9        7 1\\n      24        4        5 1\\n      25        4        1 1\\n      26       10       12 1\\n      27       13       16 1\\n      28        6        4 1\\n      29       11       10 1\\n      30       22       23 1\\n      31       28       25 1\\n@<TRIPOS>SUBSTRUCTURE\\n       1 RES             1 RESIDUE    0 **** ROOT      0\\n\",\"mol2\");\n",
       "\tviewer_16177462991080956.setStyle({\"stick\": {\"radius\": 0.2, \"color\": \"grey\"}, \"sphere\": {\"scale\": 0.3, \"colorscheme\": {}}});\n",
       "\tviewer_16177462991080956.zoomTo();\n",
       "viewer_16177462991080956.render();\n",
       "});\n",
       "</script>"
      ]
     },
     "metadata": {},
     "output_type": "display_data"
    },
    {
     "data": {
      "text/plain": [
       "<py3Dmol.view at 0x7fc1310b4550>"
      ]
     },
     "execution_count": 14,
     "metadata": {},
     "output_type": "execute_result"
    }
   ],
   "source": [
    "from mbuild.lib.moieties import ch2\n",
    "\n",
    "chain = Polymer(monomers=[ch2.CH2()])\n",
    "chain.build(n=10, add_hydrogens=True)\n",
    "chain.visualize()"
   ]
  },
  {
   "cell_type": "code",
   "execution_count": 15,
   "metadata": {},
   "outputs": [
    {
     "name": "stderr",
     "output_type": "stream",
     "text": [
      "/home/chris/miniconda3/envs/mosdev/lib/python3.7/site-packages/ipykernel/ipkernel.py:283: DeprecationWarning: `should_run_async` will not call `transform_cell` automatically in the future. Please pass the result to `transformed_cell` argument and any exception that happen during thetransform in `preprocessing_exc_tuple` in IPython 7.17 and above.\n",
      "  and should_run_async(code)\n"
     ]
    },
    {
     "data": {
      "application/3dmoljs_load.v0": "<div id=\"3dmolviewer_16177463175909424\"  style=\"position: relative; width: 640px; height: 480px\">\n        <p id=\"3dmolwarning_16177463175909424\" style=\"background-color:#ffcccc;color:black\">You appear to be running in JupyterLab (or JavaScript failed to load for some other reason).  You need to install the 3dmol extension: <br>\n        <tt>jupyter labextension install jupyterlab_3dmol</tt></p>\n        </div>\n<script>\n\nvar loadScriptAsync = function(uri){\n  return new Promise((resolve, reject) => {\n    var tag = document.createElement('script');\n    tag.src = uri;\n    tag.async = true;\n    tag.onload = () => {\n      resolve();\n    };\n  var firstScriptTag = document.getElementsByTagName('script')[0];\n  firstScriptTag.parentNode.insertBefore(tag, firstScriptTag);\n});\n};\n\nif(typeof $3Dmolpromise === 'undefined') {\n$3Dmolpromise = null;\n  $3Dmolpromise = loadScriptAsync('https://3dmol.csb.pitt.edu/build/3Dmol.js');\n}\n\nvar viewer_16177463175909424 = null;\nvar warn = document.getElementById(\"3dmolwarning_16177463175909424\");\nif(warn) {\n    warn.parentNode.removeChild(warn);\n}\n$3Dmolpromise.then(function() {\nviewer_16177463175909424 = $3Dmol.createViewer($(\"#3dmolviewer_16177463175909424\"),{backgroundColor:\"white\"});\n\tviewer_16177463175909424.addModel(\"@<TRIPOS>MOLECULE\\nRES\\n70 74 1 0 1\\nSMALL\\nNO_CHARGES\\n@<TRIPOS>CRYSIN\\n    9.3196    33.2984     7.2749    90.0000    90.0000    90.0000  1  1\\n@<TRIPOS>ATOM\\n       1 C            0.0000     0.0000     0.0000 C             1 RES     \\n       2 H           -1.1000     0.0000     0.0000 H             1 RES     \\n       3 H            1.1000     0.0000     0.0000 H             1 RES     \\n       4 C           -1.2069    -1.9407     0.0067 C             1 RES     \\n       5 C           -1.2071    -3.3361     0.0127 C             1 RES     \\n       6 C            0.0018    -4.0321     0.0341 C             1 RES     \\n       7 C            1.2086    -3.3353     0.0084 C             1 RES     \\n       8 C            1.2089    -1.9400    -0.0108 C             1 RES     \\n       9 C           -0.0000    -1.2436    -0.0000 C             1 RES     \\n      10 H           -2.1487    -1.3981     0.0101 H             1 RES     \\n      11 H           -2.1473    -3.8797     0.0019 H             1 RES     \\n      12 H            2.1502    -3.8784     0.0027 H             1 RES     \\n      13 H            2.1492    -1.3969    -0.0295 H             1 RES     \\n      14 C            0.0018    -5.2749     0.0764 C             1 RES     \\n      15 H           -1.0981    -5.2747     0.0834 H             1 RES     \\n      16 H            1.1018    -5.2751     0.0694 H             1 RES     \\n      17 C           -1.2049    -7.2141     0.1569 C             1 RES     \\n      18 C           -1.2051    -8.6085     0.2104 C             1 RES     \\n      19 C            0.0040    -9.3035     0.2477 C             1 RES     \\n      20 C            1.2106    -8.6083     0.1907 C             1 RES     \\n      21 C            1.2107    -7.2144     0.1240 C             1 RES     \\n      22 C            0.0019    -6.5178     0.1187 C             1 RES     \\n      23 H           -2.1467    -6.6715     0.1477 H             1 RES     \\n      24 H           -2.1453    -9.1519     0.2240 H             1 RES     \\n      25 H            2.1521    -9.1514     0.1975 H             1 RES     \\n      26 H            2.1509    -6.6724     0.0808 H             1 RES     \\n      27 C            0.0043   -10.5442     0.3324 C             1 RES     \\n      28 H           -1.0956   -10.5436     0.3463 H             1 RES     \\n      29 H            1.1043   -10.5449     0.3184 H             1 RES     \\n      30 C           -1.2018   -12.4793     0.4864 C             1 RES     \\n      31 C           -1.2016   -13.8711     0.5874 C             1 RES     \\n      32 C            0.0077   -14.5646     0.6407 C             1 RES     \\n      33 C            1.2139   -13.8719     0.5524 C             1 RES     \\n      34 C            1.2136   -12.4811     0.4383 C             1 RES     \\n      35 C            0.0047   -11.7849     0.4170 C             1 RES     \\n      36 H           -2.1437   -11.9371     0.4648 H             1 RES     \\n      37 H           -2.1417   -14.4135     0.6255 H             1 RES     \\n      38 H            2.1555   -14.4147     0.5717 H             1 RES     \\n      39 H            2.1534   -11.9412     0.3707 H             1 RES     \\n      40 C            0.0086   -15.8017     0.7675 C             1 RES     \\n      41 H           -1.0912   -15.8004     0.7884 H             1 RES     \\n      42 H            1.1084   -15.8031     0.7467 H             1 RES     \\n      43 C           -1.1965   -17.7302     0.9951 C             1 RES     \\n      44 C           -1.1956   -19.1177     1.1434 C             1 RES     \\n      45 C            0.0141   -19.8093     1.2126 C             1 RES     \\n      46 C            1.2197   -19.1203     1.0931 C             1 RES     \\n      47 C            1.2186   -17.7342     0.9317 C             1 RES     \\n      48 C            0.0096   -17.0388     0.8944 C             1 RES     \\n      49 H           -2.1385   -17.1889     0.9610 H             1 RES     \\n      50 H           -2.1354   -19.6584     1.2058 H             1 RES     \\n      51 H            2.1613   -19.6622     1.1249 H             1 RES     \\n      52 H            2.1580   -17.1970     0.8398 H             1 RES     \\n      53 C            0.0158   -21.0414     1.3814 C             1 RES     \\n      54 H           -1.0838   -21.0392     1.4092 H             1 RES     \\n      55 H            1.1155   -21.0436     1.3536 H             1 RES     \\n      56 C           -1.1878   -22.9608     1.6821 C             1 RES     \\n      57 C           -1.1858   -24.3425     1.8776 C             1 RES     \\n      58 C            0.0242   -25.0315     1.9626 C             1 RES     \\n      59 C            1.2290   -24.3471     1.8121 C             1 RES     \\n      60 C            1.2268   -22.9673     1.6036 C             1 RES     \\n      61 C            0.0176   -22.2735     1.5503 C             1 RES     \\n      62 H           -2.1299   -22.4208     1.6356 H             1 RES     \\n      63 H           -2.1252   -24.8805     1.9644 H             1 RES     \\n      64 H            2.1709   -24.8878     1.8564 H             1 RES     \\n      65 H            2.1656   -22.4337     1.4876 H             1 RES     \\n      66 C           -0.0000     1.5000    -0.0000 C             1 RES     \\n      67 O           -0.9964     2.1887    -0.1269 O             1 RES     \\n      68 O            1.2433     1.9913     0.1584 O             1 RES     \\n      69 H            1.9159     1.2890     0.2441 H             1 RES     \\n      70 H            0.0268   -26.1097     2.1480 H             1 RES     \\n@<TRIPOS>BOND\\n       1       40       41 1\\n       2       27       28 1\\n       3       43       44 1\\n       4       43       49 1\\n       5       56       62 1\\n       6       45       46 1\\n       7       32       33 1\\n       8       34       39 1\\n       9        5       11 1\\n      10        3        1 1\\n      11       22       14 1\\n      12       21       22 1\\n      13       59       60 1\\n      14       44       50 1\\n      15       68       69 1\\n      16       46       47 1\\n      17       33       34 1\\n      18       43       48 1\\n      19       53       55 1\\n      20       14       15 1\\n      21        4       10 1\\n      22        6        7 1\\n      23       20       21 1\\n      24       58       59 1\\n      25       46       51 1\\n      26       40       48 1\\n      27        6        5 1\\n      28       33       38 1\\n      29       45       53 1\\n      30        1        9 1\\n      31       17       22 1\\n      32        4        5 1\\n      33       27       35 1\\n      34        4        9 1\\n      35       14       16 1\\n      36       40       42 1\\n      37       27       29 1\\n      38       30       35 1\\n      39       18       24 1\\n      40       66       68 1\\n      41        7       12 1\\n      42       56       57 1\\n      43       57       58 1\\n      44       60       65 1\\n      45       20       25 1\\n      46       19       20 1\\n      47        6       14 1\\n      48        8        9 1\\n      49       44       45 1\\n      50       58       70 1\\n      51       53       54 1\\n      52       17       18 1\\n      53       30       31 1\\n      54       66       67 1\\n      55       40       32 1\\n      56       17       23 1\\n      57       31       32 1\\n      58       47       48 1\\n      59       34       35 1\\n      60        7        8 1\\n      61       57       63 1\\n      62       56       61 1\\n      63        1        2 1\\n      64       19       27 1\\n      65       31       37 1\\n      66       47       52 1\\n      67       61       53 1\\n      68       60       61 1\\n      69       21       26 1\\n      70       66        1 1\\n      71       18       19 1\\n      72       30       36 1\\n      73       59       64 1\\n      74        8       13 1\\n@<TRIPOS>SUBSTRUCTURE\\n       1 RES             1 RESIDUE    0 **** ROOT      0\\n\",\"mol2\");\n\tviewer_16177463175909424.setStyle({\"stick\": {\"radius\": 0.2, \"color\": \"grey\"}, \"sphere\": {\"scale\": 0.3, \"colorscheme\": {}}});\n\tviewer_16177463175909424.zoomTo();\nviewer_16177463175909424.render();\n});\n</script>",
      "text/html": [
       "<div id=\"3dmolviewer_16177463175909424\"  style=\"position: relative; width: 640px; height: 480px\">\n",
       "        <p id=\"3dmolwarning_16177463175909424\" style=\"background-color:#ffcccc;color:black\">You appear to be running in JupyterLab (or JavaScript failed to load for some other reason).  You need to install the 3dmol extension: <br>\n",
       "        <tt>jupyter labextension install jupyterlab_3dmol</tt></p>\n",
       "        </div>\n",
       "<script>\n",
       "\n",
       "var loadScriptAsync = function(uri){\n",
       "  return new Promise((resolve, reject) => {\n",
       "    var tag = document.createElement('script');\n",
       "    tag.src = uri;\n",
       "    tag.async = true;\n",
       "    tag.onload = () => {\n",
       "      resolve();\n",
       "    };\n",
       "  var firstScriptTag = document.getElementsByTagName('script')[0];\n",
       "  firstScriptTag.parentNode.insertBefore(tag, firstScriptTag);\n",
       "});\n",
       "};\n",
       "\n",
       "if(typeof $3Dmolpromise === 'undefined') {\n",
       "$3Dmolpromise = null;\n",
       "  $3Dmolpromise = loadScriptAsync('https://3dmol.csb.pitt.edu/build/3Dmol.js');\n",
       "}\n",
       "\n",
       "var viewer_16177463175909424 = null;\n",
       "var warn = document.getElementById(\"3dmolwarning_16177463175909424\");\n",
       "if(warn) {\n",
       "    warn.parentNode.removeChild(warn);\n",
       "}\n",
       "$3Dmolpromise.then(function() {\n",
       "viewer_16177463175909424 = $3Dmol.createViewer($(\"#3dmolviewer_16177463175909424\"),{backgroundColor:\"white\"});\n",
       "\tviewer_16177463175909424.addModel(\"@<TRIPOS>MOLECULE\\nRES\\n70 74 1 0 1\\nSMALL\\nNO_CHARGES\\n@<TRIPOS>CRYSIN\\n    9.3196    33.2984     7.2749    90.0000    90.0000    90.0000  1  1\\n@<TRIPOS>ATOM\\n       1 C            0.0000     0.0000     0.0000 C             1 RES     \\n       2 H           -1.1000     0.0000     0.0000 H             1 RES     \\n       3 H            1.1000     0.0000     0.0000 H             1 RES     \\n       4 C           -1.2069    -1.9407     0.0067 C             1 RES     \\n       5 C           -1.2071    -3.3361     0.0127 C             1 RES     \\n       6 C            0.0018    -4.0321     0.0341 C             1 RES     \\n       7 C            1.2086    -3.3353     0.0084 C             1 RES     \\n       8 C            1.2089    -1.9400    -0.0108 C             1 RES     \\n       9 C           -0.0000    -1.2436    -0.0000 C             1 RES     \\n      10 H           -2.1487    -1.3981     0.0101 H             1 RES     \\n      11 H           -2.1473    -3.8797     0.0019 H             1 RES     \\n      12 H            2.1502    -3.8784     0.0027 H             1 RES     \\n      13 H            2.1492    -1.3969    -0.0295 H             1 RES     \\n      14 C            0.0018    -5.2749     0.0764 C             1 RES     \\n      15 H           -1.0981    -5.2747     0.0834 H             1 RES     \\n      16 H            1.1018    -5.2751     0.0694 H             1 RES     \\n      17 C           -1.2049    -7.2141     0.1569 C             1 RES     \\n      18 C           -1.2051    -8.6085     0.2104 C             1 RES     \\n      19 C            0.0040    -9.3035     0.2477 C             1 RES     \\n      20 C            1.2106    -8.6083     0.1907 C             1 RES     \\n      21 C            1.2107    -7.2144     0.1240 C             1 RES     \\n      22 C            0.0019    -6.5178     0.1187 C             1 RES     \\n      23 H           -2.1467    -6.6715     0.1477 H             1 RES     \\n      24 H           -2.1453    -9.1519     0.2240 H             1 RES     \\n      25 H            2.1521    -9.1514     0.1975 H             1 RES     \\n      26 H            2.1509    -6.6724     0.0808 H             1 RES     \\n      27 C            0.0043   -10.5442     0.3324 C             1 RES     \\n      28 H           -1.0956   -10.5436     0.3463 H             1 RES     \\n      29 H            1.1043   -10.5449     0.3184 H             1 RES     \\n      30 C           -1.2018   -12.4793     0.4864 C             1 RES     \\n      31 C           -1.2016   -13.8711     0.5874 C             1 RES     \\n      32 C            0.0077   -14.5646     0.6407 C             1 RES     \\n      33 C            1.2139   -13.8719     0.5524 C             1 RES     \\n      34 C            1.2136   -12.4811     0.4383 C             1 RES     \\n      35 C            0.0047   -11.7849     0.4170 C             1 RES     \\n      36 H           -2.1437   -11.9371     0.4648 H             1 RES     \\n      37 H           -2.1417   -14.4135     0.6255 H             1 RES     \\n      38 H            2.1555   -14.4147     0.5717 H             1 RES     \\n      39 H            2.1534   -11.9412     0.3707 H             1 RES     \\n      40 C            0.0086   -15.8017     0.7675 C             1 RES     \\n      41 H           -1.0912   -15.8004     0.7884 H             1 RES     \\n      42 H            1.1084   -15.8031     0.7467 H             1 RES     \\n      43 C           -1.1965   -17.7302     0.9951 C             1 RES     \\n      44 C           -1.1956   -19.1177     1.1434 C             1 RES     \\n      45 C            0.0141   -19.8093     1.2126 C             1 RES     \\n      46 C            1.2197   -19.1203     1.0931 C             1 RES     \\n      47 C            1.2186   -17.7342     0.9317 C             1 RES     \\n      48 C            0.0096   -17.0388     0.8944 C             1 RES     \\n      49 H           -2.1385   -17.1889     0.9610 H             1 RES     \\n      50 H           -2.1354   -19.6584     1.2058 H             1 RES     \\n      51 H            2.1613   -19.6622     1.1249 H             1 RES     \\n      52 H            2.1580   -17.1970     0.8398 H             1 RES     \\n      53 C            0.0158   -21.0414     1.3814 C             1 RES     \\n      54 H           -1.0838   -21.0392     1.4092 H             1 RES     \\n      55 H            1.1155   -21.0436     1.3536 H             1 RES     \\n      56 C           -1.1878   -22.9608     1.6821 C             1 RES     \\n      57 C           -1.1858   -24.3425     1.8776 C             1 RES     \\n      58 C            0.0242   -25.0315     1.9626 C             1 RES     \\n      59 C            1.2290   -24.3471     1.8121 C             1 RES     \\n      60 C            1.2268   -22.9673     1.6036 C             1 RES     \\n      61 C            0.0176   -22.2735     1.5503 C             1 RES     \\n      62 H           -2.1299   -22.4208     1.6356 H             1 RES     \\n      63 H           -2.1252   -24.8805     1.9644 H             1 RES     \\n      64 H            2.1709   -24.8878     1.8564 H             1 RES     \\n      65 H            2.1656   -22.4337     1.4876 H             1 RES     \\n      66 C           -0.0000     1.5000    -0.0000 C             1 RES     \\n      67 O           -0.9964     2.1887    -0.1269 O             1 RES     \\n      68 O            1.2433     1.9913     0.1584 O             1 RES     \\n      69 H            1.9159     1.2890     0.2441 H             1 RES     \\n      70 H            0.0268   -26.1097     2.1480 H             1 RES     \\n@<TRIPOS>BOND\\n       1       40       41 1\\n       2       27       28 1\\n       3       43       44 1\\n       4       43       49 1\\n       5       56       62 1\\n       6       45       46 1\\n       7       32       33 1\\n       8       34       39 1\\n       9        5       11 1\\n      10        3        1 1\\n      11       22       14 1\\n      12       21       22 1\\n      13       59       60 1\\n      14       44       50 1\\n      15       68       69 1\\n      16       46       47 1\\n      17       33       34 1\\n      18       43       48 1\\n      19       53       55 1\\n      20       14       15 1\\n      21        4       10 1\\n      22        6        7 1\\n      23       20       21 1\\n      24       58       59 1\\n      25       46       51 1\\n      26       40       48 1\\n      27        6        5 1\\n      28       33       38 1\\n      29       45       53 1\\n      30        1        9 1\\n      31       17       22 1\\n      32        4        5 1\\n      33       27       35 1\\n      34        4        9 1\\n      35       14       16 1\\n      36       40       42 1\\n      37       27       29 1\\n      38       30       35 1\\n      39       18       24 1\\n      40       66       68 1\\n      41        7       12 1\\n      42       56       57 1\\n      43       57       58 1\\n      44       60       65 1\\n      45       20       25 1\\n      46       19       20 1\\n      47        6       14 1\\n      48        8        9 1\\n      49       44       45 1\\n      50       58       70 1\\n      51       53       54 1\\n      52       17       18 1\\n      53       30       31 1\\n      54       66       67 1\\n      55       40       32 1\\n      56       17       23 1\\n      57       31       32 1\\n      58       47       48 1\\n      59       34       35 1\\n      60        7        8 1\\n      61       57       63 1\\n      62       56       61 1\\n      63        1        2 1\\n      64       19       27 1\\n      65       31       37 1\\n      66       47       52 1\\n      67       61       53 1\\n      68       60       61 1\\n      69       21       26 1\\n      70       66        1 1\\n      71       18       19 1\\n      72       30       36 1\\n      73       59       64 1\\n      74        8       13 1\\n@<TRIPOS>SUBSTRUCTURE\\n       1 RES             1 RESIDUE    0 **** ROOT      0\\n\",\"mol2\");\n",
       "\tviewer_16177463175909424.setStyle({\"stick\": {\"radius\": 0.2, \"color\": \"grey\"}, \"sphere\": {\"scale\": 0.3, \"colorscheme\": {}}});\n",
       "\tviewer_16177463175909424.zoomTo();\n",
       "viewer_16177463175909424.render();\n",
       "});\n",
       "</script>"
      ]
     },
     "metadata": {},
     "output_type": "display_data"
    },
    {
     "data": {
      "text/plain": [
       "<py3Dmol.view at 0x7fc131671750>"
      ]
     },
     "execution_count": 15,
     "metadata": {},
     "output_type": "execute_result"
    }
   ],
   "source": [
    "# You can combine passing in compounds, and using the available \n",
    "# add_end_group and add_monomer functions\n",
    "chain = Polymer(monomers=[ch2.CH2()])\n",
    "chain.add_monomer(mb.load('c1ccccc1', smiles=True), indices=[-1, -4])\n",
    "chain.add_end_groups(mb.load('C(=O)O',smiles=True), # Capping off this polymer with Carboxylic acid groups\n",
    "                     index=3,\n",
    "                     separation=0.15,\n",
    "                     duplicate=False)\n",
    "chain.build(n=5,sequence='AB', add_hydrogens=True)\n",
    "chain.visualize()"
   ]
  },
  {
   "cell_type": "markdown",
   "metadata": {},
   "source": [
    "## Using replace=False instead\n",
    "So far, all of the examples above used `replace=True` and the `bonding_indices` were the indices of hydrgogens that were being replaced by ports and removed to make room for the monomer-monomer bond.\n",
    "\n",
    "I imagine this would be the most common work-flow for going straight from a SMILES string or compound file to a polymer, but it's possible use `replace=False`.  In this case, the atoms indicated in `bonding_indices` are the atoms forming the monomer-monomer bond.\n",
    "\n",
    "Below is an example using the `ch2.pdb` file in the `moieties` directory.  In this case, we don't want to replace/remove any hydrogens, but add onto the carbon atom"
   ]
  },
  {
   "cell_type": "markdown",
   "metadata": {},
   "source": [
    "# Reproducing the alkane chain\n",
    "\n",
    "### NOTE: \n",
    "With the latest changes, this method of building up an alkane isn't really needed, but it still shows the ability to use the add_monomer() and add_end_groups() functions with Replace=False\n",
    "\n",
    "There currently exists a recipe that produces a simple alkane chain. Below I'll use the new `polymer.py` functionality to re-create the same alkane chain."
   ]
  },
  {
   "cell_type": "code",
   "execution_count": 16,
   "metadata": {},
   "outputs": [
    {
     "name": "stderr",
     "output_type": "stream",
     "text": [
      "/home/chris/miniconda3/envs/mosdev/lib/python3.7/site-packages/ipykernel/ipkernel.py:283: DeprecationWarning: `should_run_async` will not call `transform_cell` automatically in the future. Please pass the result to `transformed_cell` argument and any exception that happen during thetransform in `preprocessing_exc_tuple` in IPython 7.17 and above.\n",
      "  and should_run_async(code)\n"
     ]
    },
    {
     "data": {
      "application/3dmoljs_load.v0": "<div id=\"3dmolviewer_16177463329248953\"  style=\"position: relative; width: 640px; height: 480px\">\n        <p id=\"3dmolwarning_16177463329248953\" style=\"background-color:#ffcccc;color:black\">You appear to be running in JupyterLab (or JavaScript failed to load for some other reason).  You need to install the 3dmol extension: <br>\n        <tt>jupyter labextension install jupyterlab_3dmol</tt></p>\n        </div>\n<script>\n\nvar loadScriptAsync = function(uri){\n  return new Promise((resolve, reject) => {\n    var tag = document.createElement('script');\n    tag.src = uri;\n    tag.async = true;\n    tag.onload = () => {\n      resolve();\n    };\n  var firstScriptTag = document.getElementsByTagName('script')[0];\n  firstScriptTag.parentNode.insertBefore(tag, firstScriptTag);\n});\n};\n\nif(typeof $3Dmolpromise === 'undefined') {\n$3Dmolpromise = null;\n  $3Dmolpromise = loadScriptAsync('https://3dmol.csb.pitt.edu/build/3Dmol.js');\n}\n\nvar viewer_16177463329248953 = null;\nvar warn = document.getElementById(\"3dmolwarning_16177463329248953\");\nif(warn) {\n    warn.parentNode.removeChild(warn);\n}\n$3Dmolpromise.then(function() {\nviewer_16177463329248953 = $3Dmol.createViewer($(\"#3dmolviewer_16177463329248953\"),{backgroundColor:\"white\"});\n\tviewer_16177463329248953.addModel(\"@<TRIPOS>MOLECULE\\nRES\\n23 22 1 0 1\\nSMALL\\nNO_CHARGES\\n@<TRIPOS>CRYSIN\\n    7.2000    16.1880     5.0000    90.0000    90.0000    90.0000  1  1\\n@<TRIPOS>ATOM\\n       1 C            0.0000     0.0000     0.0000 C             1 RES     \\n       2 H           -1.1000     0.0000     0.0000 H             1 RES     \\n       3 H            1.1000     0.0000     0.0000 H             1 RES     \\n       4 C            0.0000    -1.5000     0.0000 C             1 RES     \\n       5 H           -1.1000    -1.5000    -0.0000 H             1 RES     \\n       6 H            1.1000    -1.5000     0.0000 H             1 RES     \\n       7 C           -0.0000    -3.0000     0.0000 C             1 RES     \\n       8 H           -1.1000    -3.0000    -0.0000 H             1 RES     \\n       9 H            1.1000    -3.0000     0.0000 H             1 RES     \\n      10 C           -0.0000    -4.5000     0.0000 C             1 RES     \\n      11 H           -1.1000    -4.5000    -0.0000 H             1 RES     \\n      12 H            1.1000    -4.5000     0.0000 H             1 RES     \\n      13 C           -0.0000    -6.0000     0.0000 C             1 RES     \\n      14 H           -1.1000    -6.0000    -0.0000 H             1 RES     \\n      15 H            1.1000    -6.0000     0.0000 H             1 RES     \\n      16 C           -0.0000    -7.5000     0.0000 C             1 RES     \\n      17 H           -1.1000    -7.5000    -0.0000 H             1 RES     \\n      18 H            1.1000    -7.5000     0.0000 H             1 RES     \\n      19 C           -0.0000    -9.0000     0.0000 C             1 RES     \\n      20 H           -1.1000    -9.0000     0.0000 H             1 RES     \\n      21 H            1.1000    -9.0000     0.0000 H             1 RES     \\n      22 H           -0.0000     1.0940     0.0000 H             1 RES     \\n      23 H           -0.0000   -10.0940     0.0000 H             1 RES     \\n@<TRIPOS>BOND\\n       1        1        3 1\\n       2       16       18 1\\n       3       19       20 1\\n       4        4        7 1\\n       5       23       19 1\\n       6        6        4 1\\n       7       19       21 1\\n       8       10       11 1\\n       9       13       15 1\\n      10       22        1 1\\n      11        7        8 1\\n      12       16       19 1\\n      13       10       13 1\\n      14        7       10 1\\n      15       13       14 1\\n      16        4        1 1\\n      17        5        4 1\\n      18        7        9 1\\n      19       10       12 1\\n      20        1        2 1\\n      21       16       17 1\\n      22       13       16 1\\n@<TRIPOS>SUBSTRUCTURE\\n       1 RES             1 RESIDUE    0 **** ROOT      0\\n\",\"mol2\");\n\tviewer_16177463329248953.setStyle({\"stick\": {\"radius\": 0.2, \"color\": \"grey\"}, \"sphere\": {\"scale\": 0.3, \"colorscheme\": {}}});\n\tviewer_16177463329248953.zoomTo();\nviewer_16177463329248953.render();\n});\n</script>",
      "text/html": [
       "<div id=\"3dmolviewer_16177463329248953\"  style=\"position: relative; width: 640px; height: 480px\">\n",
       "        <p id=\"3dmolwarning_16177463329248953\" style=\"background-color:#ffcccc;color:black\">You appear to be running in JupyterLab (or JavaScript failed to load for some other reason).  You need to install the 3dmol extension: <br>\n",
       "        <tt>jupyter labextension install jupyterlab_3dmol</tt></p>\n",
       "        </div>\n",
       "<script>\n",
       "\n",
       "var loadScriptAsync = function(uri){\n",
       "  return new Promise((resolve, reject) => {\n",
       "    var tag = document.createElement('script');\n",
       "    tag.src = uri;\n",
       "    tag.async = true;\n",
       "    tag.onload = () => {\n",
       "      resolve();\n",
       "    };\n",
       "  var firstScriptTag = document.getElementsByTagName('script')[0];\n",
       "  firstScriptTag.parentNode.insertBefore(tag, firstScriptTag);\n",
       "});\n",
       "};\n",
       "\n",
       "if(typeof $3Dmolpromise === 'undefined') {\n",
       "$3Dmolpromise = null;\n",
       "  $3Dmolpromise = loadScriptAsync('https://3dmol.csb.pitt.edu/build/3Dmol.js');\n",
       "}\n",
       "\n",
       "var viewer_16177463329248953 = null;\n",
       "var warn = document.getElementById(\"3dmolwarning_16177463329248953\");\n",
       "if(warn) {\n",
       "    warn.parentNode.removeChild(warn);\n",
       "}\n",
       "$3Dmolpromise.then(function() {\n",
       "viewer_16177463329248953 = $3Dmol.createViewer($(\"#3dmolviewer_16177463329248953\"),{backgroundColor:\"white\"});\n",
       "\tviewer_16177463329248953.addModel(\"@<TRIPOS>MOLECULE\\nRES\\n23 22 1 0 1\\nSMALL\\nNO_CHARGES\\n@<TRIPOS>CRYSIN\\n    7.2000    16.1880     5.0000    90.0000    90.0000    90.0000  1  1\\n@<TRIPOS>ATOM\\n       1 C            0.0000     0.0000     0.0000 C             1 RES     \\n       2 H           -1.1000     0.0000     0.0000 H             1 RES     \\n       3 H            1.1000     0.0000     0.0000 H             1 RES     \\n       4 C            0.0000    -1.5000     0.0000 C             1 RES     \\n       5 H           -1.1000    -1.5000    -0.0000 H             1 RES     \\n       6 H            1.1000    -1.5000     0.0000 H             1 RES     \\n       7 C           -0.0000    -3.0000     0.0000 C             1 RES     \\n       8 H           -1.1000    -3.0000    -0.0000 H             1 RES     \\n       9 H            1.1000    -3.0000     0.0000 H             1 RES     \\n      10 C           -0.0000    -4.5000     0.0000 C             1 RES     \\n      11 H           -1.1000    -4.5000    -0.0000 H             1 RES     \\n      12 H            1.1000    -4.5000     0.0000 H             1 RES     \\n      13 C           -0.0000    -6.0000     0.0000 C             1 RES     \\n      14 H           -1.1000    -6.0000    -0.0000 H             1 RES     \\n      15 H            1.1000    -6.0000     0.0000 H             1 RES     \\n      16 C           -0.0000    -7.5000     0.0000 C             1 RES     \\n      17 H           -1.1000    -7.5000    -0.0000 H             1 RES     \\n      18 H            1.1000    -7.5000     0.0000 H             1 RES     \\n      19 C           -0.0000    -9.0000     0.0000 C             1 RES     \\n      20 H           -1.1000    -9.0000     0.0000 H             1 RES     \\n      21 H            1.1000    -9.0000     0.0000 H             1 RES     \\n      22 H           -0.0000     1.0940     0.0000 H             1 RES     \\n      23 H           -0.0000   -10.0940     0.0000 H             1 RES     \\n@<TRIPOS>BOND\\n       1        1        3 1\\n       2       16       18 1\\n       3       19       20 1\\n       4        4        7 1\\n       5       23       19 1\\n       6        6        4 1\\n       7       19       21 1\\n       8       10       11 1\\n       9       13       15 1\\n      10       22        1 1\\n      11        7        8 1\\n      12       16       19 1\\n      13       10       13 1\\n      14        7       10 1\\n      15       13       14 1\\n      16        4        1 1\\n      17        5        4 1\\n      18        7        9 1\\n      19       10       12 1\\n      20        1        2 1\\n      21       16       17 1\\n      22       13       16 1\\n@<TRIPOS>SUBSTRUCTURE\\n       1 RES             1 RESIDUE    0 **** ROOT      0\\n\",\"mol2\");\n",
       "\tviewer_16177463329248953.setStyle({\"stick\": {\"radius\": 0.2, \"color\": \"grey\"}, \"sphere\": {\"scale\": 0.3, \"colorscheme\": {}}});\n",
       "\tviewer_16177463329248953.zoomTo();\n",
       "viewer_16177463329248953.render();\n",
       "});\n",
       "</script>"
      ]
     },
     "metadata": {},
     "output_type": "display_data"
    }
   ],
   "source": [
    "ch2 = mb.load('lib/moieties/ch2.pdb')\n",
    "chain = Polymer()\n",
    "chain.add_monomer(ch2,\n",
    "                  indices=[0, 0],\n",
    "                  orientation=[[0, 1, 0], [0, -1, 0]],\n",
    "                  separation=0.15,\n",
    "                  replace=False)\n",
    "chain.build(n=7, sequence='A')\n",
    "\n",
    "chain.visualize(show_ports=True).show()"
   ]
  },
  {
   "cell_type": "code",
   "execution_count": 17,
   "metadata": {},
   "outputs": [
    {
     "name": "stderr",
     "output_type": "stream",
     "text": [
      "/home/chris/miniconda3/envs/mosdev/lib/python3.7/site-packages/ipykernel/ipkernel.py:283: DeprecationWarning: `should_run_async` will not call `transform_cell` automatically in the future. Please pass the result to `transformed_cell` argument and any exception that happen during thetransform in `preprocessing_exc_tuple` in IPython 7.17 and above.\n",
      "  and should_run_async(code)\n"
     ]
    },
    {
     "data": {
      "application/3dmoljs_load.v0": "<div id=\"3dmolviewer_1617746337389515\"  style=\"position: relative; width: 640px; height: 480px\">\n        <p id=\"3dmolwarning_1617746337389515\" style=\"background-color:#ffcccc;color:black\">You appear to be running in JupyterLab (or JavaScript failed to load for some other reason).  You need to install the 3dmol extension: <br>\n        <tt>jupyter labextension install jupyterlab_3dmol</tt></p>\n        </div>\n<script>\n\nvar loadScriptAsync = function(uri){\n  return new Promise((resolve, reject) => {\n    var tag = document.createElement('script');\n    tag.src = uri;\n    tag.async = true;\n    tag.onload = () => {\n      resolve();\n    };\n  var firstScriptTag = document.getElementsByTagName('script')[0];\n  firstScriptTag.parentNode.insertBefore(tag, firstScriptTag);\n});\n};\n\nif(typeof $3Dmolpromise === 'undefined') {\n$3Dmolpromise = null;\n  $3Dmolpromise = loadScriptAsync('https://3dmol.csb.pitt.edu/build/3Dmol.js');\n}\n\nvar viewer_1617746337389515 = null;\nvar warn = document.getElementById(\"3dmolwarning_1617746337389515\");\nif(warn) {\n    warn.parentNode.removeChild(warn);\n}\n$3Dmolpromise.then(function() {\nviewer_1617746337389515 = $3Dmol.createViewer($(\"#3dmolviewer_1617746337389515\"),{backgroundColor:\"white\"});\n\tviewer_1617746337389515.addModel(\"@<TRIPOS>MOLECULE\\nRES\\n46 47 1 0 1\\nSMALL\\nNO_CHARGES\\n@<TRIPOS>CRYSIN\\n    9.3004    26.2501     5.1006    90.0000    90.0000    90.0000  1  1\\n@<TRIPOS>ATOM\\n       1 C            0.0000     0.0000     0.0000 C             1 RES     \\n       2 H           -1.1000     0.0000     0.0000 H             1 RES     \\n       3 H            1.1000     0.0000     0.0000 H             1 RES     \\n       4 C            0.0000    -1.5000     0.0000 C             1 RES     \\n       5 H           -1.1000    -1.5000    -0.0000 H             1 RES     \\n       6 H            1.1000    -1.5000     0.0000 H             1 RES     \\n       7 C           -0.0000    -3.0000     0.0000 C             1 RES     \\n       8 H           -1.1000    -3.0000    -0.0000 H             1 RES     \\n       9 H            1.1000    -3.0000     0.0000 H             1 RES     \\n      10 C           -0.0000    -4.5000     0.0000 C             1 RES     \\n      11 H           -1.1000    -4.5000    -0.0000 H             1 RES     \\n      12 H            1.1000    -4.5000     0.0000 H             1 RES     \\n      13 C           -0.0000    -6.0000     0.0000 C             1 RES     \\n      14 H           -1.1000    -6.0000    -0.0000 H             1 RES     \\n      15 H            1.1000    -6.0000     0.0000 H             1 RES     \\n      16 C           -0.0000    -7.5000     0.0000 C             1 RES     \\n      17 H           -1.1000    -7.5000    -0.0000 H             1 RES     \\n      18 H            1.1000    -7.5000     0.0000 H             1 RES     \\n      19 C           -0.0000    -9.0000     0.0000 C             1 RES     \\n      20 H           -1.1000    -9.0000     0.0000 H             1 RES     \\n      21 H            1.1000    -9.0000     0.0000 H             1 RES     \\n      22 C           -0.0000   -10.5000     0.0000 C             1 RES     \\n      23 H           -1.1000   -10.5000    -0.0000 H             1 RES     \\n      24 H            1.1000   -10.5000     0.0000 H             1 RES     \\n      25 C            1.2069     2.1971     0.0067 C             1 RES     \\n      26 C            1.2071     3.5926     0.0127 C             1 RES     \\n      27 C           -0.0018     4.2885     0.0341 C             1 RES     \\n      28 C           -1.2086     3.5917     0.0084 C             1 RES     \\n      29 C           -1.2089     2.1964    -0.0108 C             1 RES     \\n      30 C           -0.0000     1.5000    -0.0000 C             1 RES     \\n      31 H            2.1487     1.6545     0.0101 H             1 RES     \\n      32 H            2.1473     4.1361     0.0019 H             1 RES     \\n      33 H           -0.0018     5.3750     0.0711 H             1 RES     \\n      34 H           -2.1502     4.1348     0.0027 H             1 RES     \\n      35 H           -2.1492     1.6533    -0.0295 H             1 RES     \\n      36 C           -1.2069   -12.6971     0.0067 C             1 RES     \\n      37 C           -1.2071   -14.0926     0.0127 C             1 RES     \\n      38 C            0.0018   -14.7885     0.0341 C             1 RES     \\n      39 C            1.2086   -14.0917     0.0084 C             1 RES     \\n      40 C            1.2089   -12.6964    -0.0108 C             1 RES     \\n      41 C           -0.0000   -12.0000     0.0000 C             1 RES     \\n      42 H           -2.1487   -12.1545     0.0101 H             1 RES     \\n      43 H           -2.1473   -14.6361     0.0019 H             1 RES     \\n      44 H            0.0018   -15.8750     0.0711 H             1 RES     \\n      45 H            2.1502   -14.6348     0.0027 H             1 RES     \\n      46 H            2.1492   -12.1533    -0.0295 H             1 RES     \\n@<TRIPOS>BOND\\n       1        4        1 1\\n       2       22       41 1\\n       3        4        7 1\\n       4       10       13 1\\n       5       36       42 1\\n       6        2        1 1\\n       7       29       30 1\\n       8       40       41 1\\n       9       19       20 1\\n      10        7       10 1\\n      11       39       45 1\\n      12        1       30 1\\n      13       31       25 1\\n      14       16       19 1\\n      15       37       43 1\\n      16       37       38 1\\n      17       15       13 1\\n      18       16       18 1\\n      19       12       10 1\\n      20       22       24 1\\n      21       19       21 1\\n      22       32       26 1\\n      23        6        4 1\\n      24        7        8 1\\n      25       16       17 1\\n      26       29       35 1\\n      27       40       46 1\\n      28       26       27 1\\n      29       19       22 1\\n      30        4        5 1\\n      31       16       13 1\\n      32       25       26 1\\n      33       36       41 1\\n      34        3        1 1\\n      35       13       14 1\\n      36       33       27 1\\n      37       30       25 1\\n      38        7        9 1\\n      39       29       28 1\\n      40       27       28 1\\n      41       39       40 1\\n      42       22       23 1\\n      43       36       37 1\\n      44       34       28 1\\n      45       38       39 1\\n      46       38       44 1\\n      47       11       10 1\\n@<TRIPOS>SUBSTRUCTURE\\n       1 RES             1 RESIDUE    0 **** ROOT      0\\n\",\"mol2\");\n\tviewer_1617746337389515.setStyle({\"stick\": {\"radius\": 0.2, \"color\": \"grey\"}, \"sphere\": {\"scale\": 0.3, \"colorscheme\": {}}});\n\tviewer_1617746337389515.zoomTo();\nviewer_1617746337389515.render();\n});\n</script>",
      "text/html": [
       "<div id=\"3dmolviewer_1617746337389515\"  style=\"position: relative; width: 640px; height: 480px\">\n",
       "        <p id=\"3dmolwarning_1617746337389515\" style=\"background-color:#ffcccc;color:black\">You appear to be running in JupyterLab (or JavaScript failed to load for some other reason).  You need to install the 3dmol extension: <br>\n",
       "        <tt>jupyter labextension install jupyterlab_3dmol</tt></p>\n",
       "        </div>\n",
       "<script>\n",
       "\n",
       "var loadScriptAsync = function(uri){\n",
       "  return new Promise((resolve, reject) => {\n",
       "    var tag = document.createElement('script');\n",
       "    tag.src = uri;\n",
       "    tag.async = true;\n",
       "    tag.onload = () => {\n",
       "      resolve();\n",
       "    };\n",
       "  var firstScriptTag = document.getElementsByTagName('script')[0];\n",
       "  firstScriptTag.parentNode.insertBefore(tag, firstScriptTag);\n",
       "});\n",
       "};\n",
       "\n",
       "if(typeof $3Dmolpromise === 'undefined') {\n",
       "$3Dmolpromise = null;\n",
       "  $3Dmolpromise = loadScriptAsync('https://3dmol.csb.pitt.edu/build/3Dmol.js');\n",
       "}\n",
       "\n",
       "var viewer_1617746337389515 = null;\n",
       "var warn = document.getElementById(\"3dmolwarning_1617746337389515\");\n",
       "if(warn) {\n",
       "    warn.parentNode.removeChild(warn);\n",
       "}\n",
       "$3Dmolpromise.then(function() {\n",
       "viewer_1617746337389515 = $3Dmol.createViewer($(\"#3dmolviewer_1617746337389515\"),{backgroundColor:\"white\"});\n",
       "\tviewer_1617746337389515.addModel(\"@<TRIPOS>MOLECULE\\nRES\\n46 47 1 0 1\\nSMALL\\nNO_CHARGES\\n@<TRIPOS>CRYSIN\\n    9.3004    26.2501     5.1006    90.0000    90.0000    90.0000  1  1\\n@<TRIPOS>ATOM\\n       1 C            0.0000     0.0000     0.0000 C             1 RES     \\n       2 H           -1.1000     0.0000     0.0000 H             1 RES     \\n       3 H            1.1000     0.0000     0.0000 H             1 RES     \\n       4 C            0.0000    -1.5000     0.0000 C             1 RES     \\n       5 H           -1.1000    -1.5000    -0.0000 H             1 RES     \\n       6 H            1.1000    -1.5000     0.0000 H             1 RES     \\n       7 C           -0.0000    -3.0000     0.0000 C             1 RES     \\n       8 H           -1.1000    -3.0000    -0.0000 H             1 RES     \\n       9 H            1.1000    -3.0000     0.0000 H             1 RES     \\n      10 C           -0.0000    -4.5000     0.0000 C             1 RES     \\n      11 H           -1.1000    -4.5000    -0.0000 H             1 RES     \\n      12 H            1.1000    -4.5000     0.0000 H             1 RES     \\n      13 C           -0.0000    -6.0000     0.0000 C             1 RES     \\n      14 H           -1.1000    -6.0000    -0.0000 H             1 RES     \\n      15 H            1.1000    -6.0000     0.0000 H             1 RES     \\n      16 C           -0.0000    -7.5000     0.0000 C             1 RES     \\n      17 H           -1.1000    -7.5000    -0.0000 H             1 RES     \\n      18 H            1.1000    -7.5000     0.0000 H             1 RES     \\n      19 C           -0.0000    -9.0000     0.0000 C             1 RES     \\n      20 H           -1.1000    -9.0000     0.0000 H             1 RES     \\n      21 H            1.1000    -9.0000     0.0000 H             1 RES     \\n      22 C           -0.0000   -10.5000     0.0000 C             1 RES     \\n      23 H           -1.1000   -10.5000    -0.0000 H             1 RES     \\n      24 H            1.1000   -10.5000     0.0000 H             1 RES     \\n      25 C            1.2069     2.1971     0.0067 C             1 RES     \\n      26 C            1.2071     3.5926     0.0127 C             1 RES     \\n      27 C           -0.0018     4.2885     0.0341 C             1 RES     \\n      28 C           -1.2086     3.5917     0.0084 C             1 RES     \\n      29 C           -1.2089     2.1964    -0.0108 C             1 RES     \\n      30 C           -0.0000     1.5000    -0.0000 C             1 RES     \\n      31 H            2.1487     1.6545     0.0101 H             1 RES     \\n      32 H            2.1473     4.1361     0.0019 H             1 RES     \\n      33 H           -0.0018     5.3750     0.0711 H             1 RES     \\n      34 H           -2.1502     4.1348     0.0027 H             1 RES     \\n      35 H           -2.1492     1.6533    -0.0295 H             1 RES     \\n      36 C           -1.2069   -12.6971     0.0067 C             1 RES     \\n      37 C           -1.2071   -14.0926     0.0127 C             1 RES     \\n      38 C            0.0018   -14.7885     0.0341 C             1 RES     \\n      39 C            1.2086   -14.0917     0.0084 C             1 RES     \\n      40 C            1.2089   -12.6964    -0.0108 C             1 RES     \\n      41 C           -0.0000   -12.0000     0.0000 C             1 RES     \\n      42 H           -2.1487   -12.1545     0.0101 H             1 RES     \\n      43 H           -2.1473   -14.6361     0.0019 H             1 RES     \\n      44 H            0.0018   -15.8750     0.0711 H             1 RES     \\n      45 H            2.1502   -14.6348     0.0027 H             1 RES     \\n      46 H            2.1492   -12.1533    -0.0295 H             1 RES     \\n@<TRIPOS>BOND\\n       1        4        1 1\\n       2       22       41 1\\n       3        4        7 1\\n       4       10       13 1\\n       5       36       42 1\\n       6        2        1 1\\n       7       29       30 1\\n       8       40       41 1\\n       9       19       20 1\\n      10        7       10 1\\n      11       39       45 1\\n      12        1       30 1\\n      13       31       25 1\\n      14       16       19 1\\n      15       37       43 1\\n      16       37       38 1\\n      17       15       13 1\\n      18       16       18 1\\n      19       12       10 1\\n      20       22       24 1\\n      21       19       21 1\\n      22       32       26 1\\n      23        6        4 1\\n      24        7        8 1\\n      25       16       17 1\\n      26       29       35 1\\n      27       40       46 1\\n      28       26       27 1\\n      29       19       22 1\\n      30        4        5 1\\n      31       16       13 1\\n      32       25       26 1\\n      33       36       41 1\\n      34        3        1 1\\n      35       13       14 1\\n      36       33       27 1\\n      37       30       25 1\\n      38        7        9 1\\n      39       29       28 1\\n      40       27       28 1\\n      41       39       40 1\\n      42       22       23 1\\n      43       36       37 1\\n      44       34       28 1\\n      45       38       39 1\\n      46       38       44 1\\n      47       11       10 1\\n@<TRIPOS>SUBSTRUCTURE\\n       1 RES             1 RESIDUE    0 **** ROOT      0\\n\",\"mol2\");\n",
       "\tviewer_1617746337389515.setStyle({\"stick\": {\"radius\": 0.2, \"color\": \"grey\"}, \"sphere\": {\"scale\": 0.3, \"colorscheme\": {}}});\n",
       "\tviewer_1617746337389515.zoomTo();\n",
       "viewer_1617746337389515.render();\n",
       "});\n",
       "</script>"
      ]
     },
     "metadata": {},
     "output_type": "display_data"
    }
   ],
   "source": [
    "# It's super easy to throw different end groups on there\n",
    "\n",
    "ch2 = mb.load('lib/moieties/ch2.pdb')\n",
    "chain = Polymer()\n",
    "chain.add_monomer(ch2,\n",
    "                  indices=[0, 0],\n",
    "                  orientation=[[0, 1, 0], [0, -1, 0]],\n",
    "                  separation=0.15,\n",
    "                  replace=False)\n",
    "\n",
    "chain.add_end_groups(mb.load('c1ccccc1', smiles=True),\n",
    "                    index=-1,\n",
    "                    separation=0.15,\n",
    "                    replace=True)\n",
    "chain.build(n=8, sequence='A')\n",
    "\n",
    "chain.visualize().show()"
   ]
  },
  {
   "cell_type": "markdown",
   "metadata": {},
   "source": [
    "## How we can use recipes\n",
    "\n",
    "With this approach, to build up a polymer you would just need the following information:\n",
    "\n",
    "1. A SMILES string (or a path to a compound file)\n",
    "2. The indices of the hydrogen atoms to be removed\n",
    "3. The bond length\n",
    "\n",
    "So, having a library of this information to pull from could be a simple as a `.py` file with a dictionary, or a `.json` file\n"
   ]
  },
  {
   "cell_type": "code",
   "execution_count": null,
   "metadata": {},
   "outputs": [],
   "source": [
    "monomer_dict = {\n",
    "    \n",
    "    'polyethylene': {'smiles': \"CC\",\n",
    "               'indices': [2, -1],\n",
    "               'bond_length': 0.1512\n",
    "                    },\n",
    "    \n",
    "    'alkane': {'file': 'lib/moieties/ch2.pdb',\n",
    "              'indices': [0, 0],\n",
    "              'bond_length': 0.1512,\n",
    "              'replace': False\n",
    "              },\n",
    "    \n",
    "    'peek_para': {'smiles': \"Oc1ccc(Oc2ccc(C(=O)c3ccccc3)cc2)cc1\",\n",
    "                   'indices': [22, 29],\n",
    "                   'bond_length': 0.1376,\n",
    "                  'description': \"poly-ether-ether-ketone with a para configuration\"                    \n",
    "                 },\n",
    "    \n",
    "    'peek_meta': {'smiles': \"Oc1cc(Oc2ccc(C(=O)c3ccccc3)cc2)ccc1\",\n",
    "                   'indices': [22, 29],\n",
    "                   'bond_length': 0.1376,\n",
    "                  'description': \"poly-ether-ether-ketone with a meta configuration\"\n",
    "                 }\n",
    "    \n",
    "}"
   ]
  },
  {
   "cell_type": "code",
   "execution_count": null,
   "metadata": {},
   "outputs": [],
   "source": [
    "# Maybe there is a from_recipe() function, for example:\n",
    "polymer = Polymer.from_recipe(monomer='peek_para', n=10)"
   ]
  }
 ],
 "metadata": {
  "kernelspec": {
   "display_name": "Python 3",
   "language": "python",
   "name": "python3"
  },
  "language_info": {
   "codemirror_mode": {
    "name": "ipython",
    "version": 3
   },
   "file_extension": ".py",
   "mimetype": "text/x-python",
   "name": "python",
   "nbconvert_exporter": "python",
   "pygments_lexer": "ipython3",
   "version": "3.7.10"
  }
 },
 "nbformat": 4,
 "nbformat_minor": 4
}
