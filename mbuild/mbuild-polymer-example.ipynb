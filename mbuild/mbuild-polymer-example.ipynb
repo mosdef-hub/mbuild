{
 "cells": [
  {
   "cell_type": "code",
   "execution_count": null,
   "metadata": {},
   "outputs": [],
   "source": [
    "import mbuild as mb\n",
    "from mbuild.lib.recipes.polymer import Polymer"
   ]
  },
  {
   "cell_type": "code",
   "execution_count": null,
   "metadata": {},
   "outputs": [],
   "source": [
    "# Quick example of the API and workflow\n",
    "comp = mb.load('CC', smiles=True) # mBuild compound of the monomer unit\n",
    "chain = Polymer()\n",
    "\n",
    "chain.add_monomer(compound=comp,\n",
    "                  indices=[2, -1],\n",
    "                  separation=.15,\n",
    "                  replace=True)\n",
    "\n",
    "chain.add_end_groups(mb.load('C(=O)O',smiles=True), # Capping off this polymer with Carboxylic acid groups\n",
    "                     index=3,\n",
    "                     separation=0.15)\n",
    "\n",
    "chain.build(n=10, sequence='A')\n",
    "chain.visualize(show_ports=True).show()"
   ]
  },
  {
   "cell_type": "code",
   "execution_count": null,
   "metadata": {},
   "outputs": [],
   "source": [
    "# Doing the same thing, but this time without adding an end group\n",
    "# Now, the chain is capped with hydrogens (default behavior)\n",
    "\n",
    "comp = mb.load('CC', smiles=True) # mBuild compound of the monomer unit\n",
    "chain = Polymer()\n",
    "\n",
    "chain.add_monomer(compound=comp,\n",
    "                  indices=[2, -1],\n",
    "                  separation=.15,\n",
    "                  replace=True)\n",
    "\n",
    "chain.build(n=10, sequence='A')\n",
    "chain.visualize(show_ports=True).show()"
   ]
  },
  {
   "cell_type": "markdown",
   "metadata": {},
   "source": [
    "##  Here's an example with a more complicated monomer and a little more detail into what's going on  \n",
    "\n",
    "SMILES strings for Poly-ether-ether-ketone (PEEK)  \n",
    "\n",
    "One has para linkages, the other has meta  \n",
    "\n",
    "Goal is to build up a polymer with alternating PARA-META monomers  \n",
    "\n",
    "Also, just for fun, adding carboxylic acid end groups (ca)"
   ]
  },
  {
   "cell_type": "code",
   "execution_count": null,
   "metadata": {},
   "outputs": [],
   "source": [
    "peek_para = mb.load(\"Oc1ccc(Oc2ccc(C(=O)c3ccccc3)cc2)cc1\",smiles=True)\n",
    "peek_meta = mb.load(\"Oc1cc(Oc2ccc(C(=O)c3ccccc3)cc2)ccc1\", smiles=True)\n",
    "ca = mb.load('C(=O)O', smiles=True)\n",
    "peek_polymer = Polymer() # Create polymer instance\n",
    "\n",
    "# For now, peek_polymer is an empty mBuild compound\n",
    "print(peek_polymer)\n",
    "\n",
    "# monomers and end_groups attributes: empty lists at the moment\n",
    "print(peek_polymer.monomers)\n",
    "print(peek_polymer.end_groups)"
   ]
  },
  {
   "cell_type": "code",
   "execution_count": null,
   "metadata": {},
   "outputs": [],
   "source": [
    "# Use the add_monomer and add_end_group methods\n",
    "# Pass in the compounds we want to use as monomers and end_groups\n",
    "# The add_monomer function is called for each unique monomer type\n",
    "# The add_end_groups funciton is called for the end group compound\n",
    "\n",
    "peek_polymer.add_monomer(compound=peek_para,\n",
    "                         indices = [22, 29],\n",
    "                         separation = 0.1376,\n",
    "                         replace=True\n",
    "                        )\n",
    "\n",
    "peek_polymer.add_monomer(compound=peek_meta,\n",
    "                         indices = [22, 29],\n",
    "                         separation = 0.1376,\n",
    "                         replace=True\n",
    "                        )\n",
    "\n",
    "peek_polymer.add_end_groups(ca,\n",
    "                            index=3,\n",
    "                            separation=0.13,\n",
    "                            replace=True)\n",
    "\n",
    "#At this point, peek_polymer is still an empty mBuild compound\n",
    "#The monomers and end_groups attributes are no longer empty lists\n",
    "print(peek_polymer)\n",
    "print(\"Monomers:\")\n",
    "print(peek_polymer.monomers)\n",
    "print(\"End groups:\")\n",
    "print(peek_polymer.end_groups)"
   ]
  },
  {
   "cell_type": "code",
   "execution_count": null,
   "metadata": {},
   "outputs": [],
   "source": [
    "# Now to actually make the polymer compound\n",
    "# Essentially all of the currently exisitng Polymer() code was moved into a function called build\n",
    "peek_polymer.build(n=3, sequence='AB')\n",
    "\n",
    "# peek_polymer is no longer an empty compound\n",
    "print(peek_polymer)"
   ]
  },
  {
   "cell_type": "code",
   "execution_count": null,
   "metadata": {},
   "outputs": [],
   "source": [
    "peek_polymer.visualize().show()"
   ]
  },
  {
   "cell_type": "markdown",
   "metadata": {},
   "source": [
    "## A look at what is actually happening with each of the class methods  \n",
    "\n",
    "The `add_monomer` and `add_end_group` functions are handling the creation of ports.  \n",
    "\n",
    "The key is in the `bond_indices` and `replace` parameters.\n",
    "`bond_indices` points to the hydrogen atoms that are occupying the polymer bonding site and \n",
    "`replace` says to remove those atoms, and replace them with a port\n",
    "\n",
    "When the port is created, it defaults to using the orientation that already existed between the hydrogen atom and the atom it was bonded to. "
   ]
  },
  {
   "cell_type": "code",
   "execution_count": null,
   "metadata": {},
   "outputs": [],
   "source": [
    "peek_para = mb.load(\"Oc1ccc(Oc2ccc(C(=O)c3ccccc3)cc2)cc1\",smiles=True)\n",
    "print('Before passing the compound into add_monomer()')\n",
    "peek_para.visualize(show_ports=True).show()\n",
    "\n",
    "peek_polymer = Polymer()\n",
    "\n",
    "peek_polymer.add_monomer(compound=peek_para,\n",
    "                         indices = [22, 29],\n",
    "                         separation = 0.1376,\n",
    "                         replace=True\n",
    "                        )\n",
    "print('After passing the compound into add_monomer()')\n",
    "peek_polymer.monomers[0].visualize(show_ports=True).show()"
   ]
  },
  {
   "cell_type": "code",
   "execution_count": null,
   "metadata": {},
   "outputs": [],
   "source": [
    "# Same thing with the end group\n",
    "ca = mb.load('C(=O)O', smiles=True)\n",
    "print('Before passing the compound into add_end_groups()')\n",
    "ca.visualize(show_ports=True).show()\n",
    "\n",
    "peek_polymer.add_end_groups(ca,\n",
    "                            index=3,\n",
    "                            separation=0.13,\n",
    "                            replace=True)\n",
    "\n",
    "# ca[3] is the hydrogen bonded to the carbon atom\n",
    "\n",
    "print('After passing the compound into add_end_groups()')\n",
    "peek_polymer.end_groups[0].visualize(show_ports=True).show()"
   ]
  },
  {
   "cell_type": "markdown",
   "metadata": {},
   "source": [
    "## Using replace=False instead\n",
    "So far, all of the examples above used `replace=True` and the `bonding_indices` were the indices of hydrgogens that were being replaced by ports and removed to make room for the monomer-monomer bond.\n",
    "\n",
    "I imagine this would be the most common work-flow for going straight from a SMILES string or compound file to a polymer, but it's possible use `replace=False`.  In this case, the atoms indicated in `bonding_indices` are the atoms forming the monomer-monomer bond.\n",
    "\n",
    "Below is an example using the `ch2.pdb` file in the `moieties` directory.  In this case, we don't want to replace/remove any hydrogens, but add onto the carbon atom"
   ]
  },
  {
   "cell_type": "markdown",
   "metadata": {},
   "source": [
    "# Reproducing the alkane chain\n",
    "There currently exists a recipe that produces a simple alkane chain. Below I'll use the new `polymer.py` functionality to re-create the same alkane chain."
   ]
  },
  {
   "cell_type": "code",
   "execution_count": null,
   "metadata": {},
   "outputs": [],
   "source": [
    "ch2 = mb.load('lib/moieties/ch2.pdb')\n",
    "chain = Polymer()\n",
    "chain.add_monomer(ch2,\n",
    "                  indices=[0, 0],\n",
    "                  orientation=[[0, 1, 0], [0, -1, 0]],\n",
    "                  separation=0.15,\n",
    "                  replace=False)\n",
    "chain.build(n=7, sequence='A')\n",
    "\n",
    "chain.visualize(show_ports=True).show()"
   ]
  },
  {
   "cell_type": "code",
   "execution_count": null,
   "metadata": {},
   "outputs": [],
   "source": [
    "# It's super easy to throw different end groups on there\n",
    "\n",
    "ch2 = mb.load('lib/moieties/ch2.pdb')\n",
    "chain = Polymer()\n",
    "chain.add_monomer(ch2,\n",
    "                  indices=[0, 0],\n",
    "                  orientation=[[0, 1, 0], [0, -1, 0]],\n",
    "                  separation=0.15,\n",
    "                  replace=False)\n",
    "\n",
    "chain.add_end_groups(mb.load('c1ccccc1', smiles=True),\n",
    "                    index=-1,\n",
    "                    separation=0.15,\n",
    "                    replace=True)\n",
    "chain.build(n=8, sequence='A')\n",
    "\n",
    "chain.visualize().show()"
   ]
  },
  {
   "cell_type": "markdown",
   "metadata": {},
   "source": [
    "## How we can use recipes\n",
    "\n",
    "With this approach, to build up a polymer you would just need the following information:\n",
    "\n",
    "1. A SMILES string (or a path to a compound file)\n",
    "2. The indices of the hydrogen atoms to be removed\n",
    "3. The bond length\n",
    "\n",
    "So, having a library of this information to pull from could be a simple as a `.py` file with a dictionary, or a `.json` file\n"
   ]
  },
  {
   "cell_type": "code",
   "execution_count": null,
   "metadata": {},
   "outputs": [],
   "source": [
    "monomer_dict = {\n",
    "    \n",
    "    'polyethylene': {'smiles': \"CC\",\n",
    "               'indices': [2, -1],\n",
    "               'bond_length': 0.1512\n",
    "                    },\n",
    "    \n",
    "    'alkane': {'file': 'lib/moieties/ch2.pdb',\n",
    "              'indices': [0, 0],\n",
    "              'bond_length': 0.1512,\n",
    "              'replace': False\n",
    "              },\n",
    "    \n",
    "    'peek_para': {'smiles': \"Oc1ccc(Oc2ccc(C(=O)c3ccccc3)cc2)cc1\",\n",
    "                   'indices': [22, 29],\n",
    "                   'bond_length': 0.1376,\n",
    "                  'description': \"poly-ether-ether-ketone with a para configuration\"                    \n",
    "                 },\n",
    "    \n",
    "    'peek_meta': {'smiles': \"Oc1cc(Oc2ccc(C(=O)c3ccccc3)cc2)ccc1\",\n",
    "                   'indices': [22, 29],\n",
    "                   'bond_length': 0.1376,\n",
    "                  'description': \"poly-ether-ether-ketone with a meta configuration\"\n",
    "                 }\n",
    "    \n",
    "}"
   ]
  },
  {
   "cell_type": "code",
   "execution_count": null,
   "metadata": {},
   "outputs": [],
   "source": [
    "# Maybe there is a from_recipe() function, for example:\n",
    "polymer = Polymer.from_recipe(monomer='peek_para', n=10)"
   ]
  },
  {
   "cell_type": "code",
   "execution_count": null,
   "metadata": {},
   "outputs": [],
   "source": []
  }
 ],
 "metadata": {
  "kernelspec": {
   "display_name": "Python 3",
   "language": "python",
   "name": "python3"
  },
  "language_info": {
   "codemirror_mode": {
    "name": "ipython",
    "version": 3
   },
   "file_extension": ".py",
   "mimetype": "text/x-python",
   "name": "python",
   "nbconvert_exporter": "python",
   "pygments_lexer": "ipython3",
   "version": "3.7.10"
  }
 },
 "nbformat": 4,
 "nbformat_minor": 4
}
