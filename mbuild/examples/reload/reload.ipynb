{
 "cells": [
  {
   "cell_type": "code",
   "execution_count": 1,
   "metadata": {
    "collapsed": false
   },
   "outputs": [
    {
     "name": "stdout",
     "output_type": "stream",
     "text": [
      "<Polymer 164 particles, non-periodic, 163 bonds, id: 4501295288>\n",
      "<MPC 41 particles, non-periodic, 40 bonds, id: 4501287264>\n",
      "<MPC 41 particles, non-periodic, 40 bonds, id: 4501261392>\n",
      "<MPC 41 particles, non-periodic, 40 bonds, id: 4501261560>\n",
      "<MPC 41 particles, non-periodic, 40 bonds, id: 4501236200>\n"
     ]
    }
   ],
   "source": [
    "\"\"\"A quick test for updating a Compound and traversing its hierarchy. \"\"\"\n",
    "from __future__ import division, print_function\n",
    "\n",
    "from numpy import pi\n",
    "\n",
    "import mbuild as mb\n",
    "\n",
    "from mbuild.examples.pmpc.brush import Brush\n",
    "\n",
    "   \n",
    "# Create a compound and write it to file.\n",
    "brush1 = Brush()\n",
    "brush1.save(\"brush1.pdb\")\n",
    "\n",
    "# Create another compound, rotate it and write it to file.\n",
    "brush2 = Brush()\n",
    "mb.rotate_around_z(brush2, pi/2)\n",
    "brush2.save(\"brush2.pdb\")\n",
    "\n",
    "# Load brush2.pdb into brush1, modifying the atom positions of brush1.\n",
    "brush1.update_coordinates(\"brush2.pdb\")\n",
    "brush1.save(\"modified_brush1.pdb\")\n",
    "\n",
    "# Access the internals of the updated brush1.\n",
    "print(brush1['pmpc'])\n",
    "\n",
    "for mpc in brush1['pmpc']['monomer']:\n",
    "    print(mpc)"
   ]
  },
  {
   "cell_type": "code",
   "execution_count": null,
   "metadata": {
    "collapsed": true
   },
   "outputs": [],
   "source": []
  }
 ],
 "metadata": {
  "kernelspec": {
   "display_name": "Python 3",
   "language": "python",
   "name": "python3"
  },
  "language_info": {
   "codemirror_mode": {
    "name": "ipython",
    "version": 3
   },
   "file_extension": ".py",
   "mimetype": "text/x-python",
   "name": "python",
   "nbconvert_exporter": "python",
   "pygments_lexer": "ipython3",
   "version": "3.4.4"
  }
 },
 "nbformat": 4,
 "nbformat_minor": 0
}
