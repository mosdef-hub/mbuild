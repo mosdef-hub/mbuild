{
 "cells": [
  {
   "cell_type": "code",
   "execution_count": 1,
   "metadata": {
    "collapsed": false
   },
   "outputs": [
    {
     "name": "stdout",
     "output_type": "stream",
     "text": [
      "'writeandexecute' magic loaded.\n"
     ]
    }
   ],
   "source": [
    "%load_ext ipyext.writeandexecute"
   ]
  },
  {
   "cell_type": "code",
   "execution_count": 2,
   "metadata": {
    "collapsed": true
   },
   "outputs": [],
   "source": [
    "%%writeandexecute -i ch2_sliane ch2_sliane.py\n",
    "import mbuild as mb\n",
    "\n",
    "from mbuild.lib.moieties import CH2\n",
    "from mbuild.lib.moieties import CH3\n",
    "from mbuild.lib.moieties import Silane\n",
    "\n",
    "from mbuild.recipes.copolymer import Copolymer\n",
    "\n",
    "\n",
    "class Ch2_Sliane(mb.Compound):\n",
    "    \"\"\"Ch2_Sliane copolymer.\"\"\"\n",
    "    cap_front = CH3()  # front cap of main chain\n",
    "    cap_end = CH3()  # end cap of main chain\n",
    "\n",
    "    chain_A = CH2()  # polymer A in the main chain\n",
    "    chain_B = Silane()  # polymer B in the main chain\n",
    "\n",
    "    ch2_sliane_pattern = [cap_front, [chain_A, 2, (\"up\", \"down\")], [chain_B, 2, (\"up\", \"down\")], 1, cap_end]\n",
    "\n",
    "    def __init__(self, pattern=ch2_sliane_pattern, random=False):\n",
    "        \"\"\"\n",
    "        :param pattern: General format for all kinds of copolymers.\n",
    "            [cap_front, [A, A_num, A_port_labels], [B, B_num, B_port_labels], cap_end, repeat_num]\n",
    "            Alternating copolymers: A_num = 1, B_num = 1, repeat_num = any_value\n",
    "            Periodic copolymers: A_num = any_value, B_num = any_value, repeat_num = any_value\n",
    "            Block copolymers: A_num = any_value, B_num = any_value, repeat_num = 1\n",
    "            Statistical copolymers: repeat A block and B block randomly with repeat_num times, if random is True\n",
    "        :param random: option for Statistical copolymers, which are actually random copolymers.\n",
    "        \"\"\"\n",
    "\n",
    "        super(Ch2_Sliane, self).__init__()\n",
    "        ch2_sliane_copolymer = Copolymer(pattern, random)\n",
    "\n",
    "        self.add(ch2_sliane_copolymer, 'ch2_sliane_copolymer')"
   ]
  },
  {
   "cell_type": "code",
   "execution_count": 3,
   "metadata": {
    "collapsed": false
   },
   "outputs": [
    {
     "name": "stdout",
     "output_type": "stream",
     "text": [
      "<Ch2_Sliane 24 particles, non-periodic, 23 bonds, id: 84370152>\n"
     ]
    }
   ],
   "source": [
    "ch2_sliane = Ch2_Sliane()\n",
    "print(ch2_sliane)\n",
    "ch2_sliane.visualize()"
   ]
  },
  {
   "cell_type": "code",
   "execution_count": null,
   "metadata": {
    "collapsed": true
   },
   "outputs": [],
   "source": []
  }
 ],
 "metadata": {
  "anaconda-cloud": {},
  "kernelspec": {
   "display_name": "Python [default]",
   "language": "python",
   "name": "python3"
  },
  "language_info": {
   "codemirror_mode": {
    "name": "ipython",
    "version": 3
   },
   "file_extension": ".py",
   "mimetype": "text/x-python",
   "name": "python",
   "nbconvert_exporter": "python",
   "pygments_lexer": "ipython3",
   "version": "3.5.2"
  },
  "widgets": {
   "state": {
    "4066166d2dc04810a3a40908aa7f77bf": {
     "views": [
      {
       "cell_index": 2
      }
     ]
    },
    "673c9bd217484116ae5f7d2d60cfcf90": {
     "views": [
      {
       "cell_index": 2
      }
     ]
    }
   },
   "version": "1.2.0"
  }
 },
 "nbformat": 4,
 "nbformat_minor": 0
}
