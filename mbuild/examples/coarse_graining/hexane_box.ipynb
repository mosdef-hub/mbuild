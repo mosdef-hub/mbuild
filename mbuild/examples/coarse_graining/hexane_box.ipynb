{
 "cells": [
  {
   "cell_type": "code",
   "execution_count": 1,
   "metadata": {
    "collapsed": false
   },
   "outputs": [
    {
     "name": "stdout",
     "output_type": "stream",
     "text": [
      "<Compound 1000 particles, non-periodic, 950 bonds, id: 4501219200>\n"
     ]
    }
   ],
   "source": [
    "import mbuild as mb\n",
    "from mbuild.lib.moieties import CH2, CH3\n",
    "from mbuild.examples import Propane, Hexane\n",
    "\n",
    "hexane_box = mb.fill_box(Hexane(), 50, box=[4, 4, 4])\n",
    "print(hexane_box)\n",
    "hexane_box.visualize()"
   ]
  },
  {
   "cell_type": "code",
   "execution_count": 2,
   "metadata": {
    "collapsed": false
   },
   "outputs": [
    {
     "name": "stdout",
     "output_type": "stream",
     "text": [
      "<Compound (proxy)  300 particles, non-periodic, 0 bonds, id: 4366294320>\n"
     ]
    }
   ],
   "source": [
    "united_atom_particles = [CH2, CH3]\n",
    "united_atom = mb.coarse_grain(hexane_box, particle_classes=united_atom_particles)\n",
    "print(united_atom)\n",
    "united_atom.visualize()"
   ]
  },
  {
   "cell_type": "code",
   "execution_count": 3,
   "metadata": {
    "collapsed": false
   },
   "outputs": [
    {
     "name": "stdout",
     "output_type": "stream",
     "text": [
      "<Compound (proxy)  100 particles, non-periodic, 0 bonds, id: 4571535120>\n"
     ]
    }
   ],
   "source": [
    "three_to_one_particles = [Propane]\n",
    "three_to_one = mb.coarse_grain(hexane_box, particle_classes=three_to_one_particles)\n",
    "print(three_to_one)\n",
    "three_to_one.visualize()"
   ]
  },
  {
   "cell_type": "code",
   "execution_count": null,
   "metadata": {
    "collapsed": true
   },
   "outputs": [],
   "source": []
  }
 ],
 "metadata": {
  "kernelspec": {
   "display_name": "Python 3",
   "language": "python",
   "name": "python3"
  },
  "language_info": {
   "codemirror_mode": {
    "name": "ipython",
    "version": 3
   },
   "file_extension": ".py",
   "mimetype": "text/x-python",
   "name": "python",
   "nbconvert_exporter": "python",
   "pygments_lexer": "ipython3",
   "version": "3.4.4"
  }
 },
 "nbformat": 4,
 "nbformat_minor": 0
}
