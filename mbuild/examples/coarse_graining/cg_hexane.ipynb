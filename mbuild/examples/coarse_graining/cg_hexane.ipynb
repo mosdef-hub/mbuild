{
 "cells": [
  {
   "cell_type": "code",
   "execution_count": 11,
   "metadata": {
    "collapsed": false
   },
   "outputs": [
    {
     "name": "stdout",
     "output_type": "stream",
     "text": [
      "The ipyext.writeandexecute extension is already loaded. To reload it, use:\n",
      "  %reload_ext ipyext.writeandexecute\n"
     ]
    }
   ],
   "source": [
    "%load_ext ipyext.writeandexecute"
   ]
  },
  {
   "cell_type": "code",
   "execution_count": 12,
   "metadata": {
    "collapsed": true
   },
   "outputs": [],
   "source": [
    "%%writeandexecute -i cg_hexane cg_hexane.py\n",
    "import mbuild as mb\n",
    "\n",
    "from mbuild.examples.alkane.alkane import Alkane\n",
    "\n",
    "\n",
    "class Propane(mb.Compound):\n",
    "    def __init__(self):\n",
    "        super(Propane, self).__init__()\n",
    "\n",
    "        c = Alkane(n=3, cap_front=True, cap_end=False)\n",
    "        self.add(c, 'propane')\n",
    "\n",
    "        self.add(c['down'], 'down', containment=False)\n",
    "\n",
    "class Hexane(mb.Compound):\n",
    "    def __init__(self):\n",
    "        super(Hexane, self).__init__()\n",
    "\n",
    "        self.add(Propane(), 'propane1')\n",
    "        self.add(Propane(), 'propane2')\n",
    "\n",
    "        mb.equivalence_transform(self['propane1'], \n",
    "                                 self['propane1']['down'], \n",
    "                                 self['propane2']['down'])"
   ]
  },
  {
   "cell_type": "code",
   "execution_count": 13,
   "metadata": {
    "collapsed": false
   },
   "outputs": [
    {
     "name": "stdout",
     "output_type": "stream",
     "text": [
      "<Hexane 20 particles, non-periodic, 19 bonds, id: 4509515336>\n"
     ]
    }
   ],
   "source": [
    "hexane = Hexane()\n",
    "print(hexane)\n",
    "hexane.visualize()"
   ]
  },
  {
   "cell_type": "code",
   "execution_count": 14,
   "metadata": {
    "collapsed": false
   },
   "outputs": [
    {
     "name": "stdout",
     "output_type": "stream",
     "text": [
      "<Hexane (proxy)  2 particles, non-periodic, 0 bonds, id: 4509512984>\n"
     ]
    }
   ],
   "source": [
    "particles = [Propane]\n",
    "cg = mb.coarse_grain(hexane, particle_classes=particles)\n",
    "print(cg)\n",
    "cg.visualize()"
   ]
  },
  {
   "cell_type": "code",
   "execution_count": null,
   "metadata": {
    "collapsed": true
   },
   "outputs": [],
   "source": []
  }
 ],
 "metadata": {
  "kernelspec": {
   "display_name": "Python 3",
   "language": "python",
   "name": "python3"
  },
  "language_info": {
   "codemirror_mode": {
    "name": "ipython",
    "version": 3
   },
   "file_extension": ".py",
   "mimetype": "text/x-python",
   "name": "python",
   "nbconvert_exporter": "python",
   "pygments_lexer": "ipython3",
   "version": "3.4.4"
  }
 },
 "nbformat": 4,
 "nbformat_minor": 0
}
