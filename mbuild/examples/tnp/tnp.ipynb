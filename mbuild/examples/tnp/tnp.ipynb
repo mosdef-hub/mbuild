{
 "cells": [
  {
   "cell_type": "code",
   "execution_count": 1,
   "metadata": {
    "collapsed": false
   },
   "outputs": [
    {
     "name": "stdout",
     "output_type": "stream",
     "text": [
      "'writeandexecute' magic loaded.\n"
     ]
    }
   ],
   "source": [
    "%load_ext ipyext.writeandexecute"
   ]
  },
  {
   "cell_type": "code",
   "execution_count": 4,
   "metadata": {
    "collapsed": true
   },
   "outputs": [],
   "source": [
    "%%writeandexecute -i tnp tnp.py\n",
    "from numpy import sqrt, pi\n",
    "\n",
    "import mbuild as mb\n",
    "\n",
    "from mbuild.examples.tnp.bead import Bead\n",
    "from mbuild.examples.tnp.sphere import Sphere\n",
    "\n",
    "\n",
    "class Tnp(mb.Compound):\n",
    "    \"\"\"A spherical nanoparticle with tethered chains. \"\"\"\n",
    "    def __init__(self, ball_radius=10, n_chains=4, chain_length=10, monomer=None):\n",
    "        \"\"\"Initialize a tethered nanoparticle.\n",
    "\n",
    "        Args:\n",
    "            ball_radius (float): Radius of the nanoparticle.\n",
    "            n_chains (int): Number of chains to attach to the nanoparticle.\n",
    "            chain_length (int): Length of the chains being attached.\n",
    "            monomer (Compound, optional): Type of chain being attached.\n",
    "        \"\"\"\n",
    "        super(Tnp, self).__init__()\n",
    "\n",
    "        if not monomer:\n",
    "            monomer = Bead(particle_kind='t')\n",
    "\n",
    "        n = 129  # TODO: make this tweakable\n",
    "        self.add(Sphere(n=n, radius=ball_radius, port_distance_from_surface=0.7), label=\"np\")\n",
    "\n",
    "        # Generate 65 points on the surface of a unit sphere.\n",
    "        pattern = mb.SpherePattern(n_chains)\n",
    "\n",
    "        # Magnify it a bit.\n",
    "        pattern.scale(ball_radius)\n",
    "\n",
    "        chain_proto = mb.Polymer(monomer, n=chain_length)\n",
    "\n",
    "        # Apply chains to pattern.\n",
    "        chain_protos, empty_backfill = pattern.apply_to_compound(chain_proto,\n",
    "                guest_port_name=\"down\", host=self['np'])\n",
    "        self.add(chain_protos)\n",
    "\n",
    "        self.generate_bonds('np', 'np', sqrt(4 * ball_radius ** 2 * pi / n) - 0.5,\n",
    "                            sqrt(4 * ball_radius**2 * pi / n) + 0.5)\n",
    "        self.generate_bonds('np', 't', 0.1, 0.3)\n",
    "        self.generate_bonds('t', 'np', 0.1, 0.3)"
   ]
  },
  {
   "cell_type": "code",
   "execution_count": 3,
   "metadata": {
    "collapsed": false
   },
   "outputs": [
    {
     "name": "stdout",
     "output_type": "stream",
     "text": [
      "<Tnp 179 particles, non-periodic, 312 bonds, id: 4365554072>\n"
     ]
    }
   ],
   "source": [
    "nano_particle = Tnp(n_chains=5, chain_length=10)\n",
    "print(nano_particle)\n",
    "nano_particle.visualize()"
   ]
  },
  {
   "cell_type": "code",
   "execution_count": null,
   "metadata": {
    "collapsed": true
   },
   "outputs": [],
   "source": []
  }
 ],
 "metadata": {
  "kernelspec": {
   "display_name": "Python 3",
   "language": "python",
   "name": "python3"
  },
  "language_info": {
   "codemirror_mode": {
    "name": "ipython",
    "version": 3
   },
   "file_extension": ".py",
   "mimetype": "text/x-python",
   "name": "python",
   "nbconvert_exporter": "python",
   "pygments_lexer": "ipython3",
   "version": "3.4.4"
  }
 },
 "nbformat": 4,
 "nbformat_minor": 0
}
