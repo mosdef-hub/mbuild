{
 "cells": [
  {
   "cell_type": "code",
   "execution_count": 1,
   "metadata": {
    "collapsed": false
   },
   "outputs": [
    {
     "name": "stdout",
     "output_type": "stream",
     "text": [
      "<Compound 1508 particles, non-periodic, 1007 bonds, id: 4501385624>\n"
     ]
    }
   ],
   "source": [
    "\"\"\"Solvate an ethane molecule in a Box of water. \"\"\"\n",
    "\n",
    "from __future__ import print_function\n",
    "\n",
    "import mbuild as mb\n",
    "from mbuild.lib.moieties import H2O\n",
    "from mbuild.examples import Ethane\n",
    "\n",
    "\n",
    "ethane = Ethane()\n",
    "water = H2O()\n",
    "solvated_ethane = mb.solvate(ethane, water, 500, box=[2, 2, 2])\n",
    "print(solvated_ethane)\n",
    "solvated_ethane.visualize()"
   ]
  },
  {
   "cell_type": "code",
   "execution_count": null,
   "metadata": {
    "collapsed": true
   },
   "outputs": [],
   "source": []
  }
 ],
 "metadata": {
  "kernelspec": {
   "display_name": "Python 3",
   "language": "python",
   "name": "python3"
  },
  "language_info": {
   "codemirror_mode": {
    "name": "ipython",
    "version": 3
   },
   "file_extension": ".py",
   "mimetype": "text/x-python",
   "name": "python",
   "nbconvert_exporter": "python",
   "pygments_lexer": "ipython3",
   "version": "3.4.4"
  }
 },
 "nbformat": 4,
 "nbformat_minor": 0
}
