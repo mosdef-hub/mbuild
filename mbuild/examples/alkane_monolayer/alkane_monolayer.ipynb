{
 "cells": [
  {
   "cell_type": "code",
   "execution_count": 1,
   "metadata": {
    "collapsed": false
   },
   "outputs": [
    {
     "name": "stdout",
     "output_type": "stream",
     "text": [
      "'writeandexecute' magic loaded.\n"
     ]
    }
   ],
   "source": [
    "%load_ext ipyext.writeandexecute"
   ]
  },
  {
   "cell_type": "code",
   "execution_count": 2,
   "metadata": {
    "collapsed": true
   },
   "outputs": [],
   "source": [
    "%%writeandexecute -i alkane_monolayer alkane_monolayer.py\n",
    "import mbuild as mb\n",
    "\n",
    "from mbuild.lib.surfaces import Betacristobalite\n",
    "from mbuild.lib.atoms import H\n",
    "from mbuild.examples.alkane_monolayer.alkylsilane import AlkylSilane\n",
    "\n",
    "\n",
    "class AlkaneMonolayer(mb.Monolayer):\n",
    "    \"\"\"An akylsilane monolayer on beta-cristobalite. \"\"\"\n",
    "\n",
    "    def __init__(self, pattern, tile_x=1, tile_y=1, chain_length=10):\n",
    "        \"\"\"Create an alkylsilane monolayer on beta-cristobalite.\n",
    "\n",
    "        Parameters\n",
    "        ----------\n",
    "        pattern : np.ndarray, shape=(n, 3), optional, default=None\n",
    "            An array of planar binding locations. If not provided, the entire\n",
    "            surface will be filled with `chain`.\n",
    "        tile_x : int, optional, default=1\n",
    "            Number of times to replicate substrate in x-direction.\n",
    "        tile_y : int, optional, default=1\n",
    "            Number of times to replicate substrate in y-direction.\n",
    "        chain_length : int, optional, default=10\n",
    "            Number of carbon atoms per chain.\n",
    "        \"\"\"\n",
    "        surface = Betacristobalite()\n",
    "        alkylsilane = AlkylSilane(chain_length)\n",
    "        hydrogen = H()\n",
    "        super(AlkaneMonolayer, self).__init__(surface, alkylsilane, backfill=hydrogen,\n",
    "                                              pattern=pattern, tile_x=tile_x,\n",
    "                                              tile_y=tile_y)"
   ]
  },
  {
   "cell_type": "code",
   "execution_count": 3,
   "metadata": {
    "collapsed": false
   },
   "outputs": [
    {
     "name": "stdout",
     "output_type": "stream",
     "text": [
      "<AlkaneMonolayer 4240 particles, periodicity: [ 5.3888  4.6669  0.    ], 4740 bonds, id: 4365268864>\n"
     ]
    },
    {
     "name": "stderr",
     "output_type": "stream",
     "text": [
      "/Users/ctk3b/science/python/mbuild/mbuild/recipes/monolayer.py:78: UserWarning: \n",
      " No fractions provided.  Assuming a single chain type.\n",
      "  warnings.warn(\"\\n No fractions provided.  Assuming a single chain type.\")\n",
      "/Users/ctk3b/science/python/mbuild/mbuild/recipes/monolayer.py:81: UserWarning: \n",
      " Adding 64 of chain <AlkylSilane 36 particles, non-periodic, 35 bonds, id: 4696866656>\n",
      "  warnings.warn(\"\\n Adding {} of chain {}\".format(len(pattern), chains[-1]))\n"
     ]
    }
   ],
   "source": [
    "pattern = mb.Grid2DPattern(8, 8)  # Evenly spaced, 2D grid of points.\n",
    "monolayer = AlkaneMonolayer(chain_length=10, pattern=pattern)\n",
    "print(monolayer)\n",
    "monolayer.visualize()"
   ]
  },
  {
   "cell_type": "code",
   "execution_count": null,
   "metadata": {
    "collapsed": true
   },
   "outputs": [],
   "source": []
  }
 ],
 "metadata": {
  "kernelspec": {
   "display_name": "Python 3",
   "language": "python",
   "name": "python3"
  },
  "language_info": {
   "codemirror_mode": {
    "name": "ipython",
    "version": 3
   },
   "file_extension": ".py",
   "mimetype": "text/x-python",
   "name": "python",
   "nbconvert_exporter": "python",
   "pygments_lexer": "ipython3",
   "version": "3.4.4"
  }
 },
 "nbformat": 4,
 "nbformat_minor": 0
}
