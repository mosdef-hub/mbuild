{
 "cells": [
  {
   "cell_type": "code",
   "execution_count": 1,
   "metadata": {
    "collapsed": false
   },
   "outputs": [
    {
     "name": "stdout",
     "output_type": "stream",
     "text": [
      "'writeandexecute' magic loaded.\n"
     ]
    }
   ],
   "source": [
    "%load_ext ipyext.writeandexecute"
   ]
  },
  {
   "cell_type": "code",
   "execution_count": 4,
   "metadata": {
    "collapsed": true
   },
   "outputs": [],
   "source": [
    "%%writeandexecute -i monolj monolj.py\n",
    "import mbuild as mb\n",
    "from mbuild import clone\n",
    "\n",
    "\n",
    "class MonoLJ(mb.Compound):\n",
    "    def __init__(self):\n",
    "        super(MonoLJ, self).__init__()\n",
    "        lj_proto = mb.Particle(name='LJ', pos=[0, 0, 0])\n",
    "        \n",
    "        pattern = mb.Grid3DPattern(5, 5, 5)\n",
    "        pattern.scale(5)\n",
    "        \n",
    "        for pos in pattern:\n",
    "            lj_particle = clone(lj_proto)\n",
    "            mb.translate(lj_particle, pos)\n",
    "            self.add(lj_particle)"
   ]
  },
  {
   "cell_type": "code",
   "execution_count": 5,
   "metadata": {
    "collapsed": false
   },
   "outputs": [
    {
     "name": "stdout",
     "output_type": "stream",
     "text": [
      "<MonoLJ 125 particles, non-periodic, 0 bonds, id: 4550131896>\n"
     ]
    }
   ],
   "source": [
    "monolj = MonoLJ()\n",
    "print(monolj)\n",
    "monolj.visualize()"
   ]
  },
  {
   "cell_type": "code",
   "execution_count": null,
   "metadata": {
    "collapsed": true
   },
   "outputs": [],
   "source": []
  }
 ],
 "metadata": {
  "kernelspec": {
   "display_name": "Python 3",
   "language": "python",
   "name": "python3"
  },
  "language_info": {
   "codemirror_mode": {
    "name": "ipython",
    "version": 3
   },
   "file_extension": ".py",
   "mimetype": "text/x-python",
   "name": "python",
   "nbconvert_exporter": "python",
   "pygments_lexer": "ipython3",
   "version": "3.4.4"
  }
 },
 "nbformat": 4,
 "nbformat_minor": 0
}
