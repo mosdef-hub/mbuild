{
 "cells": [
  {
   "cell_type": "code",
   "execution_count": 1,
   "metadata": {},
   "outputs": [
    {
     "name": "stdout",
     "output_type": "stream",
     "text": [
      "'writeandexecute' magic loaded.\n"
     ]
    }
   ],
   "source": [
    "%load_ext ipyext.writeandexecute"
   ]
  },
  {
   "cell_type": "code",
   "execution_count": 2,
   "metadata": {},
   "outputs": [],
   "source": [
    "%%writeandexecute -i alkane alkane.py\n",
    "import mbuild as mb\n",
    "\n",
    "from mbuild.lib.moieties import CH2\n",
    "from mbuild.lib.moieties import CH3\n",
    "\n",
    "\n",
    "class Alkane(mb.Compound):\n",
    "    \"\"\"An alkane which may optionally end with a hydrogen or a Port.\"\"\"\n",
    "    def __init__(self, n=3, cap_front=True, cap_end=True):\n",
    "        \"\"\"Initialize an Alkane Compound.\n",
    "\n",
    "        Args:\n",
    "            n: Number of carbon atoms.\n",
    "            cap_front: Add methyl group to beginning of chain ('down' port).\n",
    "            cap_end: Add methyl group to end of chain ('up' port).\n",
    "        \"\"\"\n",
    "        if n < 2:\n",
    "            raise ValueError('n must be 1 or more')\n",
    "        super(Alkane, self).__init__()\n",
    "\n",
    "        # Adjust length of Polmyer for absence of methyl terminations.\n",
    "        if not cap_front:\n",
    "            n += 1\n",
    "        if not cap_end:\n",
    "            n += 1\n",
    "        chain = mb.Polymer(CH2(), n=n-2, port_labels=('up', 'down'))\n",
    "        self.add(chain, 'chain')\n",
    "\n",
    "        if cap_front:\n",
    "            self.add(CH3(), \"methyl_front\")\n",
    "            mb.equivalence_transform(self['chain'], self['chain']['up'], self['methyl_front']['up'])\n",
    "        else:\n",
    "            # Hoist port label to Alkane level.\n",
    "            self.add(chain['up'], 'up', containment=False)\n",
    "\n",
    "        if cap_end:\n",
    "            self.add(CH3(), 'methyl_end')\n",
    "            mb.equivalence_transform(self['methyl_end'], self['methyl_end']['up'], self['chain']['down'])\n",
    "        else:\n",
    "            # Hoist port label to Alkane level.\n",
    "            self.add(chain['down'], 'down', containment=False)"
   ]
  },
  {
   "cell_type": "code",
   "execution_count": 3,
   "metadata": {},
   "outputs": [
    {
     "name": "stdout",
     "output_type": "stream",
     "text": [
      "<Alkane 17 particles, non-periodic, 16 bonds, id: 4366362104>\n"
     ]
    }
   ],
   "source": [
    "n=5\n",
    "alkane = Alkane(n=n, cap_front=True, cap_end=True)\n",
    "print(alkane)\n",
    "alkane.visualize()"
   ]
  },
  {
   "cell_type": "code",
   "execution_count": null,
   "metadata": {},
   "outputs": [],
   "source": [
    ""
   ]
  }
 ],
 "metadata": {
  "kernelspec": {
   "display_name": "Python 3",
   "language": "python",
   "name": "python3"
  },
  "language_info": {
   "codemirror_mode": {
    "name": "ipython",
    "version": 3.0
   },
   "file_extension": ".py",
   "mimetype": "text/x-python",
   "name": "python",
   "nbconvert_exporter": "python",
   "pygments_lexer": "ipython3",
   "version": "3.4.4"
  }
 },
 "nbformat": 4,
 "nbformat_minor": 0
}