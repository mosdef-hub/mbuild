{
 "cells": [
  {
   "cell_type": "code",
   "execution_count": 1,
   "metadata": {
    "collapsed": true
   },
   "outputs": [],
   "source": [
    "import mbuild as mb\n",
    "import numpy as np\n",
    "\n",
    "from mbuild.UA_molecules.ch3ua import CH3UA\n",
    "from mbuild.UA_molecules.alkyl_monomerua import AlkylMonomerUA\n",
    "from mbuild.prototypes.cooh import COOH\n",
    "\n",
    "class FFAUA(mb.Compound):\n",
    "    \"\"\"Creates a saturated free fatty acid of n carbons based on user\n",
    "    input for the united atom model\"\"\"\n",
    "    def __init__(self, chain_length, ester=True):\n",
    "        super(FFAUA, self).__init__()\n",
    "        \n",
    "        if ester:\n",
    "            self.add(COOH(ester=True), label='head')\n",
    "        \n",
    "        tail = mb.Polymer(AlkylMonomerUA(), (chain_length - 2))\n",
    "        if not ester:\n",
    "            self.add(CH3UA(), label='tailcap')\n",
    "        self.add(tail, label='tail')\n",
    "        if ester:\n",
    "            self.add(CH3UA(), label='tailcap')\n",
    "        mb.x_axis_transform(self['tail'], new_origin=self['tail'][0],\n",
    "                point_on_x_axis=self['tail'][2],\n",
    "                point_on_xy_plane=self['tail'][1])\n",
    "\n",
    "        if not ester:\n",
    "            self.add(COOH(), label='head')\n",
    "        self['head'].rotate(np.pi, [0,1,0])\n",
    "        self['head'].translate([-self['tail'][1].pos[0],\n",
    "            self['tail'][1].pos[1], 0])\n",
    "        if ester:\n",
    "            mb.force_overlap(move_this=self['tailcap'],\n",
    "                from_positions=self['tailcap']['up'],\n",
    "                to_positions=self['tail']['up'])\n",
    "        else:\n",
    "            mb.force_overlap(move_this=self['tailcap'],\n",
    "                from_positions=self['tailcap']['up'],\n",
    "                to_positions=self['tail']['down'])\n",
    "\n",
    "        self['head']['up'].spin(-np.pi/2, self['head']['C'].pos)\n",
    "        if ester: \n",
    "            mb.force_overlap(move_this=self['head'],\n",
    "                from_positions=self['head']['up'],\n",
    "                to_positions=self['tail']['down'])\n",
    "        else:\n",
    "            mb.force_overlap(move_this=self['head'],\n",
    "                from_positions=self['head']['up'],\n",
    "                to_positions=self['tail']['down'])\n",
    "        self.spin(np.pi/2, [0,1,0])\n",
    "        self.name = 'FFA' + str(chain_length)"
   ]
  },
  {
   "cell_type": "code",
   "execution_count": 2,
   "metadata": {},
   "outputs": [
    {
     "name": "stderr",
     "output_type": "stream",
     "text": [
      "/home/loganguy/anaconda3/envs/mosdef/lib/python3.5/site-packages/ipywidgets/widgets/widget.py:464: DeprecationWarning: The 'warn' method is deprecated, use 'warning' instead\n",
      "  self.log.warn(message)\n",
      "The installed widget Javascript is the wrong version.\n"
     ]
    }
   ],
   "source": [
    "ffa = FFAUA(14)\n",
    "ffa.visualize(show_ports=True)"
   ]
  },
  {
   "cell_type": "code",
   "execution_count": null,
   "metadata": {
    "collapsed": true
   },
   "outputs": [],
   "source": []
  }
 ],
 "metadata": {
  "kernelspec": {
   "display_name": "Python 3",
   "language": "python",
   "name": "python3"
  },
  "language_info": {
   "codemirror_mode": {
    "name": "ipython",
    "version": 3
   },
   "file_extension": ".py",
   "mimetype": "text/x-python",
   "name": "python",
   "nbconvert_exporter": "python",
   "pygments_lexer": "ipython3",
   "version": "3.5.3"
  }
 },
 "nbformat": 4,
 "nbformat_minor": 2
}
