{
 "cells": [
  {
   "cell_type": "code",
   "execution_count": 6,
   "metadata": {
    "collapsed": true
   },
   "outputs": [],
   "source": [
    "import mbuild as mb\n",
    "import numpy as np\n",
    "\n",
    "class AlkylMonomerUA(mb.Compound):\n",
    "    \"\"\"Creates a monomer for an alkyl chain in the united-atom model\"\"\"\n",
    "    def __init__(self):\n",
    "        super(AlkylMonomerUA, self).__init__()\n",
    "        self.add(mb.Particle(name='CH2', pos=[0,0,0]), label='C')\n",
    "        \n",
    "        theta = 0.5 * (180 - 109.5) * np.pi / 180\n",
    "\n",
    "        self.add(mb.Port(anchor=self[0]), label='up')\n",
    "        self['up'].translate([0, -0.154/2, 0])\n",
    "        self['up'].rotate(theta, around=[1,0,0])\n",
    "        self.add(mb.Port(anchor=self[0]), label='down')\n",
    "        self['down'].translate([0, 0.154/2, 0])\n",
    "        self['down'].rotate(np.pi, around=[0,1,0])\n",
    "        self['down'].rotate(-theta, around=[1,0,0])\n"
   ]
  },
  {
   "cell_type": "code",
   "execution_count": 7,
   "metadata": {},
   "outputs": [
    {
     "name": "stderr",
     "output_type": "stream",
     "text": [
      "/home/loganguy/anaconda3/envs/mosdef/lib/python3.5/site-packages/ipywidgets/widgets/widget.py:464: DeprecationWarning: The 'warn' method is deprecated, use 'warning' instead\n",
      "  self.log.warn(message)\n",
      "The installed widget Javascript is the wrong version.\n"
     ]
    }
   ],
   "source": [
    "alkyl = AlkylMonomer()\n",
    "alkyl.visualize(show_ports=True)"
   ]
  },
  {
   "cell_type": "code",
   "execution_count": null,
   "metadata": {
    "collapsed": true
   },
   "outputs": [],
   "source": []
  }
 ],
 "metadata": {
  "kernelspec": {
   "display_name": "Python 3",
   "language": "python",
   "name": "python3"
  },
  "language_info": {
   "codemirror_mode": {
    "name": "ipython",
    "version": 3
   },
   "file_extension": ".py",
   "mimetype": "text/x-python",
   "name": "python",
   "nbconvert_exporter": "python",
   "pygments_lexer": "ipython3",
   "version": "3.5.3"
  }
 },
 "nbformat": 4,
 "nbformat_minor": 2
}
