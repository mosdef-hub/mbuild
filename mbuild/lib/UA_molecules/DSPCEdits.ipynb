{
 "cells": [
  {
   "cell_type": "code",
   "execution_count": 7,
   "metadata": {
    "collapsed": true
   },
   "outputs": [],
   "source": [
    "import mbuild as mb\n",
    "import numpy as np\n",
    "\n",
    "from mbuild.UA_molecules.pctailsua  import PCTailsUA\n",
    "from mbuild.UA_molecules.pcheadua import PCHeadUA\n",
    "\n",
    "\n",
    "class DSPCUA(mb.Compound):\n",
    "    def __init__(self):\n",
    "        super(DSPCUA, self).__init__()\n",
    "        \n",
    "        self.add(PCHeadUA(), label='headgroup')\n",
    "        self.add(PCTailsUA(18,18), label='ffatails')\n",
    "        \n",
    "        mb.force_overlap(move_this=self['ffatails'],\n",
    "                        from_positions=self['ffatails']['CH1']['side'],\n",
    "                        to_positions=self['headgroup']['alkyl_split']['up'])\n",
    "        self.translate(-self['ffatails']['CH1']['C'].pos)\n",
    "        self['headgroup'].rotate(-60*np.pi/180, [0,1,0])\n",
    "\n",
    "        mb.z_axis_transform(self, new_origin=self['headgroup']['N'],\n",
    "                point_on_z_axis=self['ffatails']['FFA'][1][12],\n",
    "                point_on_zx_plane=self['ffatails']['FFA'][0]['C'])\n",
    "        self.rotate(np.pi, [1,0,0])\n",
    "        self.name = 'DSPC'"
   ]
  },
  {
   "cell_type": "code",
   "execution_count": 9,
   "metadata": {},
   "outputs": [
    {
     "name": "stderr",
     "output_type": "stream",
     "text": [
      "/home/loganguy/builds/mbuild/mbuild/utils/decorators.py:11: DeprecationWarning: rotate_around_y is deprecated. Please use rotate(compound, theta, around=np.asarray([0, 1, 0]))\n",
      "  warn(printed_message, DeprecationWarning)\n",
      "/home/loganguy/builds/mbuild/mbuild/utils/decorators.py:11: DeprecationWarning: rotate is deprecated. Please use Compound.rotate()\n",
      "  warn(printed_message, DeprecationWarning)\n",
      "/home/loganguy/anaconda3/envs/mosdef/lib/python3.5/site-packages/ipywidgets/widgets/widget.py:464: DeprecationWarning: The 'warn' method is deprecated, use 'warning' instead\n",
      "  self.log.warn(message)\n",
      "The installed widget Javascript is the wrong version.\n"
     ]
    }
   ],
   "source": [
    "dspc = DSPCUA()\n",
    "\n",
    "for particle in dspc.particles():\n",
    "    particle.name = particle.name[0]\n",
    "dspc['ffatails'].visualize()"
   ]
  },
  {
   "cell_type": "code",
   "execution_count": null,
   "metadata": {
    "collapsed": true
   },
   "outputs": [],
   "source": []
  }
 ],
 "metadata": {
  "kernelspec": {
   "display_name": "Python 3",
   "language": "python",
   "name": "python3"
  },
  "language_info": {
   "codemirror_mode": {
    "name": "ipython",
    "version": 3
   },
   "file_extension": ".py",
   "mimetype": "text/x-python",
   "name": "python",
   "nbconvert_exporter": "python",
   "pygments_lexer": "ipython3",
   "version": "3.5.3"
  }
 },
 "nbformat": 4,
 "nbformat_minor": 2
}
