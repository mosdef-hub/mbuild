{
 "cells": [
  {
   "cell_type": "code",
   "execution_count": 3,
   "metadata": {
    "collapsed": true
   },
   "outputs": [],
   "source": [
    "import mbuild as mb\n",
    "import numpy as np\n",
    "\n",
    "\n",
    "class CH1(mb.Compound):\n",
    "    \"\"\"A three-port carbon atom for the united-atom model.\"\"\"\n",
    "    def __init__(self):\n",
    "        super(CH1, self).__init__()\n",
    "\n",
    "        self.add(mb.Particle(name='CH1', pos=[0, 0, 0]), label='C')\n",
    "        self.add(mb.Port(anchor=self[0], orientation=[1, -1, -1], separation=.154/2), label='up')\n",
    "        self.add(mb.Port(anchor=self[0], orientation=[-1, 1, -1], separation=.154/2), label='down')\n",
    "        self.add(mb.Port(anchor=self[0], orientation=[-1, -1, 1], separation=.154/2), label='side')\n"
   ]
  }
 ],
 "metadata": {
  "kernelspec": {
   "display_name": "Python 3",
   "language": "python",
   "name": "python3"
  },
  "language_info": {
   "codemirror_mode": {
    "name": "ipython",
    "version": 3
   },
   "file_extension": ".py",
   "mimetype": "text/x-python",
   "name": "python",
   "nbconvert_exporter": "python",
   "pygments_lexer": "ipython3",
   "version": "3.5.3"
  }
 },
 "nbformat": 4,
 "nbformat_minor": 2
}
