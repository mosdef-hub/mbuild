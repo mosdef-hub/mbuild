{
 "cells": [
  {
   "cell_type": "code",
   "execution_count": 5,
   "metadata": {
    "collapsed": true
   },
   "outputs": [],
   "source": [
    "import mbuild as mb\n",
    "import numpy as np\n",
    "\n",
    "from mbuild.UA_molecules import CH3UA, AlkylMonomerUA\n",
    "from mbuild.prototypes import COOH\n",
    "\n",
    "class HDHDUA(mb.Compound):\n",
    "    def __init__(self):\n",
    "        super(HDHDUA, self).__init__()\n",
    "        \n",
    "        self.add(CH3UA(), label='tail_end[$]')\n",
    "        self.add(mb.Polymer(AlkylMonomerUA(), 16), label='tail[$]')\n",
    "        self.add(COOH(ester=True, cis=True), label='head')\n",
    "        self['head']['up'].spin(-np.pi/2, self['head']['up'].pos)\n",
    "        self.add(mb.Polymer(AlkylMonomerUA(), 15), label='tail[$]')\n",
    "        self.add(CH3UA(), label='tail_end[$]')\n",
    "        \n",
    "        mb.force_overlap(move_this=self['tail'][0], \n",
    "                        from_positions=self['tail'][0]['up'],\n",
    "                        to_positions=self['head']['down'])\n",
    "        mb.force_overlap(move_this=self['tail'][1],\n",
    "                        from_positions=self['tail'][1]['down'],\n",
    "                        to_positions=self['head']['up'])\n",
    "      \n",
    "        mb.force_overlap(move_this=self['tail_end'][0],\n",
    "                        from_positions=self['tail_end'][0]['up'],\n",
    "                        to_positions=self['tail'][0]['up'])\n",
    "        mb.force_overlap(move_this=self['tail_end'][1],\n",
    "                        from_positions=self['tail_end'][1]['up'],\n",
    "                        to_positions=self['tail'][1]['up'])\n",
    "        \n",
    "        mb.z_axis_transform(compound=self, new_origin=self['head']['C'],\n",
    "                           point_on_z_axis=self['tail'][1][3],\n",
    "                           point_on_zx_plane=self['tail'][1][1])\n",
    "        self.spin(np.pi, [1,0,0])\n",
    "        self.name = 'HDHD'\n",
    "        "
   ]
  },
  {
   "cell_type": "code",
   "execution_count": 6,
   "metadata": {},
   "outputs": [
    {
     "name": "stderr",
     "output_type": "stream",
     "text": [
      "/home/loganguy/builds/mbuild/mbuild/utils/decorators.py:11: DeprecationWarning: rotate_around_y is deprecated. Please use rotate(compound, theta, around=np.asarray([0, 1, 0]))\n",
      "  warn(printed_message, DeprecationWarning)\n",
      "/home/loganguy/builds/mbuild/mbuild/utils/decorators.py:11: DeprecationWarning: rotate is deprecated. Please use Compound.rotate()\n",
      "  warn(printed_message, DeprecationWarning)\n",
      "/home/loganguy/anaconda3/envs/mosdef/lib/python3.5/site-packages/ipywidgets/widgets/widget.py:464: DeprecationWarning: The 'warn' method is deprecated, use 'warning' instead\n",
      "  self.log.warn(message)\n",
      "The installed widget Javascript is the wrong version.\n"
     ]
    }
   ],
   "source": [
    "hdhd = HDHDUA()\n",
    "hdhd.visualize()"
   ]
  },
  {
   "cell_type": "code",
   "execution_count": null,
   "metadata": {
    "collapsed": true
   },
   "outputs": [],
   "source": []
  }
 ],
 "metadata": {
  "kernelspec": {
   "display_name": "Python 3",
   "language": "python",
   "name": "python3"
  },
  "language_info": {
   "codemirror_mode": {
    "name": "ipython",
    "version": 3
   },
   "file_extension": ".py",
   "mimetype": "text/x-python",
   "name": "python",
   "nbconvert_exporter": "python",
   "pygments_lexer": "ipython3",
   "version": "3.5.3"
  }
 },
 "nbformat": 4,
 "nbformat_minor": 2
}
