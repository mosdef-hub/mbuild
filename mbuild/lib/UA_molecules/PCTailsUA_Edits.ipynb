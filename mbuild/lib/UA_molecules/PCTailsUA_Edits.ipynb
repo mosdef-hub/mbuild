{
 "cells": [
  {
   "cell_type": "code",
   "execution_count": 8,
   "metadata": {
    "collapsed": true
   },
   "outputs": [],
   "source": [
    "import mbuild as mb\n",
    "import numpy as np\n",
    "\n",
    "from mbuild.UA_molecules.ffaua import FFAUA\n",
    "from mbuild.UA_molecules.alkyl_monomerua import AlkylMonomerUA\n",
    "from mbuild.UA_molecules.ch1ua import CH1UA\n",
    "\n",
    "class PCTailsUA(mb.Compound):\n",
    "    def __init__(self, tail_1_length, tail_2_length):\n",
    "        super(PCTailsUA, self).__init__()\n",
    "        \n",
    "        self.add(CH1UA(), label='CH1')\n",
    "        self.add(FFAUA(tail_1_length), label='FFA[$]')\n",
    "        self['FFA'][0].translate(-self['FFA'][0]['head']['O'][0].pos)\n",
    "        self['FFA'][0]['head']['down'].spin(-np.pi/2, self['FFA'][0]['head']['down'].pos)\n",
    "        mb.force_overlap(move_this=self['CH1'], \n",
    "                from_positions=self['CH1']['up'],\n",
    "                to_positions=self['FFA'][0]['head']['down'])\n",
    "        self.add(AlkylMonomerUA(), label='CH2')\n",
    "        self['CH2']['up'].spin(-np.pi/2, self['CH2']['up'].pos)\n",
    "        self['CH2']['down'].spin(-np.pi/2, self['CH2']['down'].pos)\n",
    "        mb.force_overlap(move_this=self['CH2'],\n",
    "                        from_positions=self['CH2']['up'],\n",
    "                        to_positions=self['CH1']['down'])\n",
    "    \n",
    "        self.add(FFAUA(tail_2_length), label='FFA[$]')\n",
    "        self['FFA'][1].translate(-self['FFA'][1]['head']['O'][1].pos)\n",
    "        self['FFA'][1]['head']['down'].spin(np.pi, self['FFA'][1]['head']['down'].pos)\n",
    "        mb.force_overlap(move_this=self['FFA'][1], \n",
    "                from_positions=self['FFA'][1]['head']['down'],\n",
    "                to_positions=self['CH2']['down'])\n",
    "        \n"
   ]
  },
  {
   "cell_type": "code",
   "execution_count": 9,
   "metadata": {},
   "outputs": [
    {
     "name": "stderr",
     "output_type": "stream",
     "text": [
      "/home/loganguy/anaconda3/envs/mosdef/lib/python3.5/site-packages/ipywidgets/widgets/widget.py:464: DeprecationWarning: The 'warn' method is deprecated, use 'warning' instead\n",
      "  self.log.warn(message)\n",
      "The installed widget Javascript is the wrong version.\n"
     ]
    }
   ],
   "source": [
    "pctails = PCTailsUA(16,16)\n",
    "pctails.visualize(show_ports=True)"
   ]
  },
  {
   "cell_type": "code",
   "execution_count": null,
   "metadata": {
    "collapsed": true
   },
   "outputs": [],
   "source": []
  }
 ],
 "metadata": {
  "kernelspec": {
   "display_name": "Python 3",
   "language": "python",
   "name": "python3"
  },
  "language_info": {
   "codemirror_mode": {
    "name": "ipython",
    "version": 3
   },
   "file_extension": ".py",
   "mimetype": "text/x-python",
   "name": "python",
   "nbconvert_exporter": "python",
   "pygments_lexer": "ipython3",
   "version": "3.5.3"
  }
 },
 "nbformat": 4,
 "nbformat_minor": 2
}
