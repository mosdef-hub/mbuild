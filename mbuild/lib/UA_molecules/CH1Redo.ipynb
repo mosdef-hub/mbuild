{
 "cells": [
  {
   "cell_type": "code",
   "execution_count": 15,
   "metadata": {
    "collapsed": true
   },
   "outputs": [],
   "source": [
    "import mbuild as mb\n",
    "import numpy as np\n",
    "\n",
    "\n",
    "class CH1(mb.Compound):\n",
    "    \"\"\"A three-port carbon atom for the united-atom model.\"\"\"\n",
    "    def __init__(self):\n",
    "        super(CH1, self).__init__()\n",
    "\n",
    "        self.add(mb.Particle(name='CH1', pos=[0, 0, 0]), label='C')\n",
    "        self.add(mb.Port(anchor=self[0], orientation=[1, -1, -1], separation=.154/2), label='up')\n",
    "        self.add(mb.Port(anchor=self[0], orientation=[-1, 1, -1], separation=.154/2), label='down')\n",
    "        self.add(mb.Port(anchor=self[0], orientation=[-1, -1, 1], separation=.154/2), label='side')\n"
   ]
  },
  {
   "cell_type": "code",
   "execution_count": 16,
   "metadata": {},
   "outputs": [
    {
     "name": "stderr",
     "output_type": "stream",
     "text": [
      "/home/loganguy/anaconda3/envs/mosdef/lib/python3.5/site-packages/ipywidgets/widgets/widget.py:464: DeprecationWarning: The 'warn' method is deprecated, use 'warning' instead\n",
      "  self.log.warn(message)\n",
      "The installed widget Javascript is the wrong version.\n"
     ]
    }
   ],
   "source": [
    "n4 = CH1()\n",
    "n4.visualize(show_ports=True)"
   ]
  },
  {
   "cell_type": "code",
   "execution_count": null,
   "metadata": {
    "collapsed": true
   },
   "outputs": [],
   "source": []
  }
 ],
 "metadata": {
  "kernelspec": {
   "display_name": "Python 3",
   "language": "python",
   "name": "python3"
  },
  "language_info": {
   "codemirror_mode": {
    "name": "ipython",
    "version": 3
   },
   "file_extension": ".py",
   "mimetype": "text/x-python",
   "name": "python",
   "nbconvert_exporter": "python",
   "pygments_lexer": "ipython3",
   "version": "3.5.3"
  }
 },
 "nbformat": 4,
 "nbformat_minor": 2
}
