{
 "cells": [
  {
   "cell_type": "code",
   "execution_count": 1,
   "metadata": {
    "collapsed": true
   },
   "outputs": [],
   "source": [
    "import mbuild as mb\n",
    "import numpy as np\n",
    "\n",
    "from mbuild.lib.atoms.n4 import N4\n",
    "from mbuild.UA_molecules.po4ua import Phosphate\n",
    "from mbuild.UA_molecules.alkyl_monomerua import AlkylMonomerUA\n",
    "from mbuild.UA_molecules.ch3ua import CH3UA\n",
    "\n",
    "class PCHeadUA(mb.Compound):\n",
    "    def __init__(self):\n",
    "        super(PCHeadUA,self).__init__()\n",
    "        \n",
    "        self.add(CH3UA(), label='methyl[$]')\n",
    "        self.add(CH3UA(), label='methyl[$]')\n",
    "        self.add(CH3UA(), label='methyl[$]')\n",
    "        self.add(N4(), label='N4')\n",
    "        self['N4']['N'][0].name = 'NL'\n",
    "        \n",
    "        for i in range(0,3):\n",
    "            mb.force_overlap(move_this=self['methyl'][i],\n",
    "                    from_positions=self['methyl'][i]['up'],\n",
    "                    to_positions=self['N4']['port_'+str(i)])\n",
    "        \n",
    "        self.add(mb.Polymer(AlkylMonomerUA(),2), label='alkyl_body')\n",
    "        mb.force_overlap(move_this=self['alkyl_body'], \n",
    "                         from_positions=self['alkyl_body']['down'],\n",
    "                         to_positions=self['N4']['port_3'])\n",
    "    \n",
    "        self.add(Phosphate(), label='PO4')\n",
    "        #self['PO4']['down'].spin(np.pi/2, self['PO4']['down'].pos)   \n",
    "        #single P-O bond behavior\n",
    "        mb.force_overlap(move_this=self['PO4'], \n",
    "                from_positions=self['PO4']['down'],\n",
    "                to_positions=self['alkyl_body']['up'])\n",
    "        \n",
    "        self.add(AlkylMonomerUA(), label='alkyl_split')\n",
    "        self['alkyl_split']['down'].spin(-np.pi/2,\n",
    "                self['alkyl_split']['down'].pos)\n",
    "        mb.force_overlap(move_this=self['alkyl_split'], \n",
    "                         from_positions=self['alkyl_split']['down'],\n",
    "                         to_positions=self['PO4']['up'])\n",
    "        \n"
   ]
  },
  {
   "cell_type": "code",
   "execution_count": 2,
   "metadata": {},
   "outputs": [
    {
     "name": "stderr",
     "output_type": "stream",
     "text": [
      "/home/loganguy/anaconda3/envs/mosdef/lib/python3.5/site-packages/ipywidgets/widgets/widget.py:464: DeprecationWarning: The 'warn' method is deprecated, use 'warning' instead\n",
      "  self.log.warn(message)\n",
      "The installed widget Javascript is the wrong version.\n"
     ]
    }
   ],
   "source": [
    "pchead = PCHeadUA()\n",
    "pchead.visualize(show_ports=True)"
   ]
  },
  {
   "cell_type": "code",
   "execution_count": 8,
   "metadata": {},
   "outputs": [
    {
     "data": {
      "text/plain": [
       "<CH2 pos=( 0.0000, 0.0000, 0.0000), 0 bonds, id: 140084421407408>"
      ]
     },
     "execution_count": 8,
     "metadata": {},
     "output_type": "execute_result"
    }
   ],
   "source": []
  },
  {
   "cell_type": "code",
   "execution_count": 9,
   "metadata": {},
   "outputs": [
    {
     "data": {
      "text/plain": [
       "<CH2 pos=( 0.0000, 0.0000, 0.0000), 0 bonds, id: 140084421407408>"
      ]
     },
     "execution_count": 9,
     "metadata": {},
     "output_type": "execute_result"
    }
   ],
   "source": []
  },
  {
   "cell_type": "code",
   "execution_count": null,
   "metadata": {
    "collapsed": true
   },
   "outputs": [],
   "source": []
  }
 ],
 "metadata": {
  "kernelspec": {
   "display_name": "Python 3",
   "language": "python",
   "name": "python3"
  },
  "language_info": {
   "codemirror_mode": {
    "name": "ipython",
    "version": 3
   },
   "file_extension": ".py",
   "mimetype": "text/x-python",
   "name": "python",
   "nbconvert_exporter": "python",
   "pygments_lexer": "ipython3",
   "version": "3.5.3"
  }
 },
 "nbformat": 4,
 "nbformat_minor": 2
}
