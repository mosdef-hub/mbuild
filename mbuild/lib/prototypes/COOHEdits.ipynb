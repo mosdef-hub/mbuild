{
 "cells": [
  {
   "cell_type": "code",
   "execution_count": 1,
   "metadata": {},
   "outputs": [],
   "source": [
    "import mbuild as mb\n",
    "import numpy as np\n",
    "\n",
    "from mbuild.prototypes.OH import OH\n",
    "\n",
    "class COOH(mb.Compound):\n",
    "    \"\"\"Creates headgroup of a carboxylic acid\"\"\"\n",
    "    def __init__(self, ester = None, cis=False):\n",
    "        super(COOH,self).__init__()\n",
    "        if ester:\n",
    "            self.add(mb.Particle(name='OE'), label='O[$]')\n",
    "            self.add(mb.Particle(name='C'), label='C')\n",
    "            self.add(mb.Particle(name='O', pos = [0, .123, 0]),label='O[$]')\n",
    "            self.add_bond((self['C'],self['O'][1]))\n",
    "\n",
    "            self.add(mb.Port(anchor=self['C'],\n",
    "                orientation=[-1,-np.tan(50.5*np.pi/180),0],\n",
    "                separation=.132/2), label='up')\n",
    "\n",
    "            self['O'][0].translate([.15,0,0])\n",
    "            theta = ((180-111) / 2) * np.pi / 180\n",
    "            self['O'][0].rotate(-theta, around=[0,0,1])\n",
    "\n",
    "            self.add_bond((self['C'],self['O'][0]))\n",
    "            \n",
    "            if cis:\n",
    "                self.add(mb.Port(anchor=self['O'][0],\n",
    "                    orientation=[0,-1,0], separation=.14/2), \n",
    "                    label='down')\n",
    "            else:\n",
    "                self.add(mb.Port(anchor=self['O'][0],\n",
    "                    orientation=[1,np.tan(52.5*np.pi/180),0],\n",
    "                    separation=.14/2), label='down')\n",
    "        else:\n",
    "            self.add(mb.Particle(name='O', pos = [0, .123, 0]),label='O[$]')\n",
    "            self.add(mb.Particle(name='C'), label='C')\n",
    "            self.add(OH(),label='OH')\n",
    "            self.add_bond((self['C'],self['O'][0]))\n",
    "            self.add(mb.Port(anchor=self['C'], \n",
    "                orientation=[1,-np.tan(32*np.pi/180), 0], \n",
    "                separation=.132/2),label='down')\n",
    "\n",
    "            self.add(mb.Port(anchor=self['C'],\n",
    "                orientation=[-1,-np.tan(34.5*np.pi/180),0],\n",
    "                separation=.132/2), label='up')\n",
    "            \n",
    "            mb.force_overlap(move_this=self['OH'],\n",
    "                    from_positions=self['OH']['up'],\n",
    "                    to_positions=self['down'])\n"
   ]
  },
  {
   "cell_type": "code",
   "execution_count": 2,
   "metadata": {},
   "outputs": [
    {
     "name": "stderr",
     "output_type": "stream",
     "text": [
      "/home/loganguy/anaconda3/envs/mosdef/lib/python3.5/site-packages/ipywidgets/widgets/widget.py:464: DeprecationWarning: The 'warn' method is deprecated, use 'warning' instead\n",
      "  self.log.warn(message)\n",
      "The installed widget Javascript is the wrong version.\n"
     ]
    }
   ],
   "source": [
    "cooh = COOH(ester=True)\n",
    "\n",
    "cooh.visualize(show_ports=True)"
   ]
  },
  {
   "cell_type": "code",
   "execution_count": null,
   "metadata": {
    "collapsed": true
   },
   "outputs": [],
   "source": []
  }
 ],
 "metadata": {
  "kernelspec": {
   "display_name": "Python 3",
   "language": "python",
   "name": "python3"
  },
  "language_info": {
   "codemirror_mode": {
    "name": "ipython",
    "version": 3
   },
   "file_extension": ".py",
   "mimetype": "text/x-python",
   "name": "python",
   "nbconvert_exporter": "python",
   "pygments_lexer": "ipython3",
   "version": "3.5.3"
  }
 },
 "nbformat": 4,
 "nbformat_minor": 2
}
