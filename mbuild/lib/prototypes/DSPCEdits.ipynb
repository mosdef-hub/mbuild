{
 "cells": [
  {
   "cell_type": "code",
   "execution_count": 22,
   "metadata": {
    "collapsed": true
   },
   "outputs": [],
   "source": [
    "import mbuild as mb\n",
    "import numpy as np\n",
    "\n",
    "from mbuild.prototypes.pctails import PCTails\n",
    "from mbuild.prototypes.pchead import PCHead\n",
    "\n",
    "class DSPC(mb.Compound):\n",
    "    def __init__(self):\n",
    "        super(DSPC, self).__init__()\n",
    "        \n",
    "        self.add(PCHead(), label='headgroup')\n",
    "        self.add(PCTails(18,18), label='ffatails')\n",
    "        \n",
    "        mb.force_overlap(move_this=self['ffatails'],\n",
    "                        from_positions=self['ffatails']['base']['up'],\n",
    "                        to_positions=self['headgroup']['alkyl_split']['up'])\n",
    "        \n",
    "        mb.z_axis_transform(self, self['headgroup']['N4']['N'][0], self['headgroup']['PO4']['P'][0])\n",
    "        self.spin(np.pi, [1,0,0])"
   ]
  },
  {
   "cell_type": "code",
   "execution_count": 23,
   "metadata": {},
   "outputs": [
    {
     "name": "stderr",
     "output_type": "stream",
     "text": [
      "/home/loganguy/builds/mbuild/mbuild/compound.py:1241: UserWarning: Performing energy minimization using the Open Babel package. Please refer to the documentation to find the appropriate citations for Open Babel and the UFF force field\n",
      "  \"Open Babel and the {} force field\".format(forcefield))\n",
      "/home/loganguy/anaconda3/envs/mosdef/lib/python3.5/site-packages/pandas/io/parsers.py:2108: FutureWarning: split() requires a non-empty pattern match.\n",
      "  yield pat.split(line.strip())\n",
      "/home/loganguy/anaconda3/envs/mosdef/lib/python3.5/site-packages/pandas/io/parsers.py:2110: FutureWarning: split() requires a non-empty pattern match.\n",
      "  yield pat.split(line.strip())\n",
      "/home/loganguy/builds/mbuild/mbuild/utils/decorators.py:11: DeprecationWarning: rotate_around_y is deprecated. Please use rotate(compound, theta, around=np.asarray([0, 1, 0]))\n",
      "  warn(printed_message, DeprecationWarning)\n",
      "/home/loganguy/builds/mbuild/mbuild/utils/decorators.py:11: DeprecationWarning: rotate is deprecated. Please use Compound.rotate()\n",
      "  warn(printed_message, DeprecationWarning)\n",
      "/home/loganguy/anaconda3/envs/mosdef/lib/python3.5/site-packages/ipywidgets/widgets/widget.py:464: DeprecationWarning: The 'warn' method is deprecated, use 'warning' instead\n",
      "  self.log.warn(message)\n",
      "The installed widget Javascript is the wrong version.\n"
     ]
    }
   ],
   "source": [
    "dspc = DSPC()\n",
    "dspc.visualize()"
   ]
  },
  {
   "cell_type": "code",
   "execution_count": null,
   "metadata": {
    "collapsed": true
   },
   "outputs": [],
   "source": []
  }
 ],
 "metadata": {
  "kernelspec": {
   "display_name": "Python 3",
   "language": "python",
   "name": "python3"
  },
  "language_info": {
   "codemirror_mode": {
    "name": "ipython",
    "version": 3
   },
   "file_extension": ".py",
   "mimetype": "text/x-python",
   "name": "python",
   "nbconvert_exporter": "python",
   "pygments_lexer": "ipython3",
   "version": "3.5.3"
  }
 },
 "nbformat": 4,
 "nbformat_minor": 2
}
