{
 "cells": [
  {
   "cell_type": "code",
   "execution_count": 11,
   "metadata": {},
   "outputs": [],
   "source": [
    "import mbuild as mb\n",
    "import numpy as np\n",
    "\n",
    "from mbuild.examples.methane.methane import Methane\n",
    "from mbuild.lib.atoms.n4 import N4\n",
    "from mbuild.prototypes.po4 import Phosphate\n",
    "from mbuild.prototypes.alkyl_monomer import AlkylMonomer\n",
    "\n",
    "class PCHead(mb.Compound):\n",
    "    def __init__(self):\n",
    "        super(PCHead,self).__init__()\n",
    "        \n",
    "        self.add(N4(), label='N4')\n",
    "        \n",
    "        for i in range(0,3):\n",
    "            self.add(Methane(), label='methyl[$]')\n",
    "            self['methyl'][i].add(mb.Port(anchor=self['methyl'][i][0], \n",
    "                                      orientation=self['methyl'][i][1].pos,\n",
    "                                      separation=.077), label='up')\n",
    "            self['methyl'][i].remove(self['methyl'][i][1])\n",
    "            self['methyl'][i].translate([-.5,0,0])\n",
    "        \n",
    "            mb.force_overlap(move_this=self['methyl'][i],from_positions=self['methyl'][i]['up'],\n",
    "                             to_positions=self['N4']['port_'+str(i)])\n",
    "        \n",
    "        self.add(mb.Polymer(AlkylMonomer(),2), label='alkyl_body')\n",
    "        mb.force_overlap(move_this=self['alkyl_body'], \n",
    "                         from_positions=self['alkyl_body']['down'],\n",
    "                         to_positions=self['N4']['port_3'])\n",
    "        self.energy_minimization()\n",
    "    \n",
    "        self.add(Phosphate(), label='PO4')\n",
    "        mb.force_overlap(move_this=self['PO4'], from_positions=self['PO4']['down'],\n",
    "                         to_positions=self['alkyl_body']['up'])\n",
    "        \n",
    "        self.add(AlkylMonomer(), label='alkyl_split')\n",
    "        self['alkyl_split']['down'].spin(np.pi/2, self['alkyl_split']['down'].pos)\n",
    "        mb.force_overlap(move_this=self['alkyl_split'], \n",
    "                         from_positions=self['alkyl_split']['down'],\n",
    "                         to_positions=self['PO4']['up'])\n",
    "        \n",
    "        \n",
    "        \n",
    "        \n",
    "        \n",
    "        "
   ]
  },
  {
   "cell_type": "code",
   "execution_count": 18,
   "metadata": {},
   "outputs": [
    {
     "name": "stderr",
     "output_type": "stream",
     "text": [
      "/home/loganguy/builds/mbuild/mbuild/compound.py:1241: UserWarning: Performing energy minimization using the Open Babel package. Please refer to the documentation to find the appropriate citations for Open Babel and the UFF force field\n",
      "  \"Open Babel and the {} force field\".format(forcefield))\n",
      "/home/loganguy/anaconda3/envs/mosdef/lib/python3.5/site-packages/pandas/io/parsers.py:2108: FutureWarning: split() requires a non-empty pattern match.\n",
      "  yield pat.split(line.strip())\n",
      "/home/loganguy/anaconda3/envs/mosdef/lib/python3.5/site-packages/pandas/io/parsers.py:2110: FutureWarning: split() requires a non-empty pattern match.\n",
      "  yield pat.split(line.strip())\n",
      "/home/loganguy/anaconda3/envs/mosdef/lib/python3.5/site-packages/ipywidgets/widgets/widget.py:464: DeprecationWarning: The 'warn' method is deprecated, use 'warning' instead\n",
      "  self.log.warn(message)\n",
      "The installed widget Javascript is the wrong version.\n"
     ]
    }
   ],
   "source": [
    "pc = PCHead()\n",
    "\n",
    "for oxygen in pc['PO4']['O']:\n",
    "    oxygen.name = 'O'\n",
    "\n",
    "pc.visualize()"
   ]
  },
  {
   "cell_type": "code",
   "execution_count": null,
   "metadata": {
    "collapsed": true
   },
   "outputs": [],
   "source": []
  }
 ],
 "metadata": {
  "kernelspec": {
   "display_name": "Python 3",
   "language": "python",
   "name": "python3"
  },
  "language_info": {
   "codemirror_mode": {
    "name": "ipython",
    "version": 3
   },
   "file_extension": ".py",
   "mimetype": "text/x-python",
   "name": "python",
   "nbconvert_exporter": "python",
   "pygments_lexer": "ipython3",
   "version": "3.5.3"
  }
 },
 "nbformat": 4,
 "nbformat_minor": 2
}
