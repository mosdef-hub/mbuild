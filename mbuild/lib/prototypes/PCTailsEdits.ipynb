{
 "cells": [
  {
   "cell_type": "code",
   "execution_count": 9,
   "metadata": {
    "collapsed": true
   },
   "outputs": [],
   "source": [
    "import mbuild as mb\n",
    "import numpy as np\n",
    "\n",
    "from mbuild.prototypes.ffa import FFA\n",
    "from mbuild.prototypes.alkyl_monomer import AlkylMonomer\n",
    "\n",
    "class PCTails(mb.Compound):\n",
    "    def __init__(self, tail_1_length, tail_2_length):\n",
    "        super(PCTails, self).__init__()\n",
    "        \n",
    "        self.add(mb.Polymer(AlkylMonomer(), 2), label='base')\n",
    "        self.translate(-self['base'][3].pos)\n",
    "        self['base'].add(mb.Port(anchor=self['base'][3],\n",
    "            orientation=self['base'][5].pos, \n",
    "            separation=.143/2), label='side')\n",
    "        self.remove(self['base'][5])\n",
    "        self['base']['side'].spin(np.pi, self['base']['side'].pos)\n",
    "        self.translate(-self['base'][0].pos)\n",
    "        self['base']['down'].spin(np.pi/2, self['base']['down'].pos)\n",
    "        \n",
    "        self.add(FFA(tail_1_length, ester=True), label='FFA[$]')\n",
    "        mb.force_overlap(move_this=self['base'], \n",
    "                from_positions=self['base']['down'],\n",
    "                to_positions=self['FFA'][0]['head']['down'])\n",
    "        self.add(FFA(tail_2_length, ester=True), label='FFA[$]')\n",
    "        mb.force_overlap(move_this=self['FFA'][1], \n",
    "                from_positions=self['FFA'][1]['head']['down'],\n",
    "                to_positions=self['base']['side'])"
   ]
  },
  {
   "cell_type": "code",
   "execution_count": 10,
   "metadata": {},
   "outputs": [
    {
     "name": "stderr",
     "output_type": "stream",
     "text": [
      "/home/loganguy/anaconda3/envs/mosdef/lib/python3.5/site-packages/ipywidgets/widgets/widget.py:464: DeprecationWarning: The 'warn' method is deprecated, use 'warning' instead\n",
      "  self.log.warn(message)\n",
      "The installed widget Javascript is the wrong version.\n"
     ]
    }
   ],
   "source": [
    "pctails = PCTails(18, 18)\n",
    "pctails.visualize()"
   ]
  },
  {
   "cell_type": "code",
   "execution_count": null,
   "metadata": {
    "collapsed": true
   },
   "outputs": [],
   "source": []
  }
 ],
 "metadata": {
  "kernelspec": {
   "display_name": "Python 3",
   "language": "python",
   "name": "python3"
  },
  "language_info": {
   "codemirror_mode": {
    "name": "ipython",
    "version": 3
   },
   "file_extension": ".py",
   "mimetype": "text/x-python",
   "name": "python",
   "nbconvert_exporter": "python",
   "pygments_lexer": "ipython3",
   "version": "3.5.3"
  }
 },
 "nbformat": 4,
 "nbformat_minor": 2
}
