{
 "cells": [
  {
   "cell_type": "code",
   "execution_count": 4,
   "metadata": {},
   "outputs": [],
   "source": [
    "import mbuild as mb\n",
    "import numpy as np\n",
    "from mbuild.lib.moieties.ch3 import CH3\n",
    "from mbuild.prototypes.alkyl_monomer import AlkylMonomer\n",
    "from mbuild.prototypes.OH import OH\n",
    "\n",
    "class ALC(mb.Compound):\n",
    "    \"\"\"Creates a straight-chain alcohol of n carbons based on user\n",
    "    input\"\"\"\n",
    "    def __init__(self, chain_length):\n",
    "        super(ALC, self).__init__()\n",
    "        self.add(CH3(), label='tailcap')\n",
    "        tail = mb.Polymer(AlkylMonomer(), (chain_length - 1))\n",
    "        self.add(tail, label='tail')\n",
    "        self.add(OH(), label='head')\n",
    "        #self['head']['O'].name = 'O'\n",
    "        mb.force_overlap(move_this=self['tailcap'],\n",
    "                from_positions=self['tailcap']['up'],\n",
    "                to_positions=self['tail']['up'])\n",
    "        mb.force_overlap(move_this=self['head'],\n",
    "                from_positions=self['head']['up'],\n",
    "                to_positions=self['tail']['down'])\n",
    "        mb.z_axis_transform(self, new_origin=self['head'][0], point_on_z_axis=self['tailcap'][0])\n",
    "        self.rotate(np.pi, [1,0,0])\n"
   ]
  },
  {
   "cell_type": "code",
   "execution_count": 5,
   "metadata": {},
   "outputs": [
    {
     "name": "stderr",
     "output_type": "stream",
     "text": [
      "/home/loganguy/builds/mbuild/mbuild/utils/decorators.py:11: DeprecationWarning: rotate_around_y is deprecated. Please use rotate(compound, theta, around=np.asarray([0, 1, 0]))\n",
      "  warn(printed_message, DeprecationWarning)\n",
      "/home/loganguy/builds/mbuild/mbuild/utils/decorators.py:11: DeprecationWarning: rotate is deprecated. Please use Compound.rotate()\n",
      "  warn(printed_message, DeprecationWarning)\n",
      "/home/loganguy/anaconda3/envs/mosdef/lib/python3.5/site-packages/ipywidgets/widgets/widget.py:464: DeprecationWarning: The 'warn' method is deprecated, use 'warning' instead\n",
      "  self.log.warn(message)\n",
      "The installed widget Javascript is the wrong version.\n"
     ]
    }
   ],
   "source": [
    "alc = ALC(16)\n",
    "\n",
    "alc.visualize()"
   ]
  },
  {
   "cell_type": "code",
   "execution_count": null,
   "metadata": {
    "collapsed": true
   },
   "outputs": [],
   "source": []
  }
 ],
 "metadata": {
  "kernelspec": {
   "display_name": "Python 3",
   "language": "python",
   "name": "python3"
  },
  "language_info": {
   "codemirror_mode": {
    "name": "ipython",
    "version": 3
   },
   "file_extension": ".py",
   "mimetype": "text/x-python",
   "name": "python",
   "nbconvert_exporter": "python",
   "pygments_lexer": "ipython3",
   "version": "3.5.3"
  }
 },
 "nbformat": 4,
 "nbformat_minor": 2
}
