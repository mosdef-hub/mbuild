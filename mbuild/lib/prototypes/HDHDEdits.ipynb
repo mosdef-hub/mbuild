{
 "cells": [
  {
   "cell_type": "code",
   "execution_count": 7,
   "metadata": {
    "collapsed": true
   },
   "outputs": [],
   "source": [
    "import mbuild as mb\n",
    "import numpy as np\n",
    "\n",
    "from mbuild.prototypes.ffa import FFA\n",
    "from mbuild.prototypes.alc import ALC\n",
    "\n",
    "class HDHD(mb.Compound):\n",
    "    def __init__(self):\n",
    "        super(HDHD, self).__init__()\n",
    "        \n",
    "        self.add(FFA(17), label='acid')\n",
    "        self['acid'].translate(-self['acid']['head']['O'][1].pos)\n",
    "        self['acid']['head']['down'].rotate(125*np.pi/180, [1,0,0])\n",
    "        \n",
    "        self.add(ALC(17), label='alcohol')\n",
    "        self['alcohol'].translate(-self['alcohol']['tail'][0].pos)\n",
    "        self['alcohol'].add(mb.Port(anchor=self['alcohol']['tail'][0], \n",
    "            orientation=self['alcohol']['head'][0].pos,\n",
    "            separation=.15/2), label='up')\n",
    "        self['alcohol']['up'].spin(-3*np.pi/4, self['alcohol']['up'].pos)\n",
    "        self['alcohol'].remove(self['alcohol']['head'])\n",
    "        mb.force_overlap(move_this=self['alcohol'], \n",
    "                from_positions=self['alcohol']['up'],\n",
    "                to_positions=self['acid']['head']['down'])\n",
    "        \n",
    "        self.translate(-self['acid']['tail'][0].pos)\n",
    "        self['acid']['tailcap'].rotate(np.pi, self['acid']['head']['C'].pos)\n",
    "        \n",
    "        self['acid']['tail'].rotate(np.pi, self['acid']['head']['C'].pos)\n",
    "        \n",
    "        mb.z_axis_transform(self, new_origin = self['acid']['head']['O'][0], \n",
    "                           point_on_z_axis = self['acid']['tailcap'][0])\n",
    "        self.rotate(np.pi/2, [0,0,1])\n",
    "        self.rotate(np.pi, [0,1,0])\n",
    "        \n",
    "       "
   ]
  },
  {
   "cell_type": "code",
   "execution_count": 8,
   "metadata": {},
   "outputs": [
    {
     "name": "stderr",
     "output_type": "stream",
     "text": [
      "/home/loganguy/builds/mbuild/mbuild/utils/decorators.py:11: DeprecationWarning: rotate_around_y is deprecated. Please use rotate(compound, theta, around=np.asarray([0, 1, 0]))\n",
      "  warn(printed_message, DeprecationWarning)\n",
      "/home/loganguy/builds/mbuild/mbuild/utils/decorators.py:11: DeprecationWarning: rotate is deprecated. Please use Compound.rotate()\n",
      "  warn(printed_message, DeprecationWarning)\n",
      "/home/loganguy/builds/mbuild/mbuild/utils/decorators.py:11: DeprecationWarning: rotate_around_y is deprecated. Please use rotate(compound, theta, around=np.asarray([0, 1, 0]))\n",
      "  warn(printed_message, DeprecationWarning)\n",
      "/home/loganguy/builds/mbuild/mbuild/utils/decorators.py:11: DeprecationWarning: rotate is deprecated. Please use Compound.rotate()\n",
      "  warn(printed_message, DeprecationWarning)\n",
      "/home/loganguy/anaconda3/envs/mosdef/lib/python3.5/site-packages/ipywidgets/widgets/widget.py:464: DeprecationWarning: The 'warn' method is deprecated, use 'warning' instead\n",
      "  self.log.warn(message)\n",
      "The installed widget Javascript is the wrong version.\n"
     ]
    }
   ],
   "source": [
    "hdhd = HDHD()\n",
    "hdhd.visualize()"
   ]
  },
  {
   "cell_type": "code",
   "execution_count": null,
   "metadata": {
    "collapsed": true
   },
   "outputs": [],
   "source": []
  }
 ],
 "metadata": {
  "kernelspec": {
   "display_name": "Python 3",
   "language": "python",
   "name": "python3"
  },
  "language_info": {
   "codemirror_mode": {
    "name": "ipython",
    "version": 3
   },
   "file_extension": ".py",
   "mimetype": "text/x-python",
   "name": "python",
   "nbconvert_exporter": "python",
   "pygments_lexer": "ipython3",
   "version": "3.5.3"
  }
 },
 "nbformat": 4,
 "nbformat_minor": 2
}
