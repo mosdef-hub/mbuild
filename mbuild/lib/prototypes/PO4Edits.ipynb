{
 "cells": [
  {
   "cell_type": "code",
   "execution_count": 1,
   "metadata": {
    "collapsed": true
   },
   "outputs": [],
   "source": [
    "import mbuild as mb\n",
    "import numpy as np\n",
    "\n",
    "class Phosphate(mb.Compound):\n",
    "    \"\"\"Creates a phosphate ion with 2 ports attached\"\"\"\n",
    "    def __init__(self):\n",
    "        super(Phosphate, self).__init__()\n",
    "        \n",
    "        self.add(mb.Particle(name='P'), label='P')\n",
    "        self.add(mb.Particle(name='O', pos=[0,.16,0]), label='O[$]')\n",
    "        self.add(mb.Particle(name='O', pos=[0,-.16,0]), label='O[$]')\n",
    "        self.add(mb.Particle(name='O', pos=[.16,0,0]), label='O[$]')\n",
    "        self.add(mb.Particle(name='O', pos=[-.16,0,0]), label='O[$]')\n",
    "        self.add_bond((self['P'],self['O[0]']))\n",
    "        self.add_bond((self['P'],self['O[1]']))\n",
    "        self.add_bond((self['P'],self['O[2]']))\n",
    "        self.add_bond((self['P'],self['O[3]']))\n",
    "        \n",
    "        alpha=(180-109.5)*np.pi/180\n",
    "        \n",
    "        self['O'][1].rotate(alpha, [1,0,0])\n",
    "        self['O'][2].rotate(-np.pi/6, [0,1,0])\n",
    "        self['O'][3].rotate(np.pi/6, [0,1,0])\n",
    "        \n",
    "        self['O'][2].rotate(19.5*np.pi/180, \n",
    "                [self['O'][2].pos[0],0,-self['O'][2].pos[2]])\n",
    "        self['O'][3].rotate(-19.5*np.pi/180, \n",
    "                [self['O'][3].pos[0],0,-self['O'][3].pos[2]])\n",
    "        \n",
    "        mb.x_axis_transform(self, new_origin=self['O'][1],\n",
    "                point_on_x_axis=self['O'][0],point_on_xy_plane=self['P'])\n",
    "        \n",
    "        self.add(mb.Port(anchor=self['O'][0],\n",
    "            orientation=[1,np.tan(36.75*np.pi/180),0],separation=.143/2), \n",
    "            label='up')\n",
    "        self.add(mb.Port(anchor=self['O'][1],\n",
    "            orientation=[-1,np.tan(36.75*np.pi/180),0],separation=.143/2),\n",
    "            label='down')\n",
    "\n",
    "if __name__ == '__main__':\n",
    "    po4 = Phosphate()\n",
    "    po4.save('po4.mol2', overwrite=True)"
   ]
  },
  {
   "cell_type": "code",
   "execution_count": 2,
   "metadata": {},
   "outputs": [
    {
     "name": "stderr",
     "output_type": "stream",
     "text": [
      "/home/loganguy/anaconda3/envs/mosdef/lib/python3.5/site-packages/ipywidgets/widgets/widget.py:464: DeprecationWarning: The 'warn' method is deprecated, use 'warning' instead\n",
      "  self.log.warn(message)\n",
      "The installed widget Javascript is the wrong version.\n"
     ]
    }
   ],
   "source": [
    "po4= Phosphate()\n",
    "po4.visualize()\n"
   ]
  },
  {
   "cell_type": "code",
   "execution_count": null,
   "metadata": {
    "collapsed": true
   },
   "outputs": [],
   "source": []
  },
  {
   "cell_type": "code",
   "execution_count": null,
   "metadata": {
    "collapsed": true
   },
   "outputs": [],
   "source": []
  }
 ],
 "metadata": {
  "kernelspec": {
   "display_name": "Python 3",
   "language": "python",
   "name": "python3"
  },
  "language_info": {
   "codemirror_mode": {
    "name": "ipython",
    "version": 3
   },
   "file_extension": ".py",
   "mimetype": "text/x-python",
   "name": "python",
   "nbconvert_exporter": "python",
   "pygments_lexer": "ipython3",
   "version": "3.5.3"
  }
 },
 "nbformat": 4,
 "nbformat_minor": 2
}
